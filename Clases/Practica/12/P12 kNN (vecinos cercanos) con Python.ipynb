{
 "cells": [
  {
   "cell_type": "markdown",
   "id": "7023cd37",
   "metadata": {},
   "source": [
    "#Introducción a la Ciencia de los Datos, CIDE (Profesor Gonzalo Castañeda)\n",
    "## P12. kNN (vecinos cercanos) con Python\n",
    "### Basado en: Klein, Bernd. april, 2022. “Python-course.eu” Tutorial: Machine Learning with Python,\n",
    "### https://python-course.eu/machine-learning/\n",
    "### Cap. 8-9"
   ]
  },
  {
   "cell_type": "markdown",
   "id": "f0c921a4",
   "metadata": {},
   "source": [
    "## (1) Preparación de la base de datos"
   ]
  },
  {
   "cell_type": "code",
   "execution_count": 1,
   "id": "187f9607",
   "metadata": {},
   "outputs": [],
   "source": [
    "# Primero vamos a emplear solo rutinas con Python, sin usar librerías de Machine Learning"
   ]
  },
  {
   "cell_type": "code",
   "execution_count": 3,
   "id": "88e7ba10",
   "metadata": {},
   "outputs": [
    {
     "name": "stdout",
     "output_type": "stream",
     "text": [
      "index:   0, features: [5.1 3.5 1.4 0.2], label: 0\n",
      "index:  79, features: [5.7 2.6 3.5 1. ], label: 1\n",
      "index:  99, features: [5.7 2.8 4.1 1.3], label: 1\n",
      "index: 121, features: [5.6 2.8 4.9 2. ], label: 2\n"
     ]
    }
   ],
   "source": [
    "# Hacemos uso de la base de 'Iris' que está disponible en la librería sklearn\n",
    "import numpy as np\n",
    "from sklearn import datasets\n",
    "\n",
    "iris = datasets.load_iris()\n",
    "data = iris.data                  # En data se encuentran los atributos de las instancias\n",
    "labels = iris.target              # En target se encuentran las etiquetas asociadas\n",
    "# Imprimimos algunas instancias (de acuerdo con su índice)\n",
    "for i in [0, 79, 99, 121]:        \n",
    "    print(f\"index: {i:3}, features: {data[i]}, label: {labels[i]}\")"
   ]
  },
  {
   "cell_type": "code",
   "execution_count": 4,
   "id": "7bbc8322",
   "metadata": {},
   "outputs": [
    {
     "name": "stdout",
     "output_type": "stream",
     "text": [
      "The first samples of our learn set:\n",
      "index  data                label\n",
      "   0   [6.1 2.8 4.7 1.2]     1\n",
      "   1   [5.7 3.8 1.7 0.3]     0\n",
      "   2   [7.7 2.6 6.9 2.3]     2\n",
      "   3   [6.  2.9 4.5 1.5]     1\n",
      "   4   [6.8 2.8 4.8 1.4]     1\n",
      "The first samples of our test set:\n",
      "index  data                label\n",
      "   0   [6.1 2.8 4.7 1.2]     1\n",
      "   1   [5.7 3.8 1.7 0.3]     0\n",
      "   2   [7.7 2.6 6.9 2.3]     2\n",
      "   3   [6.  2.9 4.5 1.5]     1\n",
      "   4   [6.8 2.8 4.8 1.4]     1\n"
     ]
    }
   ],
   "source": [
    "# Creamos un conjunto de aprendizaje y otro de prueba\n",
    "# Recurrimos a las permutaciones para elegir los datos de forma aleatoria\n",
    "np.random.seed(42)       # fijamos la semilla para generar siempre los mismos valores\n",
    "indices = np.random.permutation(len(data)) # vector de indices cuyo tamaño son las instancias \n",
    "\n",
    "n_training_samples = 12                                     # Solo consideramos 12 instancias\n",
    "learn_data = data[indices[:-n_training_samples]]            # para el aprendizaje\n",
    "learn_labels = labels[indices[:-n_training_samples]]\n",
    "test_data = data[indices[-n_training_samples:]]             # para la prueba\n",
    "test_labels = labels[indices[-n_training_samples:]]\n",
    "\n",
    "print(\"The first samples of our learn set:\")       #Imprimimos una cabezera\n",
    "print(f\"{'index':7s}{'data':20s}{'label':3s}\")\n",
    "for i in range(5):\n",
    "    print(f\"{i:4d}   {learn_data[i]}   {learn_labels[i]:3}\")\n",
    "\n",
    "print(\"The first samples of our test set:\")\n",
    "print(f\"{'index':7s}{'data':20s}{'label':3s}\")\n",
    "for i in range(5):\n",
    "    print(f\"{i:4d}   {learn_data[i]}   {learn_labels[i]:3}\")"
   ]
  },
  {
   "cell_type": "markdown",
   "id": "48ca3baf",
   "metadata": {},
   "source": [
    "## (2) Selección de vecinos"
   ]
  },
  {
   "cell_type": "code",
   "execution_count": null,
   "id": "1cf4cb21",
   "metadata": {},
   "outputs": [],
   "source": [
    "# Para calcular la distancia euclidiana usamos la función 'norm' de np.linalg"
   ]
  },
  {
   "cell_type": "code",
   "execution_count": 5,
   "id": "fa829106",
   "metadata": {},
   "outputs": [
    {
     "name": "stdout",
     "output_type": "stream",
     "text": [
      "4.47213595499958\n",
      "3.4190641994557516\n"
     ]
    }
   ],
   "source": [
    "# Calculamos la distancia entre dos instancias mediante una función \n",
    "def distance(instance1, instance2):\n",
    "    return np.linalg.norm(np.subtract(instance1, instance2))\n",
    "# Veamos un ejemplo\n",
    "print(distance([3, 5], [1, 1]))                 # Un ejemplo con dos listas\n",
    "print(distance(learn_data[3], learn_data[44]))  # Un ejemplo con los datos de Iris"
   ]
  },
  {
   "cell_type": "code",
   "execution_count": null,
   "id": "3e48245f",
   "metadata": {},
   "outputs": [],
   "source": [
    "# Algoritmo para calcular una lista con los k vecinos más cercanos"
   ]
  },
  {
   "cell_type": "code",
   "execution_count": 6,
   "id": "4ee200cd",
   "metadata": {},
   "outputs": [],
   "source": [
    "# Con una definición 'get_neighbors' establecemos la lista de vecinos cercanos\n",
    "# vamos a crear una lista de k tuplas de tamaño 3 (atributos, distancia, etiqueta)\n",
    "# atributos de la instancia en conjunto de aprendizaje; distancia = distancia euclidiana\n",
    "def get_neighbors(training_set, \n",
    "                  labels, \n",
    "                  test_instance,     # punto en custión es una instancia en el conjunto de prueba\n",
    "                  k,                 # Número de vecinos\n",
    "                  distance):         # aquí especificamos el metodo de distancia que empleamos\n",
    "    distances = []    # Aquí guardamos las tuplas para todas las instancias de aprendizaje\n",
    "    for index in range(len(training_set)):   # Buscamos solo en el conjunto de aprendizaje\n",
    "        dist = distance(test_instance, training_set[index])   # Calculamos distancias\n",
    "        distances.append((training_set[index], dist, labels[index]))  # Armamos las tuplas\n",
    "    distances.sort(key=lambda x: x[1])  # Ordenamos con respecto al elemento 1 de la tupla \n",
    "    neighbors = distances[:k]  # En vecinos cercanos  ponemos a las k distancias más reducidas\n",
    "    return neighbors"
   ]
  },
  {
   "cell_type": "code",
   "execution_count": 7,
   "id": "261ecbce",
   "metadata": {},
   "outputs": [
    {
     "name": "stdout",
     "output_type": "stream",
     "text": [
      "Index:          0 \n",
      " Testset Data:   [5.7 2.8 4.1 1.3] \n",
      " Testset Label:  1 \n",
      " Neighbors:       [(array([5.7, 2.9, 4.2, 1.3]), 0.14142135623730995, 1), (array([5.6, 2.7, 4.2, 1.3]), 0.17320508075688815, 1), (array([5.6, 3. , 4.1, 1.3]), 0.22360679774997935, 1)] \n",
      "\n",
      "Index:          1 \n",
      " Testset Data:   [6.5 3.  5.5 1.8] \n",
      " Testset Label:  2 \n",
      " Neighbors:       [(array([6.4, 3.1, 5.5, 1.8]), 0.1414213562373093, 2), (array([6.3, 2.9, 5.6, 1.8]), 0.24494897427831783, 2), (array([6.5, 3. , 5.2, 2. ]), 0.3605551275463988, 2)] \n",
      "\n",
      "Index:          2 \n",
      " Testset Data:   [6.3 2.3 4.4 1.3] \n",
      " Testset Label:  1 \n",
      " Neighbors:       [(array([6.2, 2.2, 4.5, 1.5]), 0.2645751311064586, 1), (array([6.3, 2.5, 4.9, 1.5]), 0.574456264653803, 1), (array([6. , 2.2, 4. , 1. ]), 0.5916079783099617, 1)] \n",
      "\n",
      "Index:          3 \n",
      " Testset Data:   [6.4 2.9 4.3 1.3] \n",
      " Testset Label:  1 \n",
      " Neighbors:       [(array([6.2, 2.9, 4.3, 1.3]), 0.20000000000000018, 1), (array([6.6, 3. , 4.4, 1.4]), 0.2645751311064587, 1), (array([6.6, 2.9, 4.6, 1.3]), 0.3605551275463984, 1)] \n",
      "\n",
      "Index:          4 \n",
      " Testset Data:   [5.6 2.8 4.9 2. ] \n",
      " Testset Label:  2 \n",
      " Neighbors:       [(array([5.8, 2.7, 5.1, 1.9]), 0.3162277660168375, 2), (array([5.8, 2.7, 5.1, 1.9]), 0.3162277660168375, 2), (array([5.7, 2.5, 5. , 2. ]), 0.33166247903553986, 2)] \n",
      "\n"
     ]
    }
   ],
   "source": [
    "# Aplicamos el método a los datos de Iris y buscamos clasificar a 5 puntos en cuestión \n",
    "# (instancias del conjunto de prueba) \n",
    "for i in range(5):\n",
    "    neighbors = get_neighbors(learn_data, \n",
    "                              learn_labels, \n",
    "                              test_data[i],          # Instancia i\n",
    "                              3,                     # Valor de k\n",
    "                              distance=distance)     # Llama al método de distancia\n",
    "    print(\"Index:         \",i,'\\n',                  # \\n = cambia la línea\n",
    "          \"Testset Data:  \",test_data[i],'\\n', # Imprime los atributos de instancia i en cuestión\n",
    "          \"Testset Label: \",test_labels[i],'\\n',     \n",
    "          \"Neighbors:      \",neighbors,'\\n') # Recordar tuplas: (atributos, distancia, etiqueta) "
   ]
  },
  {
   "cell_type": "markdown",
   "id": "4ba2fe1c",
   "metadata": {},
   "source": [
    "## (3) Definición del pronóstico"
   ]
  },
  {
   "cell_type": "code",
   "execution_count": null,
   "id": "91f3f18f",
   "metadata": {},
   "outputs": [],
   "source": [
    "# Para determinar la etiqueta definimos el voto de mayoría relativa (pluralidad)"
   ]
  },
  {
   "cell_type": "code",
   "execution_count": 8,
   "id": "d7b4a515",
   "metadata": {},
   "outputs": [
    {
     "data": {
      "text/plain": [
       "[('s', 6), ('h', 5), ('d', 4)]"
      ]
     },
     "execution_count": 8,
     "metadata": {},
     "output_type": "execute_result"
    }
   ],
   "source": [
    "# Veamos una librería nueva  Collection con un módulo llamado Counter\n",
    "from collections import Counter\n",
    "t = Counter(\"sssssshhhhhcccdddd\")   # Generamos un counter de un string\n",
    "t.most_common(3)  # Calcula la frecuencia y elige los tres valores más altos\n",
    "# Establece keys (letra) y sus valores asociados como en un diccionario\n",
    "# Notar que excluye a 'c'"
   ]
  },
  {
   "cell_type": "code",
   "execution_count": 9,
   "id": "d4911100",
   "metadata": {},
   "outputs": [
    {
     "data": {
      "text/plain": [
       "'s'"
      ]
     },
     "execution_count": 9,
     "metadata": {},
     "output_type": "execute_result"
    }
   ],
   "source": [
    "t.most_common(1)[0][0]   # especificamos la key más frecuente"
   ]
  },
  {
   "cell_type": "code",
   "execution_count": 10,
   "id": "f05a9add",
   "metadata": {},
   "outputs": [
    {
     "data": {
      "text/plain": [
       "6"
      ]
     },
     "execution_count": 10,
     "metadata": {},
     "output_type": "execute_result"
    }
   ],
   "source": [
    "t.most_common(1)[0][1]   # especificamos la frecuencia"
   ]
  },
  {
   "cell_type": "code",
   "execution_count": 11,
   "id": "8ccdf6d3",
   "metadata": {},
   "outputs": [
    {
     "data": {
      "text/plain": [
       "18"
      ]
     },
     "execution_count": 11,
     "metadata": {},
     "output_type": "execute_result"
    }
   ],
   "source": [
    "total = sum(t.values())  # sumamos la cantidad de observaciones\n",
    "total"
   ]
  },
  {
   "cell_type": "code",
   "execution_count": 13,
   "id": "923de3a7",
   "metadata": {},
   "outputs": [
    {
     "data": {
      "text/plain": [
       "Counter({'s': 6, 'h': 5, 'c': 3, 'd': 4})"
      ]
     },
     "execution_count": 13,
     "metadata": {},
     "output_type": "execute_result"
    }
   ],
   "source": [
    "# Una forma de crear un contador\n",
    "cadena = \"sssssshhhhhcccdddd\"\n",
    "numero_letras = len(cadena)\n",
    "lista = Counter()                  # En lista creamos el counter\n",
    "for indice in range(numero_letras): \n",
    "     lista[cadena[indice]] += 1    # Contamos manualemente las letras de la cadena\n",
    "lista   # Se muestra como un diccionario"
   ]
  },
  {
   "cell_type": "code",
   "execution_count": 14,
   "id": "c0c0b898",
   "metadata": {},
   "outputs": [
    {
     "data": {
      "text/plain": [
       "Counter({'s': 2.4499999999999997,\n",
       "         'h': 0.5698773448773449,\n",
       "         'c': 0.23168498168498167,\n",
       "         'd': 0.24354575163398692})"
      ]
     },
     "execution_count": 14,
     "metadata": {},
     "output_type": "execute_result"
    }
   ],
   "source": [
    "# Si no quiero sumar los valores comunes aritméticamente sino más bien darles una mayor peso \n",
    "# conforme van apareciendo: usamos ponderaciones = 1, 1/2, 1/3, 1/4\n",
    "cadena = \"sssssshhhhhcccdddd\"\n",
    "numero_letras = len(cadena)\n",
    "lista = Counter()\n",
    "for indice in range(numero_letras): \n",
    "     lista[cadena[indice]] += 1/(indice + 1)\n",
    "lista"
   ]
  },
  {
   "cell_type": "code",
   "execution_count": 15,
   "id": "80027a45",
   "metadata": {},
   "outputs": [
    {
     "data": {
      "text/plain": [
       "'s'"
      ]
     },
     "execution_count": 15,
     "metadata": {},
     "output_type": "execute_result"
    }
   ],
   "source": [
    "# definimos la letra más común  (i.e., con la suma ponderada más elevada)\n",
    "lista.most_common(1)[0][0]"
   ]
  },
  {
   "cell_type": "code",
   "execution_count": 16,
   "id": "bbbe60c1",
   "metadata": {},
   "outputs": [],
   "source": [
    "from collections import Counter            # Counter() Libreria de conteo\n",
    "\n",
    "def vote(neighbors):\n",
    "    class_counter = Counter()              # Creamos diccionario que opera como contador \n",
    "    for neighbor in neighbors:             # Iteramos sobre todos los vecinos cercanos\n",
    "        class_counter[neighbor[2]] += 1    # Checamos sus etiquetas y calculamos frecuencia \n",
    "    return class_counter.most_common(1)[0][0]  # Elegimos etiqueta mas común "
   ]
  },
  {
   "cell_type": "code",
   "execution_count": 17,
   "id": "08291e55",
   "metadata": {},
   "outputs": [
    {
     "name": "stdout",
     "output_type": "stream",
     "text": [
      "index:  0 , result of vote:  1 , label:  1 , data:  [5.7 2.8 4.1 1.3]\n",
      "index:  1 , result of vote:  2 , label:  2 , data:  [6.5 3.  5.5 1.8]\n",
      "index:  2 , result of vote:  1 , label:  1 , data:  [6.3 2.3 4.4 1.3]\n",
      "index:  3 , result of vote:  1 , label:  1 , data:  [6.4 2.9 4.3 1.3]\n",
      "index:  4 , result of vote:  2 , label:  2 , data:  [5.6 2.8 4.9 2. ]\n",
      "index:  5 , result of vote:  2 , label:  2 , data:  [5.9 3.  5.1 1.8]\n",
      "index:  6 , result of vote:  0 , label:  0 , data:  [5.4 3.4 1.7 0.2]\n",
      "index:  7 , result of vote:  1 , label:  1 , data:  [6.1 2.8 4.  1.3]\n",
      "index:  8 , result of vote:  1 , label:  2 , data:  [4.9 2.5 4.5 1.7]\n",
      "index:  9 , result of vote:  0 , label:  0 , data:  [5.8 4.  1.2 0.2]\n",
      "index:  10 , result of vote:  1 , label:  1 , data:  [5.8 2.6 4.  1.2]\n",
      "index:  11 , result of vote:  2 , label:  2 , data:  [7.1 3.  5.9 2.1]\n"
     ]
    }
   ],
   "source": [
    "# Sacamos los pronósticos para 12 instancias de prueba; 12 = tamaño del conjunto de aprendizaje\n",
    "for i in range(12):\n",
    "    neighbors = get_neighbors(learn_data, \n",
    "                              learn_labels, \n",
    "                              test_data[i], \n",
    "                              3, \n",
    "                              distance=distance)\n",
    "    print(\"index: \", i, \n",
    "          \", result of vote: \", vote(neighbors), # Aquí hacemos el pronóstico\n",
    "          \", label: \", test_labels[i],      # Especificamos la etiqueta que presentan los datos\n",
    "          \", data: \", test_data[i])\n",
    "    # Notar que pocas veces se equivoca el pronóstico de clasificación"
   ]
  },
  {
   "cell_type": "markdown",
   "id": "f0c7367a",
   "metadata": {},
   "source": [
    "## (4) Clasificación con vecinos cercanos ponderados"
   ]
  },
  {
   "cell_type": "code",
   "execution_count": null,
   "id": "4d030b30",
   "metadata": {},
   "outputs": [],
   "source": [
    "# Vamos ahora a tomar en cuenta el hecho de que entre más alejado es un vecino más se diferencía\n",
    "# de la instancia en cuestión\n",
    "# Por lo que vamos a usar como ponderadores a los valores de una serie armónica\n",
    "# Entre más cercano, mas alto es ese valor"
   ]
  },
  {
   "attachments": {
    "image.png": {
     "image/png": "[encoded data removed]"
    }
   },
   "cell_type": "markdown",
   "id": "05f3870a",
   "metadata": {},
   "source": [
    "### Serie armónica  ![image.png](attachment:image.png)"
   ]
  },
  {
   "cell_type": "code",
   "execution_count": 18,
   "id": "66da7602",
   "metadata": {},
   "outputs": [],
   "source": [
    "# tenemos que crear una nueva función para calcular el voto\n",
    "def vote_harmonic_weights(neighbors):\n",
    "    class_counter = Counter()\n",
    "    number_of_neighbors = len(neighbors)\n",
    "    for index in range(number_of_neighbors):\n",
    "        class_counter[neighbors[index][2]] += 1/(index+1)   #Aquí ponderamos por el ranking\n",
    "        # de cercania (index), de tal forma que más lejos menor peso\n",
    "    return class_counter.most_common(1)[0][0]"
   ]
  },
  {
   "cell_type": "code",
   "execution_count": 19,
   "id": "e2d5161c",
   "metadata": {},
   "outputs": [
    {
     "name": "stdout",
     "output_type": "stream",
     "text": [
      "index:  0 , result of vote:  1 label:  1\n",
      "index:  1 , result of vote:  2 label:  2\n",
      "index:  2 , result of vote:  1 label:  1\n",
      "index:  3 , result of vote:  1 label:  1\n",
      "index:  4 , result of vote:  2 label:  2\n",
      "index:  5 , result of vote:  2 label:  2\n",
      "index:  6 , result of vote:  0 label:  0\n",
      "index:  7 , result of vote:  1 label:  1\n",
      "index:  8 , result of vote:  1 label:  2\n",
      "index:  9 , result of vote:  0 label:  0\n",
      "index:  10 , result of vote:  1 label:  1\n",
      "index:  11 , result of vote:  2 label:  2\n"
     ]
    }
   ],
   "source": [
    "# Aplicamos el algoritmo para 12 instancias de prueba\n",
    "for i in range(12):\n",
    "    neighbors = get_neighbors(learn_data, \n",
    "                              learn_labels, \n",
    "                              test_data[i], \n",
    "                              6,                   # número de vecinos   K = 6  \n",
    "                              distance=distance)\n",
    "    print(\"index: \", i, \n",
    "          \", result of vote: \", \n",
    "          vote_harmonic_weights(neighbors),\n",
    "          \"label: \", test_labels[i])"
   ]
  },
  {
   "cell_type": "code",
   "execution_count": 20,
   "id": "99a0cb69",
   "metadata": {},
   "outputs": [],
   "source": [
    "# Ahora queremos ponderar no en función del ranking de la cercanía si no usando la propia\n",
    "# distancia, de tal forma que a menor distancia mayor peso.\n",
    "def vote_distance_weights(neighbors):\n",
    "    class_counter = Counter()               \n",
    "    for neighbor in neighbors:             \n",
    "        class_counter[neighbor[2]] += 1/(neighbor[1]**2+1)  # Aquí aplicamos la distancia\n",
    "        # recordar que se trata del segundo elemento de la tupla\n",
    "    return class_counter.most_common(1)[0][0]"
   ]
  },
  {
   "cell_type": "code",
   "execution_count": 21,
   "id": "ef019677",
   "metadata": {},
   "outputs": [
    {
     "name": "stdout",
     "output_type": "stream",
     "text": [
      "index:  0 , result of vote:  1 label:  1\n",
      "index:  1 , result of vote:  2 label:  2\n",
      "index:  2 , result of vote:  1 label:  1\n",
      "index:  3 , result of vote:  1 label:  1\n",
      "index:  4 , result of vote:  2 label:  2\n",
      "index:  5 , result of vote:  2 label:  2\n",
      "index:  6 , result of vote:  0 label:  0\n",
      "index:  7 , result of vote:  1 label:  1\n",
      "index:  8 , result of vote:  1 label:  2\n",
      "index:  9 , result of vote:  0 label:  0\n",
      "index:  10 , result of vote:  1 label:  1\n",
      "index:  11 , result of vote:  2 label:  2\n"
     ]
    }
   ],
   "source": [
    "# Aplicamos el algoritmo para 12 instancias de prueba\n",
    "for i in range(12):\n",
    "    neighbors = get_neighbors(learn_data, \n",
    "                              learn_labels, \n",
    "                              test_data[i], \n",
    "                              6, \n",
    "                              distance=distance)\n",
    "    print(\"index: \", i, \n",
    "          \", result of vote: \", \n",
    "          vote_distance_weights(neighbors),\n",
    "          \"label: \", test_labels[i])"
   ]
  },
  {
   "cell_type": "code",
   "execution_count": null,
   "id": "ff1537e7",
   "metadata": {},
   "outputs": [],
   "source": [
    "# Aplicamos el mismo esquema de voto, pero con otros datos"
   ]
  },
  {
   "cell_type": "code",
   "execution_count": 22,
   "id": "83c3d333",
   "metadata": {},
   "outputs": [
    {
     "name": "stdout",
     "output_type": "stream",
     "text": [
      "vote distance weights:  orange\n",
      "vote distance weights:  apple\n",
      "vote distance weights:  banana\n",
      "vote distance weights:  orange\n",
      "vote distance weights:  apple\n",
      "vote distance weights:  apple\n"
     ]
    }
   ],
   "source": [
    "# Atributos de las 8 instancias de entrenamiento\n",
    "train_set = [(1, 2, 2), \n",
    "             (-3, -2, 0),\n",
    "             (1, 1, 3), \n",
    "             (-3, -3, -1),\n",
    "             (-3, -2, -0.5),\n",
    "             (0, 0.3, 0.8),\n",
    "             (-0.5, 0.6, 0.7),\n",
    "             (0, 0, 0)\n",
    "            ]\n",
    "# Etiquetas de las 8 instancias de entrenamiento\n",
    "labels = ['apple',  'banana', 'apple', \n",
    "          'banana', 'apple', \"orange\",\n",
    "          'orange', 'orange']\n",
    "\n",
    "k = 2\n",
    "\n",
    "# Instancias en cuestión a etiquetar\n",
    "for test_instance in [(0, 0, 0), (2, 2, 2), \n",
    "                      (-3, -1, 0), (0, 1, 0.9),\n",
    "                      (1, 1.5, 1.8), (0.9, 0.8, 1.6)]:\n",
    "    # llama a la rutina de exploración de vecinos\n",
    "    neighbors = get_neighbors(train_set, \n",
    "                              labels, \n",
    "                              test_instance, \n",
    "                              k,\n",
    "                              distance=distance)  # Llama a rutina de calculo de distancia\n",
    "\n",
    "    print(\"vote distance weights: \", \n",
    "          vote_distance_weights(neighbors))       #Llama a rutina de votación"
   ]
  },
  {
   "cell_type": "markdown",
   "id": "a0bed1e3",
   "metadata": {},
   "source": [
    "## (5)  kNN con sklearn"
   ]
  },
  {
   "cell_type": "code",
   "execution_count": 23,
   "id": "6d6d125f",
   "metadata": {},
   "outputs": [],
   "source": [
    "# Vamos a crear una base de datos artificiales, con datos aleatorios alrededor de ciertos\n",
    "# centros en un espacio bidimensional\n",
    "from sklearn.datasets import make_blobs      # Usamos el método visto en la sesión anterior\n",
    "import matplotlib.pyplot as plt\n",
    "import numpy as np\n",
    "\n",
    "centers = [[2, 3], [5, 5], [1, 8]]\n",
    "n_classes = len(centers)\n",
    "data, labels = make_blobs(n_samples=150, \n",
    "                          centers=np.array(centers),\n",
    "                          random_state=1)"
   ]
  },
  {
   "cell_type": "code",
   "execution_count": 24,
   "id": "35d3af08",
   "metadata": {},
   "outputs": [
    {
     "data": {
      "text/plain": [
       "<matplotlib.legend.Legend at 0x184707e3a60>"
      ]
     },
     "execution_count": 24,
     "metadata": {},
     "output_type": "execute_result"
    },
    {
     "data": {
      "image/png": "[encoded data removed]",
      "text/plain": [
       "<Figure size 432x288 with 1 Axes>"
      ]
     },
     "metadata": {
      "needs_background": "light"
     },
     "output_type": "display_data"
    }
   ],
   "source": [
    "# Visualicemos a los datos\n",
    "import matplotlib.pyplot as plt\n",
    "\n",
    "colours = ('green', 'red', 'blue')   # Los colores se usan para identificar a las etiquetas\n",
    "n_classes = 3\n",
    "\n",
    "fig, ax = plt.subplots()\n",
    "for n_class in range(0, n_classes):\n",
    "    ax.scatter(data[labels==n_class, 0], data[labels==n_class, 1], \n",
    "               c=colours[n_class], s=10, label=str(n_class))\n",
    "ax.legend(loc='upper right')\n",
    "# Se generaron tres manchones de datos que a simple vista son evidentes"
   ]
  },
  {
   "cell_type": "code",
   "execution_count": 25,
   "id": "ed377e92",
   "metadata": {},
   "outputs": [],
   "source": [
    "# Creamos los conjuntos de aprendizaje y prueba con sklearn\n",
    "from sklearn.model_selection import train_test_split\n",
    "res = train_test_split(data, labels, \n",
    "                       train_size=0.8,   # tamaño relativo del conjunto de aprendizaje\n",
    "                       test_size=0.2,\n",
    "                       random_state=1)   # semilla aleatoria\n",
    "\n",
    "train_data, test_data, train_labels, test_labels = res   # deben ir en este orden siempre\n",
    "# primero data  y luego label, primero train y luego test"
   ]
  },
  {
   "cell_type": "code",
   "execution_count": 26,
   "id": "327227e4",
   "metadata": {},
   "outputs": [
    {
     "name": "stdout",
     "output_type": "stream",
     "text": [
      "Predictions from the classifier:\n",
      "[2 2 2 0 0 1 1 2 2 1 0 1 0 0 2 0 0 0 1 0 0 1 1 2 0 0 0 1 2 1]\n",
      "Target values:\n",
      "[2 2 2 0 0 1 1 2 2 1 0 1 0 0 2 0 0 0 1 0 0 1 1 2 0 0 0 1 2 1]\n"
     ]
    }
   ],
   "source": [
    "# Aplicamos el algoritmo de kNN a esta base de datos\n",
    "from sklearn.neighbors import KNeighborsClassifier\n",
    "knn = KNeighborsClassifier()\n",
    "# Se especifica el algoritmo y la correspondencia entre atributos y etiquetas\n",
    "knn.fit(train_data, train_labels)      \n",
    "predicted = knn.predict(test_data)     \n",
    "# Lleva a cabo búsqueda de vecinos y predicciones con voto de mayoría relativa\n",
    "print(\"Predictions from the classifier:\")\n",
    "print(predicted)\n",
    "print(\"Target values:\")                # Estas son las etiquetas a replicar\n",
    "print(test_labels)\n",
    "# Vemos que la predicción de kNN (k = 5, default) es muy certera "
   ]
  },
  {
   "cell_type": "code",
   "execution_count": 27,
   "id": "89271f97",
   "metadata": {},
   "outputs": [
    {
     "name": "stdout",
     "output_type": "stream",
     "text": [
      "0.5714285714285714\n"
     ]
    }
   ],
   "source": [
    "# En general para evaluar la calidad de la predicción, usamos accuracy score.\n",
    "# Suponiendo un vector de etiquetas reales y otra predecida\n",
    "from sklearn.metrics import accuracy_score\n",
    "example_predictions = [0, 2, 1, 3, 2, 0, 1]\n",
    "example_labels      = [0, 1, 2, 3, 2, 1, 1]\n",
    "print(accuracy_score(example_predictions, example_labels)) # Ojo con orden: predecido,observado \n",
    "# Etiquetas acertadas / Número total de predicciones\n",
    "# Le atina poco más de la mitad"
   ]
  },
  {
   "cell_type": "code",
   "execution_count": 28,
   "id": "2c151403",
   "metadata": {},
   "outputs": [
    {
     "name": "stdout",
     "output_type": "stream",
     "text": [
      "4\n"
     ]
    }
   ],
   "source": [
    "# Si solo queremos saber el número de etiquetas acertadas\n",
    "print(accuracy_score(example_predictions, \n",
    "                     example_labels,\n",
    "                     normalize=False))"
   ]
  },
  {
   "cell_type": "code",
   "execution_count": 29,
   "id": "32b12263",
   "metadata": {},
   "outputs": [
    {
     "data": {
      "text/plain": [
       "1.0"
      ]
     },
     "execution_count": 29,
     "metadata": {},
     "output_type": "execute_result"
    }
   ],
   "source": [
    "# En el ejemplo de los manchones se tiene un 100% de similitud\n",
    "accuracy_score(predicted, test_labels)"
   ]
  },
  {
   "cell_type": "code",
   "execution_count": 30,
   "id": "ff9c8108",
   "metadata": {},
   "outputs": [],
   "source": [
    "# Podemos aplicar el algoritmo clasificador con una serie de argumentos\n",
    "knn = KNeighborsClassifier(algorithm='auto', \n",
    "                           leaf_size=30, \n",
    "                           metric='minkowski',\n",
    "                           metric_params=None, \n",
    "                           n_jobs=1, \n",
    "                           n_neighbors=5, \n",
    "                           p=2,        # corresponde a la p de Minkowski; 2 equivale a euclidiana\n",
    "                           weights='uniform')\n",
    "# Recordar que kNN puede usar varios algoritmos de búsqueda de vecinos\n",
    "# (ball_tree, kd_tree, brute) si ponemos 'auto' eige el método más adecuado de acuerdo\n",
    "# con los hiperparámetros del modelo\n",
    "# leaf_size  se usa para los dos primeros algoritmos"
   ]
  },
  {
   "cell_type": "markdown",
   "id": "3d841cb2",
   "metadata": {},
   "source": [
    "## (5) Apliquemos kNN en sklearn con los datos de Iris"
   ]
  },
  {
   "cell_type": "code",
   "execution_count": 31,
   "id": "ea52e70d",
   "metadata": {},
   "outputs": [
    {
     "name": "stdout",
     "output_type": "stream",
     "text": [
      "Predictions from the classifier:\n",
      "[0 2 0 1 2 2 2 0 2 0 1 0 0 0 1 2 2 1 0 2 0 1 2 1 0 2 1 1 0 0]\n",
      "Target values:\n",
      "[0 2 0 1 2 2 2 0 2 0 1 0 0 0 1 2 2 1 0 1 0 1 2 1 0 2 1 1 0 0]\n"
     ]
    }
   ],
   "source": [
    "# Importamos base de datos y método para dividir la muestra\n",
    "from sklearn import datasets\n",
    "from sklearn.model_selection import train_test_split\n",
    "# Descargamos los datos\n",
    "iris = datasets.load_iris()\n",
    "# Creamos conjuntos de aprendizaje y prueba\n",
    "data, labels = iris.data, iris.target\n",
    "res = train_test_split(data, labels, \n",
    "                       train_size=0.8,\n",
    "                       test_size=0.2,\n",
    "                       random_state=12)\n",
    "train_data, test_data, train_labels, test_labels = res \n",
    "# Importamos el método de clasificación\n",
    "from sklearn.neighbors import KNeighborsClassifier\n",
    "# Hacemos la clasificación tomando parámetros de default\n",
    "knn = KNeighborsClassifier()\n",
    "knn.fit(train_data, train_labels)   # Establecemos correspondencia atributos --- etiquetas \n",
    "# Realizamos predicciones\n",
    "print(\"Predictions from the classifier:\")\n",
    "test_data_predicted = knn.predict(test_data)  # Ojo aquí solo predecimos con los datos de prueba\n",
    "print(test_data_predicted)\n",
    "print(\"Target values:\")\n",
    "print(test_labels)"
   ]
  },
  {
   "cell_type": "code",
   "execution_count": 32,
   "id": "29b790ee",
   "metadata": {},
   "outputs": [
    {
     "data": {
      "text/plain": [
       "0.9666666666666667"
      ]
     },
     "execution_count": 32,
     "metadata": {},
     "output_type": "execute_result"
    }
   ],
   "source": [
    "# resulta una muy buena calidad de predicción, la cual corroboramos:\n",
    "accuracy_score(test_data_predicted, test_labels)"
   ]
  },
  {
   "cell_type": "code",
   "execution_count": 34,
   "id": "91b2311f",
   "metadata": {},
   "outputs": [
    {
     "name": "stdout",
     "output_type": "stream",
     "text": [
      "Predictions from the classifier:\n",
      "[0 1 2 0 2 0 1 1 0 1 1 0 0 0 0 0 0 0 2 0 2 1 1 1 0 2 1 1 2 0 2 0 2 1 2 2 1\n",
      " 1 1 2 2 0 2 2 0 1 0 2 2 0 1 1 0 0 1 1 1 1 2 1 2 0 0 1 1 2 0 2 1 0 2 2 1 2\n",
      " 2 0 0 2 1 1 2 0 1 1 0 1 1 2 2 1 0 2 0 2 0 0 1 2 2 1 2 2 0 1 1 0 2 2 2 1 2\n",
      " 2 2 0 0 1 0 2 2 1]\n",
      "Target values:\n",
      "[0 1 2 0 2 0 1 1 0 1 1 0 0 0 0 0 0 0 2 0 2 1 1 1 0 2 1 1 2 0 2 0 2 2 2 2 1\n",
      " 1 1 1 2 0 2 2 0 1 0 2 2 0 1 1 0 0 1 1 1 1 2 1 2 0 0 1 1 1 0 2 1 0 2 2 1 2\n",
      " 2 0 0 2 1 1 2 0 1 1 0 1 1 2 2 1 0 2 0 2 0 0 1 2 2 1 2 2 0 1 1 0 2 2 2 1 2\n",
      " 2 2 0 0 1 0 2 2 1]\n",
      "0.975\n"
     ]
    }
   ],
   "source": [
    "# Si usáramos los datos del conjunto de aprendizaje para predecir y no solo para escoger vecinos\n",
    "print(\"Predictions from the classifier:\")\n",
    "learn_data_predicted = knn.predict(train_data) # Aquí ya sabe cuales son sus aributos asociados\n",
    "print(learn_data_predicted)\n",
    "print(\"Target values:\")\n",
    "print(train_labels)\n",
    "print(accuracy_score(learn_data_predicted, train_labels))\n",
    "# La calidad de predicción es marginalmente mejor, pero no siempre es el caso"
   ]
  },
  {
   "cell_type": "code",
   "execution_count": 44,
   "id": "d8a58dd5",
   "metadata": {},
   "outputs": [
    {
     "data": {
      "text/plain": [
       "0.9666666666666667"
      ]
     },
     "execution_count": 44,
     "metadata": {},
     "output_type": "execute_result"
    }
   ],
   "source": [
    "# Le ponemos ahora argumentos al algoritmo de kNN\n",
    "knn2 = KNeighborsClassifier(algorithm='brute',    # cambiamo algoritmo de búsqueda de vecinos\n",
    "                            leaf_size=30, \n",
    "                            metric='manhattan',   # cambamos distancia\n",
    "                            metric_params=None, \n",
    "                            n_jobs=1, \n",
    "                            n_neighbors=2,        # cambiamos número de vecinos\n",
    "                            p=2,         # p=2 es equivalente a euclidiana en minkowski\n",
    "                            weights='uniform')\n",
    "\n",
    "knn.fit(train_data, train_labels) \n",
    "test_data_predicted = knn.predict(test_data)\n",
    "accuracy_score(test_data_predicted, test_labels)\n",
    "# Funciona muy bien el método a pesar de los cambios:"
   ]
  },
  {
   "cell_type": "markdown",
   "id": "2092e6a5",
   "metadata": {},
   "source": [
    "## (7) Clasificador del radio (RadiusNeighborsClassifier)"
   ]
  },
  {
   "cell_type": "code",
   "execution_count": null,
   "id": "725d84ef",
   "metadata": {},
   "outputs": [],
   "source": [
    "# Si ahora lo que es fijo, no es el número de vecinos, sino el radio en que se ubican los vecinos\n",
    "# Las partes más densas del espacio de atributos tendrán más vecinos\n",
    "# y las partes menos densas presentarán pocos vecinos"
   ]
  },
  {
   "cell_type": "code",
   "execution_count": 45,
   "id": "74508f19",
   "metadata": {},
   "outputs": [
    {
     "name": "stdout",
     "output_type": "stream",
     "text": [
      "[0]\n",
      "[1]\n"
     ]
    }
   ],
   "source": [
    "from sklearn.neighbors import RadiusNeighborsClassifier\n",
    "# Creamos base de datos con argumentos y etiquetas\n",
    "X = [[0, 1], [0.5, 1], [3, 1], [3, 2], [1.3, 0.8], [2.5, 2.5]]\n",
    "y = [0, 0, 1, 1, 0, 1]\n",
    "\n",
    "neigh = RadiusNeighborsClassifier(radius=1.0)\n",
    "neigh.fit(X, y)\n",
    "# Hacemos las predicciones a partir de vecinos cercanos en la base de datos original (X, y)\n",
    "print(neigh.predict([[1.5, 1.2]]))  # Predicciones con otros atributos\n",
    "\n",
    "print(neigh.predict([[3.1, 2.1]]))"
   ]
  },
  {
   "cell_type": "code",
   "execution_count": 46,
   "id": "92acdcb0",
   "metadata": {},
   "outputs": [],
   "source": [
    "# Generamos ahora otros manchones de datos, pero con más dispersión \n",
    "from sklearn.datasets import make_blobs\n",
    "import matplotlib.pyplot as plt\n",
    "import numpy as np\n",
    "\n",
    "centers = [[2, 3], [5, 5], [7, 9]]\n",
    "n_classes = len(centers)\n",
    "data, labels = make_blobs(n_samples=155, \n",
    "                          centers=np.array(centers),\n",
    "                          cluster_std = 1.3,          # Aquí se pone la mayor varianza\n",
    "                          random_state=1)"
   ]
  },
  {
   "cell_type": "code",
   "execution_count": 47,
   "id": "7239b582",
   "metadata": {},
   "outputs": [
    {
     "data": {
      "image/png": "[encoded data removed]",
      "text/plain": [
       "<Figure size 432x288 with 1 Axes>"
      ]
     },
     "metadata": {
      "needs_background": "light"
     },
     "output_type": "display_data"
    }
   ],
   "source": [
    "import matplotlib.pyplot as plt\n",
    "\n",
    "colours = ('green', 'red', 'blue')\n",
    "n_classes = 3\n",
    "\n",
    "fig, ax = plt.subplots()\n",
    "for n_class in range(0, n_classes):\n",
    "    ax.scatter(data[labels==n_class, 0], data[labels==n_class, 1], \n",
    "               c=colours[n_class], s=10, label=str(n_class))\n",
    "# Notar que los manchones están más traslapados"
   ]
  },
  {
   "cell_type": "code",
   "execution_count": 48,
   "id": "8edac223",
   "metadata": {},
   "outputs": [],
   "source": [
    "# Separamos los dos conjuntos \n",
    "res = train_test_split(data, labels, \n",
    "                       train_size=0.8,\n",
    "                       test_size=0.2,\n",
    "                       random_state=1)\n",
    "train_data, test_data, train_labels, test_labels = res"
   ]
  },
  {
   "cell_type": "code",
   "execution_count": 50,
   "id": "84690e93",
   "metadata": {},
   "outputs": [
    {
     "name": "stdout",
     "output_type": "stream",
     "text": [
      "0.9354838709677419\n"
     ]
    }
   ],
   "source": [
    "# Aplicamos el método delradio fijo\n",
    "rnn = RadiusNeighborsClassifier(radius=1)\n",
    "rnn.fit(train_data, train_labels)\n",
    "# Hacemos predicciones\n",
    "predicted = rnn.predict(test_data)\n",
    "print(accuracy_score(predicted, test_labels))\n",
    "# Notar que bajo un poco la capacidad de predicción (con respecto a kNN anteriores usando Iris) \n",
    "# pero sigue siendo alta"
   ]
  },
  {
   "cell_type": "code",
   "execution_count": 51,
   "id": "c03cc8bd",
   "metadata": {},
   "outputs": [
    {
     "data": {
      "text/plain": [
       "13"
      ]
     },
     "execution_count": 51,
     "metadata": {},
     "output_type": "execute_result"
    }
   ],
   "source": [
    "# Vamos a comparar con kNN para otro valor de k para estos mismos clústeres de datos\n",
    "# Como heurística se puede elegir el valor de k:\n",
    "k = int(len(labels) ** 0.5)          # la raíz cuadrada del número de instancias totales\n",
    "# Evitamos que sea par\n",
    "if k % 2 == 0:\n",
    "    k += 1\n",
    "k"
   ]
  },
  {
   "cell_type": "code",
   "execution_count": 52,
   "id": "6bf4675b",
   "metadata": {},
   "outputs": [
    {
     "name": "stdout",
     "output_type": "stream",
     "text": [
      "0.967741935483871\n"
     ]
    }
   ],
   "source": [
    "# Usamos la distancia euclidiana con k = 13\n",
    "knn = KNeighborsClassifier(algorithm='auto', \n",
    "                     leaf_size=30, \n",
    "                     metric='minkowski',\n",
    "                     metric_params=None, \n",
    "                     n_jobs=1, \n",
    "                     n_neighbors=k, # default es 5\n",
    "                     p=2,         # p=2 is equivalent to euclidian distance\n",
    "                     weights='uniform')\n",
    "\n",
    "knn.fit(data, labels)\n",
    "predicted = knn.predict(test_data)\n",
    "print(accuracy_score(predicted, test_labels))\n",
    "# Notar que se logra una predicción ligeramente mejor"
   ]
  },
  {
   "cell_type": "code",
   "execution_count": 53,
   "id": "d25fb10a",
   "metadata": {},
   "outputs": [
    {
     "name": "stdout",
     "output_type": "stream",
     "text": [
      "[[10  0  0]\n",
      " [ 0  7  0]\n",
      " [ 0  1 13]]\n"
     ]
    }
   ],
   "source": [
    "# Calculemos ahora la matriz de confusión\n",
    "from sklearn.metrics import confusion_matrix \n",
    "# Podeos evaluar el modelo\n",
    "cm = confusion_matrix(predicted, test_labels)\n",
    "print(cm)\n",
    "# Solo falla la predicción de una tercera etiqueta (valores reales = renglones)\n",
    "# a la que se le asigna (predicciones = columnas) una segunda etiqueta de manera equivocada"
   ]
  },
  {
   "cell_type": "markdown",
   "id": "6980a174",
   "metadata": {},
   "source": [
    "## (8) Ejercicio con otra base de datos"
   ]
  },
  {
   "cell_type": "code",
   "execution_count": 54,
   "id": "b3a127d4",
   "metadata": {},
   "outputs": [],
   "source": [
    "import pandas as pd\n",
    "from sklearn.model_selection import train_test_split\n",
    "from sklearn.preprocessing import StandardScaler # En ocasiones conviene escalar números grandes\n",
    "# Con este tipo de escalamiento se tiene media cero varianza 1\n",
    "from sklearn.neighbors import KNeighborsClassifier\n",
    "from sklearn.metrics import confusion_matrix     # Meétodos para evaluación predictiva\n",
    "from sklearn.metrics import f1_score \n",
    "from sklearn.metrics import accuracy_score"
   ]
  },
  {
   "cell_type": "code",
   "execution_count": 55,
   "id": "c8f73dbc",
   "metadata": {},
   "outputs": [
    {
     "data": {
      "text/html": [
       "<div>\n",
       "<style scoped>\n",
       "    .dataframe tbody tr th:only-of-type {\n",
       "        vertical-align: middle;\n",
       "    }\n",
       "\n",
       "    .dataframe tbody tr th {\n",
       "        vertical-align: top;\n",
       "    }\n",
       "\n",
       "    .dataframe thead th {\n",
       "        text-align: right;\n",
       "    }\n",
       "</style>\n",
       "<table border=\"1\" class=\"dataframe\">\n",
       "  <thead>\n",
       "    <tr style=\"text-align: right;\">\n",
       "      <th></th>\n",
       "      <th>red</th>\n",
       "      <th>green</th>\n",
       "      <th>blue</th>\n",
       "      <th>size</th>\n",
       "      <th>label</th>\n",
       "    </tr>\n",
       "  </thead>\n",
       "  <tbody>\n",
       "    <tr>\n",
       "      <th>0</th>\n",
       "      <td>238.0</td>\n",
       "      <td>104.0</td>\n",
       "      <td>8.0</td>\n",
       "      <td>3.65</td>\n",
       "      <td>1.0</td>\n",
       "    </tr>\n",
       "    <tr>\n",
       "      <th>1</th>\n",
       "      <td>235.0</td>\n",
       "      <td>114.0</td>\n",
       "      <td>9.0</td>\n",
       "      <td>4.00</td>\n",
       "      <td>1.0</td>\n",
       "    </tr>\n",
       "    <tr>\n",
       "      <th>2</th>\n",
       "      <td>252.0</td>\n",
       "      <td>93.0</td>\n",
       "      <td>9.0</td>\n",
       "      <td>3.71</td>\n",
       "      <td>1.0</td>\n",
       "    </tr>\n",
       "    <tr>\n",
       "      <th>3</th>\n",
       "      <td>242.0</td>\n",
       "      <td>116.0</td>\n",
       "      <td>9.0</td>\n",
       "      <td>3.67</td>\n",
       "      <td>1.0</td>\n",
       "    </tr>\n",
       "    <tr>\n",
       "      <th>4</th>\n",
       "      <td>251.0</td>\n",
       "      <td>117.0</td>\n",
       "      <td>15.0</td>\n",
       "      <td>3.49</td>\n",
       "      <td>1.0</td>\n",
       "    </tr>\n",
       "    <tr>\n",
       "      <th>...</th>\n",
       "      <td>...</td>\n",
       "      <td>...</td>\n",
       "      <td>...</td>\n",
       "      <td>...</td>\n",
       "      <td>...</td>\n",
       "    </tr>\n",
       "    <tr>\n",
       "      <th>790</th>\n",
       "      <td>0.0</td>\n",
       "      <td>248.0</td>\n",
       "      <td>98.0</td>\n",
       "      <td>3.03</td>\n",
       "      <td>4.0</td>\n",
       "    </tr>\n",
       "    <tr>\n",
       "      <th>791</th>\n",
       "      <td>0.0</td>\n",
       "      <td>253.0</td>\n",
       "      <td>106.0</td>\n",
       "      <td>2.85</td>\n",
       "      <td>4.0</td>\n",
       "    </tr>\n",
       "    <tr>\n",
       "      <th>792</th>\n",
       "      <td>0.0</td>\n",
       "      <td>250.0</td>\n",
       "      <td>91.0</td>\n",
       "      <td>3.39</td>\n",
       "      <td>4.0</td>\n",
       "    </tr>\n",
       "    <tr>\n",
       "      <th>793</th>\n",
       "      <td>0.0</td>\n",
       "      <td>248.0</td>\n",
       "      <td>99.0</td>\n",
       "      <td>3.10</td>\n",
       "      <td>4.0</td>\n",
       "    </tr>\n",
       "    <tr>\n",
       "      <th>794</th>\n",
       "      <td>0.0</td>\n",
       "      <td>244.0</td>\n",
       "      <td>109.0</td>\n",
       "      <td>2.96</td>\n",
       "      <td>4.0</td>\n",
       "    </tr>\n",
       "  </tbody>\n",
       "</table>\n",
       "<p>795 rows × 5 columns</p>\n",
       "</div>"
      ],
      "text/plain": [
       "       red  green   blue  size  label\n",
       "0    238.0  104.0    8.0  3.65    1.0\n",
       "1    235.0  114.0    9.0  4.00    1.0\n",
       "2    252.0   93.0    9.0  3.71    1.0\n",
       "3    242.0  116.0    9.0  3.67    1.0\n",
       "4    251.0  117.0   15.0  3.49    1.0\n",
       "..     ...    ...    ...   ...    ...\n",
       "790    0.0  248.0   98.0  3.03    4.0\n",
       "791    0.0  253.0  106.0  2.85    4.0\n",
       "792    0.0  250.0   91.0  3.39    4.0\n",
       "793    0.0  248.0   99.0  3.10    4.0\n",
       "794    0.0  244.0  109.0  2.96    4.0\n",
       "\n",
       "[795 rows x 5 columns]"
      ]
     },
     "execution_count": 55,
     "metadata": {},
     "output_type": "execute_result"
    }
   ],
   "source": [
    "# Creamos un Dataframe con los datos que estan úbicados en el dashboard de Jupyter\n",
    "dataset = pd.read_csv(\"strange_flowers.txt\", \n",
    "                      header=None, \n",
    "                      names=[\"red\", \"green\", \"blue\", \"size\", \"label\"], #Asiganmos etiquetas\n",
    "                      sep=\" \")  # Separación viene con espacio\n",
    "dataset"
   ]
  },
  {
   "cell_type": "code",
   "execution_count": 56,
   "id": "90858972",
   "metadata": {},
   "outputs": [],
   "source": [
    "# Generamos la matriz de atributos y el vector de etiquetas\n",
    "data = dataset.drop('label', axis=1)\n",
    "labels = dataset.label"
   ]
  },
  {
   "cell_type": "code",
   "execution_count": 57,
   "id": "590b68ff",
   "metadata": {},
   "outputs": [],
   "source": [
    "# Generamos los dos conjuntos de aprendizaje y prueba\n",
    "X_train, X_test, y_train, y_test = train_test_split(data, \n",
    "                                                    labels, \n",
    "                                                    random_state=0, \n",
    "                                                    test_size=0.2) "
   ]
  },
  {
   "cell_type": "code",
   "execution_count": 58,
   "id": "ce5f7c9b",
   "metadata": {},
   "outputs": [
    {
     "data": {
      "text/plain": [
       "array([[ 0.58460699, -0.57119956, -0.45894199, -0.30627378],\n",
       "       [-1.89712845,  1.86063754,  1.85496972, -1.76994409],\n",
       "       [ 0.58460699, -0.40348666, -0.30468121,  0.75082145],\n",
       "       ...,\n",
       "       [-1.89712845,  1.96126529,  1.88067985, -1.28205399],\n",
       "       [ 0.44847804, -0.80599763, -0.48465212,  1.23871155],\n",
       "       [-1.89712845,  1.89418013,  1.88067985, -1.68862908]])"
      ]
     },
     "execution_count": 58,
     "metadata": {},
     "output_type": "execute_result"
    }
   ],
   "source": [
    "# Escalamos los atributos\n",
    "scaler = StandardScaler() \n",
    "X_train = scaler.fit_transform(X_train) #  transformación de datos de aprendizaje\n",
    "X_test = scaler.transform(X_test) #  transformación de datos de prueba\n",
    "X_train"
   ]
  },
  {
   "cell_type": "code",
   "execution_count": 59,
   "id": "93efc3c6",
   "metadata": {},
   "outputs": [
    {
     "data": {
      "text/plain": [
       "25"
      ]
     },
     "execution_count": 59,
     "metadata": {},
     "output_type": "execute_result"
    }
   ],
   "source": [
    "# Establecemos el valor de k\n",
    "k = int(len(X_train) ** 0.5)\n",
    "k"
   ]
  },
  {
   "cell_type": "code",
   "execution_count": 60,
   "id": "fac60ed2",
   "metadata": {},
   "outputs": [
    {
     "data": {
      "text/plain": [
       "array([3., 1., 3., 4., 3., 3., 1., 4., 3., 3., 4., 1., 3., 1., 2., 2., 2.,\n",
       "       3., 1., 4., 2., 3., 4., 1., 3., 3., 4., 4., 1., 2., 1., 1., 2., 3.,\n",
       "       1., 3., 3., 2., 2., 2., 3., 3., 4., 1., 4., 2., 3., 2., 3., 2., 2.,\n",
       "       3., 1., 3., 4., 1., 2., 4., 2., 3., 3., 4., 3., 4., 3., 1., 2., 2.,\n",
       "       1., 3., 3., 1., 4., 2., 2., 3., 2., 4., 2., 4., 1., 3., 4., 2., 4.,\n",
       "       3., 2., 2., 2., 3., 2., 2., 3., 3., 1., 4., 2., 1., 2., 2., 1., 2.,\n",
       "       4., 3., 3., 3., 2., 1., 2., 4., 2., 3., 3., 1., 2., 4., 3., 1., 1.,\n",
       "       2., 1., 4., 3., 4., 2., 2., 3., 2., 4., 1., 4., 2., 4., 4., 4., 4.,\n",
       "       4., 2., 4., 4., 4., 2., 3., 2., 1., 1., 2., 3., 1., 1., 3., 1., 2.,\n",
       "       4., 2., 4., 2., 3., 1.])"
      ]
     },
     "execution_count": 60,
     "metadata": {},
     "output_type": "execute_result"
    }
   ],
   "source": [
    "# Establecemos el modelo kNN\n",
    "classifier = KNeighborsClassifier(n_neighbors=k, \n",
    "                                  metric=\"euclidean\") \n",
    "classifier.fit(X_train, y_train)\n",
    "y_pred = classifier.predict(X_test)\n",
    "y_pred"
   ]
  },
  {
   "cell_type": "code",
   "execution_count": 61,
   "id": "b74b7462",
   "metadata": {},
   "outputs": [
    {
     "name": "stdout",
     "output_type": "stream",
     "text": [
      "[[31  1  0  0]\n",
      " [ 1 46  0  0]\n",
      " [ 0  0 44  0]\n",
      " [ 0  0  0 36]]\n"
     ]
    }
   ],
   "source": [
    "# Evaluamos el modelo\n",
    "cm = confusion_matrix(y_test, y_pred)\n",
    "print(cm)"
   ]
  },
  {
   "cell_type": "code",
   "execution_count": 62,
   "id": "327272de",
   "metadata": {},
   "outputs": [
    {
     "data": {
      "text/plain": [
       "0.9874213836477987"
      ]
     },
     "execution_count": 62,
     "metadata": {},
     "output_type": "execute_result"
    }
   ],
   "source": [
    "accuracy_score(y_test, y_pred)"
   ]
  },
  {
   "cell_type": "markdown",
   "id": "27294be5",
   "metadata": {},
   "source": [
    "## Determinación del valor óptimo de k"
   ]
  },
  {
   "cell_type": "code",
   "execution_count": null,
   "id": "97a65f60",
   "metadata": {},
   "outputs": [],
   "source": [
    "# Para distintos valores de k se grafica el accuracy_score"
   ]
  },
  {
   "attachments": {
    "image.png": {
     "image/png": "[encoded data removed]"
    }
   },
   "cell_type": "markdown",
   "id": "4845559b",
   "metadata": {},
   "source": [
    "### Notar que con k pequeña las fronteras de decisión siguen más de cerca a las instancias del conjunto de entrenamiento, con mayor k estas fronteras son menos irregulares \n",
    "\n",
    "![image.png](attachment:image.png)"
   ]
  },
  {
   "cell_type": "code",
   "execution_count": 63,
   "id": "02e6401e",
   "metadata": {},
   "outputs": [
    {
     "data": {
      "image/png": "[encoded data removed]",
      "text/plain": [
       "<Figure size 432x288 with 1 Axes>"
      ]
     },
     "metadata": {
      "needs_background": "light"
     },
     "output_type": "display_data"
    }
   ],
   "source": [
    "# Creamos de nuevo una base de datos con 6 clases de clústeres\n",
    "import matplotlib.pyplot as plt\n",
    "\n",
    "from sklearn.datasets import make_blobs\n",
    "import matplotlib.pyplot as plt\n",
    "import numpy as np\n",
    "n_classes = 6\n",
    "data, labels = make_blobs(n_samples=500, \n",
    "                          centers=n_classes,\n",
    "                          cluster_std = 1.6,\n",
    "                          random_state=1)\n",
    "colours = ('green', 'red', 'blue', 'magenta', 'yellow', 'pink')  # Asignamos colores a etiquetas\n",
    "# Graficamos\n",
    "fig, ax = plt.subplots()\n",
    "for n_class in range(0, n_classes):\n",
    "    ax.scatter(data[labels==n_class, 0], data[labels==n_class, 1], \n",
    "               c=colours[n_class], s=10, label=str(n_class))"
   ]
  },
  {
   "cell_type": "code",
   "execution_count": 64,
   "id": "95cea845",
   "metadata": {},
   "outputs": [
    {
     "name": "stdout",
     "output_type": "stream",
     "text": [
      "350 150 350\n"
     ]
    },
    {
     "data": {
      "text/plain": [
       "[<matplotlib.lines.Line2D at 0x18472b283d0>]"
      ]
     },
     "execution_count": 64,
     "metadata": {},
     "output_type": "execute_result"
    },
    {
     "data": {
      "image/png": "[encoded data removed]",
      "text/plain": [
       "<Figure size 432x288 with 1 Axes>"
      ]
     },
     "metadata": {
      "needs_background": "light"
     },
     "output_type": "display_data"
    }
   ],
   "source": [
    "# Creamos los conjuntos de aprendizaje y prueba\n",
    "res = train_test_split(data, labels, \n",
    "                       train_size=0.7,\n",
    "                       test_size=0.3,\n",
    "                       random_state=1)\n",
    "train_data, test_data, train_labels, test_labels = res \n",
    "\n",
    "print(len(train_data), len(test_data), len(train_labels))\n",
    "\n",
    "# Corremos el modelo para distintos valores de k\n",
    "X, Y = [], []\n",
    "for k in range(1, 25):\n",
    "    classifier = KNeighborsClassifier(n_neighbors=k, \n",
    "                                      p=2,    # Euclidian\n",
    "                                      metric=\"minkowski\")\n",
    "    classifier.fit(train_data, train_labels)\n",
    "    predictions = classifier.predict(test_data)\n",
    "    score = accuracy_score(test_labels, predictions)\n",
    "    X.append(k)\n",
    "    Y.append(score)\n",
    "    \n",
    "\n",
    "\n",
    "fig, ax = plt.subplots()\n",
    "ax.set_xlabel('k')\n",
    "ax.set_ylabel('accuracy')\n",
    "ax.plot(X, Y, \"go\")\n",
    "# K = 18, 19 parecen mejores valores en este caso\n",
    "# Notar que los valores extremos de k no producen los mejores resultados"
   ]
  }
 ],
 "metadata": {
  "kernelspec": {
   "display_name": "Python 3 (ipykernel)",
   "language": "python",
   "name": "python3"
  },
  "language_info": {
   "codemirror_mode": {
    "name": "ipython",
    "version": 3
   },
   "file_extension": ".py",
   "mimetype": "text/x-python",
   "name": "python",
   "nbconvert_exporter": "python",
   "pygments_lexer": "ipython3",
   "version": "3.9.7"
  }
 },
 "nbformat": 4,
 "nbformat_minor": 5
}
