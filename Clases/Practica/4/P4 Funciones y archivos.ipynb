{
 "cells": [
  {
   "cell_type": "markdown",
   "id": "8068b300",
   "metadata": {},
   "source": [
    "# Introducción a la Ciencia de los Datos, CIDE (Profesor Gonzalo Castañeda)\n",
    "\n",
    "# P4. Funciones y archivos\n",
    "\n",
    "#### Basado en: McKinney, Wes. 2018. “Python for Data Analysis. Data Wrangling with Pandas, NumPy, and IPython”, 2a edición, California USA: O’Reilly Media, Inc.\n",
    "Cap. 3. Secciones 3.2 y 3.3  "
   ]
  },
  {
   "cell_type": "markdown",
   "id": "b22f89cb",
   "metadata": {},
   "source": [
    "## 1. Funciones"
   ]
  },
  {
   "cell_type": "markdown",
   "id": "83a7970d",
   "metadata": {},
   "source": [
    "### Muy convenientes cuando un conjunto de instrucciones se repiten varias veces en un código"
   ]
  },
  {
   "cell_type": "code",
   "execution_count": 2,
   "id": "e155ef44",
   "metadata": {},
   "outputs": [],
   "source": [
    "def my_function(x, y, z=1.5):          #los dos primeros argumentos son posicionales, \n",
    "     if z > 1:                         # el tercer argumento es una palabra clave (tiene un valor, van al final)\n",
    "          return z * (x + y)\n",
    "     else:\n",
    "          return z / (x + y)           # Si no se define un ‘return’, la función regresa None\n"
   ]
  },
  {
   "cell_type": "markdown",
   "id": "09739794",
   "metadata": {},
   "source": [
    "Formas de invocar la función:\n"
   ]
  },
  {
   "cell_type": "code",
   "execution_count": 3,
   "id": "f7ba61f3",
   "metadata": {
    "collapsed": true
   },
   "outputs": [
    {
     "data": {
      "text/plain": [
       "0.06363636363636363"
      ]
     },
     "execution_count": 3,
     "metadata": {},
     "output_type": "execute_result"
    }
   ],
   "source": [
    "my_function(5, 6, z=0.7)  "
   ]
  },
  {
   "cell_type": "code",
   "execution_count": 4,
   "id": "4844301f",
   "metadata": {
    "collapsed": true
   },
   "outputs": [
    {
     "data": {
      "text/plain": [
       "35.49"
      ]
     },
     "execution_count": 4,
     "metadata": {},
     "output_type": "execute_result"
    }
   ],
   "source": [
    "my_function(3.14, 7, 3.5)    "
   ]
  },
  {
   "cell_type": "code",
   "execution_count": 5,
   "id": "48055a82",
   "metadata": {
    "collapsed": true
   },
   "outputs": [
    {
     "data": {
      "text/plain": [
       "77"
      ]
     },
     "execution_count": 5,
     "metadata": {},
     "output_type": "execute_result"
    }
   ],
   "source": [
    "my_function(x=5, y=6, z=7)\n"
   ]
  },
  {
   "cell_type": "markdown",
   "id": "2672c02c",
   "metadata": {},
   "source": [
    "## 2. Alcance de las funciones: Local vs global"
   ]
  },
  {
   "cell_type": "markdown",
   "id": "f7308c8c",
   "metadata": {},
   "source": [
    "### Las variables que se definen dentro de una función solo tienen alcance local\n",
    "### Cuando las instrucciones de la función terminan, su valor se extingue\n"
   ]
  },
  {
   "cell_type": "code",
   "execution_count": 8,
   "id": "b9ebcf5c",
   "metadata": {},
   "outputs": [],
   "source": [
    "def func():\n",
    "      a = []                # se crea una lista y se le asignan números consecutivos:  ‘a’ es local\n",
    "      for i in range(5):\n",
    "        a.append(i)\n",
    "func()"
   ]
  },
  {
   "cell_type": "code",
   "execution_count": 9,
   "id": "c4a25ec8",
   "metadata": {
    "scrolled": true
   },
   "outputs": [
    {
     "ename": "NameError",
     "evalue": "name 'a' is not defined",
     "output_type": "error",
     "traceback": [
      "\u001b[1;31m---------------------------------------------------------------------------\u001b[0m",
      "\u001b[1;31mNameError\u001b[0m                                 Traceback (most recent call last)",
      "\u001b[1;32m~\\AppData\\Local\\Temp/ipykernel_19128/3461536012.py\u001b[0m in \u001b[0;36m<module>\u001b[1;34m\u001b[0m\n\u001b[1;32m----> 1\u001b[1;33m \u001b[0ma\u001b[0m                           \u001b[1;31m#debe marcar error ya que a lista a se define afuera de la función\u001b[0m\u001b[1;33m\u001b[0m\u001b[1;33m\u001b[0m\u001b[0m\n\u001b[0m",
      "\u001b[1;31mNameError\u001b[0m: name 'a' is not defined"
     ]
    }
   ],
   "source": [
    "a                           # debe marcar error ya que a lista a se define afuera de la función "
   ]
  },
  {
   "cell_type": "code",
   "execution_count": 15,
   "id": "7758b3e9",
   "metadata": {},
   "outputs": [],
   "source": [
    "a = []                       # como ‘a’ está fuera de la función su valor es global, no se destruye\n",
    "\n",
    "def func():\n",
    "    for i in range(5):\n",
    "       a.append(i)\n",
    "    \n",
    "func()"
   ]
  },
  {
   "cell_type": "code",
   "execution_count": 16,
   "id": "4b5ac11a",
   "metadata": {},
   "outputs": [
    {
     "data": {
      "text/plain": [
       "[0, 1, 2, 3, 4]"
      ]
     },
     "execution_count": 16,
     "metadata": {},
     "output_type": "execute_result"
    }
   ],
   "source": [
    "a"
   ]
  },
  {
   "cell_type": "markdown",
   "id": "2864681b",
   "metadata": {},
   "source": [
    "### Una variable puede definirse como global en una función con ‘global a’ antes de invocarla\n",
    "### En general, no es conveniente usar muchas variables globales "
   ]
  },
  {
   "cell_type": "code",
   "execution_count": 17,
   "id": "f9431e46",
   "metadata": {},
   "outputs": [],
   "source": [
    "a = None\n",
    "def bind_a_variable():\n",
    "    global a\n",
    "    a = []\n",
    "bind_a_variable()\n"
   ]
  },
  {
   "cell_type": "code",
   "execution_count": 18,
   "id": "185304e5",
   "metadata": {},
   "outputs": [
    {
     "data": {
      "text/plain": [
       "[]"
      ]
     },
     "execution_count": 18,
     "metadata": {},
     "output_type": "execute_result"
    }
   ],
   "source": [
    "a"
   ]
  },
  {
   "cell_type": "markdown",
   "id": "c052391d",
   "metadata": {},
   "source": [
    "## 3. Regresar varias variables"
   ]
  },
  {
   "cell_type": "markdown",
   "id": "d80ef74a",
   "metadata": {},
   "source": [
    "### En una función se pueden regresar distintas variables al mismo tiempo\n"
   ]
  },
  {
   "cell_type": "code",
   "execution_count": 20,
   "id": "3e60cc7c",
   "metadata": {},
   "outputs": [],
   "source": [
    "def f():\n",
    "     a = 5\n",
    "     b = 6\n",
    "     c = 7\n",
    "     return a, b, c"
   ]
  },
  {
   "cell_type": "code",
   "execution_count": 21,
   "id": "b655d617",
   "metadata": {},
   "outputs": [],
   "source": [
    "a, b, c = f()       # en realidad lo que se regresa es una tupla que se desempaca en tres variable"
   ]
  },
  {
   "cell_type": "code",
   "execution_count": 23,
   "id": "3969a2e4",
   "metadata": {},
   "outputs": [
    {
     "data": {
      "text/plain": [
       "6"
      ]
     },
     "execution_count": 23,
     "metadata": {},
     "output_type": "execute_result"
    }
   ],
   "source": [
    "b"
   ]
  },
  {
   "cell_type": "markdown",
   "id": "fc2d9e92",
   "metadata": {},
   "source": [
    "### Si se quiere regresar como diccionario, habría que escribir\n"
   ]
  },
  {
   "cell_type": "code",
   "execution_count": 25,
   "id": "d37ed3b8",
   "metadata": {},
   "outputs": [],
   "source": [
    "def f():\n",
    "    a = 5\n",
    "    b = 6\n",
    "    c = 7\n",
    "    return {'a' : a, 'b' : b, 'c' : c}"
   ]
  },
  {
   "cell_type": "code",
   "execution_count": 26,
   "id": "3137bdfa",
   "metadata": {},
   "outputs": [
    {
     "data": {
      "text/plain": [
       "{'a': 5, 'b': 6, 'c': 7}"
      ]
     },
     "execution_count": 26,
     "metadata": {},
     "output_type": "execute_result"
    }
   ],
   "source": [
    "f()   "
   ]
  },
  {
   "cell_type": "code",
   "execution_count": 27,
   "id": "9c0bcfe5",
   "metadata": {},
   "outputs": [
    {
     "data": {
      "text/plain": [
       "{'a': 5, 'b': 6, 'c': 7}"
      ]
     },
     "execution_count": 27,
     "metadata": {},
     "output_type": "execute_result"
    }
   ],
   "source": [
    "T = f()   \n",
    "T"
   ]
  },
  {
   "cell_type": "markdown",
   "id": "730ba52b",
   "metadata": {},
   "source": [
    "## 4. Las funciones como objetos"
   ]
  },
  {
   "cell_type": "markdown",
   "id": "a93fb0da",
   "metadata": {},
   "source": [
    "### A las funciones se les da un tratamiento de objetos, como a las estructuras de datos \n",
    "### Supón que queremos limpiar una lista de 'strings' que presenta 'typos':"
   ]
  },
  {
   "cell_type": "code",
   "execution_count": 30,
   "id": "72b776ec",
   "metadata": {},
   "outputs": [],
   "source": [
    "states = ['  Alabama ', 'Georgia!', 'Georgia', 'georgia', 'FlOrIda', 'south carolina##', 'West virginia? ']  "
   ]
  },
  {
   "cell_type": "markdown",
   "id": "4291a6d4",
   "metadata": {},
   "source": [
    "### En este caso conviene importar métodos de la librería de 'expresiones regulares' que ayuda a trabajar con textos.\n"
   ]
  },
  {
   "cell_type": "code",
   "execution_count": 33,
   "id": "812877c1",
   "metadata": {},
   "outputs": [],
   "source": [
    "import re\n",
    "def clean_strings(strings):\n",
    "         result = []\n",
    "         for value in strings:\n",
    "              value = value.strip()                # quita espacios en blanco\n",
    "              value = re.sub('[!#?]', '', value)   # remueve símbolos raros\n",
    "              value = value.title()                # usa formato de título, primera letra con mayúscula\n",
    "              result.append(value)\n",
    "         return result"
   ]
  },
  {
   "cell_type": "code",
   "execution_count": 34,
   "id": "dea4c6e0",
   "metadata": {},
   "outputs": [
    {
     "data": {
      "text/plain": [
       "['Alabama',\n",
       " 'Georgia',\n",
       " 'Georgia',\n",
       " 'Georgia',\n",
       " 'Florida',\n",
       " 'South Carolina',\n",
       " 'West Virginia']"
      ]
     },
     "execution_count": 34,
     "metadata": {},
     "output_type": "execute_result"
    }
   ],
   "source": [
    "clean_strings(states)  \n"
   ]
  },
  {
   "cell_type": "markdown",
   "id": "e23412a2",
   "metadata": {},
   "source": [
    "## 5. Funciones anónimas (lambda) "
   ]
  },
  {
   "cell_type": "markdown",
   "id": "778d96d8",
   "metadata": {},
   "source": [
    "### Forma de construir funciones en una sola línea usando el comando lambda\n",
    "### Se tiene que especificar la variable a la que se regresa el valor:\n"
   ]
  },
  {
   "cell_type": "code",
   "execution_count": 36,
   "id": "a33dddee",
   "metadata": {},
   "outputs": [],
   "source": [
    "def short_function(x):\n",
    "  return x * 2"
   ]
  },
  {
   "cell_type": "markdown",
   "id": "6fdd2db2",
   "metadata": {},
   "source": [
    "### Puede reescribirse (Ejemplo 1):\n",
    "Se llama anónima porque a la función no se le da un \t\t\t\t\t   nombre\n"
   ]
  },
  {
   "cell_type": "code",
   "execution_count": 37,
   "id": "56996cff",
   "metadata": {},
   "outputs": [
    {
     "data": {
      "text/plain": [
       "6"
      ]
     },
     "execution_count": 37,
     "metadata": {},
     "output_type": "execute_result"
    }
   ],
   "source": [
    "equiv_anon = lambda x: x * 2           # se especifica la variable a la que se aplica la operación\n",
    "equiv_anon(3)                          # se pueden usar varios argumentos antes del signo de igualdad"
   ]
  },
  {
   "cell_type": "markdown",
   "id": "c38255fa",
   "metadata": {},
   "source": [
    "### Ejemplo 2: "
   ]
  },
  {
   "cell_type": "code",
   "execution_count": 6,
   "id": "20351a85",
   "metadata": {},
   "outputs": [],
   "source": [
    "ints = [4, 0, 1, 5, 6]  \n",
    "al_cuadrado = lambda x: [x * 2 for x in ints]  "
   ]
  },
  {
   "cell_type": "code",
   "execution_count": 7,
   "id": "453b6853",
   "metadata": {},
   "outputs": [
    {
     "data": {
      "text/plain": [
       "[8, 0, 2, 10, 12]"
      ]
     },
     "execution_count": 7,
     "metadata": {},
     "output_type": "execute_result"
    }
   ],
   "source": [
    "al_cuadrado(ints)                   # al_cuadrado no es una función como tal porque no se declara su nombre con def:         "
   ]
  },
  {
   "cell_type": "markdown",
   "id": "a5f678f4",
   "metadata": {},
   "source": [
    "## 6. Generadores"
   ]
  },
  {
   "cell_type": "markdown",
   "id": "52373209",
   "metadata": {},
   "source": [
    "### En Python existe un protocolo para iterar sobre secuencias (objetos en lista, líneas en un archivo, etc)"
   ]
  },
  {
   "cell_type": "code",
   "execution_count": 41,
   "id": "e29369cb",
   "metadata": {},
   "outputs": [
    {
     "name": "stdout",
     "output_type": "stream",
     "text": [
      "a\n",
      "b\n",
      "c\n"
     ]
    },
    {
     "data": {
      "text/plain": [
       "['a', 'b', 'c']"
      ]
     },
     "execution_count": 41,
     "metadata": {},
     "output_type": "execute_result"
    }
   ],
   "source": [
    "some_dict = {'a': 1, 'b': 2, 'c': 3}   \n",
    "for key in some_dict:\n",
    "        print(key)\n",
    "dict_iterator = iter(some_dict)  ;                  # los key son los iteradores de un diccionario\n",
    "list(dict_iterator)                                 # los definimos en una lista"
   ]
  },
  {
   "cell_type": "markdown",
   "id": "4b7fedaa",
   "metadata": {},
   "source": [
    "### Un generador es una forma concisa de obtener un objeto iterable, mediante el comando: yield\n"
   ]
  },
  {
   "cell_type": "code",
   "execution_count": 43,
   "id": "0b168725",
   "metadata": {},
   "outputs": [
    {
     "name": "stdout",
     "output_type": "stream",
     "text": [
      "Generating squares from 1 to 100\n",
      "1 4 9 16 25 36 49 64 81 100 "
     ]
    }
   ],
   "source": [
    "def squares(n=10):\n",
    "      print('Generating squares from 1 to {0}'.format(n ** 2))     # linea no se imprime cuando sea crea el iterador\n",
    "      for i in range(1, n + 1):\n",
    "          yield i ** 2              \n",
    "gen = squares()                            # el iterador se crea en memoria, pero no se usa o imprime hasta que sea invocado\n",
    "for x in gen:\n",
    "       print(x, end=' ')                   # el segundo argumento es para imprimir en la misma línea"
   ]
  },
  {
   "cell_type": "markdown",
   "id": "547f109b",
   "metadata": {},
   "source": [
    "## 6.a Expresiones del generador"
   ]
  },
  {
   "cell_type": "markdown",
   "id": "d091ad51",
   "metadata": {},
   "source": [
    "### Una manera más rápida de obtener generadores sería mediante una expresión:"
   ]
  },
  {
   "cell_type": "code",
   "execution_count": 49,
   "id": "05052138",
   "metadata": {},
   "outputs": [],
   "source": [
    "gen = (x ** 2 for x in range(15))"
   ]
  },
  {
   "cell_type": "code",
   "execution_count": 50,
   "id": "d26d4545",
   "metadata": {},
   "outputs": [
    {
     "data": {
      "text/plain": [
       "[0, 1, 4, 9, 16, 25, 36, 49, 64, 81, 100, 121, 144, 169, 196]"
      ]
     },
     "execution_count": 50,
     "metadata": {},
     "output_type": "execute_result"
    }
   ],
   "source": [
    "list(gen)                                 # si no lo transformo en una lista no lo puedo usar"
   ]
  },
  {
   "cell_type": "markdown",
   "id": "dae4a437",
   "metadata": {},
   "source": [
    "### Las expresiones de generadores también pueden usarse como compresiones:\n"
   ]
  },
  {
   "cell_type": "code",
   "execution_count": 51,
   "id": "4308cb2e",
   "metadata": {},
   "outputs": [
    {
     "data": {
      "text/plain": [
       "328350"
      ]
     },
     "execution_count": 51,
     "metadata": {},
     "output_type": "execute_result"
    }
   ],
   "source": [
    "sum(x ** 2 for x in range(100))"
   ]
  },
  {
   "cell_type": "code",
   "execution_count": 52,
   "id": "73ed2165",
   "metadata": {},
   "outputs": [
    {
     "data": {
      "text/plain": [
       "{0: 0, 1: 1, 2: 4, 3: 9, 4: 16}"
      ]
     },
     "execution_count": 52,
     "metadata": {},
     "output_type": "execute_result"
    }
   ],
   "source": [
    "dict((i, i **2) for i in range(5))"
   ]
  },
  {
   "cell_type": "markdown",
   "id": "35407725",
   "metadata": {},
   "source": [
    "### La librería itertools  tiene una colección de generadores\n"
   ]
  },
  {
   "cell_type": "code",
   "execution_count": 56,
   "id": "2433ffc8",
   "metadata": {},
   "outputs": [
    {
     "name": "stdout",
     "output_type": "stream",
     "text": [
      "A ['Alan', 'Adam']\n",
      "W ['Wes', 'Will']\n",
      "R ['Robert', 'Richard']\n"
     ]
    }
   ],
   "source": [
    "import itertools  \n",
    "first_letter = lambda x: x[0]  \n",
    "names = ['Alan', 'Adam', 'Wes', 'Will', 'Robert', 'Richard']\n",
    "for letter, names in itertools.groupby(names, first_letter):   # va creando listas de nombres de acuerdo con letra inicial\n",
    "     print(letter, list(names))                                # se le pone list, ya que names es un generador\n",
    "                                     # va formando la lista hasta que aparezca una letra diferente (cambia Robert por Albert)"
   ]
  },
  {
   "cell_type": "markdown",
   "id": "fce0f6af",
   "metadata": {},
   "source": [
    "## 7. Manejo de errores y excepciones"
   ]
  },
  {
   "cell_type": "markdown",
   "id": "a25b53f6",
   "metadata": {},
   "source": [
    "### Cuando hay un error en el código y no queremos que se detenga  la corrida, hay que usar el esquema de excepciones. Por ejemplo:\n"
   ]
  },
  {
   "cell_type": "code",
   "execution_count": 60,
   "id": "e24bac91",
   "metadata": {},
   "outputs": [
    {
     "data": {
      "text/plain": [
       "1.2345"
      ]
     },
     "execution_count": 60,
     "metadata": {},
     "output_type": "execute_result"
    }
   ],
   "source": [
    "def attempt_float(x):      # si se puede poner el valor real hace la operación, de lo  contrario lo mantiene\n",
    "    try:\n",
    "        return float(x)\n",
    "    except:\n",
    "       return x\n",
    "attempt_float('1.2345')       "
   ]
  },
  {
   "cell_type": "code",
   "execution_count": 61,
   "id": "b365effc",
   "metadata": {},
   "outputs": [
    {
     "data": {
      "text/plain": [
       "'something'"
      ]
     },
     "execution_count": 61,
     "metadata": {},
     "output_type": "execute_result"
    }
   ],
   "source": [
    "attempt_float('something')   "
   ]
  },
  {
   "cell_type": "markdown",
   "id": "1ee2816c",
   "metadata": {},
   "source": [
    "## 8. Lectura y escritura de archivos"
   ]
  },
  {
   "cell_type": "markdown",
   "id": "f60a2659",
   "metadata": {},
   "source": [
    "### ¿Cómo trabajar con archivos en Phyton?\n",
    "### Si queremos abrir un archivo para su lectura y posterior escritura, primero hay que establecer en Spyder la dirección en la que se ubica el archivo\n"
   ]
  },
  {
   "cell_type": "code",
   "execution_count": 67,
   "id": "267ee5b0",
   "metadata": {},
   "outputs": [],
   "source": [
    "f = open('segismundo.txt ', encoding='utf-8' )           # el archivo 'segismundo.txt'  debe subirse jupyter dashboard\n",
    "                                                         # con este código se puede leer acentos y ñ "
   ]
  },
  {
   "cell_type": "markdown",
   "id": "0ff798de",
   "metadata": {},
   "source": [
    "### Por default, el archivo abre en modo de lectura ‘r’, podemos iterar sobre las líneas de f\n"
   ]
  },
  {
   "cell_type": "code",
   "execution_count": 68,
   "id": "533efdff",
   "metadata": {},
   "outputs": [
    {
     "name": "stdout",
     "output_type": "stream",
     "text": [
      "Sueña el rico en su riqueza,\n",
      "\n",
      "que más cuidados le ofrece;\n",
      "\n",
      "\n",
      "\n",
      "sueña el pobre que padece\n",
      "\n",
      "su miseria y su pobreza;\n",
      "\n",
      "\n",
      "\n",
      "sueña el que a medrar empieza,\n",
      "\n",
      "sueña el que afana y pretende,\n",
      "\n",
      "sueña el que agravia y ofende,\n",
      "\n",
      "\n",
      "\n",
      "y en el mundo, en conclusión,\n",
      "\n",
      "todos sueñan lo que son,\n",
      "\n",
      "aunque ninguno lo entiende.\n",
      "\n",
      "\n",
      "\n"
     ]
    }
   ],
   "source": [
    "for line in f:\n",
    "    print(line)         # imprime línea por línea"
   ]
  },
  {
   "cell_type": "markdown",
   "id": "a992370e",
   "metadata": {},
   "source": [
    "### Si quiero poner las líneas como un argumento de una lista:\n"
   ]
  },
  {
   "cell_type": "code",
   "execution_count": 69,
   "id": "bab7f8b4",
   "metadata": {},
   "outputs": [],
   "source": [
    "lines = [x.rstrip() for x in open('segismundo.txt', encoding='utf-8')]   "
   ]
  },
  {
   "cell_type": "code",
   "execution_count": 70,
   "id": "c057a283",
   "metadata": {},
   "outputs": [
    {
     "data": {
      "text/plain": [
       "['Sueña el rico en su riqueza,',\n",
       " 'que más cuidados le ofrece;',\n",
       " '',\n",
       " 'sueña el pobre que padece',\n",
       " 'su miseria y su pobreza;',\n",
       " '',\n",
       " 'sueña el que a medrar empieza,',\n",
       " 'sueña el que afana y pretende,',\n",
       " 'sueña el que agravia y ofende,',\n",
       " '',\n",
       " 'y en el mundo, en conclusión,',\n",
       " 'todos sueñan lo que son,',\n",
       " 'aunque ninguno lo entiende.',\n",
       " '']"
      ]
     },
     "execution_count": 70,
     "metadata": {},
     "output_type": "execute_result"
    }
   ],
   "source": [
    "lines"
   ]
  },
  {
   "cell_type": "markdown",
   "id": "7404abd1",
   "metadata": {},
   "source": [
    "### Siempre conviene cerrar el archivo una vez que se extrae la información deseada\n"
   ]
  },
  {
   "cell_type": "code",
   "execution_count": 80,
   "id": "a4c941a2",
   "metadata": {},
   "outputs": [],
   "source": [
    "f.close()                          # se cierra el archivo por precaución"
   ]
  }
 ],
 "metadata": {
  "kernelspec": {
   "display_name": "Python 3 (ipykernel)",
   "language": "python",
   "name": "python3"
  },
  "language_info": {
   "codemirror_mode": {
    "name": "ipython",
    "version": 3
   },
   "file_extension": ".py",
   "mimetype": "text/x-python",
   "name": "python",
   "nbconvert_exporter": "python",
   "pygments_lexer": "ipython3",
   "version": "3.9.7"
  }
 },
 "nbformat": 4,
 "nbformat_minor": 5
}
