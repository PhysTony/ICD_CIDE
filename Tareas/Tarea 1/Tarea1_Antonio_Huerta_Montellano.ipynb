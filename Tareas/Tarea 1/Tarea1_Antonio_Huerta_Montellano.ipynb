{
 "cells": [
  {
   "cell_type": "markdown",
   "id": "73bbe49b",
   "metadata": {},
   "source": [
    "#### Ejercicio 1:\n",
    "\n",
    "Explicar por qué un modelo predictivo no es capaz de explicar relaciones causales. \n",
    "\n",
    "Antes que nada, aunque parezca una obviedad, un modelo predictivo está enfocado en predecir valores fuera del conjunto con el que se armó, no se enfoca en las relaciones causales o explicativas que provocan el fenómeno a prededir. Uno de los propósitos o caraceterísticas d elos modelos predictivos es minimizar el error entre los valores predichos y los reales fuera del conjunto de entrenamiento, independientemente de si el modelo sea simple, complejo, el verdadero o no. Entonces, puede ocurrir que el modelo sea bueno prediciendo, pero que no tenga sentido interpretativo, o teórico, o que no concuerde con el modelo teórico propuesto, es deicr, puede ser bueno prediciendo valores, pero no te asegura que sea el modelo teórico.\n",
    "\n",
    "Un ejemplo de esto se puede apreciar en el fenómeno de la catástrofe ultravioleta donde se dieron, en un inicio, dos modelos que explicaban dicho fenómeno para rangos de longitud de ondas distintos. Si bien, en sus respectivos rangos daban muy buenas predicciones, fallaban en dar algún entendimiento del fenómeno a pesar de obtener buenos resultados predictivos. Sin embargo, la ecuación de Max Planck sí pudo dar un entendimiento teórico y además, predictivo."
   ]
  },
  {
   "cell_type": "markdown",
   "id": "3fc4b9f4",
   "metadata": {},
   "source": [
    "#### Ejercicio 2:\n",
    "\n",
    "¿Que se requiere para que un modelo empírico pueda ser utilizado como guía para la implementación de políticas públicas? \n",
    "\n",
    "Primero, dependerá del propósitode la política pública ya que no es lo mismo que el objetivo sea predecir algún factor determinado o más bien, entender cierto fenómeno; esto porque alguna herramienta auxiliar sería algún modelo que complemente o mejore los aspectos explicativos o predictivos del empírico. Sin embargo, nos tendríamos que restringir a dos tipos de modelos: Explicativo y predictivo, por razones asociadas a la ley de Goodhardt y los otros aspectos mencionados en el artículo como el etiquetado y preregistro. Por otro lado, se podrían combinar ambos modelos para ofrecer una mayor entendimiento sin tener que usar algún modelo integrado (donde podríamos obtener un menor entendimiento).\n",
    "\n",
    "Si solo quisiéramos usar el modelo empírico, habría que tomar en cuenta en qué región o bajo qué condiciones específicas funciona, ya que no necesariamente se obtendrán los mismo resultados en distintas regiones geofráficas. Esto, implica que se tendría que buscar datos, directao indirectamente, que sustenten que a la región donde se aplicaría la política pueda funcionar (esto si no se aplicaría a la misma región con la cual fue construido el modelo empírico). Además, habría que considerar los puntos mencionados en el párrafo anterior. Por otro lado, tomar en cuenta que los factores o efectos que considera el modelo empírico inicial podrían cambiar a lo largo del tiempo, por lo que se tendría que estar evaluando cada determinado intervalo de tiempo."
   ]
  },
  {
   "cell_type": "markdown",
   "id": "7fce7139-b0c7-464a-b0d9-5e9addff7d02",
   "metadata": {},
   "source": [
    "#### Ejercicio 3:\n",
    "\n",
    "Escribe un programa de Python en el que puedas encontrar el máximo valor de una lista o secuencia (utiliza un iterador). \n",
    "\n",
    "El algorítmo consiste en que se compararán todas las entradas de la lista una por una con respecto a un entrada en particular para ver cuál es la más grande. Crearemos una variable auxiliar que este inicializada en la primera entrada de la lista, luego compararemos esta variable con las demás entradas de la lista, si alguna de las otras entradas contiene un valor más grande que nuestra variable auxiliar, se le asignará ese valor a la variable auxiliar.  Para esto, será necesario crear un ciclo para moverse entre las entradas de la lista."
   ]
  },
  {
   "cell_type": "code",
   "execution_count": 1,
   "id": "2483721f-2e4e-4e49-a8b4-99f6bf3ee1d6",
   "metadata": {},
   "outputs": [],
   "source": [
    "# Inicialicemos los valores que contendrá la lista:\n",
    "lista = [1,3,0,-9,-10]"
   ]
  },
  {
   "cell_type": "markdown",
   "id": "d40793b4-30c8-4538-aea1-36690b8d7886",
   "metadata": {},
   "source": [
    "Aplicaremos iteradores para asignar recursivamente la variable más alta en cada ciclo si la nueva entrada es más alta:"
   ]
  },
  {
   "cell_type": "code",
   "execution_count": 2,
   "id": "0498d960-5c83-4d72-b664-1d03d8c2b6a8",
   "metadata": {
    "tags": []
   },
   "outputs": [
    {
     "name": "stdout",
     "output_type": "stream",
     "text": [
      "El valor más alto en la lista es: 3\n"
     ]
    }
   ],
   "source": [
    "mayor = lista[0]\n",
    "for i in lista:\n",
    "    if mayor < i:\n",
    "        mayor = i\n",
    "    \n",
    "print(\"El valor más alto en la lista es: \" + str(mayor))"
   ]
  },
  {
   "cell_type": "markdown",
   "id": "22b22a4f-f92b-45fa-bf38-237f9d449df9",
   "metadata": {},
   "source": [
    "#### Ejercicio 4:\n",
    "\n",
    "Escribe un programa en el que se cuenta el número de veces en que aparece la letra ‘a’ en la cadena ‘bananas’ \n",
    "\n",
    "El algoritmo consiste en que cada que se cuente en una letra a en la cadena de texto, entonces una variable auxiliar, inicializada en cero, aumentará en una unidad. Para esto, crearemos una lista que contenga en cada entrada una letra o caracter de la cadena de texto. Luego, compararemos cada entrada de la lista con el string 'a' y en caso de ser iguales, aumentará en una unidad la variable auxiliar."
   ]
  },
  {
   "cell_type": "code",
   "execution_count": 3,
   "id": "ea9811a4-d088-4a08-9fb2-30512655089f",
   "metadata": {},
   "outputs": [],
   "source": [
    "# Crearemos una cadena de texto arbitraria\n",
    "texto = \"bananas\""
   ]
  },
  {
   "cell_type": "markdown",
   "id": "97baca9e-71ea-4e42-ba03-02873c691f7d",
   "metadata": {},
   "source": [
    "Ahora, crearemos una lista que contenga todos los caracetres de la cadena anterior por separado y crear un contador auxiliar que aumente en una unidad cada que halla una _a_ en la cadena de texto."
   ]
  },
  {
   "cell_type": "code",
   "execution_count": 4,
   "id": "8a2f366f-4fde-434c-989f-d345a83abe0d",
   "metadata": {},
   "outputs": [
    {
     "name": "stdout",
     "output_type": "stream",
     "text": [
      "La letra a aparece 3 veces en el texto bananas\n"
     ]
    }
   ],
   "source": [
    "# Inicialicemos el contador en 0:\n",
    "contador = 0\n",
    "\n",
    "for i in list(texto):\n",
    "    if i == \"a\":\n",
    "        contador += 1\n",
    "print(\"La letra a aparece \" + str(contador) + \" veces en el texto \" + str(texto))"
   ]
  },
  {
   "cell_type": "markdown",
   "id": "2d89d98b-8306-414d-a188-402e0f1a0d3c",
   "metadata": {},
   "source": [
    "#### Ejercicio 5:\n",
    "\n",
    "Escribe una función que calcula el valor factorial de cualquier número entero.\n",
    "\n",
    "El algoritmo verificará primero que el número no tenga parte decimal distinta de cero para que se obtenga el factorail conocido o usual. Además, dada la estructura del algoritmo, se aplicará por casos: Cuando el número es igual a cero y cuando el número es mayor o igual a uno. Si es igual a cero, se imprimirá que 0!=1; sin embargo, cuando el número es mayor o igual a uno, se multiplicará igualará a sí mismo multiplicador por la suma de la unidad más el iterador, donde este iterador aumentará desde cero hasta una canitdad menor al número del que interesa obtener el factorial, pero una unidad menor."
   ]
  },
  {
   "cell_type": "code",
   "execution_count": 2,
   "id": "e8046f8f-1820-4620-919b-d32a7e31d3d0",
   "metadata": {},
   "outputs": [],
   "source": [
    "# Inicialicemos el entero\n",
    "x = 6"
   ]
  },
  {
   "cell_type": "markdown",
   "id": "4edb3551-cf7d-47c7-b8f9-990f5a4eb958",
   "metadata": {},
   "source": [
    "Verifiquemos primero que $x \\ge 0$ para que no que tenga sentido el factorial, además de comprobar que sea entero. Además, consideremos una variable auxiliar tal que nos permita guardar el valor de la variable en cada iteración:"
   ]
  },
  {
   "cell_type": "code",
   "execution_count": 6,
   "id": "d42ab8a1-4515-40ca-9540-e21cef6676bb",
   "metadata": {},
   "outputs": [
    {
     "name": "stdout",
     "output_type": "stream",
     "text": [
      "6! = 720\n"
     ]
    }
   ],
   "source": [
    "factorial = 1 # Ya que no afecta la multiplicación independientemente del valor de x.\n",
    "residuo = x%1 # Ya que nos interesa comparar la parte decimal.\n",
    "\n",
    "if residuo == 0:\n",
    "    if x == 0:\n",
    "        print(\"0! = 1\")\n",
    "\n",
    "    elif x >= 1:\n",
    "        for i in range(x): # Empezar el ciclo después de x = 1 para i\n",
    "            factorial = factorial*(1+i)\n",
    "        print(str(x) + \"! = \" + str(factorial))\n",
    "\n",
    "    else:\n",
    "        print(\"El número es negativo por lo cual no se calculará su factorial.\")\n",
    "        \n",
    "else:\n",
    "    print(\"El número no es entero.\")"
   ]
  }
 ],
 "metadata": {
  "kernelspec": {
   "display_name": "Python 3",
   "language": "python",
   "name": "python3"
  },
  "language_info": {
   "codemirror_mode": {
    "name": "ipython",
    "version": 3
   },
   "file_extension": ".py",
   "mimetype": "text/x-python",
   "name": "python",
   "nbconvert_exporter": "python",
   "pygments_lexer": "ipython3",
   "version": "3.8.8"
  }
 },
 "nbformat": 4,
 "nbformat_minor": 5
}
