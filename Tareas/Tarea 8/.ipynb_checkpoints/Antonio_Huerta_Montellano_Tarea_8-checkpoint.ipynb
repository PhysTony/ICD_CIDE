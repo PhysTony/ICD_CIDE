{
 "cells": [
  {
   "cell_type": "markdown",
   "id": "8dbd25bd-c7dd-460d-9d73-e2e1c779e650",
   "metadata": {},
   "source": [
    "<hr style=\"height:2px;border-width:0;background-color:violet\">\n",
    "<hr style=\"height:2px;border-width:0;background-color:violet\">\n",
    "<center> \n",
    "    <h1><b>Tarea 8: KNN models</b></h1> \n",
    "    <h3> Introducción a Ciencia de Datos</h3>\n",
    "    <h5><a href=\"https://github.com/PhysTony/ICD_CIDE\" target=\"_blank\" style=\"text-align:justify; color:blue\">Antonio Huerta Montellano</a></h5>\n",
    "</center>\n",
    "<hr style=\"height:2px;border-width:0;background-color:violet\">\n",
    "<hr style=\"height:2px;border-width:0;background-color:violet\">\n",
    "<br>\n",
    "\n",
    "<ol type=\"I\"> \n",
    "    <li> A partir de la base de datos <em>breast_cancer</em> disponible en sklearn obtén los accuracy scores con kNN para valores de k entre 1 y 10, usando tanto al training set como al testing set  como observaciones a evaluar  (puntos en cuestión).\n",
    "</ol>"
   ]
  },
  {
   "cell_type": "code",
   "execution_count": 2,
   "id": "6d7dbbbd-3b88-4e6f-8443-b81a113c3c93",
   "metadata": {},
   "outputs": [
    {
     "name": "stdout",
     "output_type": "stream",
     "text": [
      "Modulos importados\n"
     ]
    }
   ],
   "source": [
    "import numpy as np\n",
    "import pandas as np\n",
    "import matplotlib as mpl\n",
    "import seaborn as sns\n",
    "\n",
    "print(\"Modulos importados\")"
   ]
  },
  {
   "cell_type": "code",
   "execution_count": null,
   "id": "1055a2f5-cf61-4033-bfcb-f3dff7afb995",
   "metadata": {},
   "outputs": [],
   "source": [
    "# Carguemos el dataset\n"
   ]
  }
 ],
 "metadata": {
  "kernelspec": {
   "display_name": "Python 3",
   "language": "python",
   "name": "python3"
  },
  "language_info": {
   "codemirror_mode": {
    "name": "ipython",
    "version": 3
   },
   "file_extension": ".py",
   "mimetype": "text/x-python",
   "name": "python",
   "nbconvert_exporter": "python",
   "pygments_lexer": "ipython3",
   "version": "3.8.8"
  }
 },
 "nbformat": 4,
 "nbformat_minor": 5
}
