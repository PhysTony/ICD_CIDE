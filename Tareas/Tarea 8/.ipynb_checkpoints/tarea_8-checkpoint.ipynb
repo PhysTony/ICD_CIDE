{
 "cells": [
  {
   "cell_type": "code",
   "execution_count": 1,
   "id": "6d7dbbbd-3b88-4e6f-8443-b81a113c3c93",
   "metadata": {},
   "outputs": [],
   "source": [
    "import numpy as np\n",
    "import pandas as pd\n",
    "import matplotlib as mpl\n",
    "import matplotlib.pyplot as plt\n",
    "from matplotlib import cm\n",
    "import seaborn as sns\n",
    "from sklearn.datasets import load_breast_cancer\n",
    "from sklearn.neighbors import KNeighborsClassifier\n",
    "from sklearn.model_selection import train_test_split\n",
    "from sklearn import metrics"
   ]
  },
  {
   "cell_type": "code",
   "execution_count": 2,
   "id": "1055a2f5-cf61-4033-bfcb-f3dff7afb995",
   "metadata": {},
   "outputs": [],
   "source": [
    "df_cancer = load_breast_cancer()"
   ]
  },
  {
   "cell_type": "markdown",
   "id": "06814419-2060-4566-a680-685bcf7d865d",
   "metadata": {},
   "source": [
    "Ya vimos algunas características generales, pero ahora veamos cuáles de estas son las variables objetivo que se pueden usar para el algorítmo de *KNN*:"
   ]
  },
  {
   "cell_type": "code",
   "execution_count": 12,
   "id": "4a6c133e-9d2f-4cdd-bb07-e5dc4a39b332",
   "metadata": {},
   "outputs": [
    {
     "data": {
      "text/plain": [
       "array(['malignant', 'benign'], dtype='<U9')"
      ]
     },
     "execution_count": 12,
     "metadata": {},
     "output_type": "execute_result"
    }
   ],
   "source": [
    "df_cancer.target_names"
   ]
  },
  {
   "cell_type": "markdown",
   "id": "c3f66e1b-90ec-4920-b662-f72965d0f81e",
   "metadata": {},
   "source": [
    "Creemos el conjunto de entrenamiento y de prueba para los algorítmos"
   ]
  },
  {
   "cell_type": "code",
   "execution_count": 4,
   "id": "97223b7f-3909-4629-acec-b71f8d4f555f",
   "metadata": {},
   "outputs": [],
   "source": [
    "X_train, X_test, Y_train, Y_test = train_test_split(df_cancer.data,\n",
    "                                                    df_cancer.target,\n",
    "                                                    train_size=0.8,\n",
    "                                                    test_size=0.2,\n",
    "                                                    random_state=0)"
   ]
  },
  {
   "cell_type": "markdown",
   "id": "8e62d428-c0cd-40e7-a036-4d6746c0d278",
   "metadata": {},
   "source": [
    "Como ya conocemos la cantidad de *accuracy scores* que debemos hallar, podemos crear dos *array* de tamañao fijo que alamacene dichos valores. En este caso, serán de tamaño $10\\times 2$ debido a que son 10 *scores* los que necesitamos y dos comparaciones."
   ]
  },
  {
   "cell_type": "code",
   "execution_count": 5,
   "id": "a7865856-77cf-4b9f-91ac-a9dcd9f87239",
   "metadata": {},
   "outputs": [],
   "source": [
    "accuracy_scores_train = np.ones((10))\n",
    "accuracy_scores_test = np.ones((10))"
   ]
  },
  {
   "cell_type": "code",
   "execution_count": 6,
   "id": "876f94be-d7f3-4f88-bad7-a23e5001ebaf",
   "metadata": {},
   "outputs": [],
   "source": [
    "for i in range(10):\n",
    "    knn = KNeighborsClassifier(n_neighbors = i + 1,\n",
    "                               metric = 'minkowski',\n",
    "                               weights = 'uniform')\n",
    "    \n",
    "    knn.fit(X_train, Y_train)\n",
    "    \n",
    "    accuracy_scores_train[i] = knn.score(X_train, Y_train)\n",
    "    accuracy_scores_test[i] = knn.score(X_test, Y_test)\n",
    "    \n",
    "    # También se puede hacer con el módulo \"metrics\" de sklearn y usar el siguiente código:\n",
    "    # print(\"Accuracy:\", metrics.accuracy_score(Y_test, calculated_labels))"
   ]
  },
  {
   "cell_type": "markdown",
   "id": "73a1a901-6ef1-4762-8cc5-2359170af76e",
   "metadata": {},
   "source": [
    "<ol type=\"I\"> \n",
    "    <li>Almacena a estos valores en dos listas diferentes y haz es un mismo plot las gráficas de los valores de k -en el eje horizontal- contra las listas con los accuracy scores (training  y  testing) correspondientes. No se te olvide poner las etiquetas en los ejes y una leyenda para distinguir a  cada tipo de score.\n",
    "</ol>\n",
    "Veamos los <em>accuracy scores</em> donde se empieza desde $k=1$."
   ]
  },
  {
   "cell_type": "code",
   "execution_count": 9,
   "id": "cff4fe4e-dc96-4fc9-80d6-ed6145d65150",
   "metadata": {},
   "outputs": [
    {
     "data": {
      "image/png": "[encoded data removed]",
      "text/plain": [
       "<Figure size 432x288 with 1 Axes>"
      ]
     },
     "metadata": {
      "needs_background": "light"
     },
     "output_type": "display_data"
    }
   ],
   "source": [
    "sns.regplot(x = np.arange(1,11), y = accuracy_scores_train, fit_reg = False)\n",
    "sns.regplot(x = np.arange(1,11), y = accuracy_scores_test, fit_reg = False)\n",
    "plt.xlabel(\"KNN\")\n",
    "plt.ylabel(\"Tip [$\\$$]\")\n",
    "plt.xticks()\n",
    "plt.yticks()\n",
    "plt.grid(color='purple', linestyle='-')\n",
    "plt.show()"
   ]
  },
  {
   "cell_type": "code",
   "execution_count": 31,
   "id": "b1b54089-f5af-4ba0-a236-e67c35bc8bb0",
   "metadata": {},
   "outputs": [
    {
     "name": "stdout",
     "output_type": "stream",
     "text": [
      "0.9626373626373627\n",
      "0.8947368421052632\n"
     ]
    }
   ],
   "source": []
  }
 ],
 "metadata": {
  "kernelspec": {
   "display_name": "Python 3",
   "language": "python",
   "name": "python3"
  },
  "language_info": {
   "codemirror_mode": {
    "name": "ipython",
    "version": 3
   },
   "file_extension": ".py",
   "mimetype": "text/x-python",
   "name": "python",
   "nbconvert_exporter": "python",
   "pygments_lexer": "ipython3",
   "version": "3.8.8"
  }
 },
 "nbformat": 4,
 "nbformat_minor": 5
}
