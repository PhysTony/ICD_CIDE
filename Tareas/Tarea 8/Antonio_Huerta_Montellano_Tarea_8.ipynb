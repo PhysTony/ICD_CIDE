{
 "cells": [
  {
   "cell_type": "markdown",
   "id": "8dbd25bd-c7dd-460d-9d73-e2e1c779e650",
   "metadata": {},
   "source": [
    "<hr style=\"height:2px;border-width:0;background-color:violet\">\n",
    "<hr style=\"height:2px;border-width:0;background-color:violet\">\n",
    "<center> \n",
    "    <h1><b>Tarea 8: KNN models</b></h1> \n",
    "    <h3> Introducción a Ciencia de Datos</h3>\n",
    "    <h5><a href=\"https://github.com/PhysTony/ICD_CIDE\" target=\"_blank\" style=\"text-align:justify; color:blue\">Antonio Huerta Montellano</a></h5>\n",
    "</center>\n",
    "<hr style=\"height:2px;border-width:0;background-color:violet\">\n",
    "<hr style=\"height:2px;border-width:0;background-color:violet\">\n",
    "<br>\n",
    "\n",
    "<ol type=\"I\"> \n",
    "    <li> A partir de la base de datos <em>breast_cancer</em> disponible en sklearn obtén los accuracy scores con kNN para valores de k entre 1 y 10, usando tanto al training set como al testing set  como observaciones a evaluar  (puntos en cuestión).\n",
    "</ol>"
   ]
  },
  {
   "cell_type": "code",
   "execution_count": 2,
   "id": "6d7dbbbd-3b88-4e6f-8443-b81a113c3c93",
   "metadata": {},
   "outputs": [
    {
     "name": "stdout",
     "output_type": "stream",
     "text": [
      "Modulos importados\n"
     ]
    }
   ],
   "source": [
    "import numpy as np\n",
    "import pandas as pd\n",
    "import matplotlib as mpl\n",
    "import matplotlib.pyplot as plt\n",
    "from matplotlib import cm\n",
    "import seaborn as sns\n",
    "from sklearn.datasets import load_breast_cancer\n",
    "from sklearn.neighbors import KNeighborsClassifier\n",
    "from sklearn.model_selection import train_test_split\n",
    "from sklearn import metrics\n",
    "\n",
    "print(\"Modulos importados\")"
   ]
  },
  {
   "cell_type": "code",
   "execution_count": 3,
   "id": "1055a2f5-cf61-4033-bfcb-f3dff7afb995",
   "metadata": {},
   "outputs": [],
   "source": [
    "# Carguemos el dataset\n",
    "df_cancer = load_breast_cancer()"
   ]
  },
  {
   "cell_type": "code",
   "execution_count": 4,
   "id": "f26ea9fe-a1ce-4704-a19a-23e45f4e9582",
   "metadata": {},
   "outputs": [],
   "source": [
    "# Para modificar el tamaño de todos los gráficos.\n",
    "from matplotlib import rcParams\n",
    "rcParams['figure.figsize'] = 15,9"
   ]
  },
  {
   "cell_type": "markdown",
   "id": "7e8a430b-0c5d-4bb5-bf2d-8e5a43ae69cf",
   "metadata": {},
   "source": [
    "Veamos algunas de las características de la data"
   ]
  },
  {
   "cell_type": "code",
   "execution_count": 5,
   "id": "36470d5c-8bf7-45f1-8975-ffa1eea02029",
   "metadata": {},
   "outputs": [
    {
     "data": {
      "text/plain": [
       "array(['mean radius', 'mean texture', 'mean perimeter', 'mean area',\n",
       "       'mean smoothness', 'mean compactness', 'mean concavity',\n",
       "       'mean concave points', 'mean symmetry', 'mean fractal dimension',\n",
       "       'radius error', 'texture error', 'perimeter error', 'area error',\n",
       "       'smoothness error', 'compactness error', 'concavity error',\n",
       "       'concave points error', 'symmetry error',\n",
       "       'fractal dimension error', 'worst radius', 'worst texture',\n",
       "       'worst perimeter', 'worst area', 'worst smoothness',\n",
       "       'worst compactness', 'worst concavity', 'worst concave points',\n",
       "       'worst symmetry', 'worst fractal dimension'], dtype='<U23')"
      ]
     },
     "execution_count": 5,
     "metadata": {},
     "output_type": "execute_result"
    }
   ],
   "source": [
    "# Las características que están disponibles del dataframe\n",
    "df_cancer.feature_names"
   ]
  },
  {
   "cell_type": "markdown",
   "id": "06814419-2060-4566-a680-685bcf7d865d",
   "metadata": {},
   "source": [
    "Ya vimos algunas características generales, pero ahora veamos cuáles de estas son las variables objetivo que se pueden usar para el algorítmo de *KNN*:"
   ]
  },
  {
   "cell_type": "code",
   "execution_count": 6,
   "id": "4a6c133e-9d2f-4cdd-bb07-e5dc4a39b332",
   "metadata": {},
   "outputs": [
    {
     "data": {
      "text/plain": [
       "array(['malignant', 'benign'], dtype='<U9')"
      ]
     },
     "execution_count": 6,
     "metadata": {},
     "output_type": "execute_result"
    }
   ],
   "source": [
    "df_cancer.target_names"
   ]
  },
  {
   "cell_type": "markdown",
   "id": "c3f66e1b-90ec-4920-b662-f72965d0f81e",
   "metadata": {},
   "source": [
    "Creemos el conjunto de entrenamiento y de prueba para los algorítmos"
   ]
  },
  {
   "cell_type": "code",
   "execution_count": 7,
   "id": "97223b7f-3909-4629-acec-b71f8d4f555f",
   "metadata": {},
   "outputs": [],
   "source": [
    "X_train, X_test, Y_train, Y_test = train_test_split(df_cancer.data,\n",
    "                                                    df_cancer.target,\n",
    "                                                    train_size=0.8,\n",
    "                                                    test_size=0.2,\n",
    "                                                    random_state=0)"
   ]
  },
  {
   "cell_type": "markdown",
   "id": "8e62d428-c0cd-40e7-a036-4d6746c0d278",
   "metadata": {},
   "source": [
    "Como ya conocemos la cantidad de *accuracy scores* que debemos hallar, podemos crear dos *array* de tamañao fijo que alamacene dichos valores. En este caso, serán de tamaño $10\\times 2$ debido a que son 10 *scores* los que necesitamos y dos comparaciones."
   ]
  },
  {
   "cell_type": "code",
   "execution_count": 8,
   "id": "a7865856-77cf-4b9f-91ac-a9dcd9f87239",
   "metadata": {},
   "outputs": [],
   "source": [
    "accuracy_scores_train = np.ones((10))\n",
    "accuracy_scores_test = np.ones((10))"
   ]
  },
  {
   "cell_type": "code",
   "execution_count": 9,
   "id": "85eb805f-1b04-4f70-a2b1-59aba2aa6e3b",
   "metadata": {},
   "outputs": [],
   "source": [
    "accuracy_scores_train[0] = 2\n",
    "accuracy_scores_test[1] = 3"
   ]
  },
  {
   "cell_type": "code",
   "execution_count": 10,
   "id": "07d7cc6c-67b4-428b-8492-21b4ac9813e0",
   "metadata": {},
   "outputs": [
    {
     "data": {
      "text/plain": [
       "array([1., 3., 1., 1., 1., 1., 1., 1., 1., 1.])"
      ]
     },
     "execution_count": 10,
     "metadata": {},
     "output_type": "execute_result"
    }
   ],
   "source": [
    "accuracy_scores_test"
   ]
  },
  {
   "cell_type": "code",
   "execution_count": 11,
   "id": "876f94be-d7f3-4f88-bad7-a23e5001ebaf",
   "metadata": {},
   "outputs": [],
   "source": [
    "for i in range(10):\n",
    "    knn = KNeighborsClassifier(n_neighbors = i + 1,\n",
    "                               metric = 'minkowski',\n",
    "                               weights = 'uniform')\n",
    "    \n",
    "    knn.fit(X_train, Y_train)\n",
    "    \n",
    "    accuracy_scores_train[i] = knn.score(X_train, Y_train)\n",
    "    accuracy_scores_test[i] = knn.score(X_test, Y_test)\n",
    "    \n",
    "    # También se puede hacer con el módulo \"metrics\" de sklearn y usar el siguiente código:\n",
    "    # print(\"Accuracy:\", metrics.accuracy_score(Y_test, calculated_labels))"
   ]
  },
  {
   "cell_type": "markdown",
   "id": "73a1a901-6ef1-4762-8cc5-2359170af76e",
   "metadata": {},
   "source": [
    "<ol type=\"I\"> \n",
    "    <li>Almacena a estos valores en dos listas diferentes y haz es un mismo plot las gráficas de los valores de k -en el eje horizontal- contra las listas con los accuracy scores (training  y  testing) correspondientes. No se te olvide poner las etiquetas en los ejes y una leyenda para distinguir a  cada tipo de score.\n",
    "</ol>\n",
    "Veamos los <em>accuracy scores</em> donde se empieza desde $k=1$."
   ]
  },
  {
   "cell_type": "code",
   "execution_count": 12,
   "id": "f4f42618-2966-4831-8b10-445d57fdec07",
   "metadata": {},
   "outputs": [
    {
     "name": "stdout",
     "output_type": "stream",
     "text": [
      "[1.         0.96263736 0.96043956 0.95164835 0.94945055 0.93846154\n",
      " 0.93406593 0.93846154 0.93626374 0.93626374]\n",
      "[0.9122807  0.89473684 0.9122807  0.92105263 0.93859649 0.93859649\n",
      " 0.94736842 0.94736842 0.96491228 0.94736842]\n"
     ]
    }
   ],
   "source": [
    "print(accuracy_scores_train)\n",
    "print(accuracy_scores_test)"
   ]
  },
  {
   "cell_type": "code",
   "execution_count": 44,
   "id": "cff4fe4e-dc96-4fc9-80d6-ed6145d65150",
   "metadata": {},
   "outputs": [
    {
     "data": {
      "image/png": "[encoded data removed]",
      "text/plain": [
       "<Figure size 1080x648 with 1 Axes>"
      ]
     },
     "metadata": {},
     "output_type": "display_data"
    }
   ],
   "source": [
    "sns.set_style('white')\n",
    "sns.regplot(x = np.arange(1,11), y = accuracy_scores_train,\n",
    "            fit_reg = False, label=\"Train\",\n",
    "            scatter_kws={\"color\": 'royalblue', 'edgecolor':'darkred', \"s\":150, \"alpha\":0.8},\n",
    "            line_kws={\"color\": \"#8e00ce\"})\n",
    "sns.regplot(x = np.arange(1,11), y = accuracy_scores_test, \n",
    "            fit_reg = False, label=\"Test\",\n",
    "            scatter_kws={\"color\": 'limegreen', 'edgecolor':'navy', \"s\":150, \"alpha\":0.99},\n",
    "            line_kws={\"color\": \"#8e00ce\"})\n",
    "plt.title(\"Accuracy score vs KNN for train & test sets\", \n",
    "          fontsize = 20, fontweight = 'bold',\n",
    "          color = 'maroon')\n",
    "plt.xlabel(\"KNN\", fontsize = 16, fontweight = 'bold',\n",
    "          color = 'maroon')\n",
    "plt.ylabel(\"Accuracy score\", fontsize = 16, fontweight = 'bold',\n",
    "          color = 'maroon')\n",
    "plt.xticks(fontsize=14)\n",
    "plt.yticks(fontsize=14)\n",
    "plt.legend(loc = 'best', fontsize=16, \n",
    "           labelcolor = 'blue', facecolor = 'lightcyan',\n",
    "           edgecolor = 'maroon', framealpha = 0.7,\n",
    "           fancybox = True, shadow = True)\n",
    "plt.grid(color='purple', linestyle='-')\n",
    "plt.show()"
   ]
  },
  {
   "cell_type": "markdown",
   "id": "ae8b27ed-61b5-495f-a679-7600094b2ac1",
   "metadata": {},
   "source": [
    "<ol type=\"I\"> \n",
    "    <li> Como interpretas el resultado que observas en estas dos gráficas\n",
    "</ol>"
   ]
  },
  {
   "cell_type": "markdown",
   "id": "0945f93e-372d-4eb8-9133-52ab59d709dd",
   "metadata": {},
   "source": [
    "Vemos que salvo el primer punto, en general, entre más centros escojamos para el algorítmo, el conjunto de entrenamiento tiene una menor precisión y viceversa para el conjunto de prueba. Sin embargo, vemos que esto es cierto hasta cierto punto, por ejemplo, en el caso del conjunto de prueba, vemos pequeñas oscilaciones en esta tendencia en su pendiente, pero observamos dos cambios bruscos en $K=2$ y $k=9$; análogamente para el conjunto de entrenamoiento para $k=7$. Por otro lado, vemos que obtiene el mismo valor para $k=6$. Es obvio que como cuando se considera solo un vecino en elconjunto de entrenamiento, este abarcará todas los valore reales; mientras que por la poca flexibilidad, se espera una precisión menor en el conjunto de prueba.\n",
    "\n",
    "En general, vemos que entre más vecinos consideremos, mejor es el desempeño en el conjunto de prueba y peor en el de entrenamiento."
   ]
  }
 ],
 "metadata": {
  "kernelspec": {
   "display_name": "Python 3",
   "language": "python",
   "name": "python3"
  },
  "language_info": {
   "codemirror_mode": {
    "name": "ipython",
    "version": 3
   },
   "file_extension": ".py",
   "mimetype": "text/x-python",
   "name": "python",
   "nbconvert_exporter": "python",
   "pygments_lexer": "ipython3",
   "version": "3.8.8"
  }
 },
 "nbformat": 4,
 "nbformat_minor": 5
}
