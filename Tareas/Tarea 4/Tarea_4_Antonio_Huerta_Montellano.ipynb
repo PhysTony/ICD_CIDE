{
 "cells": [
  {
   "cell_type": "markdown",
   "id": "9555194a-1031-4a22-8dfd-77c04d825ee3",
   "metadata": {},
   "source": [
    "# Tarea 5 - *Elementos de Numpy*\n",
    "\n",
    "## Antonio Huerta Montellano"
   ]
  },
  {
   "cell_type": "markdown",
   "id": "1616efa6-9396-4810-964c-969942c35fe4",
   "metadata": {},
   "source": [
    "1. Supón que los nodos son los hashtags de todos los Twitter que se emiten en México en un cierto día. El peso de un enlace entre dos nodos de una red puede medir la proximidad entre esos dos nodos. ¿Cómo establecerías los pesos del enlace entre hashtags?"
   ]
  },
  {
   "cell_type": "markdown",
   "id": "55655c0d-3452-47e3-9460-1aeb14c30eba",
   "metadata": {},
   "source": [
    "Primero, consideremos que intuitivamente un hastag tiene mucho peso si tiene mucho retwitts, y si estos a su vez tiene otros retwitts, el twitt fuente tendrá más relevancia entre más ramificaciones tenga.\n",
    "\n",
    "Para establecer los pesos del enlace entre hastags podemos asociar un valor, $\\rho_{1}$, por cada uno de los retwits directos del twit del que queremos establecer el peso. Luego, asociar otro valor, $\\rho_{2}$, por cada retwitt que tengan los retwitts del punto anterior. Seguimos este proceso hasta el último retwitt $n$ en la cadena. Los valores $\\rho_{i}$ son tales que $\\rho_{i} > \\rho_{j} \\,\\, \\forall i>j$ con $i,j \\in \\{ 1,2,\\cdots , n \\}$ y el peso $\\omega$ es\n",
    "\n",
    "$$\n",
    "\\omega = \\sum_{i=1}^{n} r_{i}\\rho_{i}\n",
    "$$\n",
    "\n",
    "donde $r_{i}$ es la cantidad de valores $\\rho_{i}$ que hay.."
   ]
  },
  {
   "cell_type": "code",
   "execution_count": 1,
   "id": "3ca1e738-336b-471e-84d7-e88c8ec78783",
   "metadata": {},
   "outputs": [],
   "source": [
    "# Importación de librería\n",
    "import numpy as np"
   ]
  },
  {
   "cell_type": "markdown",
   "id": "3abc6019-db64-4f88-99d8-ce8b9029cf66",
   "metadata": {},
   "source": [
    "2. Crea un arreglo con tres elementos y obtén con la función del seno() de Numpy los valores correspondientes, los cuales deben ser almacenados en otro vector para ser impresos. Realiza la misma operación, pero por un camino largo. Ejecuta un loop en el que cada uno de los elementos del arreglo inicial es transformado con el seno().\n",
    "\n",
    "**Método directo:**"
   ]
  },
  {
   "cell_type": "code",
   "execution_count": 8,
   "id": "85781f44-3347-4a3f-ab18-0e0526c43e2f",
   "metadata": {},
   "outputs": [
    {
     "name": "stdout",
     "output_type": "stream",
     "text": [
      "El arreglo original es: [3.14159265 1.57079633 4.71238898]\n"
     ]
    }
   ],
   "source": [
    "arr_1 = np.array([np.pi, np.pi/2, 3*np.pi/2])\n",
    "print(\"El arreglo original es: \" + str(arr_1))"
   ]
  },
  {
   "cell_type": "code",
   "execution_count": 10,
   "id": "75a8ab6d-6a86-4182-b1e1-fad174f58d80",
   "metadata": {},
   "outputs": [
    {
     "name": "stdout",
     "output_type": "stream",
     "text": [
      "El arreglo con el seno del valor de cada entrada respectiva es: [ 1.2246468e-16  1.0000000e+00 -1.0000000e+00]\n"
     ]
    }
   ],
   "source": [
    "sen_1 = np.sin(arr_1)\n",
    "print(\"El arreglo con el seno del valor de cada entrada respectiva es: \" + str(sen_1))"
   ]
  },
  {
   "cell_type": "markdown",
   "id": "ddaeb81a-9af6-48f4-a586-c35698775045",
   "metadata": {},
   "source": [
    "**Método largo:**"
   ]
  },
  {
   "cell_type": "code",
   "execution_count": 13,
   "id": "1114c01f-2b15-44e1-bf60-08abecbc222d",
   "metadata": {},
   "outputs": [
    {
     "name": "stdout",
     "output_type": "stream",
     "text": [
      "El arreglo, por el método largo, con el seno del valor de cada entrada respectiva es: [ 1.2246468e-16  1.0000000e+00 -1.0000000e+00]\n"
     ]
    }
   ],
   "source": [
    "sen_2 = arr_1.copy()\n",
    "for i in range(len(sen_1)):\n",
    "    sen_2[i] = np.sin(arr_1[i])\n",
    "print(\"El arreglo, por el método largo, con el seno del valor de cada entrada respectiva es: \" + str(sen_2))"
   ]
  },
  {
   "cell_type": "markdown",
   "id": "b43ba016-f4af-420a-ab07-6de9ace10b65",
   "metadata": {},
   "source": [
    "3. Considera un polinomio de orden N. Escribe un programa con arreglos y métodos de Numpy. Implementa una función en la que se use el método cumprod(). Invoca a la función asignando un valor a la variable (x) y los coeficientes asociados del polinomio correspondiente (Ojo: si N = 2, debe haber tres coeficientes ya que hay un término constante). Estos coeficientes deben formar parte de un arreglo. Imprime el valor numérico de la función polinómica. Con el método de Numpy para la creación y evaluación de polinomios np.poly1d checa que el cálculo anterior sea el correcto."
   ]
  },
  {
   "cell_type": "code",
   "execution_count": 71,
   "id": "e81ec15f-a0c7-451f-b392-f09b1908dd17",
   "metadata": {},
   "outputs": [],
   "source": [
    "def polinomio_evaluado(x,coeficientes):\n",
    "    \"\"\"\n",
    "    Esta función toma los siguientes valores:\n",
    "    x - Valor en el que será evaluado el polinomio\n",
    "    coeficientes - Arreglo que contiene los coeficientes de mayor a menor\n",
    "                   coeficiente de acuerdo a la potencia del exponente x,\n",
    "                   incluyendo al intercepto.\n",
    "    Dado un vector de coeficientes, se crea un vector auxiliar de la misma\n",
    "    longitud, el cual será para obtener los valores de x por sus respectivas\n",
    "    potencias. Una vez obtenidos el vector de valores de x a su respectiva\n",
    "    potencia y en orden descendente, se multiplica por el vector de coeficien.\n",
    "    tes. Por último, regresa la suma de todas las entradas de este vector.\n",
    "    \"\"\"\n",
    "    \n",
    "    valores = np.ones(len(coeficientes))*x # Se crea un arreglo auxiliar para la posterior creación del vector que contendrá los valores de x elevado a su respectiva potencia\n",
    "    valores[0] = 1                         # Para el termino constante\n",
    "    \n",
    "    valores_pol = np.cumprod(valores)      # Obtener los valores de x a su respectiva potencia\n",
    "    vector_valores = valores_pol[::-1]     # Ordenar de forma descendentes los valores del arreglo\n",
    "    \n",
    "    return np.sum(vector_valores*coeficientes) # Regresa la suma de todas las entradas del producto de los valores elevados a su respectiva potencia por los coeficientes"
   ]
  },
  {
   "cell_type": "code",
   "execution_count": 76,
   "id": "bf9ef3e8-29bb-4a57-8b37-dc5d5f682be8",
   "metadata": {},
   "outputs": [
    {
     "data": {
      "text/plain": [
       "131.0"
      ]
     },
     "execution_count": 76,
     "metadata": {},
     "output_type": "execute_result"
    }
   ],
   "source": [
    "coef = np.array([5,4,3,2,3])\n",
    "x = 2\n",
    "polinomio_evaluado(x,coef)"
   ]
  },
  {
   "cell_type": "markdown",
   "id": "7098e8dc-f5db-41f2-85d4-490086c9fea7",
   "metadata": {},
   "source": [
    "**Comrpobación:**"
   ]
  },
  {
   "cell_type": "code",
   "execution_count": 73,
   "id": "40559551-77c2-41fc-8fb5-77e07616d29f",
   "metadata": {},
   "outputs": [],
   "source": [
    "p = np.poly1d([5,4,3,2,3])"
   ]
  },
  {
   "cell_type": "markdown",
   "id": "b4a24654-8e83-4a63-be62-c78fb17c01ed",
   "metadata": {},
   "source": [
    "Con esta opción se pueden apreciar a qué grado de $x$ pertence el coeficiente:"
   ]
  },
  {
   "cell_type": "code",
   "execution_count": 74,
   "id": "8f3e8226-d0b0-4c98-841c-aa204c8d462b",
   "metadata": {},
   "outputs": [
    {
     "name": "stdout",
     "output_type": "stream",
     "text": [
      "   4     3     2\n",
      "5 x + 4 x + 3 x + 2 x + 3\n"
     ]
    }
   ],
   "source": [
    "print(np.poly1d(p))"
   ]
  },
  {
   "cell_type": "code",
   "execution_count": 75,
   "id": "a7087cad-0069-4770-b045-85e869145ae2",
   "metadata": {},
   "outputs": [
    {
     "data": {
      "text/plain": [
       "131"
      ]
     },
     "execution_count": 75,
     "metadata": {},
     "output_type": "execute_result"
    }
   ],
   "source": [
    "p(2)"
   ]
  },
  {
   "cell_type": "markdown",
   "id": "ff4ce786-2d39-4665-bc64-043c951a89b1",
   "metadata": {},
   "source": [
    "Se aprecia que se obtiene el mismo resultado, por lo que la función hecha en el punto anterior es correcta."
   ]
  },
  {
   "cell_type": "markdown",
   "id": "cabfd0e5-9004-4da7-bd61-dfd5c344d478",
   "metadata": {},
   "source": [
    "4. Crea una matriz (4 x 3) de números enteros generados aleatoriamente entre 0 y 10. Reemplaza los dos primeros vectores renglón con escalares = 7. Crea un nuevo arreglo (4 x 1) con puros unos y anéxalo con el método append() a la matriz anterior. Imprime cada uno de los resultados parciales que vas generando"
   ]
  },
  {
   "cell_type": "markdown",
   "id": "d10e8a7f-b360-4527-877e-4bb8b8c67e08",
   "metadata": {},
   "source": [
    "Creemos la matriz $M\\in\\mathcal{M}_{4\\times 3}(\\mathbb{Z})$ con entradas de números aleatorios entre 0 y 10:"
   ]
  },
  {
   "cell_type": "code",
   "execution_count": 61,
   "id": "57c2be50-a8fd-483a-ab0c-cb4c89d53e60",
   "metadata": {},
   "outputs": [
    {
     "name": "stdout",
     "output_type": "stream",
     "text": [
      "[[ 3  4  1]\n",
      " [ 9  5 10]\n",
      " [ 8  3  8]\n",
      " [ 0  5  1]]\n"
     ]
    }
   ],
   "source": [
    "np.random.seed(8)  \n",
    "M = np.random.randint(11, size=(4, 3))\n",
    "print(M)"
   ]
  },
  {
   "cell_type": "markdown",
   "id": "65df3c6c-051d-4160-992e-df1a18aa903c",
   "metadata": {},
   "source": [
    "Cambiemos cada entrada de los primeros dos renglones por el valor 7:"
   ]
  },
  {
   "cell_type": "code",
   "execution_count": 65,
   "id": "df5da722-6fa2-4506-abe4-b44d201d0b00",
   "metadata": {},
   "outputs": [
    {
     "name": "stdout",
     "output_type": "stream",
     "text": [
      "[[7 7 7]\n",
      " [7 7 7]\n",
      " [8 3 8]\n",
      " [0 5 1]]\n"
     ]
    }
   ],
   "source": [
    "M[:2] = 7\n",
    "print(M)"
   ]
  },
  {
   "cell_type": "markdown",
   "id": "5ec7fa71-317d-4971-89dd-d31aeba40335",
   "metadata": {},
   "source": [
    "Creemos una matriz con todas sus entradas igual a 1 de tamaño $4\\times 1$:"
   ]
  },
  {
   "cell_type": "code",
   "execution_count": 67,
   "id": "08f6ddb6-ca10-4860-8a77-4d131e49ad96",
   "metadata": {},
   "outputs": [
    {
     "name": "stdout",
     "output_type": "stream",
     "text": [
      "[[1.]\n",
      " [1.]\n",
      " [1.]\n",
      " [1.]]\n"
     ]
    }
   ],
   "source": [
    "arr_2 = np.ones((4,1))\n",
    "print(arr_2)"
   ]
  },
  {
   "cell_type": "markdown",
   "id": "b153de2d-5d48-4db1-9225-014c5d63d56a",
   "metadata": {},
   "source": [
    "Anexemos por la derecha el vector anterior a la matriz $M$:"
   ]
  },
  {
   "cell_type": "code",
   "execution_count": 70,
   "id": "e3b46868-a98a-49e0-b8f4-b5d99ce4a068",
   "metadata": {
    "tags": []
   },
   "outputs": [
    {
     "data": {
      "text/plain": [
       "array([[7., 7., 7., 1.],\n",
       "       [7., 7., 7., 1.],\n",
       "       [8., 3., 8., 1.],\n",
       "       [0., 5., 1., 1.]])"
      ]
     },
     "execution_count": 70,
     "metadata": {},
     "output_type": "execute_result"
    }
   ],
   "source": [
    "np.append(M,arr_2, axis=1)"
   ]
  }
 ],
 "metadata": {
  "kernelspec": {
   "display_name": "Python 3",
   "language": "python",
   "name": "python3"
  },
  "language_info": {
   "codemirror_mode": {
    "name": "ipython",
    "version": 3
   },
   "file_extension": ".py",
   "mimetype": "text/x-python",
   "name": "python",
   "nbconvert_exporter": "python",
   "pygments_lexer": "ipython3",
   "version": "3.8.8"
  }
 },
 "nbformat": 4,
 "nbformat_minor": 5
}
