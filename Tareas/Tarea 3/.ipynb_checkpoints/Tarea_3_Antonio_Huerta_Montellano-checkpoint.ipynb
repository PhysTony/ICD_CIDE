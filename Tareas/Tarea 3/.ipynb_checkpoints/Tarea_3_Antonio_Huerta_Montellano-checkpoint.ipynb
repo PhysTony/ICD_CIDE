{
 "cells": [
  {
   "cell_type": "markdown",
   "id": "b5a2afe6-bdc3-4f3b-aa38-8122517eb7cc",
   "metadata": {},
   "source": [
    "### Tarea 3\n",
    "\n",
    "1. Explicar por qué los ABM combinan procesos inductivos y deductivo en la búsqueda de formular y validar teorías\n",
    "- **Tal como se vio en clase, los ABM son sitemas multiagente que surgioron debido a la inteligencia artificial. La parte de los procesos inductivos se debe a que toman las condiciones iniciales o de frontera del problema en cuestión. Por otro lado, el proceso deductivo es por la comparación de datos empíricos de los cuales detectan patrones artificilaes. Así es cómo se pueden llevar a cabo los proceso de formulación y validación de teorías.**\n",
    "\n",
    "2. ¿En qué sentido los ABM producen teoremas de suficiencia?\n",
    "- **Recordemos que en los modelos computacionales solo se pueden deducir teoremas de suficiencia ya que teoremas de necesidad caen en la falta de argumentos para mostrar la otra implicación. Mediante la resolución de problemas de control óptimo de Lagrange es pueden dar resultados o respuestas para problemas de la vida real.**\n",
    "\n",
    "\n",
    "3. Define una función que genere números aleatorios ya sea con una distribución normal estándar con el método de numpy np.random.randn() --recordar que primero hay que importar numpy as np-- o bien con una distribución uniforme en (0, 1) con el método: np.random.uniform(0, 1). La elección de la distribución a usar y la dimensión del vector se establece cuando se llama la función en el script. En la función debes ir generando los números aleatorios uno a uno e insertarlos en una lista, la cual deberás imprimir al término del programa.  "
   ]
  },
  {
   "cell_type": "code",
   "execution_count": 1,
   "id": "4bb7f574-6c54-4102-8147-ed1be071a0a5",
   "metadata": {},
   "outputs": [],
   "source": [
    "import numpy as np"
   ]
  },
  {
   "cell_type": "code",
   "execution_count": 30,
   "id": "5b0b3d39-2b81-42c8-9d62-5a9c3cd787c7",
   "metadata": {},
   "outputs": [],
   "source": [
    "def ejer_3(n=10,d=0):\n",
    "    \"\"\"\n",
    "    Esta función recibe dos parámetros:\n",
    "    n: Longitud que tendrá la lista que contendrá los valores de la distribución\n",
    "    dada.\n",
    "    d: Indica la distribución a tomar, 0 para la distribución normal estándar y 0\n",
    "    para la distribución uniforme\n",
    "    \n",
    "    Regresa la siguiente variable:\n",
    "    lista: Lista que contiene n entradas con números que pertenecen a la distribu-\n",
    "    ción escogida.\n",
    "    \n",
    "    Este programa crea una lista vacía a la cual, por medio de un loop, le indexa-\n",
    "    rá los n valores de la distribución escogida.\n",
    "    \"\"\"\n",
    "        \n",
    "    lista = []\n",
    "    \n",
    "    for i in range(n+1):\n",
    "        if d == 0:\n",
    "            print(lista)\n",
    "            lista.append(np.random.randn())\n",
    "\n",
    "        elif d==1:\n",
    "            lista.append(np.random.uniform(0,1))\n",
    "\n",
    "        else:\n",
    "            print(\"Error\")\n",
    "    \n",
    "    return lista"
   ]
  },
  {
   "cell_type": "code",
   "execution_count": 31,
   "id": "0a495ea9-3226-42e8-81b9-6c766c214ea7",
   "metadata": {},
   "outputs": [
    {
     "name": "stdout",
     "output_type": "stream",
     "text": [
      "[0.79051926523756, 0.423412577785261, 0.24039671404468488, 0.3871097538955788, 0.2550648024581669, 0.24117455243715502]\n"
     ]
    }
   ],
   "source": [
    "disto = ejer_3(5,1)\n",
    "print(disto)"
   ]
  },
  {
   "cell_type": "markdown",
   "id": "67e45ea2-b9d3-4c9a-826b-4106c5bdb23c",
   "metadata": {},
   "source": [
    "4. A partir del archivo 'segismundo.txt' insertado en un folder de tu computadora, elabora un loop para contar el número de líneas del archivo"
   ]
  },
  {
   "cell_type": "code",
   "execution_count": 35,
   "id": "663c9fb5-5924-47bf-ba68-840074849c92",
   "metadata": {},
   "outputs": [],
   "source": [
    "def ejer_4():\n",
    "    \"\"\"\n",
    "    Este programa usa una variable, archivo, que es la referencia a un archivo de\n",
    "    texto que contiene un poema. Iniciaremos una variable auxiliar, contador, en\n",
    "    cero; esta variable aumentará en una unidad por cada línea que contenga el\n",
    "    texto por medio de un loop. Al último, se cierra el archivo.\n",
    "    \"\"\"\n",
    "    \n",
    "    archivo = open('segismundo.txt', encoding='utf-8')\n",
    "    contador = 0\n",
    "    \n",
    "    for line in archivo:\n",
    "        contador += 1\n",
    "        \n",
    "    print(\"El archivo contiene \" + str(contador) + \" líneas\")\n",
    "    \n",
    "    archivo.close()"
   ]
  },
  {
   "cell_type": "code",
   "execution_count": 36,
   "id": "bb36560e-d5e3-45bc-971c-5bd9d09da134",
   "metadata": {},
   "outputs": [
    {
     "name": "stdout",
     "output_type": "stream",
     "text": [
      "El archivo contiene 14 líneas\n"
     ]
    }
   ],
   "source": [
    "ejer_4()"
   ]
  },
  {
   "cell_type": "markdown",
   "id": "de669075-bef8-42dd-82ec-0354077a4b52",
   "metadata": {},
   "source": [
    "5. Uno de los métodos de la lectura de archivos (startswith) permite leer las líneas que empiezan con cierta palabra. Con el archivo 'segismundo.txt' elabora un programa que lea todas las líneas que empiezan con 'sueña' e indica el número de líneas con este atributo. Asegúrate de escribirlas a renglón seguido usando un método de lectura de líneas en un archivo. "
   ]
  },
  {
   "cell_type": "code",
   "execution_count": 39,
   "id": "72db7724-7916-4cd2-be90-d034deb11ade",
   "metadata": {},
   "outputs": [],
   "source": [
    "def ejer_5():\n",
    "    \"\"\"\n",
    "    Este programa usa una variable, archivo, que es la referencia a un archivo de\n",
    "    texto que contiene un poema. Iniciaremos una variable auxiliar, contador, en\n",
    "    cero; esta variable aumentará en una unidad por cada línea que contenga el\n",
    "    texto, y empiece por la cadena 'sueño' -verificado con una condición if-, por\n",
    "    medio de un loop. Al último, se cierra el archivo.\n",
    "    \"\"\"\n",
    "    \n",
    "    archivo = open('segismundo.txt', encoding='utf-8')\n",
    "    contador = 0\n",
    "    \n",
    "    for line in archivo:\n",
    "        if line.startswith(\"sueña\") == True:\n",
    "            contador += 1\n",
    "        \n",
    "    print(\"El archivo contiene \" + str(contador) + \" líneas que empiezan con sueña\")\n",
    "    \n",
    "    archivo.close()"
   ]
  },
  {
   "cell_type": "code",
   "execution_count": 40,
   "id": "f9fb6bcc-787c-4516-a18e-82716f84ed8a",
   "metadata": {},
   "outputs": [
    {
     "name": "stdout",
     "output_type": "stream",
     "text": [
      "El archivo contiene 5 líneas que empiezan con sueña\n"
     ]
    }
   ],
   "source": [
    "ejer_5()"
   ]
  },
  {
   "cell_type": "markdown",
   "id": "69e901eb-31fd-496a-965a-8b9429b934c7",
   "metadata": {},
   "source": [
    "6. A partir del comando input('Introduce el nombre del archivo:' ) Python puede asignar  el nombre del archivo a leer a una variable, la que luego puedes usar para abrir el archivo con el método (open) en el mismo script. Por lo tanto, puedes escribir en la consola de Spyder el nombre del archivo cuando se ejecuta el programa. Considera la posibilidad que te puedas equivocar al poner el nombre del archivo: segismundo.txt, por lo que usa el manejo de excepciones (try/except) para que el programa indique que te equivocaste (usar un print) y para que aborte la corrida con el comando (exit()) en vez de que python sólo marque el error. En caso de que el nombre del archivo esté bien escrito debes contar el número de líneas  que empiezan con la cadena 'sueña'."
   ]
  },
  {
   "cell_type": "code",
   "execution_count": 2,
   "id": "1a19557f-6081-4485-b212-3898c514681b",
   "metadata": {},
   "outputs": [],
   "source": [
    "def ejer_6():\n",
    "    \"\"\"\n",
    "    Este programa usa una variable, nombre, que se lee por medio del teclado. Lue-\n",
    "    go, se crea una variable, archivo, que es la referencia a un archivo de texto\n",
    "    que contiene un poema. En caso de que haya un error al leer el archivo, se\n",
    "    mostrará un mensaje indicado que hubo un error y que se abrió correctamente en\n",
    "    caso de que se pudo abrir correctamente el archivo dado el nombre que introdu-\n",
    "    jo el usuario.\n",
    "    Iniciaremos una variable auxiliar, contador, en cero; esta variable aumentará\n",
    "    en una unidad por cada línea que contenga el texto por medio de un loop. Al \n",
    "    último, se cierra el archivo.\n",
    "    \"\"\"\n",
    "    \n",
    "    nombre = input(\"Introduzca el nombre del archivo sin la extensión.\")\n",
    "    \n",
    "    try:\n",
    "        archivo = open(nombre +\".txt\", encoding='utf-8')\n",
    "        contador = 0\n",
    "\n",
    "        for line in archivo:\n",
    "            if line.startswith(\"sueña\") == True:\n",
    "                contador += 1\n",
    "\n",
    "        print(\"El archivo contiene \" + str(contador) + \" líneas que empiezan con Sueña.\")\n",
    "\n",
    "        archivo.close()\n",
    "\n",
    "    except:\n",
    "        print(\"Te equivocaste al escribir el nombre.\")\n",
    "        # exit() # Cerrará el kernel en Jupyter"
   ]
  },
  {
   "cell_type": "code",
   "execution_count": 3,
   "id": "9ea9c121-62e2-4986-9718-583716131132",
   "metadata": {},
   "outputs": [
    {
     "name": "stdin",
     "output_type": "stream",
     "text": [
      "Introduzca el nombre del archivo sin la extensión. segismundo\n"
     ]
    },
    {
     "name": "stdout",
     "output_type": "stream",
     "text": [
      "El archivo contiene 5 líneas que empiezan con -Sueña-\n"
     ]
    }
   ],
   "source": [
    "ejer_6()"
   ]
  },
  {
   "cell_type": "code",
   "execution_count": 4,
   "id": "01a22739-dbb5-407d-8044-121f9de2f784",
   "metadata": {},
   "outputs": [
    {
     "name": "stdin",
     "output_type": "stream",
     "text": [
      "Introduzca el nombre del archivo sin la extensión. lepegan\n"
     ]
    },
    {
     "name": "stdout",
     "output_type": "stream",
     "text": [
      "Te equivocaste al escribir el nombre.\n"
     ]
    }
   ],
   "source": [
    "ejer_6()"
   ]
  },
  {
   "cell_type": "markdown",
   "id": "11acd12b-a4bf-456e-9094-76754620e24f",
   "metadata": {},
   "source": [
    "7. Abre un archivo de texto nuevo con el modo de escribir (write), y checa con print que lo creaste. Luego cono el método de escritura de líneas (write) escribe las dos primeras líneas del himno nacional. Asegúrate de cambiar de renglón poniendo el carácter de nueva línea \\n al final cada renglón entrecomillado. Asegúrate de cerrar el archivo, y luego lo vuelves a abrir para leerlo, imprimiendo línea por línea a renglón seguido."
   ]
  },
  {
   "cell_type": "code",
   "execution_count": 22,
   "id": "d6fc2b39-8314-4d3e-b039-5c7015cce6cb",
   "metadata": {},
   "outputs": [],
   "source": [
    "def ejer_7():\n",
    "    \"\"\"\n",
    "    Este programa usa una variable auxiliar, himno, que ontiene las primeras dos\n",
    "    estrofas del himno nacional mexicano. Luego, se crea una variable, archivo,\n",
    "    que es la referencia a un archivo llamado himno.txt o se crea si no existe.\n",
    "    En caso de que haya un error al abrir el archivo, se mostrará un mensaje indi-\n",
    "    ado que hubo un error y que se abrió correctamente en caso de que se pudo a-\n",
    "    rir correctamente el archivo dado el nombre que introdujo el usuario.\n",
    "    Después, escribe en el archivo la cadena de texto que contiene la variable el\n",
    "    himno y cierra el archivo. Luego abre y lee las estrofas que contiene el ar-\n",
    "    chivo y lo cierra.\n",
    "    \"\"\"\n",
    "    \n",
    "    himno = \"Mexicanos, al grito de guerra\\nEl acero aprestad y el bridón\"\n",
    "    \n",
    "    try:\n",
    "        archivo = open(\"himno.txt\", 'w', encoding='utf-8')\n",
    "        ṕrint(\"Se creo/abrió correctamente el archivo.\")\n",
    "    except:\n",
    "        print(\"Hubo algún error.\")\n",
    "\n",
    "    archivo.write(himno)\n",
    "    archivo.close()\n",
    "    \n",
    "    archivo = open(\"himno.txt\", encoding='utf-8')\n",
    "    \n",
    "    for line in archivo:\n",
    "        print(line)\n",
    "    archivo.close()"
   ]
  },
  {
   "cell_type": "code",
   "execution_count": 23,
   "id": "90d8df87-cdb2-4553-911e-882f9cb38743",
   "metadata": {},
   "outputs": [
    {
     "name": "stdout",
     "output_type": "stream",
     "text": [
      "Hubo algún error.\n",
      "Mexicanos, al grito de guerra\n",
      "\n",
      "El acero aprestad y el bridón\n"
     ]
    }
   ],
   "source": [
    "ejer_7()"
   ]
  }
 ],
 "metadata": {
  "kernelspec": {
   "display_name": "Python 3",
   "language": "python",
   "name": "python3"
  },
  "language_info": {
   "codemirror_mode": {
    "name": "ipython",
    "version": 3
   },
   "file_extension": ".py",
   "mimetype": "text/x-python",
   "name": "python",
   "nbconvert_exporter": "python",
   "pygments_lexer": "ipython3",
   "version": "3.8.8"
  }
 },
 "nbformat": 4,
 "nbformat_minor": 5
}
