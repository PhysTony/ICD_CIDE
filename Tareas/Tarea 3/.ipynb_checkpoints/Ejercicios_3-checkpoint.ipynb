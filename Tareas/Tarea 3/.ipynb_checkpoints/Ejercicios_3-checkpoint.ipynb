{
 "cells": [
  {
   "cell_type": "markdown",
   "id": "a53dadd3-8638-4669-b5a3-4f461c3ee7ca",
   "metadata": {},
   "source": [
    "Función Lambda\n",
    "\n",
    "1. Escriba una función que reciba una lista de diccionarios y regrese la lista con las llaves en orden alfabético. Use la función lambda y sorted\n",
    "```\n",
    "programador= [{'nombre':'Mark', 'Programa':'Python', 'Años de experiencia': 3},\n",
    "{' nombre:'Nicole', ' Programa ':'C', 'Años de experiencia ': 1},\n",
    "{' nombre ':'Jason', ' Programa ':'R', ''Años de experiencia ': 10}]\n",
    "```\n",
    "\n",
    "Respuesta esperada\n",
    "```\n",
    "programador= [{' nombre:'Nicole', ' Programa ':'C', 'Años de experiencia ': 1},{'nombre':'Mark', 'Programa':'Python', 'Años de experiencia': 3}, {' nombre ':'Jason', ' Programa ':'R', ''Años de experiencia ': 10}]\n",
    "```"
   ]
  },
  {
   "cell_type": "code",
   "execution_count": 19,
   "id": "6f000ae7-5ae8-4cf3-ac54-5228314bebf9",
   "metadata": {},
   "outputs": [],
   "source": [
    "def sort_dict(diccionario):\n",
    "    \"\"\"\n",
    "    Como es tarea moral me dio flojera añadir la descripción.\n",
    "    \"\"\"\n",
    "    \n",
    "    lista_llaves = diccionario[0].keys()\n",
    "    \n",
    "    for llave in lista_llaves:\n",
    "        print(\"Diccionarios ordenados por \" + str(llave) + \".\")\n",
    "        dic_ordenada = sorted(diccionario, key = lambda i: i[llave])\n",
    "        \n",
    "        for i in range(len(dic_ordenada)):\n",
    "            print(str(dic_ordenada[i]))\n",
    "        \n",
    "        print(\"\\n\")"
   ]
  },
  {
   "cell_type": "code",
   "execution_count": 23,
   "id": "20a36c57-96a6-4374-a233-8fc4cd8b2b0f",
   "metadata": {},
   "outputs": [
    {
     "name": "stdout",
     "output_type": "stream",
     "text": [
      "Diccionarios ordenados por nombre.\n",
      "{'nombre': 'Jason', 'Programa': 'R', 'Años de experiencia': 10}\n",
      "{'nombre': 'Mark', 'Programa': 'Python', 'Años de experiencia': 3}\n",
      "{'nombre': 'Nicole', 'Programa': 'C', 'Años de experiencia': 1}\n",
      "\n",
      "\n",
      "Diccionarios ordenados por Programa.\n",
      "{'nombre': 'Nicole', 'Programa': 'C', 'Años de experiencia': 1}\n",
      "{'nombre': 'Mark', 'Programa': 'Python', 'Años de experiencia': 3}\n",
      "{'nombre': 'Jason', 'Programa': 'R', 'Años de experiencia': 10}\n",
      "\n",
      "\n",
      "Diccionarios ordenados por Años de experiencia.\n",
      "{'nombre': 'Nicole', 'Programa': 'C', 'Años de experiencia': 1}\n",
      "{'nombre': 'Mark', 'Programa': 'Python', 'Años de experiencia': 3}\n",
      "{'nombre': 'Jason', 'Programa': 'R', 'Años de experiencia': 10}\n",
      "\n",
      "\n"
     ]
    }
   ],
   "source": [
    "programador = [{'nombre':'Mark', 'Programa':'Python', 'Años de experiencia': 3},\n",
    "{'nombre':'Nicole', 'Programa' :'C', 'Años de experiencia': 1},\n",
    "{'nombre':'Jason', 'Programa':'R', 'Años de experiencia': 10}]\n",
    "sort_dict(programador)"
   ]
  },
  {
   "cell_type": "markdown",
   "id": "9a0d6e1a-dea6-44ca-b8df-1c9847fd14e4",
   "metadata": {},
   "source": [
    "### Compresión de listas\n",
    "\n",
    "Escriba una función que reciba una lista de enteros y regrese la lista sumándoles uno a cada elemento. Usa comprensión de listas."
   ]
  },
  {
   "cell_type": "code",
   "execution_count": 21,
   "id": "e39374ad-695d-4963-8b78-27c8c82e0cd0",
   "metadata": {},
   "outputs": [],
   "source": [
    "def list_suma(enteros):\n",
    "    \"\"\"\n",
    "    Como es tarea moral me dio flojera añadir la descripción.\n",
    "    \"\"\"\n",
    "    \n",
    "    return [i+1 for i in enteros]"
   ]
  },
  {
   "cell_type": "code",
   "execution_count": 22,
   "id": "34d8aa01-941a-4fe5-9942-d6c3800bc463",
   "metadata": {},
   "outputs": [
    {
     "data": {
      "text/plain": [
       "[1, 2, 3, 4, 5, 6, 7, 8, 9, 10]"
      ]
     },
     "execution_count": 22,
     "metadata": {},
     "output_type": "execute_result"
    }
   ],
   "source": [
    "lista = [0,1,2,3,4,5,6,7,8,9]\n",
    "list_suma(lista)"
   ]
  }
 ],
 "metadata": {
  "kernelspec": {
   "display_name": "Python 3",
   "language": "python",
   "name": "python3"
  },
  "language_info": {
   "codemirror_mode": {
    "name": "ipython",
    "version": 3
   },
   "file_extension": ".py",
   "mimetype": "text/x-python",
   "name": "python",
   "nbconvert_exporter": "python",
   "pygments_lexer": "ipython3",
   "version": "3.8.8"
  }
 },
 "nbformat": 4,
 "nbformat_minor": 5
}
