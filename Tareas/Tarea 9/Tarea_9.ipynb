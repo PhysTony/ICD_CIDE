{
 "cells": [
  {
   "cell_type": "markdown",
   "id": "45661cb8-8ec8-44d2-9583-22c6a4329704",
   "metadata": {},
   "source": [
    "A partir de la base de datos Iris que está disponible en sklearn construye cuatro árboles de decisión con niveles de profundidad máximos de 1, 2, 3 y ninguno. Utiliza $33\\%$ de los datos para el conjunto de prueba."
   ]
  },
  {
   "cell_type": "code",
   "execution_count": 1,
   "id": "1667919b-ef58-4951-9620-6a4679413333",
   "metadata": {},
   "outputs": [
    {
     "name": "stdout",
     "output_type": "stream",
     "text": [
      "Modulos importados.\n"
     ]
    }
   ],
   "source": [
    "import pandas as pd\n",
    "import numpy as np\n",
    "import matplotlib as mpl\n",
    "import matplotlib.pyplot as plt\n",
    "from matplotlib import cm\n",
    "import seaborn as sns\n",
    "from sklearn.datasets import load_iris\n",
    "from sklearn.metrics import accuracy_score\n",
    "from sklearn.model_selection import train_test_split\n",
    "from sklearn.tree import DecisionTreeClassifier\n",
    "from matplotlib import rcParams"
   ]
  },
  {
   "cell_type": "markdown",
   "id": "8fa44e7d-77cb-407a-bbec-7fbc368be619",
   "metadata": {},
   "source": [
    "Ahora, importaremos los datos; indicaremos las variables dependientes (etiquetas objetivo) e independientes (Características para predecir); después, crearemos los conjuntos de entrenamiento y de prueba."
   ]
  },
  {
   "cell_type": "code",
   "execution_count": 2,
   "id": "76a785d7-9075-410e-8615-6a128d44b21c",
   "metadata": {},
   "outputs": [],
   "source": [
    "data = load_iris()\n",
    "X = data.data\n",
    "y = data.target\n",
    "X_train, X_test, y_train, y_test = train_test_split(X,y, \n",
    "                                                    random_state = 0, \n",
    "                                                    test_size = 1/3)"
   ]
  },
  {
   "cell_type": "markdown",
   "id": "f00154f3-c437-46b0-b3b2-bd7587787a64",
   "metadata": {},
   "source": [
    "Como ya conocemos la cantidad de *accuracy scores* que debemos hallar, podemos crear dos *array* de tamañao fijo que alamacene dichos valores. En este caso, serán de tamaño $4\\times 1$ debido a que son 10 *scores* los que necesitamos y dos comparaciones. Así mismo, se guardará en otra lista los modelos."
   ]
  },
  {
   "cell_type": "code",
   "execution_count": 3,
   "id": "59a05415-a498-418d-b8e7-d852745a5b71",
   "metadata": {},
   "outputs": [],
   "source": [
    "accuracy_scores_train = np.ones((4))\n",
    "accuracy_scores_test = np.ones((4))\n",
    "tree_model = [None]*4"
   ]
  },
  {
   "cell_type": "code",
   "execution_count": 4,
   "id": "01f7eb59-87bb-401d-90aa-32ded2f3c9d8",
   "metadata": {},
   "outputs": [],
   "source": [
    "tree = DecisionTreeClassifier(random_state=0)   # Especificamos la profundidad\n",
    "tree.fit(X_train, y_train)\n",
    "accuracy_scores_train[3] = tree.score(X_train, y_train)\n",
    "accuracy_scores_test[3] = tree.score(X_test, y_test)\n",
    "tree_model[3] = tree"
   ]
  },
  {
   "cell_type": "markdown",
   "id": "d28dbdb8-970f-434d-bf0c-a915163d63a0",
   "metadata": {},
   "source": [
    "Crearemos un loop para guardar las  distintas precisiones para cada profundidad."
   ]
  },
  {
   "cell_type": "code",
   "execution_count": 5,
   "id": "915539ca-49c3-4348-873a-6fdaf38fc9a1",
   "metadata": {},
   "outputs": [],
   "source": [
    "for i in range(3):\n",
    "    tree = DecisionTreeClassifier(max_depth = i+1,\n",
    "                                  random_state=0)\n",
    "    \n",
    "    tree.fit(X_train, y_train)\n",
    "    \n",
    "    accuracy_scores_train[i] = tree.score(X_train, y_train)\n",
    "    accuracy_scores_test[i] = tree.score(X_test, y_test)\n",
    "    tree_model[i] = tree"
   ]
  },
  {
   "cell_type": "markdown",
   "id": "0d2fe6c8-4b08-42bb-a651-1d0137847342",
   "metadata": {},
   "source": [
    "<ol type=\"I\"> \n",
    "    <li> Imprime pruebas de exactitud con los conjuntos de entrenamiento y de prueba. ¿Qué modelo se te hace el más adecuado?, ¿Crees que haya overfitting? ¿Crees que el modelo con profundidad = 1 es bueno? ¿Por qué los resultados con tres niveles y sin especificar profundidad máxima son iguales? ¿Qué significa que el valor de Gini de cada etapa se reduzca?\n",
    "</ol>"
   ]
  },
  {
   "cell_type": "code",
   "execution_count": 72,
   "id": "bf887ef1-98da-4c86-84e2-09daa8111d32",
   "metadata": {},
   "outputs": [
    {
     "name": "stdout",
     "output_type": "stream",
     "text": [
      "Entrenamiento:\n",
      "Profundidad = 0 - 0.69\n",
      "Prueba:\n",
      "Profundidad = 0 - 0.62\n",
      "\n",
      "Entrenamiento:\n",
      "Profundidad = 1 - 0.96\n",
      "Prueba:\n",
      "Profundidad = 1 - 0.92\n",
      "\n",
      "Entrenamiento:\n",
      "Profundidad = 2 - 0.98\n",
      "Prueba:\n",
      "Profundidad = 2 - 0.98\n",
      "\n",
      "Entrenamiento:\n",
      "Profundidad = 3 - 1.0\n",
      "Prueba:\n",
      "Profundidad = 3 - 0.98\n",
      "\n",
      "Entrenamiento:\n",
      "Sin especificiar profundidad: 1.0\n",
      "Prueba:\n",
      "Sin especificiar profundidad: 0.98\n"
     ]
    }
   ],
   "source": [
    "for i in range(4):\n",
    "    print(\"Entrenamiento:\")\n",
    "    print(\"Profundidad = \" + str(i) + \" - \" + str(accuracy_scores_train[i]))\n",
    "    \n",
    "    print(\"Prueba:\")\n",
    "    print(\"Profundidad = \" + str(i) + \" - \" + str(accuracy_scores_test[i]) + \"\\n\")\n",
    "    \n",
    "    if i == 3:\n",
    "        print(\"Entrenamiento:\")\n",
    "        print(\"Sin especificiar profundidad: \" + str(accuracy_scores_train[i]))\n",
    "\n",
    "        print(\"Prueba:\")\n",
    "        print(\"Sin especificiar profundidad: \" + str(accuracy_scores_test[i]))"
   ]
  },
  {
   "cell_type": "markdown",
   "id": "82676478-6d0f-4736-b1aa-86036e282154",
   "metadata": {},
   "source": [
    "Teóricamente, para ver que no haya overfitting se tiene que ver un buen desempeño tanto en el conjunto de entrenamiento como en el de prueba. Basados en esto, el modelo con mejor desempeño es el primero cuya profundidad es igual a uno; esto, puesto que tiene la precisión más alta posible para ambos conjuntos, por lo que lo hace bastante bien, Sin embargo, puede que este capturando bastantes impurezas, pero eso se observaría con el parámetro gini en cada de uno de lo modelos calculados para ver si aumentar la profundidad ayuda al modelo. Por otro lado, vemos que hay pequeños indicios de overfitting para los modelos con profundidad igual a 2 y 3 porque su desempeño es mejor en el  conjunto  de entrenamiento que  en el de prueba. Sin embargo, vemos que el modelo con profundidad igual a tres y sin eespecificar tienen el mismo desempeño, esto se puede deber a solo dos opciones: Como el default de muestra mínima es 2, entonces el número de elementos en una de las hojas tiene dos elementos; la otra posibilidad es que ya todas las hojas son puras en ambos casos de profunidad. Que el coeficiente gini se reduzca en cada etapa significa que las impurezas en cada nodo en cada etapa son cada vez menores."
   ]
  },
  {
   "cell_type": "markdown",
   "id": "3c8655b3-a0f6-477e-9690-6b90f8c17f52",
   "metadata": {},
   "source": [
    "<ol type=\"I\"> \n",
    "    <li> Calcula la importancia relativa de los atributos. \n",
    "</ol>\n",
    "<br>\n",
    "<p>Veamos si se guardaron correctamente los modelos en la lista:</p>"
   ]
  },
  {
   "cell_type": "code",
   "execution_count": 46,
   "id": "6e25dda8-57f5-4e79-bf1a-538865eaca57",
   "metadata": {},
   "outputs": [
    {
     "data": {
      "text/plain": [
       "[DecisionTreeClassifier(max_depth=1, random_state=0),\n",
       " DecisionTreeClassifier(max_depth=2, random_state=0),\n",
       " DecisionTreeClassifier(max_depth=3, random_state=0),\n",
       " DecisionTreeClassifier(random_state=0)]"
      ]
     },
     "execution_count": 46,
     "metadata": {},
     "output_type": "execute_result"
    }
   ],
   "source": [
    "tree_model"
   ]
  },
  {
   "cell_type": "code",
   "execution_count": 43,
   "id": "9e0f41c5-5e69-44ea-8b0c-59dfcc4c9b27",
   "metadata": {},
   "outputs": [],
   "source": [
    "def plot_feature_importances(model, i):\n",
    "    plt.figure(figsize=(10,3))\n",
    "    n_features = data.data.shape[1] \n",
    "    if i == 4:\n",
    "        profundidad = \"No especificada\"\n",
    "    else:\n",
    "        profundidad = i\n",
    "    \n",
    "    plt.barh(range(n_features), model.feature_importances_, \n",
    "             align='center', color = 'royalblue',\n",
    "             edgecolor = 'pink', linewidth = 2 )\n",
    "    plt.yticks(np.arange(n_features), \n",
    "               data.feature_names,\n",
    "               fontsize = 10,\n",
    "               color = 'darkviolet',\n",
    "               fontweight = 'bold')\n",
    "    plt.xticks(fontsize = 10,\n",
    "               color = 'darkviolet',\n",
    "               fontweight = 'bold')\n",
    "    plt.xlabel(\"Importancia relativa de  los atributos para profundidad = \" + str(profundidad), \n",
    "               fontsize = 13, fontweight = 'bold',\n",
    "               color = 'maroon')\n",
    "    plt.ylabel(\"Característica\", fontsize = 12, \n",
    "               fontweight = 'bold', color = 'maroon')\n",
    "    plt.grid(color = 'limegreen', \n",
    "             linestyle='-',\n",
    "             alpha = 0.7)"
   ]
  },
  {
   "cell_type": "code",
   "execution_count": 44,
   "id": "32c2e19f-1287-4c31-bc01-952229e61a81",
   "metadata": {},
   "outputs": [
    {
     "data": {
      "image/png": "[encoded data removed]",
      "text/plain": [
       "<Figure size 720x216 with 1 Axes>"
      ]
     },
     "metadata": {
      "needs_background": "light"
     },
     "output_type": "display_data"
    },
    {
     "data": {
      "image/png": "[encoded data removed]",
      "text/plain": [
       "<Figure size 720x216 with 1 Axes>"
      ]
     },
     "metadata": {
      "needs_background": "light"
     },
     "output_type": "display_data"
    },
    {
     "data": {
      "image/png": "[encoded data removed]",
      "text/plain": [
       "<Figure size 720x216 with 1 Axes>"
      ]
     },
     "metadata": {
      "needs_background": "light"
     },
     "output_type": "display_data"
    },
    {
     "data": {
      "image/png": "[encoded data removed]",
      "text/plain": [
       "<Figure size 720x216 with 1 Axes>"
      ]
     },
     "metadata": {
      "needs_background": "light"
     },
     "output_type": "display_data"
    }
   ],
   "source": [
    "for i in range(4):\n",
    "    plot_feature_importances(tree_model[i],i+1)"
   ]
  },
  {
   "cell_type": "markdown",
   "id": "59ebe7f5-77be-486a-9eba-effb53a2eed0",
   "metadata": {},
   "source": [
    "<ol type=\"I\"> \n",
    "    <li> Para la misma base de datos construye árboles de decisión con profundidad = 3, pero ahora en vez de utilizar los cuatro atributos usa por separado todas las combinaciones posibles de parejas.\n",
    "</ol>"
   ]
  },
  {
   "cell_type": "code",
   "execution_count": 57,
   "id": "364fb94b-65b6-4f3b-90fb-7acbfdaae0ba",
   "metadata": {},
   "outputs": [
    {
     "data": {
      "text/plain": [
       "(150, 4)"
      ]
     },
     "execution_count": 57,
     "metadata": {},
     "output_type": "execute_result"
    }
   ],
   "source": [
    "# Veamos cómo está guardada la data\n",
    "data.data.shape"
   ]
  },
  {
   "cell_type": "markdown",
   "id": "907a7ba1-756c-46c0-bb9e-3e3b7b0c9709",
   "metadata": {},
   "source": [
    "Análogamente a un inciso anterior, guardaremos la precisión de los distintos modelos en una lista."
   ]
  },
  {
   "cell_type": "code",
   "execution_count": 69,
   "id": "642cb623-abf8-4c11-9289-300cabfddb1f",
   "metadata": {},
   "outputs": [],
   "source": [
    "accuracy_scores_train_3 = np.ones((4))\n",
    "accuracy_scores_test_3 = np.ones((4))\n",
    "names = [i for i in data.feature_names]"
   ]
  },
  {
   "cell_type": "code",
   "execution_count": 73,
   "id": "952a2e37-5b4f-45cd-96d8-40cc9eabe856",
   "metadata": {},
   "outputs": [],
   "source": [
    "for i in range(4):\n",
    "    X = data.data[:,i].reshape(-1, 1)\n",
    "    y = data.target\n",
    "    X_train, X_test, y_train, y_test = train_test_split(X,y, \n",
    "                                                        random_state = 0, \n",
    "                                                        test_size = 1/3)\n",
    "    tree = DecisionTreeClassifier(max_depth = 3,\n",
    "                                  random_state = 0)\n",
    "    \n",
    "    tree.fit(X_train, y_train)\n",
    "    \n",
    "    accuracy_scores_train_3[i] = tree.score(X_train, y_train)\n",
    "    accuracy_scores_test_3[i] = tree.score(X_test, y_test)"
   ]
  },
  {
   "cell_type": "markdown",
   "id": "3d4e288b-9150-4aee-aba4-2ae24b384407",
   "metadata": {},
   "source": [
    "<ol type=\"I\"> \n",
    "    <li> Imprime pruebas de exactitud con los conjuntos de entrenamiento y de prueba.\n",
    "</ol>"
   ]
  },
  {
   "cell_type": "code",
   "execution_count": 74,
   "id": "d391f635-0d25-4c0d-adab-89ede08ddee8",
   "metadata": {},
   "outputs": [
    {
     "name": "stdout",
     "output_type": "stream",
     "text": [
      "Atributo: sepal length (cm)\n",
      "Entrenamiento:\n",
      "Precisión = 0.78\n",
      "Prueba:\n",
      "Precisión = 0.68\n",
      "\n",
      "Atributo: sepal width (cm)\n",
      "Entrenamiento:\n",
      "Precisión = 0.57\n",
      "Prueba:\n",
      "Precisión = 0.62\n",
      "\n",
      "Atributo: petal length (cm)\n",
      "Entrenamiento:\n",
      "Precisión = 0.96\n",
      "Prueba:\n",
      "Precisión = 0.92\n",
      "\n",
      "Atributo: petal width (cm)\n",
      "Entrenamiento:\n",
      "Precisión = 0.96\n",
      "Prueba:\n",
      "Precisión = 0.96\n",
      "\n"
     ]
    }
   ],
   "source": [
    "for i in range(4):\n",
    "    print(\"Atributo: \" + str(names[i]))\n",
    "    print(\"Entrenamiento:\")\n",
    "    print(\"Precisión = \" + str(accuracy_scores_train_3[i]))\n",
    "    \n",
    "    print(\"Prueba:\")\n",
    "    print(\"Precisión = \" + str(accuracy_scores_test_3[i]) + \"\\n\")"
   ]
  },
  {
   "cell_type": "markdown",
   "id": "7764bca1-fb89-425e-bfb4-da7d76cb97ab",
   "metadata": {},
   "source": [
    "<ol type=\"I\"> \n",
    "    <li> Crees que tus resultados son consistentes con el resultado de importancia relativa de los atributos obtenido en el caso en que se usan los cuatro atributos para el análisis.\n",
    "</ol>"
   ]
  },
  {
   "cell_type": "markdown",
   "id": "ff8b19b4-1599-4762-9d1d-a8e74ee7f387",
   "metadata": {},
   "source": [
    "Vemos que en general son consistentes puesto que cuanto mayor sea la importancia del atributo, mayor es su precisión. Sin embargo, viendo los gráficos, se aprecia que esta regla es cierta para los atributos de mayor improtancia que son los primeros dos atributos mostrados en el gráfico de barras para una profundidad igual a tres, pero para  los atributos de menor importancia no se cumple tal cual esta regla puesto que hay un atributo que no tiene importancia en el modelo, *sepal length (cm)*, que obtiene un mayor desempeño que el atributo *sepal width (cm)* que sí tiene un pequeño nivel de importancia y no nulo. Sin embargo, no se descarta que esto se pueda deber a un problema de falta de validación cruzada, es decir, que se haya escogido por accidente un dataframe conveniente para dicho atributo"
   ]
  }
 ],
 "metadata": {
  "kernelspec": {
   "display_name": "Python 3",
   "language": "python",
   "name": "python3"
  },
  "language_info": {
   "codemirror_mode": {
    "name": "ipython",
    "version": 3
   },
   "file_extension": ".py",
   "mimetype": "text/x-python",
   "name": "python",
   "nbconvert_exporter": "python",
   "pygments_lexer": "ipython3",
   "version": "3.8.8"
  }
 },
 "nbformat": 4,
 "nbformat_minor": 5
}
