{
 "cells": [
  {
   "cell_type": "markdown",
   "id": "cfdb5f21-e1e3-47b6-bce8-fab2c84e5abb",
   "metadata": {},
   "source": [
    "1.- ¿A que se debe que los sistemas reflexivos no puedan analizarse a través de teoremas (análisis lógicos)? \n",
    "\n",
    "**Estos sistema de retroalimentación son complejos donde el comportamiento general del sistema no puede ser predicho, con un grado de certeza total, pero sí se pueden hacer inferencias sobre el comportamiento como grupo del sistema, comportamientos generales. Si bien, los teoremas podrían predecir, bajo ciertas  consideraciones, el comportamiento individual de un elemento en el sistema, ya se vuelve casi imposible predecir su comportamiento en grupo.**\n",
    "\n",
    "**Se tiene que considerar que en estos casos, más que querer obtener una predicción exacta, se tiene que pensar en distribuciones de probabilidad asociadas a distintos eventos.**\n",
    "\n",
    "**Sin embargo, yo discrepo en parte con las limitaciones ya que el problema de los sistemas complejos es el poder tener la capacidad de hacer todos los cálculos, por lo cual, con la evolución del computo, se podrán analizar sistemas cada vez más complejos (como por Hartree-Fock) con predicciones más puntuales y no tanto probabilísticas.**"
   ]
  },
  {
   "cell_type": "markdown",
   "id": "ce4df47f-e76e-47a1-af06-e153a011b09c",
   "metadata": {},
   "source": [
    "2.- ¿Por qué los comportamientos macroscópicos no pueden interpretarse mediante simples consideraciones de agencia?\n",
    "\n",
    "**Hay algunas razones importantes asociadas a esto, una de ellas es que los supuestos de estas consideraciones de agencia pueden cambiar a lo largo del tiempo, por lo que ya no se podrían obtener interpretaciones realistas o adecuadas a partir de consideraciones estáticas. POr otro lado, dentro del sistema macroscópico, no todos los agentes tienen los mismos objetivos, mismo impacto, influencia, etc; es por esto que con los efectos podrían ser muy distintos en el sistema macroscópico de agente a agente, lo cual es contraintuitivo usando consideraciones simples de agencia.**"
   ]
  },
  {
   "cell_type": "markdown",
   "id": "1df501e6-a93e-4a1c-8613-f9d7b61ad2b6",
   "metadata": {},
   "source": [
    "3.-  A partir de un diccionario, crea un contador del número de letras que usa una palabra"
   ]
  },
  {
   "cell_type": "code",
   "execution_count": 26,
   "id": "69ab55a5-eea6-4a98-84c2-51294c3b5136",
   "metadata": {},
   "outputs": [],
   "source": [
    "def ejer_3(palabra):\n",
    "    contador = {}\n",
    "    \n",
    "    for letra in list(palabra.lower()):\n",
    "        if letra not in contador:\n",
    "            contador[letra] = 0\n",
    "        contador[letra] += 1\n",
    "        \n",
    "    for llave, valor in contador.items():\n",
    "        print(llave, valor)   "
   ]
  },
  {
   "cell_type": "code",
   "execution_count": 27,
   "id": "95e5ab9f-53b7-41e5-ac35-dd65239a4979",
   "metadata": {},
   "outputs": [
    {
     "name": "stdout",
     "output_type": "stream",
     "text": [
      "m 1\n",
      "u 1\n",
      "r 3\n",
      "c 2\n",
      "i 1\n",
      "e 1\n",
      "l 1\n",
      "a 1\n",
      "g 1\n",
      "o 4\n",
      "  1\n",
      "t 1\n"
     ]
    }
   ],
   "source": [
    "palabra = \"Murcielago cotorro\"\n",
    "ejer_3(palabra)"
   ]
  },
  {
   "cell_type": "markdown",
   "id": "5d9d0c8c-e93a-4ef9-86dd-53153810e886",
   "metadata": {},
   "source": [
    "4.- Los diccionarios tienen un método get que presenta una llave (key) y un valor de default. Si la llave aparece en el diccionario regresa el valor correspondiente, en caso contrario le asigna a la llave el valor de default.  Ejemplo:\n",
    "\n",
    "```\n",
    "counts = { 'chuck' : 1 , 'annie' : 42, 'jan': 100}\n",
    "print(counts.get('jan', 0))\n",
    "100\n",
    "print(counts.get('tim', 0))\n",
    "0\n",
    "```\n",
    "\n",
    "Utiliza este método para escribir la rutina del ejercicio 3 de forma más concisa."
   ]
  },
  {
   "cell_type": "code",
   "execution_count": 13,
   "id": "4a4172da-6c45-47b3-810a-96e48a124756",
   "metadata": {},
   "outputs": [],
   "source": [
    "def ejer_4(palabra):\n",
    "    contador = {}    \n",
    "    for letra in list(palabra.lower()):\n",
    "        if contador.get(letra, 0) == 0:\n",
    "            contador[letra] = 0\n",
    "        contador[letra] += 1        \n",
    "    for llave, valor in contador.items():\n",
    "        print(llave, valor)"
   ]
  },
  {
   "cell_type": "code",
   "execution_count": 12,
   "id": "e4b5b799-71a7-4f98-9800-fc8b60821384",
   "metadata": {},
   "outputs": [
    {
     "name": "stdout",
     "output_type": "stream",
     "text": [
      "m 1\n",
      "u 1\n",
      "r 3\n",
      "c 2\n",
      "i 1\n",
      "e 1\n",
      "l 1\n",
      "a 1\n",
      "g 1\n",
      "o 4\n",
      "  1\n",
      "t 1\n"
     ]
    }
   ],
   "source": [
    "palabra = \"Murcielago cotorro\"\n",
    "ejer_4(palabra)"
   ]
  },
  {
   "cell_type": "markdown",
   "id": "3668ef9d-1848-4ccc-95c4-9bf2d9e3d18d",
   "metadata": {},
   "source": [
    "5.-  Usando una lista, el loop de while, y el comando len(lista) que mide el tamaño de una lista, calcular el valor promedio de los números que aparecen en una lista dada"
   ]
  },
  {
   "cell_type": "code",
   "execution_count": 28,
   "id": "993f0f84-1c8a-4464-bb58-e3719705e400",
   "metadata": {},
   "outputs": [],
   "source": [
    "def ejer_5(lista):\n",
    "    contador = 0\n",
    "    promedio = 0\n",
    "    \n",
    "    while contador <= len(lista)-1:\n",
    "        promedio += lista[contador]/len(lista)\n",
    "        contador += 1\n",
    "    print(promedio)"
   ]
  },
  {
   "cell_type": "code",
   "execution_count": 29,
   "id": "26b35506-3380-47f6-bf65-db8248c99d04",
   "metadata": {},
   "outputs": [
    {
     "name": "stdout",
     "output_type": "stream",
     "text": [
      "3.5\n"
     ]
    }
   ],
   "source": [
    "lista = [2,3,4,5]\n",
    "ejer_5(lista)"
   ]
  },
  {
   "cell_type": "markdown",
   "id": "5f3dbed5-a524-46c4-b7a8-dd9f8b5c15f5",
   "metadata": {},
   "source": [
    "6.- Considera el siguiente código:\n",
    "\n",
    "```{Python}\n",
    "list_of_ints_in_strings = ['42', '65', '12']\n",
    "list_of_ints = []\n",
    "for x in list_of_ints_in_strings:\n",
    "    list_of_ints.append(int(x))\n",
    "print(sum(list_of_ints))\n",
    "```\n",
    "¿Qué es lo que hace este código? \n",
    "**A partir de una lista que contiene número como datos tipo string se asignan, por medio de un loop, los valores tipo entero a otra lista. Después, obtiene la suma de los elementos de esta última lista.**\n",
    "\n",
    "¿Cómo podrías reducir el código mediante una compresión de lista?"
   ]
  },
  {
   "cell_type": "code",
   "execution_count": 3,
   "id": "2550f2a6-edef-4d97-840a-7c15599d9360",
   "metadata": {},
   "outputs": [],
   "source": [
    "list_of_ints = [int(i) for i in ['42', '65', '12']]"
   ]
  },
  {
   "cell_type": "code",
   "execution_count": 4,
   "id": "d92dc807-cbb7-476b-989d-1f60125601fd",
   "metadata": {},
   "outputs": [
    {
     "name": "stdout",
     "output_type": "stream",
     "text": [
      "[42, 65, 12]\n"
     ]
    }
   ],
   "source": [
    "print(list_of_ints)"
   ]
  },
  {
   "cell_type": "markdown",
   "id": "d47a21e6-7d42-4145-ab13-a4b0c254b274",
   "metadata": {},
   "source": [
    "¿Cómo podrías excluir de la suma a los valores mayores a 60?"
   ]
  },
  {
   "cell_type": "code",
   "execution_count": 6,
   "id": "f73067a6-8e31-487d-983c-b7b0a18cdb42",
   "metadata": {},
   "outputs": [],
   "source": [
    "list_of_ints = [int(i) for i in ['42', '65', '12'] if int(i) > 60]"
   ]
  },
  {
   "cell_type": "code",
   "execution_count": 7,
   "id": "1e5e1e3b-aae1-4c0b-8803-f6321bffe250",
   "metadata": {},
   "outputs": [
    {
     "name": "stdout",
     "output_type": "stream",
     "text": [
      "[65]\n"
     ]
    }
   ],
   "source": [
    "print(list_of_ints)"
   ]
  }
 ],
 "metadata": {
  "kernelspec": {
   "display_name": "Python 3",
   "language": "python",
   "name": "python3"
  },
  "language_info": {
   "codemirror_mode": {
    "name": "ipython",
    "version": 3
   },
   "file_extension": ".py",
   "mimetype": "text/x-python",
   "name": "python",
   "nbconvert_exporter": "python",
   "pygments_lexer": "ipython3",
   "version": "3.8.8"
  }
 },
 "nbformat": 4,
 "nbformat_minor": 5
}
