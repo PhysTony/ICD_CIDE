{
 "cells": [
  {
   "cell_type": "markdown",
   "id": "331c7775-50bf-47e4-a382-2f2a9ba9cfef",
   "metadata": {},
   "source": [
    "Equipo 1. Dado un número entero, realiza las siguientes acciones condicionales:\n",
    "- Si n es impar, imprima Weird\n",
    "- Si n es par y está en el rango inclusivo de 2 a 5, imprima No extraño\n",
    "- Si n es par y está en el rango inclusivo de 6 a 20 , imprima Weird\n",
    "- Si n es par y mayor que 20 , imprima Not Weird"
   ]
  },
  {
   "cell_type": "code",
   "execution_count": 17,
   "id": "84796fc7-d0fe-4eba-8ae3-706505342b19",
   "metadata": {},
   "outputs": [],
   "source": [
    "def ejer_1(entero):\n",
    "    res = entero%2\n",
    "    print(\"El residuo es: \" + str(res))\n",
    "    if res == 1:\n",
    "        print(\"Wierd\")\n",
    "    elif res == 0 and entero in range(1,6):\n",
    "        print(\"No extraño\")\n",
    "    elif res == 0 and entero in range(6,21):\n",
    "        print(\"Weird\")\n",
    "    elif res == 0  and entero > 20:\n",
    "        print(\"Not Weird\")\n",
    "    else:\n",
    "        print(\"No es entero\")"
   ]
  },
  {
   "cell_type": "code",
   "execution_count": 18,
   "id": "e94b0ccf-de0c-4852-b824-5f7fc673c530",
   "metadata": {},
   "outputs": [
    {
     "name": "stdout",
     "output_type": "stream",
     "text": [
      "El residuo es: 0\n",
      "Weird\n"
     ]
    }
   ],
   "source": [
    "entero = 6\n",
    "ejer_1(entero)"
   ]
  },
  {
   "cell_type": "markdown",
   "id": "def63b8c-7924-451c-bb7b-10d3cc9ac4fe",
   "metadata": {},
   "source": [
    "Equiipo 2: Lee un entero, para todos los enteros positivos imprime el cuadrado. "
   ]
  },
  {
   "cell_type": "code",
   "execution_count": 19,
   "id": "f2c2d35f-3571-4e12-a282-7be1dd202da4",
   "metadata": {},
   "outputs": [],
   "source": [
    "def ejer_2(entero):\n",
    "    if entero > 0:\n",
    "        print(entero**2)\n",
    "    else:\n",
    "        print(str(entero) + \" no es positivo\")"
   ]
  },
  {
   "cell_type": "code",
   "execution_count": 22,
   "id": "8262ef03-7cb8-4d5a-9d10-4a642ce0ea5c",
   "metadata": {},
   "outputs": [
    {
     "name": "stdout",
     "output_type": "stream",
     "text": [
      "64\n"
     ]
    }
   ],
   "source": [
    "entero = 8\n",
    "ejer_2(entero)"
   ]
  },
  {
   "cell_type": "markdown",
   "id": "21828740-accd-49e8-ba1b-28f5334fc456",
   "metadata": {},
   "source": [
    "Equipo 3.  Suma todos los elementos de una lista"
   ]
  },
  {
   "cell_type": "code",
   "execution_count": 23,
   "id": "1bb9caf3-965d-4b61-b380-95afcf6f472d",
   "metadata": {},
   "outputs": [],
   "source": [
    "def ejer_3(lista):\n",
    "    suma = 0\n",
    "    for i in range(0,len(lista)):\n",
    "        suma = suma + lista[i]\n",
    "    print(\"La suma de los elementos de la lista es: \" + str(suma))"
   ]
  },
  {
   "cell_type": "code",
   "execution_count": 24,
   "id": "d79303b0-f803-4ace-9fde-26a2d8e66d85",
   "metadata": {},
   "outputs": [
    {
     "name": "stdout",
     "output_type": "stream",
     "text": [
      "La suma de los elementos de la lista es: 12.899999999999999\n"
     ]
    }
   ],
   "source": [
    "lista = [9.1,-5.3,2,7.1]\n",
    "ejer_3(lista)"
   ]
  },
  {
   "cell_type": "markdown",
   "id": "8eec4394-21b5-4dd5-84b5-f44949de71a2",
   "metadata": {},
   "source": [
    "Equipo 4. Quita los datos repetidos de una lista"
   ]
  },
  {
   "cell_type": "code",
   "execution_count": 1,
   "id": "d0ebb02a-470b-4976-ae89-9aa0dbec3906",
   "metadata": {},
   "outputs": [],
   "source": [
    "lista = [2,3,4,5,4,5]"
   ]
  },
  {
   "cell_type": "code",
   "execution_count": 2,
   "id": "aaa1e3eb-28dc-435d-b846-84a46add91b0",
   "metadata": {
    "collapsed": true,
    "jupyter": {
     "outputs_hidden": true
    },
    "tags": []
   },
   "outputs": [
    {
     "ename": "IndexError",
     "evalue": "list index out of range",
     "output_type": "error",
     "traceback": [
      "\u001b[0;31m---------------------------------------------------------------------------\u001b[0m",
      "\u001b[0;31mIndexError\u001b[0m                                Traceback (most recent call last)",
      "\u001b[0;32m<ipython-input-2-1433484d2283>\u001b[0m in \u001b[0;36m<module>\u001b[0;34m\u001b[0m\n\u001b[1;32m      1\u001b[0m \u001b[0;32mfor\u001b[0m \u001b[0mi\u001b[0m \u001b[0;32min\u001b[0m \u001b[0mrange\u001b[0m\u001b[0;34m(\u001b[0m\u001b[0mlen\u001b[0m\u001b[0;34m(\u001b[0m\u001b[0mlista\u001b[0m\u001b[0;34m)\u001b[0m\u001b[0;34m)\u001b[0m\u001b[0;34m:\u001b[0m\u001b[0;34m\u001b[0m\u001b[0;34m\u001b[0m\u001b[0m\n\u001b[1;32m      2\u001b[0m     \u001b[0;32mif\u001b[0m \u001b[0mi\u001b[0m \u001b[0;34m<\u001b[0m \u001b[0mlen\u001b[0m\u001b[0;34m(\u001b[0m\u001b[0mlista\u001b[0m\u001b[0;34m)\u001b[0m\u001b[0;34m:\u001b[0m\u001b[0;34m\u001b[0m\u001b[0;34m\u001b[0m\u001b[0m\n\u001b[0;32m----> 3\u001b[0;31m         \u001b[0;32mif\u001b[0m \u001b[0mlista\u001b[0m\u001b[0;34m[\u001b[0m\u001b[0mi\u001b[0m\u001b[0;34m]\u001b[0m \u001b[0;34m==\u001b[0m \u001b[0mlista\u001b[0m\u001b[0;34m[\u001b[0m\u001b[0mi\u001b[0m\u001b[0;34m+\u001b[0m\u001b[0;36m1\u001b[0m\u001b[0;34m]\u001b[0m\u001b[0;34m:\u001b[0m\u001b[0;34m\u001b[0m\u001b[0;34m\u001b[0m\u001b[0m\n\u001b[0m\u001b[1;32m      4\u001b[0m             \u001b[0;32mdel\u001b[0m \u001b[0mlista\u001b[0m\u001b[0;34m[\u001b[0m\u001b[0mi\u001b[0m\u001b[0;34m+\u001b[0m\u001b[0;36m1\u001b[0m\u001b[0;34m]\u001b[0m\u001b[0;34m\u001b[0m\u001b[0;34m\u001b[0m\u001b[0m\n",
      "\u001b[0;31mIndexError\u001b[0m: list index out of range"
     ]
    }
   ],
   "source": [
    "for i in range(len(lista)):\n",
    "    if i < len(lista):\n",
    "        if lista[i] == lista[i+1]:\n",
    "            del lista[i+1]\n",
    "            \n",
    "for i in range(len(lista)):\n",
    "    indicador = 0\n",
    "    \n",
    "    print(lista[i])\n",
    "    if i < len(lista)-1:\n",
    "        if lista[i] == lista[i+1]:\n",
    "            del lista[i+1]\n",
    "            print(lista[i])\n",
    "\n",
    "            indicador += 1\n",
    "            print(indicador)\n",
    "    if indicador >= 1:\n",
    "        del lista[i]"
   ]
  },
  {
   "cell_type": "code",
   "execution_count": 16,
   "id": "9d59e04e-98c3-4a4e-b881-d90eb6179147",
   "metadata": {},
   "outputs": [
    {
     "data": {
      "text/plain": [
       "[2, 3, 4, 5]"
      ]
     },
     "execution_count": 16,
     "metadata": {},
     "output_type": "execute_result"
    }
   ],
   "source": [
    "lista"
   ]
  },
  {
   "cell_type": "markdown",
   "id": "e1abe2d7-2c6a-452a-8118-7d0656ead4c8",
   "metadata": {},
   "source": [
    "Equipo 5.  Programa que te diga si una lista esta vacia o no"
   ]
  },
  {
   "cell_type": "code",
   "execution_count": 31,
   "id": "587d96ce-e576-41da-9664-b5d272b52339",
   "metadata": {},
   "outputs": [],
   "source": [
    "def ejer_5(lista):\n",
    "    if len(lista) == 0:\n",
    "        print(\"La lista está vacía.\")\n",
    "    else:\n",
    "        print(\"La lista no está vacía.\")"
   ]
  },
  {
   "cell_type": "code",
   "execution_count": 32,
   "id": "e6a5cddb-e72f-4a51-a4f6-3616bc739bde",
   "metadata": {},
   "outputs": [],
   "source": [
    "lista_1 = [3,4]\n",
    "lista_2 = []"
   ]
  },
  {
   "cell_type": "code",
   "execution_count": 33,
   "id": "737673d9-1a2f-4ae1-9be1-1eb287e85b29",
   "metadata": {},
   "outputs": [
    {
     "name": "stdout",
     "output_type": "stream",
     "text": [
      "La lista no está vacía.\n"
     ]
    }
   ],
   "source": [
    "ejer_5(lista_1)"
   ]
  },
  {
   "cell_type": "code",
   "execution_count": 34,
   "id": "52d85fb2-e05a-4162-9817-a7690c31d904",
   "metadata": {},
   "outputs": [
    {
     "name": "stdout",
     "output_type": "stream",
     "text": [
      "La lista está vacía.\n"
     ]
    }
   ],
   "source": [
    "ejer_5(lista_2)"
   ]
  },
  {
   "cell_type": "markdown",
   "id": "993d7bdb-14bb-4bd9-8418-f3e3ade17ce0",
   "metadata": {},
   "source": [
    "Equipo 6. Haz una función que reciba dos listas y te regrese True cuando tienen al menos un valor en común"
   ]
  },
  {
   "cell_type": "code",
   "execution_count": 1,
   "id": "da2e0ef1-8352-41f5-b0c7-5dda312cd32a",
   "metadata": {},
   "outputs": [],
   "source": [
    "lista_1 = [\"a\",\"b\"]\n",
    "lista_2 = [\"a\",\"c\"]"
   ]
  },
  {
   "cell_type": "code",
   "execution_count": null,
   "id": "9f2cd26d-4486-4a4f-951b-7ea2bf35bed9",
   "metadata": {},
   "outputs": [],
   "source": [
    "contador = 0\n",
    "while contador \n",
    "for i in range(len(lista_1)):\n",
    "    for j in range(len(lista_2)):\n",
    "        if lista[i] >= lista[j]:\n",
    "            ind_1, ind_2 = lista.index(lista[i]), lista.index(lista[j])\n",
    "            lista[ind_2], lista[ind_1] = lista[ind_1], lista[ind_2]"
   ]
  },
  {
   "cell_type": "markdown",
   "id": "0014e137-fa7e-44aa-99f4-58cc8f8a507d",
   "metadata": {},
   "source": [
    "Equipo 7.  Quita los números impares de una lista e imprímela"
   ]
  },
  {
   "cell_type": "code",
   "execution_count": 26,
   "id": "c23eb6cd-0cfa-46fa-b0e2-68a84ee74eac",
   "metadata": {},
   "outputs": [],
   "source": [
    "def ejer_7(lista):\n",
    "    for i in lista:\n",
    "        res = i%2\n",
    "\n",
    "        if res == 1:\n",
    "            lista.remove(i)\n",
    "    return lista"
   ]
  },
  {
   "cell_type": "code",
   "execution_count": 27,
   "id": "9186651d-9428-4e4f-8ead-63ad2d2a2c8f",
   "metadata": {},
   "outputs": [
    {
     "name": "stdout",
     "output_type": "stream",
     "text": [
      "[2, 3, 4, 6, 8, 8]\n"
     ]
    }
   ],
   "source": [
    "lista = [2,3,3,4,5,6,7,8,8,9]\n",
    "print(ejer_7(lista))"
   ]
  },
  {
   "cell_type": "markdown",
   "id": "3ac887cc-dcb4-4ea5-9ade-8a2f7f009f88",
   "metadata": {},
   "source": [
    "Equipo 8. Convierte una lista de enteros en una lista de strings"
   ]
  },
  {
   "cell_type": "code",
   "execution_count": 29,
   "id": "a330d2c5-a752-4af2-a18f-f7527315a2b4",
   "metadata": {},
   "outputs": [],
   "source": [
    "def ejer_8(lista):\n",
    "    strings = []\n",
    "    \n",
    "    for i in enteros:\n",
    "        strings.append(str(i))\n",
    "    return strings"
   ]
  },
  {
   "cell_type": "code",
   "execution_count": 30,
   "id": "ed03b6bd-ff63-4e86-a94c-3c5e4bac88ab",
   "metadata": {},
   "outputs": [
    {
     "name": "stdout",
     "output_type": "stream",
     "text": [
      "['2', '3', '3', '4', '5', '6', '7', '8', '9']\n"
     ]
    }
   ],
   "source": [
    "enteros = [2,3,3,4,5,6,7,8,9]\n",
    "\n",
    "print(ejer_8(enteros))"
   ]
  },
  {
   "cell_type": "markdown",
   "id": "2005251c-e560-40e5-bc45-04f1fd620149",
   "metadata": {},
   "source": [
    "Equipo 9. Un programa que te de los valores únicos de una lista"
   ]
  },
  {
   "cell_type": "code",
   "execution_count": 26,
   "id": "a32cecf0-7249-4969-b89a-d5e9a381c7de",
   "metadata": {},
   "outputs": [],
   "source": [
    "lista = [2,3,4,4,5,5]"
   ]
  },
  {
   "cell_type": "code",
   "execution_count": 28,
   "id": "2f9e1f17-092a-4201-80fa-7da6be586634",
   "metadata": {},
   "outputs": [
    {
     "ename": "IndexError",
     "evalue": "list index out of range",
     "output_type": "error",
     "traceback": [
      "\u001b[0;31m---------------------------------------------------------------------------\u001b[0m",
      "\u001b[0;31mIndexError\u001b[0m                                Traceback (most recent call last)",
      "\u001b[0;32m<ipython-input-28-7cc826b6c401>\u001b[0m in \u001b[0;36m<module>\u001b[0;34m\u001b[0m\n\u001b[1;32m      3\u001b[0m \u001b[0;34m\u001b[0m\u001b[0m\n\u001b[1;32m      4\u001b[0m     \u001b[0;32mif\u001b[0m \u001b[0mi\u001b[0m \u001b[0;34m<\u001b[0m \u001b[0mlen\u001b[0m\u001b[0;34m(\u001b[0m\u001b[0mlista\u001b[0m\u001b[0;34m)\u001b[0m\u001b[0;34m:\u001b[0m\u001b[0;34m\u001b[0m\u001b[0;34m\u001b[0m\u001b[0m\n\u001b[0;32m----> 5\u001b[0;31m         \u001b[0;32mif\u001b[0m \u001b[0mlista\u001b[0m\u001b[0;34m[\u001b[0m\u001b[0mi\u001b[0m\u001b[0;34m]\u001b[0m \u001b[0;34m==\u001b[0m \u001b[0mlista\u001b[0m\u001b[0;34m[\u001b[0m\u001b[0mi\u001b[0m\u001b[0;34m+\u001b[0m\u001b[0;36m1\u001b[0m\u001b[0;34m]\u001b[0m\u001b[0;34m:\u001b[0m\u001b[0;34m\u001b[0m\u001b[0;34m\u001b[0m\u001b[0m\n\u001b[0m\u001b[1;32m      6\u001b[0m             \u001b[0;32mdel\u001b[0m \u001b[0mlista\u001b[0m\u001b[0;34m[\u001b[0m\u001b[0mi\u001b[0m\u001b[0;34m+\u001b[0m\u001b[0;36m1\u001b[0m\u001b[0;34m]\u001b[0m\u001b[0;34m\u001b[0m\u001b[0;34m\u001b[0m\u001b[0m\n\u001b[1;32m      7\u001b[0m \u001b[0;31m#            indicador += 1\u001b[0m\u001b[0;34m\u001b[0m\u001b[0;34m\u001b[0m\u001b[0;34m\u001b[0m\u001b[0m\n",
      "\u001b[0;31mIndexError\u001b[0m: list index out of range"
     ]
    }
   ],
   "source": [
    "for i in range(len(lista)):\n",
    "    ind = 0\n",
    "    \n",
    "    if i < len(lista):\n",
    "        if lista[i] == lista[i+1]:\n",
    "            del lista[i+1]\n",
    "#            indicador += 1\n",
    "#        if indicador >= 1:\n",
    " #           del lista[i]"
   ]
  },
  {
   "cell_type": "code",
   "execution_count": null,
   "id": "b7947356-69b0-4cc9-bcbb-0cf2f9ead016",
   "metadata": {},
   "outputs": [],
   "source": []
  },
  {
   "cell_type": "markdown",
   "id": "9342870d-b186-4501-85b9-edae96cea535",
   "metadata": {},
   "source": [
    "Equipo 10. Programa que te de el segundo menos numero de una lista"
   ]
  },
  {
   "cell_type": "markdown",
   "id": "2eb2e04b-4845-43ef-8ac8-d9f3dd120f40",
   "metadata": {},
   "source": [
    "Equipo 11. Que convierta los elementos (enteros) de una lista en un solo numero"
   ]
  },
  {
   "cell_type": "code",
   "execution_count": null,
   "id": "3cc812e6-b3e8-41d3-8b57-568224282c03",
   "metadata": {},
   "outputs": [],
   "source": []
  }
 ],
 "metadata": {
  "kernelspec": {
   "display_name": "Python 3",
   "language": "python",
   "name": "python3"
  },
  "language_info": {
   "codemirror_mode": {
    "name": "ipython",
    "version": 3
   },
   "file_extension": ".py",
   "mimetype": "text/x-python",
   "name": "python",
   "nbconvert_exporter": "python",
   "pygments_lexer": "ipython3",
   "version": "3.8.8"
  }
 },
 "nbformat": 4,
 "nbformat_minor": 5
}
