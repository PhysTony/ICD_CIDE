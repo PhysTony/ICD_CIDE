{
 "cells": [
  {
   "cell_type": "markdown",
   "id": "8ca36e64-d58a-4cbd-a3ee-d62382bda730",
   "metadata": {},
   "source": [
    "Programa que ordene alfabéticamente una lista:"
   ]
  },
  {
   "cell_type": "code",
   "execution_count": 5,
   "id": "371d4eff-288d-4264-9e90-4e6adb607d27",
   "metadata": {},
   "outputs": [],
   "source": [
    "lista = [\"ac\",\"xa\",\"da\",\"a\",\"an\"]"
   ]
  },
  {
   "cell_type": "code",
   "execution_count": 20,
   "id": "e945dcad-221b-4d71-8634-b878805141ae",
   "metadata": {},
   "outputs": [],
   "source": [
    "def fun_sort(lista):\n",
    "    for i in range(len(lista)):\n",
    "    \n",
    "        if i < len(lista)-1:\n",
    "            \n",
    "            for j in range(i,len(lista)):\n",
    "                \n",
    "                if lista[i] >= lista[j]:\n",
    "                    \n",
    "                    ind_1, ind_2 = lista.index(lista[i]), lista.index(lista[j])\n",
    "                    lista[ind_2], lista[ind_1] = lista[ind_1], lista[ind_2]  \n",
    "    return lista"
   ]
  },
  {
   "cell_type": "code",
   "execution_count": 21,
   "id": "71ea6e16-cd0c-409f-8118-e5fe30f3783e",
   "metadata": {},
   "outputs": [
    {
     "name": "stdout",
     "output_type": "stream",
     "text": [
      "['a', 'ac', 'an', 'da', 'xa']\n"
     ]
    }
   ],
   "source": [
    "print(fun_sort(lista))"
   ]
  }
 ],
 "metadata": {
  "kernelspec": {
   "display_name": "Python 3",
   "language": "python",
   "name": "python3"
  },
  "language_info": {
   "codemirror_mode": {
    "name": "ipython",
    "version": 3
   },
   "file_extension": ".py",
   "mimetype": "text/x-python",
   "name": "python",
   "nbconvert_exporter": "python",
   "pygments_lexer": "ipython3",
   "version": "3.8.8"
  }
 },
 "nbformat": 4,
 "nbformat_minor": 5
}
