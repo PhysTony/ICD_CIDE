{
 "cells": [
  {
   "cell_type": "markdown",
   "id": "89c3ab41-2ba3-4040-8d10-3a84b5ba83d5",
   "metadata": {},
   "source": [
    "## Ejercicio 1:\n",
    "\n",
    "Para calcular la diferencia entre los valores máximo y mínimo de una matriz dada a lo largo del segundo eje."
   ]
  },
  {
   "cell_type": "code",
   "execution_count": 2,
   "id": "ce64c23e-0eab-4723-b4b2-09cbcd90cf0c",
   "metadata": {},
   "outputs": [],
   "source": [
    "import numpy as np"
   ]
  },
  {
   "cell_type": "code",
   "execution_count": 6,
   "id": "209e30b5-fa06-496b-9973-f66d348fdcb6",
   "metadata": {},
   "outputs": [
    {
     "name": "stdout",
     "output_type": "stream",
     "text": [
      "[[ 5  0  3  3  7  9]\n",
      " [ 3  5  2  4  7  6]\n",
      " [ 8  8 10  1  6  7]\n",
      " [ 7  8  1  5  9  8]]\n"
     ]
    }
   ],
   "source": [
    "np.random.seed(0)  \n",
    "A = np.random.randint(11, size=(4, 6))\n",
    "print(A)"
   ]
  },
  {
   "cell_type": "code",
   "execution_count": 12,
   "id": "ed33e85d-21a4-47ec-a27c-1b6efc0af075",
   "metadata": {},
   "outputs": [
    {
     "name": "stdout",
     "output_type": "stream",
     "text": [
      "La entrada con el valor más grande es 7.\n",
      "\n",
      "La entrada con el valor más pequeño es 2.\n"
     ]
    }
   ],
   "source": [
    "print(\"La entrada con el valor más grande es \" + str(np.amax(A[1])) + \".\\n\")\n",
    "print(\"La entrada con el valor más pequeño es \" + str(np.amin(A[1])) + \".\")"
   ]
  },
  {
   "cell_type": "code",
   "execution_count": 14,
   "id": "3d17d95e-080c-45ea-a48c-a016a6be9ff9",
   "metadata": {},
   "outputs": [
    {
     "name": "stdout",
     "output_type": "stream",
     "text": [
      "La diferencia entre dichos valores es 5.\n"
     ]
    }
   ],
   "source": [
    "print(\"La diferencia entre dichos valores es \" + str(np.amax(A[1]) - np.amin(A[1])) + \".\")"
   ]
  }
 ],
 "metadata": {
  "kernelspec": {
   "display_name": "Python 3",
   "language": "python",
   "name": "python3"
  },
  "language_info": {
   "codemirror_mode": {
    "name": "ipython",
    "version": 3
   },
   "file_extension": ".py",
   "mimetype": "text/x-python",
   "name": "python",
   "nbconvert_exporter": "python",
   "pygments_lexer": "ipython3",
   "version": "3.8.8"
  }
 },
 "nbformat": 4,
 "nbformat_minor": 5
}
