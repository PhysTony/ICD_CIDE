{
 "cells": [
  {
   "cell_type": "code",
   "execution_count": 1,
   "id": "fa9c26dc",
   "metadata": {},
   "outputs": [],
   "source": [
    "import pandas as pd\n",
    "import numpy as np"
   ]
  },
  {
   "cell_type": "markdown",
   "id": "80637dab",
   "metadata": {},
   "source": [
    "# Laboratorio 2"
   ]
  },
  {
   "cell_type": "markdown",
   "id": "baf193c0",
   "metadata": {},
   "source": [
    "Tarea 1, Elementos esenciales de Python"
   ]
  },
  {
   "cell_type": "markdown",
   "id": "be0f1088",
   "metadata": {},
   "source": [
    "1)Explicar por qué un modelo predictivo no es capaz de explicar relaciones causales. "
   ]
  },
  {
   "cell_type": "markdown",
   "id": "9bbe4e38",
   "metadata": {},
   "source": [
    "Un modelo predictivo puede mostrar una buena exactitud de sus pronósticos pero sin explicar\n",
    "por qué se produce el resulado.La evaluación del pronóstico se lleva a cabo para datos que están \n",
    "fuera de la muestra, pero que se se generan con el mismo proceso estocástico. Por lo tanto, suponen \n",
    "que la distribucion con la que se produce la información se mantiene constante.De aquí que no \n",
    "se aplica para ejercicios contrafactuales, en las que una variable es intervenida."
   ]
  },
  {
   "cell_type": "markdown",
   "id": "a0bb77d7",
   "metadata": {},
   "source": [
    "2)¿Que se requiere para que un modelo empírico pueda ser utilizado como guía para la \n",
    "implementación de políticas públicas?"
   ]
  },
  {
   "cell_type": "markdown",
   "id": "69ce2c87",
   "metadata": {},
   "source": [
    "Por definición una política pública implica la intervención en una determinada variable, por lo que \n",
    "se requiere de un análisis en que los pronósticos se establezcan a partir de variables (predictores)\n",
    "cuyos valores no se generan en la evidencia muestral (i.e, en otra distribución).\n",
    "Los experimentos virtuales (simulaciones), en el laboraotio, en el campo y naturales son convenientes para explixar relaciones causales en las que\n",
    "una variable es intervenida"
   ]
  },
  {
   "cell_type": "markdown",
   "id": "9a5b3b4e",
   "metadata": {},
   "source": [
    "3) Escribe un programa de Python en el que puedas encontrar el máximo valor de una lista o \n",
    "secuencia (utiliza un iterador)."
   ]
  },
  {
   "cell_type": "code",
   "execution_count": 3,
   "id": "9df072ae",
   "metadata": {},
   "outputs": [
    {
     "name": "stdout",
     "output_type": "stream",
     "text": [
      "Before: None\n",
      "Loop: 3 3\n",
      "Loop: 41 41\n",
      "Loop: 12 41\n",
      "Loop: 9 41\n",
      "Loop: 74 74\n",
      "Loop: 15 74\n"
     ]
    }
   ],
   "source": [
    "largest = None\n",
    "print('Before:', largest)\n",
    "for itervar in [3, 41, 12, 9, 74, 15]:\n",
    "     if largest is None or itervar > largest :\n",
    "         largest = itervar\n",
    "     print('Loop:', itervar, largest)"
   ]
  },
  {
   "cell_type": "code",
   "execution_count": 4,
   "id": "6ae5a683",
   "metadata": {},
   "outputs": [
    {
     "name": "stdout",
     "output_type": "stream",
     "text": [
      "Largest: 74\n"
     ]
    }
   ],
   "source": [
    "print('Largest:', largest)"
   ]
  },
  {
   "cell_type": "markdown",
   "id": "31ec5fdf",
   "metadata": {},
   "source": [
    "4) Escribe un programa en el que se cuenta el número de veces en que aparece la letra ‘a’ en la cadena ‘bananas’ "
   ]
  },
  {
   "cell_type": "code",
   "execution_count": 5,
   "id": "26358568",
   "metadata": {},
   "outputs": [
    {
     "name": "stdout",
     "output_type": "stream",
     "text": [
      "3\n"
     ]
    }
   ],
   "source": [
    "word = 'banana'\n",
    "count = 0\n",
    "for letter in word:\n",
    "    if letter == 'a':\n",
    "       count = count + 1\n",
    "print(count)"
   ]
  },
  {
   "cell_type": "markdown",
   "id": "029171ba",
   "metadata": {},
   "source": [
    "5) Escribe una función que calcula el valor factorial de cualquier número entero  "
   ]
  },
  {
   "cell_type": "code",
   "execution_count": 6,
   "id": "27607723",
   "metadata": {},
   "outputs": [],
   "source": [
    "def factorial(n):\n",
    "   k = 1\n",
    "   for i in range(n):\n",
    "      k = k * (i + 1)\n",
    "   return k"
   ]
  },
  {
   "cell_type": "code",
   "execution_count": 9,
   "id": "432665cb",
   "metadata": {},
   "outputs": [
    {
     "data": {
      "text/plain": [
       "620448401733239439360000"
      ]
     },
     "execution_count": 9,
     "metadata": {},
     "output_type": "execute_result"
    }
   ],
   "source": [
    "factorial(24)"
   ]
  },
  {
   "cell_type": "code",
   "execution_count": null,
   "id": "82d8161c",
   "metadata": {},
   "outputs": [],
   "source": [
    "apuesta = 24\n",
    "\n",
    "if apuesta < 0:\n",
    "    apuesta = apuesta * (-1)\n",
    "\n",
    "print(apuesta)    \n",
    "cociente = apuesta // 15\n",
    "print(cociente)\n",
    "residuo = apuesta % 15\n",
    "print(residuo)\n",
    "\n",
    "if cociente > 0:\n",
    "    rv = cociente * (3 + residuo)\n",
    "else: \n",
    "    rv = (cociente + 1.5)*residuo\n",
    "if rv % 7 == 0:\n",
    "    print(\"¡Ganador!\")\n",
    "else:\n",
    "    print(\"Perdedor :(\")"
   ]
  },
  {
   "cell_type": "markdown",
   "id": "189758fd",
   "metadata": {},
   "source": [
    "### Funciones\n",
    "\n",
    "Una función es un mapeo que toma ciertos valores `input`, hace algunas operaciones, y produce un `output`. Hay múltiples razones para hacer funciones:\n",
    "- Permiten reciclar código\n",
    "- Permiten ejecutar instrucciones muy similares pero con la libertad de cambiar solo algunos parámetros\n",
    "- Dan legibilidad al código al abstraer ciertos conceptos\n",
    "\n",
    "Hasta ahora, hemos usado ya varias funciones:\n",
    "- `print` toma texto o números y los imprime en pantalla \n",
    "- `range` toma un número o par de números y devuelve una secuencia de valores ordenados\n",
    "- `zip` toma un par de listas y devuelve, en orden, pares de valores de cada una de ellas\n",
    "- `int` toma un texto o float y devuelve un entero\n",
    "- `str` toma un número y devuelve un string\n",
    "- `math.log` toma un número y devuelve su logaritmo natural\n",
    "\n",
    "Pero hay múltiples ocasiones en las que queremos definir nuestras propias funciones. Python hace esto muy fácil y a continuación explicaremos cómo hacer una función.\n",
    "\n",
    "```\n",
    "def my_function(argument_one, argument_two):\n",
    "    '''\n",
    "    Do something interesting with my function.\n",
    "\n",
    "    Inputs:\n",
    "      argument_one: this is a very important value.\n",
    "      argument_two: this is also an extremely important value\n",
    "\n",
    "    Returns: something magical and mysterious\n",
    "    '''\n",
    "    <do magic here>\n",
    "    <also write some>\n",
    "    <statements>\n",
    "    \n",
    "    return <return_value>\n",
    "```\n",
    "\n",
    "\n",
    "Nota que para definir una función, necesitamos:\n",
    "- `def`, sintaxis esencial en Python para iniciar una función\n",
    "- `my_function`, nombre de una función que debe ser descriptiva de lo que hace\n",
    "- `argument_one/two`, los argumentos de una función, que serán aquellos valores que podrían cambiar cada vez que querramos evaluar nuestra función\n",
    "- `docstring`, documentación de nuestra función. Es muy importante que para funciones no triviales, describamos qué hace la función, para qué, cuáles son los inputs y cuáles son los outputs. Recuerda que hoy sabemos qué estamos haciendo, pero en una semana lo habremos olvidado y es mejor decirle a nuestro yo del futuro para qué sirve cada cosa.\n",
    "- `return`, cuando una función ejecuta código, normalmente obtenemos un valor como resultado. Con `return` declaramos la variable o expresión que queremos que la función regrese al ejecutarse.\n",
    "\n",
    "\n",
    "A continuación un ejemplo de todo esto junto:"
   ]
  },
  {
   "cell_type": "code",
   "execution_count": 2,
   "id": "2942a86f",
   "metadata": {},
   "outputs": [],
   "source": [
    "def obtener_cociente(dividendo, divisor):\n",
    "    '''\n",
    "    Esta función regresa el cociente de una división\n",
    "    \n",
    "    Inputs:\n",
    "        dividendo, número entero a dividir\n",
    "        divisor, número entero entre el cual el dividendo se dividirá\n",
    "    \n",
    "    Output:\n",
    "        cociente de la división\n",
    "    '''\n",
    "    c = dividendo // divisor\n",
    "    return c"
   ]
  },
  {
   "cell_type": "code",
   "execution_count": 3,
   "id": "3b779fc4",
   "metadata": {},
   "outputs": [
    {
     "data": {
      "text/plain": [
       "500"
      ]
     },
     "execution_count": 3,
     "metadata": {},
     "output_type": "execute_result"
    }
   ],
   "source": [
    "obtener_cociente(1000, 2)"
   ]
  },
  {
   "cell_type": "markdown",
   "id": "edaa652d",
   "metadata": {},
   "source": [
    "Hagamos algo más interesante. Con el ejemplo de las máquinas tragamonedas, haz una función que tome como input la apuesta y arroje como resultado un booleano que sea verdadero si la apuesta es ganadora.\n",
    "\n",
    "\n",
    "    Una máquina tragamonedas tiene la siguiente fórmula para determinar si alguien gana premio:\n",
    "    - La apuesta inicial siempre tiene que ser un número mayor a 0\n",
    "    - La apuesta inicial se divide entre 15\n",
    "    - Se toma la parte entera de la división y si es mayor a 0, se multiplica por (3 + el residuo); si es igual a 0, se le agrega 1.5 y se multiplica por el residuo del paso anterior \n",
    "\n",
    "    Ejemplo del paso anterior\n",
    "        - si la apuesta era 2, dividir 2 entre 15 da un cociente entero de 0 y un residuo de 2. Entonces el resultado del paso anterior es 1.5 * 2\n",
    "        - si la apuesta era 34, dividir 34 entre 15 da un cociente entero de 2 y un residuo de 4. Entonces el resultado del paso anterior es 2 * (3+4)\n",
    "\n",
    "\n",
    "    - Finalmente, si el resultado es divisible entre 7, el jugador gana.\n",
    "\n",
    "    Ejemplo, apuesta inicial: 24.\n",
    "    Apuesta inicial entre 15: 1, residuo 9.\n",
    "    1 * (3 + 9) = 10\n",
    "    El residuo de dividir 10 / 7 no es igual a 0.\n",
    "    El jugador no gana."
   ]
  },
  {
   "cell_type": "code",
   "execution_count": 4,
   "id": "d9d8cdf7",
   "metadata": {},
   "outputs": [],
   "source": [
    "def apuesta_ganadora(apuesta):\n",
    "    '''\n",
    "    Tu descripción de la función\n",
    "    '''\n",
    "    pass    ## implementa aquí tu función\n",
    "\n",
    "    return True"
   ]
  },
  {
   "cell_type": "code",
   "execution_count": 32,
   "id": "2cf4e334",
   "metadata": {},
   "outputs": [],
   "source": [
    "DIVISOR_FINAL = 15\n",
    "\n",
    "def apuesta_ganadora(apuesta = 1000):\n",
    "    '''\n",
    "    Esta función calcula si una apuesta es ganadora\n",
    "\n",
    "    Input: Un número que dice el monto de la apuesta\n",
    "\n",
    "    Return: Un booleano que indica si la apuesta es ganadora\n",
    "    '''\n",
    "    cociente = apuesta // DIVISOR_FINAL\n",
    "    residuo = apuesta % DIVISOR_FINAL\n",
    "\n",
    "    if cociente > 0:\n",
    "        resultado = cociente * (3 + residuo)\n",
    "    else: \n",
    "        resultado = (cociente + 1.5)*residuo\n",
    "\n",
    "    if resultado % 7 == 0:\n",
    "        rv = True\n",
    "    else:\n",
    "        rv = False\n",
    "    \n",
    "    return rv"
   ]
  },
  {
   "cell_type": "code",
   "execution_count": 33,
   "id": "6b4100bc",
   "metadata": {},
   "outputs": [],
   "source": [
    "s = apuesta_ganadora(1)"
   ]
  },
  {
   "cell_type": "code",
   "execution_count": 34,
   "id": "b3076c04",
   "metadata": {},
   "outputs": [
    {
     "data": {
      "text/plain": [
       "False"
      ]
     },
     "execution_count": 34,
     "metadata": {},
     "output_type": "execute_result"
    }
   ],
   "source": [
    "apuesta_ganadora(18)"
   ]
  },
  {
   "cell_type": "markdown",
   "id": "637fc2b4",
   "metadata": {},
   "source": [
    "Algo bien importante que debemos notar es que los nombres de las variables que definamos adentro de una función sólo existen dentro de la misma función. A éstas se les llama variables locales, en contraste con variables globales que existen fuera de una función en particular.\n",
    "\n",
    "Por ejemplo, si trato de escribir `apuesta`, `cociente` o `rv` en las siguientes líneas, tendré un error diciendo que no existen tales variables."
   ]
  },
  {
   "cell_type": "code",
   "execution_count": 36,
   "id": "2785795a",
   "metadata": {},
   "outputs": [
    {
     "ename": "NameError",
     "evalue": "name 'cociente' is not defined",
     "output_type": "error",
     "traceback": [
      "\u001b[1;31m---------------------------------------------------------------------------\u001b[0m",
      "\u001b[1;31mNameError\u001b[0m                                 Traceback (most recent call last)",
      "\u001b[1;32m~\\AppData\\Local\\Temp/ipykernel_276/2816505023.py\u001b[0m in \u001b[0;36m<module>\u001b[1;34m\u001b[0m\n\u001b[1;32m----> 1\u001b[1;33m \u001b[0mcociente\u001b[0m\u001b[1;33m\u001b[0m\u001b[1;33m\u001b[0m\u001b[0m\n\u001b[0m",
      "\u001b[1;31mNameError\u001b[0m: name 'cociente' is not defined"
     ]
    }
   ],
   "source": [
    "cociente"
   ]
  },
  {
   "cell_type": "markdown",
   "id": "19052df3",
   "metadata": {},
   "source": [
    "Al definir una función con ciertos argumentos, si queremos evaluar dicha función hay que declarar argumentos.\n",
    "\n",
    "Ahora, de qué nos sirve el resultado de esta función? Dependerá de la aplicación o del problema. Supongamos que cuando una apuesta es ganadora, se paga el doble. Si es perdedora, no hay pago."
   ]
  },
  {
   "cell_type": "code",
   "execution_count": 37,
   "id": "c060a007",
   "metadata": {},
   "outputs": [],
   "source": [
    "resultado = apuesta_ganadora(19)"
   ]
  },
  {
   "cell_type": "code",
   "execution_count": 38,
   "id": "3c4eaa9a",
   "metadata": {},
   "outputs": [
    {
     "data": {
      "text/plain": [
       "True"
      ]
     },
     "execution_count": 38,
     "metadata": {},
     "output_type": "execute_result"
    }
   ],
   "source": [
    "resultado"
   ]
  },
  {
   "cell_type": "code",
   "execution_count": 39,
   "id": "86c995b1",
   "metadata": {},
   "outputs": [
    {
     "name": "stdout",
     "output_type": "stream",
     "text": [
      "38\n"
     ]
    }
   ],
   "source": [
    "apuesta = 19     # ojo, ahora sí estamos definiendo una variable externa llamada apuesta\n",
    "resultado = apuesta_ganadora(apuesta)\n",
    "if resultado:\n",
    "    pago = apuesta*2   ## qué tal que en el futuro queremos cambiar el pago?\n",
    "else:\n",
    "    pago = 0\n",
    "    \n",
    "print(pago)"
   ]
  },
  {
   "cell_type": "markdown",
   "id": "428722e8",
   "metadata": {},
   "source": [
    "¿Podríamos hacer ahora una función que tome como `input` la apuesta y nos regrese el valor a pagar (si es que hay algo por pagar)?"
   ]
  },
  {
   "cell_type": "code",
   "execution_count": 40,
   "id": "6a1c87f2",
   "metadata": {},
   "outputs": [
    {
     "data": {
      "text/plain": [
       "76"
      ]
     },
     "execution_count": 40,
     "metadata": {},
     "output_type": "execute_result"
    }
   ],
   "source": [
    "def pago_apuesta(apuesta, mult):\n",
    "    if apuesta_ganadora(apuesta):\n",
    "        pago = apuesta*mult\n",
    "    else:\n",
    "        pago = 0\n",
    "    return pago\n",
    "\n",
    "pago_apuesta(19, 4)"
   ]
  },
  {
   "cell_type": "markdown",
   "id": "fdd2f1a0",
   "metadata": {},
   "source": [
    "#### Argumentos\n",
    "\n",
    "¿Siempre son necesarios? No, hay muchas funciones que no necesitan argumentos y harán su trabajo. Dependiendo de la aplicación, habrá veces que querramos escribir funciones con o sin argumentos. Por ejemplo, simplifiquemos el cálculo de arriba y digamos que queremos una función que regrese si alguien ganó de manera aleatoria pero sólo el 1% de las ocasiones."
   ]
  },
  {
   "cell_type": "code",
   "execution_count": 41,
   "id": "526d4a66",
   "metadata": {},
   "outputs": [
    {
     "data": {
      "text/plain": [
       "0.08333088472000627"
      ]
     },
     "execution_count": 41,
     "metadata": {},
     "output_type": "execute_result"
    }
   ],
   "source": [
    "# Antes del ejemplo, una función que usaremos:\n",
    "import random\n",
    "random.uniform(0,1)  # genera un valor aleatorio entre 0 y 1"
   ]
  },
  {
   "cell_type": "code",
   "execution_count": 44,
   "id": "af4c78a7",
   "metadata": {},
   "outputs": [],
   "source": [
    "import random\n",
    "rand_val = random.uniform(0,1)\n",
    "def apuesta_ganadora(rand_val):\n",
    "    \n",
    "    win_rate = 0.01\n",
    "    if rand_val < win_rate:\n",
    "        return True\n",
    "    else:\n",
    "        return False"
   ]
  },
  {
   "cell_type": "code",
   "execution_count": 46,
   "id": "b23c36c1",
   "metadata": {},
   "outputs": [
    {
     "data": {
      "text/plain": [
       "False"
      ]
     },
     "execution_count": 46,
     "metadata": {},
     "output_type": "execute_result"
    }
   ],
   "source": [
    "apuesta_ganadora(rand_val)"
   ]
  },
  {
   "cell_type": "markdown",
   "id": "85d6a015",
   "metadata": {},
   "source": [
    "# Listas"
   ]
  },
  {
   "cell_type": "markdown",
   "id": "4c497d63",
   "metadata": {},
   "source": [
    "Una lista es una colección de objetos, estos objetos pueden ser de diferentes tipos. El objetivo es tener una especie de contenedor donde se pueden guardar y acceder facilmente a los objetos"
   ]
  },
  {
   "cell_type": "code",
   "execution_count": 16,
   "id": "eeb35776",
   "metadata": {},
   "outputs": [
    {
     "name": "stdout",
     "output_type": "stream",
     "text": [
      "Hello, monica!\n",
      "Hello, edgar!\n",
      "Hello, ana!\n"
     ]
    }
   ],
   "source": [
    "students = ['monica', 'edgar', 'ana']\n",
    "\n",
    "for student in students:\n",
    "  print(\"Hello, \" + student + \"!\")"
   ]
  },
  {
   "cell_type": "markdown",
   "id": "faab9027",
   "metadata": {},
   "source": [
    "### Crear una lista\n",
    "---\n",
    "Para crear una lista se deben poner los objetos dentro de unos corchetes []\n",
    "\n",
    "**Tip de estilo: intenten dar a listas nombres plurales para distinguirlos de una unidad de esa misma lista**"
   ]
  },
  {
   "cell_type": "code",
   "execution_count": 17,
   "id": "2714004d",
   "metadata": {},
   "outputs": [],
   "source": [
    "dogs = ['border collie', \n",
    "        'australian cattle dog', \n",
    "        'labrador retriever']"
   ]
  },
  {
   "cell_type": "markdown",
   "id": "76f2d4ca",
   "metadata": {},
   "source": [
    "### Obtener un valor dentro una lista\n",
    "\n",
    "Los objetos en una lista se identifican por su posicion en la lista, **empezando con cero**. Para acceder al primer objeto solo pon 0 entre corchetes. El número entre paréntesis, se le conoce como el **índice** del objeto\n",
    "\n",
    "A **Python** se le conoce como un lenguaje [*zero-indexed*](http://en.wikipedia.org/wiki/Zero-based_numbering) \n",
    "(igual que `C`o `Java`)"
   ]
  },
  {
   "cell_type": "code",
   "execution_count": 47,
   "id": "b6c3d4ef",
   "metadata": {},
   "outputs": [
    {
     "name": "stdout",
     "output_type": "stream",
     "text": [
      "border collie\n"
     ]
    }
   ],
   "source": [
    "dogs = ['border collie', 'australian cattle dog',\n",
    "        'labrador retriever']\n",
    "\n",
    "dog = dogs[0]\n",
    "print(dog)"
   ]
  },
  {
   "cell_type": "markdown",
   "id": "56bcdcd9",
   "metadata": {},
   "source": [
    "## Listas y loops"
   ]
  },
  {
   "cell_type": "markdown",
   "id": "f33e100d",
   "metadata": {},
   "source": [
    "Las listas y los loops van de la mano todo el tiempo, te pueden ayudar a hacer procesos más eficientes"
   ]
  },
  {
   "cell_type": "markdown",
   "id": "e518a796",
   "metadata": {},
   "source": [
    "¿Qué creen que está pasando aquí?"
   ]
  },
  {
   "cell_type": "code",
   "execution_count": 20,
   "id": "ef5b821b",
   "metadata": {},
   "outputs": [
    {
     "name": "stdout",
     "output_type": "stream",
     "text": [
      "border collie\n",
      "australian cattle dog\n",
      "labrador retriever\n"
     ]
    }
   ],
   "source": [
    "dogs = ['border collie', 'australian cattle dog', 'labrador retriever']\n",
    "\n",
    "for dog in dogs:\n",
    "    print(dog)"
   ]
  },
  {
   "cell_type": "markdown",
   "id": "9774ec4f",
   "metadata": {},
   "source": [
    "for dog in dogs:\n",
    "\n",
    "- \"For\" nos dice que va a ser un loop \n",
    "-  La variable dog es un variable temporal que cambia de valor cada vez que el loop se invoca de nuevo\n",
    "-  El primer valor es 'border collie', y sucesivamente\n",
    "-  Cuando no hay más valores, el loop acaba"
   ]
  },
  {
   "cell_type": "markdown",
   "id": "b0ce6146",
   "metadata": {},
   "source": [
    "## Enumerando una lista\n",
    "\n",
    "Hay veces que durante un loop te interesa saber cuál es el índice y valor de una lista. Para lograr esto se puede hacer lo siguiente. "
   ]
  },
  {
   "cell_type": "code",
   "execution_count": 21,
   "id": "cc7870c5",
   "metadata": {},
   "outputs": [
    {
     "data": {
      "text/plain": [
       "[(0, 'border collie'), (1, 'australian cattle dog'), (2, 'labrador retriever')]"
      ]
     },
     "execution_count": 21,
     "metadata": {},
     "output_type": "execute_result"
    }
   ],
   "source": [
    "list(enumerate(dogs))"
   ]
  },
  {
   "cell_type": "code",
   "execution_count": 22,
   "id": "ed2579eb",
   "metadata": {},
   "outputs": [
    {
     "name": "stdout",
     "output_type": "stream",
     "text": [
      "Results for the dog show are as follows:\n",
      "\n",
      "Place: 0 Dog: Border Collie\n",
      "Place: 1 Dog: Australian Cattle Dog\n",
      "Place: 2 Dog: Labrador Retriever\n"
     ]
    }
   ],
   "source": [
    "dogs = ['border collie', 'australian cattle dog', 'labrador retriever']\n",
    "\n",
    "print(\"Results for the dog show are as follows:\\n\")\n",
    "for index, dog in enumerate(dogs):\n",
    "    place = str(index)\n",
    "    print(\"Place: \" + place + \" Dog: \" + dog.title())"
   ]
  },
  {
   "cell_type": "markdown",
   "id": "802882c3",
   "metadata": {},
   "source": [
    "## Operaciones cómunes en listas"
   ]
  },
  {
   "cell_type": "markdown",
   "id": "d5f23d13",
   "metadata": {},
   "source": [
    "Modificar los valores de una lista"
   ]
  },
  {
   "cell_type": "code",
   "execution_count": 51,
   "id": "343aad7b",
   "metadata": {},
   "outputs": [
    {
     "name": "stdout",
     "output_type": "stream",
     "text": [
      "['australian shepherd', 'australian cattle dog', 'labrador retriever']\n"
     ]
    }
   ],
   "source": [
    "dogs = ['border collie', 'australian cattle dog', 'labrador retriever']\n",
    "\n",
    "dogs[0] = 'australian shepherd'\n",
    "print(dogs)"
   ]
  },
  {
   "cell_type": "markdown",
   "id": "ae185539",
   "metadata": {},
   "source": [
    "Encontrar los elementos de una lista"
   ]
  },
  {
   "cell_type": "code",
   "execution_count": 24,
   "id": "ccf81776",
   "metadata": {},
   "outputs": [
    {
     "name": "stdout",
     "output_type": "stream",
     "text": [
      "1\n"
     ]
    }
   ],
   "source": [
    "dogs = ['border collie', 'australian cattle dog', 'labrador retriever']\n",
    "print(dogs.index('australian cattle dog'))"
   ]
  },
  {
   "cell_type": "markdown",
   "id": "9f1c4e3a",
   "metadata": {},
   "source": [
    "Probar si un objeto se encuentra dentro de una lista"
   ]
  },
  {
   "cell_type": "code",
   "execution_count": 25,
   "id": "b4a44e9e",
   "metadata": {},
   "outputs": [
    {
     "name": "stdout",
     "output_type": "stream",
     "text": [
      "True\n",
      "False\n"
     ]
    }
   ],
   "source": [
    "dogs = ['border collie', 'australian cattle dog', 'labrador retriever']\n",
    "print('australian cattle dog' in dogs)\n",
    "print('poodle' in dogs)"
   ]
  },
  {
   "cell_type": "code",
   "execution_count": 49,
   "id": "38467b0f",
   "metadata": {},
   "outputs": [],
   "source": [
    "# Agregar valores a una lista\n",
    "\n",
    "dogs = ['border collie', 'australian cattle dog', 'labrador retriever']\n",
    "dogs.append('poodle')"
   ]
  },
  {
   "cell_type": "code",
   "execution_count": 50,
   "id": "90d32bba",
   "metadata": {},
   "outputs": [
    {
     "data": {
      "text/plain": [
       "['border collie', 'australian cattle dog', 'labrador retriever', 'poodle']"
      ]
     },
     "execution_count": 50,
     "metadata": {},
     "output_type": "execute_result"
    }
   ],
   "source": [
    "dogs"
   ]
  },
  {
   "cell_type": "code",
   "execution_count": 28,
   "id": "08f4bd0c",
   "metadata": {},
   "outputs": [
    {
     "name": "stdout",
     "output_type": "stream",
     "text": [
      "['australian cattle dog', 'labrador retriever']\n"
     ]
    }
   ],
   "source": [
    "# Quitar valores con índice\n",
    "\n",
    "dogs = ['border collie', 'australian cattle dog', 'labrador retriever']\n",
    "# Remove the first dog from the list.\n",
    "del dogs[0]\n",
    "print(dogs)"
   ]
  },
  {
   "cell_type": "code",
   "execution_count": 29,
   "id": "de9de41e",
   "metadata": {},
   "outputs": [
    {
     "name": "stdout",
     "output_type": "stream",
     "text": [
      "['border collie', 'labrador retriever']\n"
     ]
    }
   ],
   "source": [
    "# Quitar valores con valor\n",
    "\n",
    "dogs = ['border collie', 'australian cattle dog', 'labrador retriever']\n",
    "# Remove australian cattle dog from the list.\n",
    "dogs.remove('australian cattle dog')\n",
    "print(dogs)"
   ]
  },
  {
   "cell_type": "markdown",
   "id": "576c490f",
   "metadata": {},
   "source": [
    "Encontrar el tamaño de una lista usando la funcion len()"
   ]
  },
  {
   "cell_type": "code",
   "execution_count": 30,
   "id": "2f49b8c8",
   "metadata": {},
   "outputs": [
    {
     "name": "stdout",
     "output_type": "stream",
     "text": [
      "3\n"
     ]
    }
   ],
   "source": [
    "usernames = ['bruno', 'alberto', 'corina']\n",
    "user_count = len(usernames)\n",
    "print(user_count)"
   ]
  },
  {
   "cell_type": "markdown",
   "id": "59a3d50b",
   "metadata": {},
   "source": [
    "La función range() \n",
    "\n",
    "Un modo de crear rapidamente una lista es usando la función range"
   ]
  },
  {
   "cell_type": "code",
   "execution_count": 48,
   "id": "4bf90fe9",
   "metadata": {},
   "outputs": [
    {
     "data": {
      "text/plain": [
       "[1, 2, 3, 4, 5, 6, 7, 8, 9, 10]"
      ]
     },
     "execution_count": 48,
     "metadata": {},
     "output_type": "execute_result"
    }
   ],
   "source": [
    "list(range(1,11))"
   ]
  },
  {
   "cell_type": "code",
   "execution_count": 52,
   "id": "2ec08641",
   "metadata": {},
   "outputs": [
    {
     "data": {
      "text/plain": [
       "[1, 3, 5, 7, 9]"
      ]
     },
     "execution_count": 52,
     "metadata": {},
     "output_type": "execute_result"
    }
   ],
   "source": [
    "list(range(1,11,2))"
   ]
  },
  {
   "cell_type": "code",
   "execution_count": 56,
   "id": "1cdb265a",
   "metadata": {},
   "outputs": [],
   "source": [
    "valor = \"DAniElaPeNA\""
   ]
  },
  {
   "cell_type": "code",
   "execution_count": 57,
   "id": "48a3e476",
   "metadata": {},
   "outputs": [
    {
     "data": {
      "text/plain": [
       "range(0, 11)"
      ]
     },
     "execution_count": 57,
     "metadata": {},
     "output_type": "execute_result"
    }
   ],
   "source": [
    "range(len(valor))"
   ]
  },
  {
   "cell_type": "code",
   "execution_count": 54,
   "id": "5dd51821",
   "metadata": {},
   "outputs": [
    {
     "name": "stdout",
     "output_type": "stream",
     "text": [
      "d\n",
      "da\n",
      "daN\n",
      "daNI\n",
      "daNIe\n",
      "daNIeL\n",
      "daNIeLA\n",
      "daNIeLAp\n",
      "daNIeLApE\n",
      "daNIeLApEn\n",
      "daNIeLApEna\n"
     ]
    }
   ],
   "source": [
    "valor_nuevo = \"\"\n",
    "for i in range(len(valor)):\n",
    "    if valor[i] == valor[i].upper():\n",
    "        valor_nuevo = valor_nuevo + valor[i].lower()\n",
    "    elif valor[i] == valor[i].lower():\n",
    "        valor_nuevo = valor_nuevo + valor[i].upper()\n",
    "\n",
    "    print(valor_nuevo)"
   ]
  },
  {
   "cell_type": "markdown",
   "id": "65811738",
   "metadata": {},
   "source": [
    "Primera iteracion"
   ]
  },
  {
   "cell_type": "code",
   "execution_count": 55,
   "id": "e28b05b5",
   "metadata": {},
   "outputs": [
    {
     "data": {
      "text/plain": [
       "'d'"
      ]
     },
     "execution_count": 55,
     "metadata": {},
     "output_type": "execute_result"
    }
   ],
   "source": [
    "valor_nuevo = \"\"\n",
    "if valor[0] == valor[0].upper():\n",
    "    valor_nuevo = valor_nuevo + valor[0].lower()\n",
    "elif valor[0] == valor[0].lower():\n",
    "    valor_nuevo = valor_nuevo + valor[0].upper()\n",
    "valor_nuevo"
   ]
  },
  {
   "cell_type": "markdown",
   "id": "4b3de77f",
   "metadata": {},
   "source": [
    "¿Cómo lo harias sin usar la funcion range ni len string?"
   ]
  },
  {
   "cell_type": "code",
   "execution_count": null,
   "id": "d3eb58e4",
   "metadata": {},
   "outputs": [],
   "source": []
  }
 ],
 "metadata": {
  "kernelspec": {
   "display_name": "Python 3",
   "language": "python",
   "name": "python3"
  },
  "language_info": {
   "codemirror_mode": {
    "name": "ipython",
    "version": 3
   },
   "file_extension": ".py",
   "mimetype": "text/x-python",
   "name": "python",
   "nbconvert_exporter": "python",
   "pygments_lexer": "ipython3",
   "version": "3.8.8"
  }
 },
 "nbformat": 4,
 "nbformat_minor": 5
}
