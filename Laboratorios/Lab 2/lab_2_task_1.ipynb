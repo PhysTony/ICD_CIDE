{
 "cells": [
  {
   "cell_type": "code",
   "execution_count": 3,
   "id": "d000a299-e7e1-42b7-bb8a-d38f53e55878",
   "metadata": {},
   "outputs": [],
   "source": [
    "def swap_case(text):\n",
    "    if len(text) <= 1000:\n",
    "        return text.swapcase()\n",
    "    else:\n",
    "        print(\"La longitud del texto supera los 1000 caractéres.\")"
   ]
  },
  {
   "cell_type": "code",
   "execution_count": 4,
   "id": "c5fd7635-b691-4c9e-9765-da0b836874b6",
   "metadata": {},
   "outputs": [
    {
     "name": "stdout",
     "output_type": "stream",
     "text": [
      "hOoOLa!\n"
     ]
    }
   ],
   "source": [
    "print(swap_case(\"HoOolA!\"))"
   ]
  }
 ],
 "metadata": {
  "kernelspec": {
   "display_name": "Python 3",
   "language": "python",
   "name": "python3"
  },
  "language_info": {
   "codemirror_mode": {
    "name": "ipython",
    "version": 3
   },
   "file_extension": ".py",
   "mimetype": "text/x-python",
   "name": "python",
   "nbconvert_exporter": "python",
   "pygments_lexer": "ipython3",
   "version": "3.8.8"
  }
 },
 "nbformat": 4,
 "nbformat_minor": 5
}
