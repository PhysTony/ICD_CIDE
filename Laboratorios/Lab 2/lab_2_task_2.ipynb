{
 "cells": [
  {
   "cell_type": "code",
   "execution_count": 6,
   "id": "63280a68-d364-4b8e-b38f-efd48d4af625",
   "metadata": {},
   "outputs": [],
   "source": [
    "def fun_apuesta(apuesta):\n",
    "    cociente = apuesta//15\n",
    "    residuo = apuesta%15\n",
    "    \n",
    "    if apuesta < 0:\n",
    "        apuesta = apuesta*(-1)\n",
    "\n",
    "    if cociente > 0:\n",
    "        res = cociente*(3+residuo)\n",
    "    else: \n",
    "        res = (cociente+1.5)*residuo\n",
    "    \n",
    "    if res%7 == 0:\n",
    "        return True\n",
    "    else:\n",
    "        return False"
   ]
  },
  {
   "cell_type": "code",
   "execution_count": 15,
   "id": "08225085-48e6-4aa6-8646-e0c9168ac0cc",
   "metadata": {},
   "outputs": [
    {
     "name": "stdout",
     "output_type": "stream",
     "text": [
      "F, perdiste\n"
     ]
    }
   ],
   "source": [
    "resultado = fun_apuesta(24)\n",
    "if resultado:\n",
    "    print(\"¡Si sí por supuesto awuebi, ganaste!\")\n",
    "else:\n",
    "    print(\"F, perdiste\")"
   ]
  }
 ],
 "metadata": {
  "kernelspec": {
   "display_name": "Python 3",
   "language": "python",
   "name": "python3"
  },
  "language_info": {
   "codemirror_mode": {
    "name": "ipython",
    "version": 3
   },
   "file_extension": ".py",
   "mimetype": "text/x-python",
   "name": "python",
   "nbconvert_exporter": "python",
   "pygments_lexer": "ipython3",
   "version": "3.8.8"
  }
 },
 "nbformat": 4,
 "nbformat_minor": 5
}
