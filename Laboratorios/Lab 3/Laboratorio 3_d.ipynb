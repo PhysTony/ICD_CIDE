{
 "cells": [
  {
   "cell_type": "markdown",
   "id": "f969a5d9",
   "metadata": {},
   "source": [
    "# Laboratorio 3"
   ]
  },
  {
   "cell_type": "markdown",
   "id": "ddd212e9",
   "metadata": {},
   "source": [
    "## Revisión de tarea 2"
   ]
  },
  {
   "cell_type": "markdown",
   "id": "eeae82c9",
   "metadata": {},
   "source": [
    "1. ¿A que se debe que los sistemas reflexivos no puedan analizarse a través de teoremas (planteamientos lógicos)?"
   ]
  },
  {
   "cell_type": "markdown",
   "id": "39cc1969",
   "metadata": {},
   "source": [
    "En un sistema reflexivo el entorno condiciona el comportamiento de los agentes que \n",
    "lo componen, pero a su vez el comportamiento agregado de estos genera cambios en la naturaleza\n",
    "del entorno. Por lo tando al modificar las condiciones con que\n",
    "operan los agentes no es posible deducir mediante argumentos lógicos las implicaciones\n",
    "que tiene el entorno sobre la explicación de algún fenómeno."
   ]
  },
  {
   "cell_type": "markdown",
   "id": "919ec408",
   "metadata": {},
   "source": [
    "2. ¿Por qué los comportamientos macroscópicos no pueden interpretarse mediante simples consideraciones e agencia?"
   ]
  },
  {
   "cell_type": "markdown",
   "id": "9d36fc04",
   "metadata": {},
   "source": [
    "Porque el comportamiento es producto de las decisiones de los agentes, pero también\n",
    "de las interacciones que tienen dichos agentes en el sistema. Esta interdependencia\n",
    "produce efectos de retroalimentación --positivos y negativos-- que dan origen a\n",
    "propiedades emergentes (o comportamientos macroscópicos) muy diferentes a las\n",
    "que se podría deducir de tan solo analizar el comportamiento de las partes de manera aislada"
   ]
  },
  {
   "cell_type": "markdown",
   "id": "20a93938",
   "metadata": {},
   "source": [
    "3. A partir de un diccionario, crea un contador del número de letras que usa una palabra\n"
   ]
  },
  {
   "cell_type": "code",
   "execution_count": 90,
   "id": "034235b6",
   "metadata": {},
   "outputs": [
    {
     "name": "stdout",
     "output_type": "stream",
     "text": [
      "b\n",
      "{'b': 1}\n",
      "r\n",
      "{'b': 1, 'r': 1}\n",
      "o\n",
      "{'b': 1, 'r': 1, 'o': 1}\n",
      "n\n",
      "{'b': 1, 'r': 1, 'o': 1, 'n': 1}\n",
      "t\n",
      "{'b': 1, 'r': 1, 'o': 1, 'n': 1, 't': 1}\n",
      "o\n",
      "s\n",
      "{'b': 1, 'r': 1, 'o': 2, 'n': 1, 't': 1, 's': 1}\n",
      "a\n",
      "{'b': 1, 'r': 1, 'o': 2, 'n': 1, 't': 1, 's': 1, 'a': 1}\n",
      "u\n",
      "{'b': 1, 'r': 1, 'o': 2, 'n': 1, 't': 1, 's': 1, 'a': 1, 'u': 1}\n",
      "r\n",
      "u\n",
      "s\n",
      "{'b': 1, 'r': 2, 'o': 2, 'n': 1, 't': 1, 's': 2, 'a': 1, 'u': 2}\n"
     ]
    }
   ],
   "source": [
    "word = 'brontosaurus'\n",
    "d = dict() #Crea diccionario vacio\n",
    "for c in word: # Ciclo que recorre todas las letras\n",
    "    print(c)\n",
    "    if c not in d: # Si la letra no esta en el diccionario aun la agrega\n",
    "        d[c] = 1\n",
    "        print(d)  \n",
    "    else:\n",
    "       d[c] = d[c] + 1 # Si ya esta, suma uno \n",
    "print(d)"
   ]
  },
  {
   "cell_type": "markdown",
   "id": "a7c8966a",
   "metadata": {},
   "source": [
    "Los diccionarios tienen un método get que presenta una llave (key) y un valor de default. Si la llave aparece en el diccionario regresa el valor correspondiente, en caso contrario le asigna a la llave el valor de default.  Ejemplo:\n",
    "```\n",
    "counts = { 'chuck' : 1 , 'annie' : 42, 'jan': 100}\n",
    "print(counts.get('jan', 0))\n",
    "100\n",
    "print(counts.get('tim', 0))\n",
    "0\n",
    "```\n",
    "Utiliza este método para escribir la rutina del ejercicio 3 de forma más concisa.\n"
   ]
  },
  {
   "cell_type": "code",
   "execution_count": 2,
   "id": "16c99367",
   "metadata": {},
   "outputs": [
    {
     "name": "stdout",
     "output_type": "stream",
     "text": [
      "{'b': 1, 'r': 2, 'o': 2, 'n': 1, 't': 1, 's': 2, 'a': 1, 'u': 2}\n"
     ]
    }
   ],
   "source": [
    "word = 'brontosaurus'\n",
    "d = dict()\n",
    "for c in word:\n",
    "  d[c] = d.get(c,0) + 1\n",
    "print(d)"
   ]
  },
  {
   "cell_type": "markdown",
   "id": "9024c964",
   "metadata": {},
   "source": [
    "5. Usando una lista, el loop while, y el comando len(lista) que mide el tamaño de una lista, calcular el valor promedio de los números que aparecen en una lista dada"
   ]
  },
  {
   "cell_type": "code",
   "execution_count": 91,
   "id": "9fe43c8c",
   "metadata": {},
   "outputs": [
    {
     "name": "stdout",
     "output_type": "stream",
     "text": [
      "1\n",
      "1\n",
      "3\n",
      "2\n",
      "6\n",
      "3\n",
      "10\n",
      "4\n",
      "15\n",
      "5\n",
      "21\n",
      "6\n",
      "Average: 3.5\n"
     ]
    }
   ],
   "source": [
    "total = 0\n",
    "count = 0\n",
    "lista = [1, 2, 3, 4, 5, 6]\n",
    "while count < len(lista): #Mientras sea menos que la longitud\n",
    "    total = total + lista[count] #Suma los numeros\n",
    "    print(total)\n",
    "    count = count + 1 #Cuenta cuantos son\n",
    "    print(count)\n",
    "average = total / count\n",
    "print('Average:', average)"
   ]
  },
  {
   "cell_type": "markdown",
   "id": "e2abc33b",
   "metadata": {},
   "source": [
    "6. Considera el siguiente código\n",
    "```list_of_ints_in_strings = ['42', '65', '12']\n",
    "list_of_ints = []\n",
    "for x in list_of_ints_in_strings:\n",
    "    list_of_ints.append(int(x))\n",
    "print(sum(list_of_ints))\n",
    "```\n",
    "\n",
    "¿Qué es lo que hace este código? Convierte los str de la lista en enteros y los suma\n",
    "\n",
    "¿Cómo podrías reducir el código mediante una compresión de lista?\n",
    "\n",
    "¿Cómo podrías excluir de la suma a los  valores mayores a 60?"
   ]
  },
  {
   "cell_type": "code",
   "execution_count": 4,
   "id": "c07184a6",
   "metadata": {},
   "outputs": [
    {
     "name": "stdout",
     "output_type": "stream",
     "text": [
      "119\n",
      "54\n"
     ]
    }
   ],
   "source": [
    "list_of_ints_in_strings = ['42', '65', '12']\n",
    "list_of_ints = [ int(x) for x in list_of_ints_in_strings ]\n",
    "print(sum(list_of_ints))\n",
    "\n",
    "list_of_ints_in_strings = ['42', '65', '12']\n",
    "list_of_ints = [ int(x) for x in list_of_ints_in_strings if int(x) < 60 ]\n",
    "print(sum(list_of_ints))"
   ]
  },
  {
   "cell_type": "markdown",
   "id": "2ff4ed38",
   "metadata": {},
   "source": [
    "## Estructuras de datos"
   ]
  },
  {
   "cell_type": "markdown",
   "id": "b4d71995",
   "metadata": {},
   "source": [
    "### Tuplas\n",
    "\n",
    "Una tupla es una secuencia de valores muy parecida a una lista. Los valores almacenados en una tupla pueden ser de cualquier tipo, y están indexados por enteros. Las tuplas se diferencian de las listas en que:\n",
    "\n",
    "1. No se puede modificar el valor de los elementos de una tupla (*objeto inmutable*).\n",
    "2. Se usan parentesis en lugar de corchetes para construir una tupla, aunque sintácticamente no es obligatorio."
   ]
  },
  {
   "cell_type": "code",
   "execution_count": 5,
   "id": "dd7f7ca7",
   "metadata": {},
   "outputs": [],
   "source": [
    "mytuple1 = tuple()\n",
    "mytuple2 = ()\n",
    "mytuple3 = (1, 'a', 71.4)\n",
    "mytuple4 = 1, 'a', 71.4"
   ]
  },
  {
   "cell_type": "code",
   "execution_count": 6,
   "id": "b4ccf511",
   "metadata": {},
   "outputs": [
    {
     "data": {
      "text/plain": [
       "(1, 'a', 71.4)"
      ]
     },
     "execution_count": 6,
     "metadata": {},
     "output_type": "execute_result"
    }
   ],
   "source": [
    "mytuple4"
   ]
  },
  {
   "cell_type": "markdown",
   "id": "072b98bb",
   "metadata": {},
   "source": [
    "Como en las listas, los elementos de una tupla se pueden acceder usando corchetes `[]` y el índice del elemento:"
   ]
  },
  {
   "cell_type": "code",
   "execution_count": 7,
   "id": "69f2b6d7",
   "metadata": {},
   "outputs": [
    {
     "data": {
      "text/plain": [
       "1"
      ]
     },
     "execution_count": 7,
     "metadata": {},
     "output_type": "execute_result"
    }
   ],
   "source": [
    "mytuple3[0]"
   ]
  },
  {
   "cell_type": "markdown",
   "id": "9dc038cb",
   "metadata": {},
   "source": [
    "Dos tuplas se pueden concatenar:"
   ]
  },
  {
   "cell_type": "code",
   "execution_count": 8,
   "id": "820db7bf",
   "metadata": {},
   "outputs": [
    {
     "data": {
      "text/plain": [
       "('a', 'b', 'c', 'd', 'd', 'f', 'g')"
      ]
     },
     "execution_count": 8,
     "metadata": {},
     "output_type": "execute_result"
    }
   ],
   "source": [
    "tup1 = ('a','b','c', 'd')\n",
    "tup2 = ('d','f','g')\n",
    "tup1 + tup2"
   ]
  },
  {
   "cell_type": "markdown",
   "id": "a4e8ea71",
   "metadata": {},
   "source": [
    "### Diccionarios\n",
    "\n",
    "Los diccionarios definen una relación uno a uno entre claves y valores. Los diccionarios son mutables y no ordenados.\n",
    "\n",
    "```\n",
    " { key1:value1 , key2:value2 , key3:value3 , ...}\n",
    " \n",
    "```\n",
    "\n",
    "En un diccionario las claves (key) son únicas e inmutables, pero los valores (value) si pueden cambiar."
   ]
  },
  {
   "cell_type": "code",
   "execution_count": 9,
   "id": "cfd873ce",
   "metadata": {},
   "outputs": [],
   "source": [
    "ages= {'josh': 24, 'lewis': 34, 'maria': 21}"
   ]
  },
  {
   "cell_type": "markdown",
   "id": "249aa147",
   "metadata": {},
   "source": [
    "Para acceder a los elementos de un diccionario se utilizan corchetes `[]` y la clave correspondiente."
   ]
  },
  {
   "cell_type": "code",
   "execution_count": 10,
   "id": "8a6a1308",
   "metadata": {},
   "outputs": [
    {
     "data": {
      "text/plain": [
       "(34, 24)"
      ]
     },
     "execution_count": 10,
     "metadata": {},
     "output_type": "execute_result"
    }
   ],
   "source": [
    "ages['lewis'], ages['josh']"
   ]
  },
  {
   "cell_type": "code",
   "execution_count": 11,
   "id": "dbc19691",
   "metadata": {},
   "outputs": [
    {
     "data": {
      "text/plain": [
       "{'josh': 24, 'lewis': 34, 'maria': 21, 'baylee': 12}"
      ]
     },
     "execution_count": 11,
     "metadata": {},
     "output_type": "execute_result"
    }
   ],
   "source": [
    "ages['baylee'] = 12 ##Asignacion\n",
    "ages"
   ]
  },
  {
   "cell_type": "code",
   "execution_count": 12,
   "id": "341f069d",
   "metadata": {},
   "outputs": [],
   "source": [
    "d = {} ##Crear un diccionario\n",
    "d1 = dict()"
   ]
  },
  {
   "cell_type": "markdown",
   "id": "9628d8d1",
   "metadata": {},
   "source": [
    "Pueden usar loops en diccionarios"
   ]
  },
  {
   "cell_type": "code",
   "execution_count": 13,
   "id": "dcc93aa4",
   "metadata": {},
   "outputs": [
    {
     "name": "stdout",
     "output_type": "stream",
     "text": [
      "\n",
      "Key: key_1\n",
      "Value: value_1\n",
      "\n",
      "Key: key_2\n",
      "Value: value_2\n",
      "\n",
      "Key: key_3\n",
      "Value: value_3\n"
     ]
    }
   ],
   "source": [
    "my_dict = {'key_1': 'value_1',\n",
    "    'key_2': 'value_2',\n",
    "    'key_3': 'value_3',\n",
    "    }\n",
    "\n",
    "for key, value in my_dict.items():\n",
    "    print('\\nKey: %s' % key)\n",
    "    print('Value: %s' % value)"
   ]
  },
  {
   "cell_type": "markdown",
   "id": "703e6a66",
   "metadata": {},
   "source": [
    "### Ejercicios\n",
    "\n",
    "    - Genera un diccionario de 3 nombres de mascotas y su especie\n",
    "    - Imprime en un loop el nombre y la especie en una frase del estilo \"Fido es un perro\""
   ]
  },
  {
   "cell_type": "markdown",
   "id": "700c0b3a",
   "metadata": {},
   "source": [
    "## Nesting\n",
    "El concepto de esto es tener una lista dentro de otro diccionario o lista"
   ]
  },
  {
   "cell_type": "code",
   "execution_count": 14,
   "id": "19dcdbb8",
   "metadata": {},
   "outputs": [
    {
     "name": "stdout",
     "output_type": "stream",
     "text": [
      "Ventas de eric:\n",
      "[3, 11, 19, 23, 42]\n",
      "\n",
      "Ventas de ever:\n",
      "[2, 4, 5]\n",
      "\n",
      "Ventas de willie:\n",
      "[5, 35, 120]\n"
     ]
    }
   ],
   "source": [
    "# Las ventas de esos empleados fueron\n",
    "sales = {'eric': [3, 11, 19, 23, 42],\n",
    "                    'ever': [2, 4, 5],\n",
    "                    'willie': [5, 35, 120]}\n",
    "\n",
    "                    \n",
    "print(\"Ventas de eric:\")\n",
    "print(sales['eric'])\n",
    "\n",
    "print(\"\\nVentas de ever:\")\n",
    "print(sales['ever'])\n",
    "\n",
    "print(\"\\nVentas de willie:\")\n",
    "print(sales['willie'])"
   ]
  },
  {
   "cell_type": "markdown",
   "id": "81cdabd4",
   "metadata": {},
   "source": [
    "También es posible guardar información de varias cosas"
   ]
  },
  {
   "cell_type": "code",
   "execution_count": 92,
   "id": "937b6b4c",
   "metadata": {},
   "outputs": [
    {
     "name": "stdout",
     "output_type": "stream",
     "text": [
      "\n",
      "Here is what I know about Bowie:\n",
      "kind: mixed\n",
      "owner: carlos\n",
      "vaccinated: True\n",
      "\n",
      "Here is what I know about Simone:\n",
      "kind: pitbull\n",
      "owner: carlos\n",
      "vaccinated: False\n",
      "\n",
      "Here is what I know about Marbs:\n",
      "kind: boston terries\n",
      "owner: andrea\n",
      "vaccinated: True\n"
     ]
    }
   ],
   "source": [
    "pets = {'bowie': {'kind': 'mixed', 'owner': \"carlos\", 'vaccinated': True},\n",
    "        'Simone': {'kind': 'pitbull', 'owner': 'carlos', 'vaccinated': False},\n",
    "        'Marbs': {'kind': 'boston terries', 'owner': 'andrea', 'vaccinated': True},\n",
    "        }\n",
    "\n",
    "for pet_name, pet_information in pets.items():\n",
    "    print(\"\\nHere is what I know about %s:\" % pet_name.title())\n",
    "    print(\"kind: \" + pet_information['kind'])\n",
    "    print(\"owner: \" + pet_information['owner'])\n",
    "    print(\"vaccinated: \" + str(pet_information['vaccinated']))"
   ]
  },
  {
   "cell_type": "markdown",
   "id": "7078c560",
   "metadata": {},
   "source": [
    "### Ejercicios\n",
    "#### Mascotas 2\n",
    "\n",
    "- ¿Cómo cambiarías el valor si Simone se vacunó? \n",
    "- ¿Como agregarías la edad de todos los perros; 1, 5 y 8 respectivamente?"
   ]
  },
  {
   "cell_type": "code",
   "execution_count": 93,
   "id": "e917a615",
   "metadata": {},
   "outputs": [],
   "source": [
    "pets[\"Simone\"][\"vaccined\"] = True"
   ]
  },
  {
   "cell_type": "code",
   "execution_count": 94,
   "id": "aad740cc",
   "metadata": {},
   "outputs": [
    {
     "name": "stdout",
     "output_type": "stream",
     "text": [
      "{'bowie': {'kind': 'mixed', 'owner': 'carlos', 'vaccinated': True, 'edad': 1}, 'Simone': {'kind': 'pitbull', 'owner': 'carlos', 'vaccinated': False, 'vaccined': True, 'edad': 5}, 'Marbs': {'kind': 'boston terries', 'owner': 'andrea', 'vaccinated': True, 'edad': 8}}\n"
     ]
    }
   ],
   "source": [
    "edades = [1, 5, 8]\n",
    "j=0\n",
    "for i in pets:\n",
    "    pets[i]['edad'] = edades[j]\n",
    "    j=j+1\n",
    "    \n",
    "print(pets)"
   ]
  },
  {
   "cell_type": "markdown",
   "id": "679d924a",
   "metadata": {},
   "source": [
    "## Sets"
   ]
  },
  {
   "cell_type": "markdown",
   "id": "10dadb62",
   "metadata": {},
   "source": [
    "Coleccion **no ordenada** de elementos del mismo o distinto tipo (incluso puede tener sets como elementos), que se caracteriza por ser **sin elementos duplicados**.\n",
    "\n",
    "Los usos más tipicos son testing de pertenencia, y eliminar entradas duplicadas. \n",
    "\n",
    "Al ser la implementación de un concepto matemático, los conjuntos, soporta operaciones matemáticas como unión, intersección, diferencia, y diferencia simétrica. \n",
    "\n",
    "Se crean con {} o con la función set(). \n",
    "\n",
    "Nota: para crear un set vacío, hay que usar la función set(). No se puede usar {} pues crea un diccionario vacío."
   ]
  },
  {
   "cell_type": "code",
   "execution_count": 29,
   "id": "1adf1be1",
   "metadata": {},
   "outputs": [
    {
     "data": {
      "text/plain": [
       "{'Atlanta', 'Barcelona', 'Madrid'}"
      ]
     },
     "execution_count": 29,
     "metadata": {},
     "output_type": "execute_result"
    }
   ],
   "source": [
    "cities =  {'Madrid', 'Barcelona', 'Atlanta'}\n",
    "\n",
    "cities"
   ]
  },
  {
   "cell_type": "markdown",
   "id": "59f81475",
   "metadata": {},
   "source": [
    "Los sets no aceptan objetos mutables, por lo que no se le pueden pasar listas como elementos pero si tuplas"
   ]
  },
  {
   "cell_type": "code",
   "execution_count": 30,
   "id": "584d82c0",
   "metadata": {},
   "outputs": [
    {
     "ename": "TypeError",
     "evalue": "unhashable type: 'list'",
     "output_type": "error",
     "traceback": [
      "\u001b[1;31m---------------------------------------------------------------------------\u001b[0m",
      "\u001b[1;31mTypeError\u001b[0m                                 Traceback (most recent call last)",
      "\u001b[1;32m~\\AppData\\Local\\Temp/ipykernel_25128/1951735484.py\u001b[0m in \u001b[0;36m<module>\u001b[1;34m\u001b[0m\n\u001b[1;32m----> 1\u001b[1;33m \u001b[0mcities\u001b[0m \u001b[1;33m=\u001b[0m \u001b[0mset\u001b[0m\u001b[1;33m(\u001b[0m\u001b[1;33m(\u001b[0m\u001b[1;33m[\u001b[0m\u001b[1;34m\"Python\"\u001b[0m\u001b[1;33m,\u001b[0m\u001b[1;34m\"Perl\"\u001b[0m\u001b[1;33m]\u001b[0m\u001b[1;33m,\u001b[0m \u001b[1;33m[\u001b[0m\u001b[1;34m\"Paris\"\u001b[0m\u001b[1;33m,\u001b[0m \u001b[1;34m\"Berlin\"\u001b[0m\u001b[1;33m,\u001b[0m \u001b[1;34m\"London\"\u001b[0m\u001b[1;33m]\u001b[0m\u001b[1;33m)\u001b[0m\u001b[1;33m)\u001b[0m\u001b[1;33m\u001b[0m\u001b[1;33m\u001b[0m\u001b[0m\n\u001b[0m\u001b[0;32m      2\u001b[0m \u001b[0mcities\u001b[0m\u001b[1;33m\u001b[0m\u001b[1;33m\u001b[0m\u001b[0m\n",
      "\u001b[1;31mTypeError\u001b[0m: unhashable type: 'list'"
     ]
    }
   ],
   "source": [
    "cities = set(([\"Python\",\"Perl\"], [\"Paris\", \"Berlin\", \"London\"]))\n",
    "cities"
   ]
  },
  {
   "cell_type": "markdown",
   "id": "fac1a7e7",
   "metadata": {},
   "source": [
    "Algunos metodos:\n",
    "\n",
    "add(element): método para añadir un elemento, el cual ha de ser inmutable\n",
    "\n",
    "copy(): devuelve una copia del set\n",
    "\n",
    "difference(): operación de diferencia. También se puede usar el operador -\n",
    "\n",
    "union(),intersection(): tambien se puede usar los operadores |, &"
   ]
  },
  {
   "cell_type": "markdown",
   "id": "b8ef0d36",
   "metadata": {},
   "source": [
    "Supón que trabajas para una empresa de auditoría fiscal y quieres revisar el comportamiento de las compras y los impuestos recaudados en cada uno de esos tickets. \n",
    "### Ejercicio 1\n",
    "Crea un diccionario que represente todas las transacciones de un mes, debe tener la siguiente estructura:\n",
    "```\n",
    "d = {1: {\"dia\": lunes,\n",
    "         \"tickets\": [<lista con tickets aleatorios>]\n",
    "        },\n",
    "     2: {\"dia\": martes,\n",
    "         \"tickets\": [<lista con tickets aleatorios>]\n",
    "        },\n",
    "     ...,\n",
    "     30: {\"dia\": martes,\n",
    "         \"tickets\": [<lista con tickets aleatorios>]\n",
    "        }\n",
    "    }\n",
    "```\n",
    "\n",
    "Donde `[<lista con tickets aleatorios>]` debe ser una lista de tamaño fijo según el día de la semana. El diccionario de abajo llamado `t_prom` indica cuándos tickets debes generar para cada día. Por ejemplo, para el lunes debes crear 75 tickets, para el domingo 425.\n"
   ]
  },
  {
   "cell_type": "code",
   "execution_count": 59,
   "id": "1847bb77",
   "metadata": {},
   "outputs": [],
   "source": [
    "## Estas funciones son para generar tickets aleatorios -\n",
    "import random\n",
    "\n",
    "def random_items(n):\n",
    "    '''n, number of random items to generate'''\n",
    "    possible_items = ['ropa', 'muebles', 'comida']\n",
    "    rv = [random.choice(possible_items) for i in range(n)]\n",
    "    return rv\n",
    "\n",
    "def random_prices(n):\n",
    "    '''n, number of random prices to generate'''\n",
    "    rv = [round(random.uniform(0,200),2) for i in range(n)]\n",
    "    return rv\n",
    "\n",
    "def random_tickets(n):\n",
    "    '''n, number of random items/prices to generate\n",
    "    returns a list with tuples\n",
    "    Why tuples? you don't want people modifying your transaction values, do you?\n",
    "    '''\n",
    "    ticket_de_compra = [(i,p) for i,p in zip(random_items(n), random_prices(n))]\n",
    "    return ticket_de_compra"
   ]
  },
  {
   "cell_type": "code",
   "execution_count": 60,
   "id": "b102d068",
   "metadata": {},
   "outputs": [],
   "source": [
    "# Para tu conveniencia, aquí hay un diccionario con días de la semana\n",
    "dias = {0: 'lunes',\n",
    "        1: 'martes',\n",
    "        2: 'miércoles',\n",
    "        3: 'jueves',\n",
    "        4: 'viernes',\n",
    "        5: 'sábado',\n",
    "        6: 'domingo'}\n",
    "\n",
    "t_prom = {0: 75,\n",
    "          1: 150,\n",
    "          2: 245,\n",
    "          3: 145,\n",
    "          4: 250,\n",
    "          5: 675,\n",
    "          6: 425}"
   ]
  },
  {
   "cell_type": "code",
   "execution_count": 61,
   "id": "7fd399c1",
   "metadata": {},
   "outputs": [
    {
     "name": "stdout",
     "output_type": "stream",
     "text": [
      "[('comida', 77.58), ('ropa', 141.24), ('muebles', 195.53)]\n",
      "{3: 'hola'}\n"
     ]
    }
   ],
   "source": [
    "n= 3\n",
    "v = random_tickets(n)\n",
    "print(v)\n",
    "f = {}\n",
    "f[3] = 'hola' \n",
    "print(f)"
   ]
  },
  {
   "cell_type": "code",
   "execution_count": 62,
   "id": "0d28092b",
   "metadata": {},
   "outputs": [],
   "source": [
    "def crear_transacciones(N_mes):\n",
    "    d = {}\n",
    "    for i in range(N_mes):\n",
    "        dia = dias[i%7]\n",
    "        ticket_dia = random_tickets(t_prom[i%7])\n",
    "        d_temp = {'dia': dia, 'tickets': ticket_dia}\n",
    "        d[i+1] = d_temp\n",
    "    return d"
   ]
  },
  {
   "cell_type": "code",
   "execution_count": 63,
   "id": "0f4dc94c",
   "metadata": {},
   "outputs": [
    {
     "data": {
      "text/plain": [
       "{'dia': 'lunes',\n",
       " 'tickets': [('ropa', 34.7),\n",
       "  ('ropa', 164.25),\n",
       "  ('comida', 147.37),\n",
       "  ('muebles', 166.71),\n",
       "  ('muebles', 51.23),\n",
       "  ('muebles', 173.9),\n",
       "  ('muebles', 23.54),\n",
       "  ('muebles', 55.14),\n",
       "  ('muebles', 181.47),\n",
       "  ('ropa', 99.08),\n",
       "  ('muebles', 54.33),\n",
       "  ('muebles', 78.26),\n",
       "  ('comida', 51.12),\n",
       "  ('muebles', 107.05),\n",
       "  ('ropa', 55.22),\n",
       "  ('comida', 107.1),\n",
       "  ('muebles', 106.97),\n",
       "  ('muebles', 79.37),\n",
       "  ('muebles', 70.54),\n",
       "  ('muebles', 41.45),\n",
       "  ('comida', 21.29),\n",
       "  ('muebles', 107.82),\n",
       "  ('ropa', 106.72),\n",
       "  ('comida', 86.63),\n",
       "  ('muebles', 191.43),\n",
       "  ('ropa', 180.17),\n",
       "  ('ropa', 58.94),\n",
       "  ('muebles', 120.43),\n",
       "  ('muebles', 22.81),\n",
       "  ('muebles', 48.5),\n",
       "  ('muebles', 169.22),\n",
       "  ('ropa', 2.62),\n",
       "  ('ropa', 17.8),\n",
       "  ('ropa', 23.45),\n",
       "  ('ropa', 101.85),\n",
       "  ('comida', 193.91),\n",
       "  ('muebles', 186.93),\n",
       "  ('ropa', 183.99),\n",
       "  ('comida', 130.86),\n",
       "  ('muebles', 170.24),\n",
       "  ('muebles', 129.22),\n",
       "  ('comida', 104.86),\n",
       "  ('comida', 17.41),\n",
       "  ('ropa', 124.29),\n",
       "  ('ropa', 83.2),\n",
       "  ('ropa', 17.57),\n",
       "  ('comida', 80.2),\n",
       "  ('comida', 187.88),\n",
       "  ('muebles', 24.99),\n",
       "  ('muebles', 93.37),\n",
       "  ('ropa', 132.79),\n",
       "  ('muebles', 133.88),\n",
       "  ('ropa', 194.05),\n",
       "  ('muebles', 94.76),\n",
       "  ('comida', 101.02),\n",
       "  ('muebles', 139.5),\n",
       "  ('comida', 32.18),\n",
       "  ('ropa', 1.59),\n",
       "  ('ropa', 165.86),\n",
       "  ('ropa', 160.21),\n",
       "  ('comida', 95.21),\n",
       "  ('muebles', 114.21),\n",
       "  ('muebles', 97.72),\n",
       "  ('comida', 193.5),\n",
       "  ('muebles', 14.67),\n",
       "  ('comida', 189.27),\n",
       "  ('ropa', 34.25),\n",
       "  ('ropa', 0.84),\n",
       "  ('muebles', 12.25),\n",
       "  ('comida', 130.65),\n",
       "  ('comida', 180.01),\n",
       "  ('ropa', 113.34),\n",
       "  ('ropa', 73.6),\n",
       "  ('comida', 194.5),\n",
       "  ('ropa', 132.65)]}"
      ]
     },
     "execution_count": 63,
     "metadata": {},
     "output_type": "execute_result"
    }
   ],
   "source": [
    "trxn = crear_transacciones(30)\n",
    "trxn[1] # es un diccionario de diccionarios, cada dia es un diccionario \n",
    "# mes{{dia: lunes, tickets:[(ropa,precio),...] }, ...}"
   ]
  },
  {
   "cell_type": "code",
   "execution_count": 111,
   "id": "be354917",
   "metadata": {},
   "outputs": [
    {
     "name": "stdout",
     "output_type": "stream",
     "text": [
      "9\n"
     ]
    }
   ],
   "source": [
    "# Función Lambda para calcular el cuadrado de un número\n",
    "# lambda argumentos: expresión\n",
    "square = lambda x: x ** 2\n",
    "print(square(3)) "
   ]
  },
  {
   "cell_type": "code",
   "execution_count": 65,
   "id": "4eb3558d",
   "metadata": {},
   "outputs": [],
   "source": [
    "# Te agarraron de sorpresa y necesitas definir rápidamente una función que calcule\n",
    "# el impuesto de cada tipo de producto.\n",
    "from functools import reduce\n",
    "def impuesto(trxn):\n",
    "    '''\n",
    "    trxn, una tupla (item, precio) indicando ropa, muebles o comida\n",
    "    y un precio. P.ej: ('ropa', 10.54)\n",
    "    regresa el impuesto calculado del item según su precio\n",
    "    '''\n",
    "\n",
    "    d = {'ropa': lambda x: x*0.0825 if x > 100 else 0,\n",
    "         'muebles': lambda x: x,\n",
    "         'comida': lambda x: x}\n",
    "    i = d[trxn[0]](trxn[1])\n",
    "    return i\n",
    "\n",
    "def impuesto_total(ticket_de_compra):\n",
    "    '''\n",
    "    ticket_de_compra, una lista de listas donde cada elemento es un tuple\n",
    "        del tipo (item, precio)\n",
    "    regresa el impuesto total del ticket de compra\n",
    "    MAP\n",
    "    La función map () devuelve un objeto map (que es un iterador) de los resultados después \n",
    "    de aplicar la función dada a cada elemento de un iterable dado (lista, tupla, etc.)\n",
    "    Sintaxis:\n",
    "    map(fun, iter)\n",
    "    Parámetros:\n",
    "    fun : Es una función a la que map pasa cada elemento de iterable dado.\n",
    "    iter: es un iterable que se va a mapear.\n",
    "    map(impuesto, ticket_de_compra) les aplica la funcion impuesto a cada ticket de compra\n",
    "    reduce les aplica la funcion suma a todos los elementos de map(impuesto, ticket_de_compra)\n",
    "    '''\n",
    "    # usa map y reduce para implementar esta función\n",
    "    suma = lambda x, y: x+y\n",
    "    \n",
    "    IT = reduce(suma, map(impuesto, ticket_de_compra))\n",
    "            \n",
    "    return IT\n",
    "\n",
    "# Otra solucion usando for loops\n",
    "def impuesto_total_for(ticket_de_compra):\n",
    "    '''\n",
    "    ticket_de_compra, una lista de listas donde cada elemento es un tuple\n",
    "        del tipo (item, precio)\n",
    "    regresa el impuesto total del ticket de compra\n",
    "    '''\n",
    "    impuesto_total = 0\n",
    "    for item in ticket_de_compra:\n",
    "        impuesto_total += impuesto(item) \n",
    "            \n",
    "    return impuesto_total"
   ]
  },
  {
   "cell_type": "code",
   "execution_count": 66,
   "id": "85100996",
   "metadata": {},
   "outputs": [
    {
     "name": "stdout",
     "output_type": "stream",
     "text": [
      "5452.094025\n",
      "5452.094025\n"
     ]
    }
   ],
   "source": [
    "print(impuesto_total(trxn[1]['tickets']))\n",
    "print(impuesto_total_for(trxn[1]['tickets']))"
   ]
  },
  {
   "cell_type": "markdown",
   "id": "15492a9e",
   "metadata": {},
   "source": [
    "Usando comprensión de listas, obtén el impuesto promedio recaudado por día de la semana."
   ]
  },
  {
   "cell_type": "code",
   "execution_count": 67,
   "id": "df6338e4",
   "metadata": {},
   "outputs": [],
   "source": [
    "## Primero haz una función que cree una lista de tuplas\n",
    "# donde el primer valor de cada tupla es el día de la semana\n",
    "# y el segundo valor de cada tupla es el impuesto total del dia\n",
    "def impuesto_por_dia(trxn):\n",
    "    \"\"\"\n",
    "    trxn, un diccionario con transacciones diarias con valores\n",
    "        como:\n",
    "        {'día': 'martes',\n",
    "         'tickets': [('ropa', 21.48),\n",
    "                     ('ropa', 28.97),...]},\n",
    "        {'día': 'miércoles',\n",
    "         'tickets': [('comida', 1.48),\n",
    "                     ('ropa', 2.71),...]},\n",
    "    \n",
    "    Regresa una lista de tuplas:\n",
    "        [('martes', 878.6490999999996),\n",
    "         ('miércoles', 1287.645799999999),\n",
    "         ('jueves', 830.4695000000004),...]\n",
    "     \"\"\"\n",
    "    rv = []\n",
    "    pass\n",
    "    return rv"
   ]
  },
  {
   "cell_type": "code",
   "execution_count": 68,
   "id": "a8f75b1f",
   "metadata": {},
   "outputs": [
    {
     "data": {
      "text/plain": [
       "[]"
      ]
     },
     "execution_count": 68,
     "metadata": {},
     "output_type": "execute_result"
    }
   ],
   "source": [
    "impuestos_por_dia = impuesto_por_dia(trxn)\n",
    "impuestos_por_dia"
   ]
  },
  {
   "cell_type": "code",
   "execution_count": 46,
   "id": "db0bef3c",
   "metadata": {},
   "outputs": [],
   "source": [
    "def impuesto_promedio_por_dia(impuestos_por_dia, dia):\n",
    "    \"\"\"\n",
    "    impuestos_por_dia, una lista de tuplas:\n",
    "        [('martes', 878.6490999999996),\n",
    "         ('miércoles', 1287.645799999999),\n",
    "         ('jueves', 830.4695000000004),...]\n",
    "    dia, str con el día de interés e.g. \"lunes\"\n",
    "    Regresa una lista de tuplas:\n",
    "        [('lunes', 878.6490999999996),\n",
    "         ('martes', 1287.645799999999),...,\n",
    "         ('domingo', 830.4695000000004)]\n",
    "         con el promedio de cada día de la semana\n",
    "    \"\"\"\n",
    "    pass\n",
    "    # usa filter, list comprehension y reduce para implementar\n",
    "    # tu solución\n",
    "    return "
   ]
  },
  {
   "cell_type": "code",
   "execution_count": null,
   "id": "2aa0cf2f",
   "metadata": {},
   "outputs": [],
   "source": []
  },
  {
   "cell_type": "markdown",
   "id": "ab015ee9",
   "metadata": {},
   "source": [
    "### Respuestas a tarea"
   ]
  },
  {
   "cell_type": "markdown",
   "id": "e8464343",
   "metadata": {},
   "source": [
    "Ejercicio 1"
   ]
  },
  {
   "cell_type": "code",
   "execution_count": 70,
   "id": "6fce804a",
   "metadata": {},
   "outputs": [
    {
     "name": "stdout",
     "output_type": "stream",
     "text": [
      "2\n",
      "Not Weird\n"
     ]
    }
   ],
   "source": [
    "n = int(input().strip())\n",
    "if(n%2!=0):\n",
    "    print(\"Weird\")\n",
    "else:\n",
    "    if(n>= 2 and n<=5 ):\n",
    "        print(\"Not Weird\")\n",
    "    elif(n>=6 and n<=20):\n",
    "            print(\"Weird\")\n",
    "    else:\n",
    "        print(\"Not Weird\")"
   ]
  },
  {
   "cell_type": "markdown",
   "id": "5d63766d",
   "metadata": {},
   "source": [
    "Ejercicio 2"
   ]
  },
  {
   "cell_type": "code",
   "execution_count": 74,
   "id": "f56b39c2",
   "metadata": {},
   "outputs": [
    {
     "name": "stdout",
     "output_type": "stream",
     "text": [
      "8\n",
      "64\n"
     ]
    }
   ],
   "source": [
    "n = int(input().strip())\n",
    "if n > 0:\n",
    "    b= n*n\n",
    "print(b)"
   ]
  },
  {
   "cell_type": "markdown",
   "id": "56740df0",
   "metadata": {},
   "source": [
    "Ejercicio 3"
   ]
  },
  {
   "cell_type": "code",
   "execution_count": 75,
   "id": "9ea0ef1b",
   "metadata": {},
   "outputs": [
    {
     "name": "stdout",
     "output_type": "stream",
     "text": [
      "-5\n"
     ]
    }
   ],
   "source": [
    "def sum_list(items):\n",
    "    sum_numbers = 0\n",
    "    for x in items:\n",
    "        sum_numbers += x\n",
    "    return sum_numbers\n",
    "print(sum_list([1,2,-8]))"
   ]
  },
  {
   "cell_type": "markdown",
   "id": "a603d4c9",
   "metadata": {},
   "source": [
    "Ejercicio 4"
   ]
  },
  {
   "cell_type": "code",
   "execution_count": 76,
   "id": "b2ea5aff",
   "metadata": {},
   "outputs": [
    {
     "name": "stdout",
     "output_type": "stream",
     "text": [
      "{40, 10, 80, 50, 20, 60, 30}\n"
     ]
    }
   ],
   "source": [
    "a = [10,20,30,20,10,50,60,40,80,50,40]\n",
    "\n",
    "dup_items = set()\n",
    "uniq_items = []\n",
    "for x in a:\n",
    "    if x not in dup_items:\n",
    "        uniq_items.append(x)\n",
    "        dup_items.add(x)\n",
    "\n",
    "print(dup_items)"
   ]
  },
  {
   "cell_type": "markdown",
   "id": "c9eb3449",
   "metadata": {},
   "source": [
    "Ejercicio 5"
   ]
  },
  {
   "cell_type": "code",
   "execution_count": 79,
   "id": "95dc362e",
   "metadata": {},
   "outputs": [
    {
     "name": "stdout",
     "output_type": "stream",
     "text": [
      "List is not empty\n"
     ]
    }
   ],
   "source": [
    "l = [0]\n",
    "if not l:\n",
    "    print(\"List is empty\")\n",
    "else:\n",
    "    print(\"List is not empty\")\n",
    "    "
   ]
  },
  {
   "cell_type": "markdown",
   "id": "1de142b0",
   "metadata": {},
   "source": [
    "Ejercicio 6"
   ]
  },
  {
   "cell_type": "code",
   "execution_count": 80,
   "id": "404d59df",
   "metadata": {},
   "outputs": [
    {
     "name": "stdout",
     "output_type": "stream",
     "text": [
      "True\n",
      "None\n"
     ]
    }
   ],
   "source": [
    "def common_data(list1, list2):\n",
    "     result = False\n",
    "     for x in list1:\n",
    "         for y in list2:\n",
    "             if x == y:\n",
    "                 result = True\n",
    "                 return result\n",
    "print(common_data([1,2,3,4,5], [5,6,7,8,9]))\n",
    "print(common_data([1,2,3,4,5], [6,7,8,9]))\n"
   ]
  },
  {
   "cell_type": "markdown",
   "id": "c446d7a5",
   "metadata": {},
   "source": [
    "Ejercicio 7"
   ]
  },
  {
   "cell_type": "code",
   "execution_count": 82,
   "id": "7d961a22",
   "metadata": {},
   "outputs": [
    {
     "name": "stdout",
     "output_type": "stream",
     "text": [
      "[8, 120, 44, 20]\n"
     ]
    }
   ],
   "source": [
    "num = [7,8, 120, 25, 44, 20, 27]\n",
    "num = [x for x in num if x%2==0]\n",
    "print(num)"
   ]
  },
  {
   "cell_type": "markdown",
   "id": "d59195f3",
   "metadata": {},
   "source": [
    "Ejercicio 8"
   ]
  },
  {
   "cell_type": "code",
   "execution_count": 86,
   "id": "6ed372a1",
   "metadata": {},
   "outputs": [
    {
     "data": {
      "text/plain": [
       "int"
      ]
     },
     "execution_count": 86,
     "metadata": {},
     "output_type": "execute_result"
    }
   ],
   "source": [
    "num = [7,8, 120, 25, 44, 20, 27]\n",
    "string= []\n",
    "for i in num:\n",
    "    i=str(i)\n",
    "num\n",
    "\n",
    "type(num[0])"
   ]
  },
  {
   "cell_type": "markdown",
   "id": "86c84dc7",
   "metadata": {},
   "source": [
    "Ejercicio 9"
   ]
  },
  {
   "cell_type": "code",
   "execution_count": 87,
   "id": "a4faf3d7",
   "metadata": {},
   "outputs": [
    {
     "name": "stdout",
     "output_type": "stream",
     "text": [
      "Original List :  [10, 20, 30, 40, 20, 50, 60, 40]\n",
      "List of unique numbers :  [40, 10, 50, 20, 60, 30]\n"
     ]
    }
   ],
   "source": [
    "my_list = [10, 20, 30, 40, 20, 50, 60, 40]\n",
    "print(\"Original List : \",my_list)\n",
    "my_set = set(my_list)\n",
    "my_new_list = list(my_set)\n",
    "print(\"List of unique numbers : \",my_new_list)"
   ]
  },
  {
   "cell_type": "markdown",
   "id": "0483563d",
   "metadata": {},
   "source": [
    "ejercicio 10"
   ]
  },
  {
   "cell_type": "code",
   "execution_count": 88,
   "id": "335def01",
   "metadata": {},
   "outputs": [
    {
     "name": "stdout",
     "output_type": "stream",
     "text": [
      "-2\n"
     ]
    }
   ],
   "source": [
    "def second_smallest(numbers):\n",
    "  if (len(numbers)<2):\n",
    "    return\n",
    "  if ((len(numbers)==2)  and (numbers[0] == numbers[1]) ):\n",
    "    return\n",
    "  dup_items = set()\n",
    "  uniq_items = []\n",
    "  for x in numbers:\n",
    "    if x not in dup_items:\n",
    "      uniq_items.append(x)\n",
    "      dup_items.add(x)\n",
    "  uniq_items.sort()    \n",
    "  return  uniq_items[1]   \n",
    "\n",
    "print(second_smallest([1, 2, -8, -2, 0, -2]))"
   ]
  },
  {
   "cell_type": "markdown",
   "id": "b9f67361",
   "metadata": {},
   "source": [
    "Ejercicio 11"
   ]
  },
  {
   "cell_type": "code",
   "execution_count": 89,
   "id": "f43e74f5",
   "metadata": {},
   "outputs": [
    {
     "name": "stdout",
     "output_type": "stream",
     "text": [
      "Original List:  [11, 33, 50]\n",
      "Single Integer:  113350\n"
     ]
    }
   ],
   "source": [
    "L = [11, 33, 50]\n",
    "print(\"Original List: \",L)\n",
    "x = int(\"\".join(map(str, L)))\n",
    "print(\"Single Integer: \",x)"
   ]
  },
  {
   "cell_type": "markdown",
   "id": "04b958ce",
   "metadata": {},
   "source": [
    "¿Como definir una funcion?\n",
    "\n",
    "    def NOMBRE(LISTA_DE_PARAMETROS):\n",
    "        \"\"\"DOCSTRING_DE_FUNCION\"\"\"\n",
    "        SENTENCIAS\n",
    "        RETURN [EXPRESION]\n",
    "        \n",
    "A continuación se detallan el significado de pseudo código fuente anterior:\n",
    "\n",
    "    NOMBRE, es el nombre de la función.\n",
    "    LISTA_DE_PARAMETROS, es la lista de parámetros que puede recibir una función.\n",
    "    DOCSTRING_DE_FUNCION, es la cadena de caracteres usada para documentar la función.\n",
    "    SENTENCIAS, es el bloque de sentencias en código fuente Python que realizar cierta operación dada.\n",
    "    RETURN, es la sentencia return en código Python.\n",
    "    EXPRESION, es la expresión o variable que devuelve la sentencia return."
   ]
  },
  {
   "cell_type": "code",
   "execution_count": 95,
   "id": "4dbc9676",
   "metadata": {},
   "outputs": [
    {
     "data": {
      "text/plain": [
       "20"
      ]
     },
     "execution_count": 95,
     "metadata": {},
     "output_type": "execute_result"
    }
   ],
   "source": [
    "def resta(a, b):\n",
    "    c = a-b\n",
    "    return c\n",
    "\n",
    "resta(30, 10)"
   ]
  },
  {
   "cell_type": "code",
   "execution_count": 96,
   "id": "23332f2f",
   "metadata": {},
   "outputs": [],
   "source": [
    "def absolute_value(num):\n",
    "    \"\"\"This function returns the absolute\n",
    "    value of the entered number\"\"\"\n",
    "\n",
    "    if num >= 0:\n",
    "        return num\n",
    "    else:\n",
    "        return -num"
   ]
  },
  {
   "cell_type": "code",
   "execution_count": 97,
   "id": "4c25f57b",
   "metadata": {},
   "outputs": [
    {
     "data": {
      "text/plain": [
       "5"
      ]
     },
     "execution_count": 97,
     "metadata": {},
     "output_type": "execute_result"
    }
   ],
   "source": [
    "absolute_value(-5)"
   ]
  },
  {
   "cell_type": "code",
   "execution_count": 98,
   "id": "ea36d2d6",
   "metadata": {},
   "outputs": [],
   "source": [
    "def greet(name):\n",
    "    \"\"\"\n",
    "    This function greets to\n",
    "    the person passed in as\n",
    "    a parameter\n",
    "    \"\"\"\n",
    "    print(\"Hello, \" + name + \". Good morning!\")"
   ]
  },
  {
   "cell_type": "code",
   "execution_count": 100,
   "id": "f29b80bb",
   "metadata": {},
   "outputs": [
    {
     "name": "stdout",
     "output_type": "stream",
     "text": [
      "Hello, Paula. Good morning!\n"
     ]
    }
   ],
   "source": [
    "greet(\"Paula\")"
   ]
  },
  {
   "cell_type": "markdown",
   "id": "90a68730",
   "metadata": {},
   "source": [
    "Compresion de listas\n",
    "\n",
    "    newlist = [expression for item in iterable if condition == True\n",
    "\n",
    "La condición es como un filtro que solo acepta los elementos que se valoran como Verdadero.\n",
    "\n",
    "El iterable puede ser cualquier objeto iterable, como una lista, una tupla, un conjunto, etc.\n",
    "\n",
    "La expresión es el elemento actual en la iteración, pero también es el resultado, que puede manipular antes de que termine como un elemento de lista en la nueva lista:"
   ]
  },
  {
   "cell_type": "code",
   "execution_count": 112,
   "id": "a97b276c",
   "metadata": {},
   "outputs": [],
   "source": [
    "#la condicion es opcional\n",
    "fruits = [\"apple\", \"banana\", \"cherry\", \"kiwi\", \"mango\"]\n",
    "newlist = [x for x in fruits]\n",
    "newlist1 = [x for x in fruits if x != \"apple\"]"
   ]
  },
  {
   "cell_type": "code",
   "execution_count": 119,
   "id": "842773ad",
   "metadata": {},
   "outputs": [
    {
     "data": {
      "text/plain": [
       "['apple', 'orange', 'cherry', 'kiwi', 'mango']"
      ]
     },
     "execution_count": 119,
     "metadata": {},
     "output_type": "execute_result"
    }
   ],
   "source": [
    "newlist5"
   ]
  },
  {
   "cell_type": "code",
   "execution_count": 104,
   "id": "d7d92c8f",
   "metadata": {},
   "outputs": [],
   "source": [
    "#El iterable puede ser cualquier objeto iterable\n",
    "newlist3 = [x for x in range(10)]"
   ]
  },
  {
   "cell_type": "code",
   "execution_count": 105,
   "id": "6630134a",
   "metadata": {},
   "outputs": [],
   "source": [
    "newlist4 = [x.upper() for x in fruits]"
   ]
  },
  {
   "cell_type": "code",
   "execution_count": 118,
   "id": "4d090e88",
   "metadata": {},
   "outputs": [],
   "source": [
    "# que dice esta expresion?\n",
    "newlist5 = [x if x != \"banana\" else \"orange\" for x in fruits]\n",
    "#Return the item if it is not banana, if it is banana return orange"
   ]
  },
  {
   "cell_type": "markdown",
   "id": "2c82f77c",
   "metadata": {},
   "source": [
    "### Reduzcan el codigo usando compresion de listas"
   ]
  },
  {
   "cell_type": "code",
   "execution_count": 107,
   "id": "16144579",
   "metadata": {},
   "outputs": [],
   "source": [
    "numbers = []\n",
    "for i in range(1,1001):\n",
    "   numbers.append(i)"
   ]
  },
  {
   "cell_type": "markdown",
   "id": "6804362a",
   "metadata": {},
   "source": [
    "Ejercicio. Cuenten el numero de espacios en una cadena de caracteres"
   ]
  },
  {
   "cell_type": "code",
   "execution_count": 121,
   "id": "b6a5d7af",
   "metadata": {},
   "outputs": [
    {
     "data": {
      "text/plain": [
       "4"
      ]
     },
     "execution_count": 121,
     "metadata": {},
     "output_type": "execute_result"
    }
   ],
   "source": [
    "string = \"Alexa es mi perrito favorito\"\n",
    "a= [char for char in string if char == \" \"]\n",
    "q = len([char for char in string if char == \" \"])\n",
    "q\n",
    "\n"
   ]
  },
  {
   "cell_type": "markdown",
   "id": "aa1cecfd",
   "metadata": {},
   "source": [
    "Pagina para que practiquen compresion de listas:\n",
    "\n",
    "    https://towardsdatascience.com/beginner-to-advanced-list-comprehension-practice-problems-a89604851313\n",
    "\n",
    "Pagina para que practiquen lambda\n",
    "    https://www.w3resource.com/python-exercises/lambda/index.php"
   ]
  },
  {
   "cell_type": "code",
   "execution_count": null,
   "id": "d02779d8",
   "metadata": {},
   "outputs": [],
   "source": []
  }
 ],
 "metadata": {
  "kernelspec": {
   "display_name": "Python 3 (ipykernel)",
   "language": "python",
   "name": "python3"
  },
  "language_info": {
   "codemirror_mode": {
    "name": "ipython",
    "version": 3
   },
   "file_extension": ".py",
   "mimetype": "text/x-python",
   "name": "python",
   "nbconvert_exporter": "python",
   "pygments_lexer": "ipython3",
   "version": "3.9.7"
  }
 },
 "nbformat": 4,
 "nbformat_minor": 5
}
