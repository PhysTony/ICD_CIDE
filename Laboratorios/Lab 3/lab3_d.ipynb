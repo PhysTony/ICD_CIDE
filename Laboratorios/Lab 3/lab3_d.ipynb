{
 "cells": [
  {
   "cell_type": "markdown",
   "id": "aff8ccf1",
   "metadata": {},
   "source": [
    "# Laboratorio 4"
   ]
  },
  {
   "cell_type": "markdown",
   "id": "5e1226c3",
   "metadata": {},
   "source": [
    "### Compresion de listas "
   ]
  },
  {
   "cell_type": "markdown",
   "id": "121d63db",
   "metadata": {},
   "source": [
    "Te dan tres enteros que representan las dimensiones de un cuboide y un entero n, imprime una lista de todas las posibles coordenadas, menos las que la suma de n. "
   ]
  },
  {
   "cell_type": "code",
   "execution_count": 76,
   "id": "96b4cbcd",
   "metadata": {},
   "outputs": [],
   "source": [
    "def get_combinations(x,y,z,n):\n",
    "  return [ [ i, j, k] for i in range(x + 1) for j in range(y + 1) for k in range(z + 1) if ( (i + j + k) != n )]"
   ]
  },
  {
   "cell_type": "code",
   "execution_count": 77,
   "id": "6fbe9159",
   "metadata": {},
   "outputs": [
    {
     "data": {
      "text/plain": [
       "[[0, 0, 0],\n",
       " [0, 0, 1],\n",
       " [0, 0, 2],\n",
       " [0, 1, 0],\n",
       " [0, 1, 1],\n",
       " [0, 2, 0],\n",
       " [0, 2, 2],\n",
       " [1, 0, 0],\n",
       " [1, 0, 1],\n",
       " [1, 1, 0],\n",
       " [1, 1, 2],\n",
       " [1, 2, 1],\n",
       " [1, 2, 2],\n",
       " [2, 0, 0],\n",
       " [2, 0, 2],\n",
       " [2, 1, 1],\n",
       " [2, 1, 2],\n",
       " [2, 2, 0],\n",
       " [2, 2, 1],\n",
       " [2, 2, 2]]"
      ]
     },
     "execution_count": 77,
     "metadata": {},
     "output_type": "execute_result"
    }
   ],
   "source": [
    "get_combinations(2,2,2,3)"
   ]
  },
  {
   "cell_type": "markdown",
   "id": "2439e728",
   "metadata": {},
   "source": [
    "## Recursion \n",
    "La recursión es el proceso de definir algo en termino de él mismo.\n",
    "\n",
    "Es un concepto que se utiliza tanto en matematica como en programación\n",
    "\n",
    "Podemos imaginarlo como dos espejos que se miran uno con el otro\n",
    "\n",
    "En matematica la definición de recursividad es utilizada para definir unos elementos de un conjunto en terminos de otros elementos del mismo conjunto (Aczel, 1977). Algunos ejemplos de objetos que podemos definir como recursivos son la serie de Fibonacci, los numeros naturales"
   ]
  },
  {
   "cell_type": "code",
   "execution_count": 5,
   "id": "c5f1c6f5",
   "metadata": {},
   "outputs": [
    {
     "name": "stdout",
     "output_type": "stream",
     "text": [
      "Ingresa un numero:2\n",
      "El factorial de 2 is 2\n"
     ]
    }
   ],
   "source": [
    "def factorial(x):\n",
    "    if x == 1:\n",
    "        return 1\n",
    "    else:\n",
    "        return (x * factorial(x-1))\n",
    "\n",
    "\n",
    "num = int(input(\"Ingresa un numero:\"))\n",
    "print(\"El factorial de\", num, \"is\", factorial(num))"
   ]
  },
  {
   "cell_type": "markdown",
   "id": "dc3aa9b1",
   "metadata": {},
   "source": [
    "1. La función revisa si n = 1? No, n=4, entonces regresa 4\\*recursive_factorial(4 - 1), que es 4\\*recursive_factorial(3).\n",
    "\n",
    "2. Ahora calculamos recursive_factorial(3). \n",
    "Es n = 1? No, n=3, entonces regresa 4\\*3\\*recursive_factorial(3 - 1), que es  4\\*3\\*recursive_factorial(2).\n",
    "\n",
    "3. Ahora calculamos recursive_factorial(2).\n",
    "Es n = 1? No, n=2, entonces regresa 4\\*3\\*2\\*recursive_factorial(2 - 1), que es  4\\*3\\*2\\*recursive_factorial(1).\n",
    "\n",
    "4. Ahora calculamos recursive_factorial(1).\n",
    " sí, n=1, entonces regresamos 4\\*3\\*2\\*1*recursive_factorial(0).\n",
    "\n",
    " 5. recursive_factorial(0) \n",
    " 4\\*3\\*2\\*1\\*0\\*recursive_factorial(-1)"
   ]
  },
  {
   "cell_type": "markdown",
   "id": "4f99f770",
   "metadata": {},
   "source": [
    "En resumen: Cómo se programa una función recursiva\n",
    "\n",
    "1. Divide el problema en uno o más subproblemas del mismo tipo que serán resueltos de modo recursivo. Los subproblemas deben ser siempre más pequeños que el original.\n",
    "\n",
    "2. La descomposición debe llevar a una función de alto para que el problema se deje de descomponer\n"
   ]
  },
  {
   "cell_type": "markdown",
   "id": "56a4c43c",
   "metadata": {},
   "source": [
    "La suma de una lista de numeros "
   ]
  },
  {
   "cell_type": "code",
   "execution_count": 64,
   "id": "86372028",
   "metadata": {},
   "outputs": [
    {
     "name": "stdout",
     "output_type": "stream",
     "text": [
      "24\n"
     ]
    }
   ],
   "source": [
    "def list_sum(num_List):\n",
    "    if len(num_List) == 1:\n",
    "        return num_List[0]\n",
    "    else:\n",
    "        return num_List[0] + list_sum(num_List[1:])\n",
    "        \n",
    "print(list_sum([2, 4, 5, 6, 7]))"
   ]
  },
  {
   "cell_type": "markdown",
   "id": "61a3e36b",
   "metadata": {},
   "source": [
    "Fibonacci"
   ]
  },
  {
   "cell_type": "code",
   "execution_count": 65,
   "id": "6c6033b3",
   "metadata": {},
   "outputs": [
    {
     "name": "stdout",
     "output_type": "stream",
     "text": [
      "13\n"
     ]
    }
   ],
   "source": [
    "def fibonacci(n):\n",
    "    if n == 1 or n == 2:\n",
    "        return 1\n",
    "    else:\n",
    "        return (fibonacci(n - 1) + (fibonacci(n - 2)))\n",
    "\n",
    "print(fibonacci(7))"
   ]
  },
  {
   "cell_type": "markdown",
   "id": "562f8142",
   "metadata": {},
   "source": [
    "### Lectura y escritura de archivos "
   ]
  },
  {
   "cell_type": "markdown",
   "id": "98814d16",
   "metadata": {},
   "source": [
    "El primer paso para introducirnos es saber cómo abrir un determinado archivo. Para esto se utiliza la función open, que toma como primer argumento el nombre de un fichero."
   ]
  },
  {
   "cell_type": "code",
   "execution_count": 1,
   "id": "9cd86e3b",
   "metadata": {},
   "outputs": [
    {
     "data": {
      "text/plain": [
       "<_io.TextIOWrapper name='archivo.txt' mode='r' encoding='cp1252'>"
      ]
     },
     "execution_count": 1,
     "metadata": {},
     "output_type": "execute_result"
    }
   ],
   "source": [
    "open(\"archivo.txt\")"
   ]
  },
  {
   "cell_type": "markdown",
   "id": "265849a9",
   "metadata": {},
   "source": [
    "En caso de no especificarse la ruta completa, se utilizará la actual (donde se encuentre el script).\n",
    "\n",
    "Como segundo argumento, open espera el modo (como una cadena) en el que se abrirá el fichero. Esto indica si se utilizará para lectura, escritura, ambas, entre otras."
   ]
  },
  {
   "cell_type": "code",
   "execution_count": 2,
   "id": "865fa61f",
   "metadata": {},
   "outputs": [
    {
     "data": {
      "text/plain": [
       "<_io.TextIOWrapper name='archivo.txt' mode='r' encoding='cp1252'>"
      ]
     },
     "execution_count": 2,
     "metadata": {},
     "output_type": "execute_result"
    }
   ],
   "source": [
    "open(\"archivo.txt\", \"r\")"
   ]
  },
  {
   "cell_type": "markdown",
   "id": "7388f5c7",
   "metadata": {},
   "source": [
    "La r indica el modo lectura. Si se intentara utilizar la función write para escribir algo, se lanzaría la excepción IOError. A continuación los distintos modos.\n",
    "\n",
    "```\n",
    "r – Lectura únicamente.\n",
    "w – Escritura únicamente, reemplazando el contenido actual del archivo o bien creándolo si es inexistente.\n",
    "a – Escritura únicamente, manteniendo el contenido actual y añadiendo los datos al final del archivo.\n",
    "w+, r+ o a+ – Lectura y escritura.\n",
    "```\n",
    "El signo '+' permite realizar ambas operaciones. La diferencia entre w+ y r+ consiste en que la primera opción borra el contenido anterior antes de escribir nuevos datos, y crea el archivo en caso de ser inexistente. a+ se comporta de manera similar, aunque añade los datos al final del archivo.\n",
    "\n",
    "Todas las opciones anteriores pueden combinarse con una 'b' (de binary), que consiste en leer o escribir datos binarios. Esta opción es válida únicamente en sistemas Microsoft Windows, que hacen una distinción entre archivos de texto y binarios. En el resto de las plataformas, es simplemente ignorada. Ejemplos: rb, wb, ab+, rb+, wb+.\n",
    "\n",
    "Por último, open() retorna una instancia de la clase file, desde la cual podremos ejecutar diversas operaciones."
   ]
  },
  {
   "cell_type": "code",
   "execution_count": 7,
   "id": "941efd12",
   "metadata": {},
   "outputs": [],
   "source": [
    "f = open(\"archivo.txt\", \"w\")"
   ]
  },
  {
   "cell_type": "markdown",
   "id": "7be8f376",
   "metadata": {},
   "source": [
    "Abre el archivo, en caso de no existir, será automáticamente creado en el directorio actual."
   ]
  },
  {
   "cell_type": "code",
   "execution_count": 8,
   "id": "8ec6e917",
   "metadata": {},
   "outputs": [
    {
     "data": {
      "text/plain": [
       "25"
      ]
     },
     "execution_count": 8,
     "metadata": {},
     "output_type": "execute_result"
    }
   ],
   "source": [
    "f.write(\"Esto es una linea.\\n\")\n",
    "f.write(\"Esto es otra linea.\\n\")\n",
    "f.write(\"Esta es la tercer linea.\\n\")"
   ]
  },
  {
   "cell_type": "markdown",
   "id": "916c35b5",
   "metadata": {},
   "source": [
    "Por último, cerramos el archivo."
   ]
  },
  {
   "cell_type": "code",
   "execution_count": 9,
   "id": "50ad292a",
   "metadata": {},
   "outputs": [],
   "source": [
    "f.close()"
   ]
  },
  {
   "cell_type": "markdown",
   "id": "774218d7",
   "metadata": {},
   "source": [
    "Con respecto a la lectura, las tres funciones disponibles son read, readline y readlines."
   ]
  },
  {
   "cell_type": "code",
   "execution_count": 15,
   "id": "4dee4018",
   "metadata": {},
   "outputs": [
    {
     "name": "stdout",
     "output_type": "stream",
     "text": [
      "Esto es una linea.\n",
      "Esto es otra linea.\n",
      "Esta es la tercer linea.\n",
      "Esto es una linea.\n",
      "Esto es otra linea.\n",
      "Esta es la tercer linea.\n",
      "\n"
     ]
    }
   ],
   "source": [
    "f = open(\"archivo.txt\", \"r\")\n",
    "content = f.read()\n",
    "print(content)\n",
    "f.close()"
   ]
  },
  {
   "cell_type": "markdown",
   "id": "886bd215",
   "metadata": {},
   "source": [
    "Una segunda llamada a f.read() retornaría una cadena vacía, debido a que ya se ha obtenido todo el contenido."
   ]
  },
  {
   "cell_type": "code",
   "execution_count": 78,
   "id": "e563b160",
   "metadata": {},
   "outputs": [
    {
     "name": "stdout",
     "output_type": "stream",
     "text": [
      "Esto es una linea.\n",
      "\n",
      "Esto \n"
     ]
    }
   ],
   "source": [
    "f = open(\"archivo.txt\", \"r\")\n",
    "print(f.readline())\n",
    "print(f.readline())"
   ]
  },
  {
   "cell_type": "markdown",
   "id": "8a2fd1c6",
   "metadata": {},
   "source": [
    "file.seek() permite posicionarse en un determinado lugar del fichero."
   ]
  },
  {
   "cell_type": "code",
   "execution_count": 17,
   "id": "99b52e92",
   "metadata": {},
   "outputs": [
    {
     "name": "stdout",
     "output_type": "stream",
     "text": [
      "ra linea.\n",
      "Esta es la tercer linea.\n",
      "Esto es una linea.\n",
      "Esto es otra linea.\n",
      "Esta es la tercer linea.\n",
      "\n"
     ]
    }
   ],
   "source": [
    "f.seek(30)\n",
    "print(f.read())"
   ]
  },
  {
   "cell_type": "markdown",
   "id": "dc432b0c",
   "metadata": {},
   "source": [
    "UTF-8 es una de las codificaciones mas utilizadas, y Python generalmente la usa de forma predeterminada. UTF significa «Unicode Transformation Format», y el «8» significa que se utilizan valores de 8 bits en la codificación. (También hay codificaciones UTF-16 y UTF-32, pero son menos frecuentes que UTF-8.) UTF-8 usa las siguientes reglas:\n",
    "\n",
    "1. Si el código de posición is < 128, es representado por el valor de byte correspondiente.\n",
    "2. Si el código de posición es >= 128, se transforma en una secuencia de dos, tres, o cuatro bytes, donde cada byte de la secuencia está entre 128 y 255."
   ]
  },
  {
   "cell_type": "code",
   "execution_count": 68,
   "id": "817a53f6",
   "metadata": {},
   "outputs": [
    {
     "data": {
      "text/plain": [
       "<_io.TextIOWrapper name='archivo.txt' mode='r' encoding='utf-8'>"
      ]
     },
     "execution_count": 68,
     "metadata": {},
     "output_type": "execute_result"
    }
   ],
   "source": [
    "fhand = open('archivo.txt', encoding='utf-8')\n",
    "fhand"
   ]
  },
  {
   "cell_type": "markdown",
   "id": "1d323d21",
   "metadata": {},
   "source": [
    "El método rstrip() elimina cualquier carácter final (caracteres al final de una cadena), el espacio es el carácter final predeterminado para eliminar.\n",
    "\n",
    "Sintaxis:\n",
    "\n",
    "string.rstrip(characters)"
   ]
  },
  {
   "cell_type": "code",
   "execution_count": 86,
   "id": "2c8479e2",
   "metadata": {},
   "outputs": [
    {
     "name": "stdout",
     "output_type": "stream",
     "text": [
      "banana,,,,,ssqqqww.....\n"
     ]
    }
   ],
   "source": [
    "txt = \"banana,,,,,ssqqqww.....\"\n",
    "\n",
    "x = txt.rstrip(\" \")\n",
    "\n",
    "print(x)"
   ]
  },
  {
   "cell_type": "markdown",
   "id": "7490c812",
   "metadata": {},
   "source": [
    "El método startswith() devuelve True si la cadena comienza con el valor especificado; de lo contrario, False.\n",
    "```\n",
    "Sintaxis\n",
    "string.startswith(value, start, end)\n",
    "```"
   ]
  },
  {
   "cell_type": "code",
   "execution_count": 20,
   "id": "df753cc2",
   "metadata": {},
   "outputs": [
    {
     "name": "stdout",
     "output_type": "stream",
     "text": [
      "True\n"
     ]
    }
   ],
   "source": [
    "txt = \"Hello, welcome to my world.\"\n",
    "\n",
    "x = txt.startswith(\"wel\", 7, 20)\n",
    "\n",
    "print(x)"
   ]
  },
  {
   "cell_type": "markdown",
   "id": "12c2c4fc",
   "metadata": {},
   "source": [
    "#### Ejemplos"
   ]
  },
  {
   "cell_type": "code",
   "execution_count": 22,
   "id": "c9ac4b88",
   "metadata": {},
   "outputs": [
    {
     "name": "stdout",
     "output_type": "stream",
     "text": [
      "Nombre del archivo:  foo.txt\n",
      "Cerrado o no:  False\n",
      "Modo de acceso:  wb\n"
     ]
    }
   ],
   "source": [
    "# Abre un archivo\n",
    "foo = open('foo.txt', 'wb') # Abrimos el archivo llamado foo.txt en modo escritura binaria\n",
    "print('Nombre del archivo: ', foo.name)\n",
    "print('Cerrado o no: ', foo.closed)\n",
    "print('Modo de acceso: ', foo.mode)"
   ]
  },
  {
   "cell_type": "markdown",
   "id": "6c2a5b9d",
   "metadata": {},
   "source": [
    "Un programa que lea las primeras n lineas"
   ]
  },
  {
   "cell_type": "code",
   "execution_count": 28,
   "id": "a90aaad3",
   "metadata": {},
   "outputs": [
    {
     "name": "stdout",
     "output_type": "stream",
     "text": [
      "What is Python language?                                                \n",
      "\n",
      "Python is a widely used high-level, general-purpose, interpreted, dynamic programming language.Its design philosophy emphasizes code readability, and its syntax allows programmers to express concepts in fewer lines of code than possible in\n",
      "\n"
     ]
    }
   ],
   "source": [
    "def file_read_from_head(fname, nlines):\n",
    "        from itertools import islice\n",
    "        with open(fname) as f:\n",
    "                for line in islice(f, nlines):\n",
    "                        print(line)\n",
    "file_read_from_head('text.txt',2)"
   ]
  },
  {
   "cell_type": "markdown",
   "id": "960a969e",
   "metadata": {},
   "source": [
    "Programa que lea linea por linea y las guarde en una lista "
   ]
  },
  {
   "cell_type": "code",
   "execution_count": 31,
   "id": "91f94804",
   "metadata": {},
   "outputs": [
    {
     "name": "stdout",
     "output_type": "stream",
     "text": [
      "['What is Python language?                                                \\n', 'Python is a widely used high-level, general-purpose, interpreted, dynamic programming language.Its design philosophy emphasizes code readability, and its syntax allows programmers to express concepts in fewer lines of code than possible in\\n', 'languages such as C++ or Java. \\n', 'Python supports multiple programming paradigms, including object-oriented, imperative and functional programming or procedural styles. It features a dynamic type system and automatic memory management and has a large and comprehensive standard library.The best way we learn anything is by practice and exercise questions. We  have started this section for those (beginner to intermediate) who are \\n', 'familiar with Python.']\n"
     ]
    }
   ],
   "source": [
    "def file_read(fname):\n",
    "        with open(fname) as f:\n",
    "                #Content_list is the list that contains the read lines.     \n",
    "                content_list = f.readlines()\n",
    "                print(content_list)\n",
    "\n",
    "file_read('text.txt')"
   ]
  },
  {
   "cell_type": "markdown",
   "id": "9709c731",
   "metadata": {},
   "source": [
    "Programa que te diga la frecuencia de palabras "
   ]
  },
  {
   "cell_type": "code",
   "execution_count": 32,
   "id": "75ef4ca4",
   "metadata": {},
   "outputs": [
    {
     "name": "stdout",
     "output_type": "stream",
     "text": [
      "Number of words in the file : Counter({'and': 6, 'is': 3, 'Python': 3, 'a': 3, 'programming': 3, 'dynamic': 2, 'code': 2, 'to': 2, 'in': 2, 'or': 2, 'What': 1, 'language?': 1, 'widely': 1, 'used': 1, 'high-level,': 1, 'general-purpose,': 1, 'interpreted,': 1, 'language.Its': 1, 'design': 1, 'philosophy': 1, 'emphasizes': 1, 'readability,': 1, 'its': 1, 'syntax': 1, 'allows': 1, 'programmers': 1, 'express': 1, 'concepts': 1, 'fewer': 1, 'lines': 1, 'of': 1, 'than': 1, 'possible': 1, 'languages': 1, 'such': 1, 'as': 1, 'C++': 1, 'Java.': 1, 'supports': 1, 'multiple': 1, 'paradigms,': 1, 'including': 1, 'object-oriented,': 1, 'imperative': 1, 'functional': 1, 'procedural': 1, 'styles.': 1, 'It': 1, 'features': 1, 'type': 1, 'system': 1, 'automatic': 1, 'memory': 1, 'management': 1, 'has': 1, 'large': 1, 'comprehensive': 1, 'standard': 1, 'library.The': 1, 'best': 1, 'way': 1, 'we': 1, 'learn': 1, 'anything': 1, 'by': 1, 'practice': 1, 'exercise': 1, 'questions.': 1, 'We': 1, 'have': 1, 'started': 1, 'this': 1, 'section': 1, 'for': 1, 'those': 1, '(beginner': 1, 'intermediate)': 1, 'who': 1, 'are': 1, 'familiar': 1, 'with': 1, 'Python.': 1})\n"
     ]
    }
   ],
   "source": [
    "from collections import Counter\n",
    "# Un Counter es un contenedor que registra cuántas veces se agregan valores equivalentes.\n",
    "#Split divide una string en una lista \n",
    "def word_count(fname):\n",
    "        with open(fname) as f:\n",
    "                return Counter(f.read().split())\n",
    "\n",
    "print(\"Number of words in the file :\",word_count(\"text.txt\"))"
   ]
  },
  {
   "cell_type": "markdown",
   "id": "e7343062",
   "metadata": {},
   "source": [
    "## Map, filter, reduce\n",
    "\n",
    "En realidad, muchas de las operaciones que hemos estado haciendo en esta clase son del tipo `map`, `filter` y `reduce`. \n",
    "\n",
    "* Operaciones de mapeo (`map`), son aquellas donde aplicamos una función a un grupo de valores. Los ejemplos de $x^2$ o la de calcular el impuesto a una lista de objetos son funciones de mapeo.\n",
    "* Operaciones de filtrado (`filter`), son aquellas donde sólo tomamos ciertos valores que cumplen alguna condición. El último ejercicio justo es un filtrado donde primero seleccionamos valores donde `item = algo`.\n",
    "* Operación de reducción (`reduce`), son aquellas donde ejecutamos alguna operación y obtenemos una especie de resumen. Contar, sumar, promediar, sacar impuesto total, todas son reducciones de información ya que empezamos con una cantidad grande de información y la resumimos en un sólo número.\n",
    "\n",
    "Python incluye estas funciones por default que podemos usar \"out-of-the-box\". Entender estas operaciones es muy útil si queremos hacer cierto tipo de procesamientos de datos con herramientas tales como spark y, hasta cierto nivel, SQL."
   ]
  },
  {
   "cell_type": "code",
   "execution_count": 69,
   "id": "a422b50b",
   "metadata": {},
   "outputs": [
    {
     "data": {
      "text/plain": [
       "[0, 1, 4, 9, 16, 25, 36, 49, 64, 81]"
      ]
     },
     "execution_count": 69,
     "metadata": {},
     "output_type": "execute_result"
    }
   ],
   "source": [
    "cuadrado = lambda x: x**2\n",
    "x = [i for i in range(10)]\n",
    "y = list(map(cuadrado, x))\n",
    "y"
   ]
  },
  {
   "cell_type": "code",
   "execution_count": 70,
   "id": "6b3f157b",
   "metadata": {},
   "outputs": [
    {
     "data": {
      "text/plain": [
       "[0, 2, 4, 6, 8]"
      ]
     },
     "execution_count": 70,
     "metadata": {},
     "output_type": "execute_result"
    }
   ],
   "source": [
    "pares = lambda x: x%2 == 0\n",
    "y = list(filter(pares, x))\n",
    "y"
   ]
  },
  {
   "cell_type": "code",
   "execution_count": 71,
   "id": "6e957d69",
   "metadata": {},
   "outputs": [
    {
     "data": {
      "text/plain": [
       "45"
      ]
     },
     "execution_count": 71,
     "metadata": {},
     "output_type": "execute_result"
    }
   ],
   "source": [
    "from functools import reduce\n",
    "sumar = lambda x, y: x + y\n",
    "y = reduce(sumar, x)\n",
    "y"
   ]
  },
  {
   "cell_type": "markdown",
   "id": "df6dc256",
   "metadata": {},
   "source": [
    "### *sorted()* vs. *sort()*\n",
    "Mientras sort() cambiará permantemente el valor de la lista, sorted() no lo hará"
   ]
  },
  {
   "cell_type": "code",
   "execution_count": 72,
   "id": "c64a1b44",
   "metadata": {},
   "outputs": [
    {
     "name": "stdout",
     "output_type": "stream",
     "text": [
      "Here is the list in alphabetical order:\n",
      "Alberto\n",
      "Bruno\n",
      "Corina\n",
      "\n",
      "Here is the list in reverse alphabetical order:\n",
      "Corina\n",
      "Bruno\n",
      "Alberto\n",
      "\n",
      "Here is the list in its original order:\n",
      "Bruno\n",
      "Alberto\n",
      "Corina\n"
     ]
    }
   ],
   "source": [
    "students = ['bruno', 'alberto', 'corina']\n",
    "\n",
    "# Ordénalo alfabeticamente, pero manten la lista original\n",
    "print(\"Here is the list in alphabetical order:\")\n",
    "for student in sorted(students):\n",
    "    print(student.title())\n",
    "\n",
    "# Reversa la lista,\n",
    "print(\"\\nHere is the list in reverse alphabetical order:\")\n",
    "for student in sorted(students, reverse=True):\n",
    "    print(student.title())\n",
    "\n",
    "print(\"\\nHere is the list in its original order:\")\n",
    "# La lista no se ha alterado\n",
    "for student in students:\n",
    "    print(student.title())"
   ]
  },
  {
   "cell_type": "markdown",
   "id": "ff6e4357",
   "metadata": {},
   "source": [
    "#### Ejercicios Tarea"
   ]
  },
  {
   "cell_type": "markdown",
   "id": "c7b36c17",
   "metadata": {},
   "source": [
    "1.\tEscriba una función que reciba una lista de diccionarios y regrese la lista con las llaves en orden alfabético. Use la función lambda y sorted"
   ]
  },
  {
   "cell_type": "code",
   "execution_count": 33,
   "id": "e805c440",
   "metadata": {},
   "outputs": [
    {
     "name": "stdout",
     "output_type": "stream",
     "text": [
      "Lista inicial :\n",
      "[{'Name': 'Mark', 'Programming': 'Python', 'Year of Experience': 3}, {'Name': 'Nicole', 'Programming': 'C', 'Year of Experience': 1}, {'Name': 'Jason', 'Programming': 'R', 'Year of Experience': 10}]\n",
      "\n",
      "despues de ordenar :\n",
      "[{'Name': 'Nicole', 'Programming': 'C', 'Year of Experience': 1}, {'Name': 'Mark', 'Programming': 'Python', 'Year of Experience': 3}, {'Name': 'Jason', 'Programming': 'R', 'Year of Experience': 10}]\n"
     ]
    }
   ],
   "source": [
    "programmer = [{'Name':'Mark', 'Programming':'Python', 'Year of Experience': 3},\n",
    "               {'Name':'Nicole', 'Programming':'C', 'Year of Experience': 1},\n",
    "               {'Name':'Jason', 'Programming':'R', 'Year of Experience': 10}]\n",
    " \n",
    "print(\"Lista inicial :\")\n",
    "print(programmer)\n",
    " \n",
    "sorted_programmer = sorted(programmer, key = lambda x: x['Programming'])\n",
    " \n",
    "print(\"\\ndespues de ordenar :\")\n",
    "print(sorted_programmer)"
   ]
  },
  {
   "cell_type": "markdown",
   "id": "4dff0b69",
   "metadata": {},
   "source": [
    "2.\tEscriba una función que reciba una lista de números y regrese dos listas, una para los pares y otra para los impares. Use la función lambda y filter."
   ]
  },
  {
   "cell_type": "code",
   "execution_count": 35,
   "id": "4094565e",
   "metadata": {},
   "outputs": [
    {
     "name": "stdout",
     "output_type": "stream",
     "text": [
      "Lista inicial: [22, 56, 77, 99, 45, 36, 87, 93, 5, 78, 2, 66]\n",
      "\n",
      "Pares: [22, 56, 36, 78, 2, 66]\n",
      "\n",
      "Impares: [77, 99, 45, 87, 93, 5]\n"
     ]
    }
   ],
   "source": [
    "list_a = [22, 56, 77, 99, 45, 36, 87, 93, 5, 78, 2, 66]\n",
    "print(\"Lista inicial:\", list_a)\n",
    " \n",
    "even_list_a = list(filter(lambda x: x%2 == 0, list_a))\n",
    "print(\"\\nPares:\", even_list_a)\n",
    " \n",
    "odd_list_a = list(filter(lambda x: x%2 != 0, list_a))\n",
    "print(\"\\nImpares:\", odd_list_a )"
   ]
  },
  {
   "cell_type": "markdown",
   "id": "c442085a",
   "metadata": {},
   "source": [
    "3. Escriba una función que reciba una lista de números y regrese una lista con el cuadrado de los números. Use lambda y map\n"
   ]
  },
  {
   "cell_type": "code",
   "execution_count": 36,
   "id": "d441e6a5",
   "metadata": {},
   "outputs": [
    {
     "name": "stdout",
     "output_type": "stream",
     "text": [
      "The initial list of numbers: [3, 22, 36, 45, 56, 77, 87, 93]\n",
      "\n",
      "The power of two for all elements in list: [9, 484, 1296, 2025, 3136, 5929, 7569, 8649]\n"
     ]
    }
   ],
   "source": [
    "list_a = [3, 22, 36, 45, 56, 77, 87, 93]\n",
    "print(\"The initial list of numbers:\", list_a)\n",
    " \n",
    "power2_list_a = list(map(lambda x: x ** 2, list_a))\n",
    "print(\"\\nThe power of two for all elements in list:\", power2_list_a)"
   ]
  },
  {
   "cell_type": "markdown",
   "id": "c7c6a010",
   "metadata": {},
   "source": [
    "4.\tEscriba una función que reciba una string y regrese un booleano (True si la string es un numero, False en otro caso). Use lambda y replace. "
   ]
  },
  {
   "cell_type": "code",
   "execution_count": 37,
   "id": "ac592b82",
   "metadata": {},
   "outputs": [
    {
     "name": "stdout",
     "output_type": "stream",
     "text": [
      "Is the given 3687 a number: True\n",
      "Is the given Python a number: False\n"
     ]
    }
   ],
   "source": [
    "is_num = lambda q: q.replace('.','',1).isdigit()\n",
    "print(\"Is the given 3687 a number:\", is_num('3687'))\n",
    "print(\"Is the given Python a number:\", is_num('Python'))"
   ]
  },
  {
   "cell_type": "markdown",
   "id": "837778e9",
   "metadata": {},
   "source": [
    "5.\tEscriba una función que reciba una lista y un numero, y regrese True si el numero esta en la lista. Use lambda"
   ]
  },
  {
   "cell_type": "code",
   "execution_count": 75,
   "id": "472b0a17",
   "metadata": {},
   "outputs": [
    {
     "ename": "SyntaxError",
     "evalue": "invalid syntax (Temp/ipykernel_37272/3176659938.py, line 3)",
     "output_type": "error",
     "traceback": [
      "\u001b[1;36m  File \u001b[1;32m\"C:\\Users\\minut\\AppData\\Local\\Temp/ipykernel_37272/3176659938.py\"\u001b[1;36m, line \u001b[1;32m3\u001b[0m\n\u001b[1;33m    check_number = lambda x: if x in list_a\u001b[0m\n\u001b[1;37m                             ^\u001b[0m\n\u001b[1;31mSyntaxError\u001b[0m\u001b[1;31m:\u001b[0m invalid syntax\n"
     ]
    }
   ],
   "source": [
    "list_a = [3, 22, 36, 45, 56, 77, 87, 93]\n",
    "n = 22\n",
    "check_number = lambda x: if x in list_a "
   ]
  },
  {
   "cell_type": "markdown",
   "id": "58124588",
   "metadata": {},
   "source": [
    "6.\tEscriba una función que reciba una cadena de caracteres y te regrese True si la cadena empieza con D y False de otro modo. Usa lambda"
   ]
  },
  {
   "cell_type": "code",
   "execution_count": 40,
   "id": "9558552e",
   "metadata": {},
   "outputs": [
    {
     "name": "stdout",
     "output_type": "stream",
     "text": [
      "Python empieza con D: False\n",
      "Diana empieza con D: True\n"
     ]
    }
   ],
   "source": [
    "starts_with = lambda x: True if x.startswith('D') else False\n",
    "print(\"Python empieza con D:\", starts_with('Python'))\n",
    " \n",
    "starts_with = lambda x: True if x.startswith('D') else False\n",
    "print(\"Diana empieza con D:\", starts_with('Diana'))\n",
    "           \n"
   ]
  },
  {
   "cell_type": "markdown",
   "id": "6525a48e",
   "metadata": {},
   "source": [
    "7.\tEscriba una función que reciba una lista de números y te regrese la lista ordenanda en orden descendente. Usa lambda y sort"
   ]
  },
  {
   "cell_type": "code",
   "execution_count": 44,
   "id": "6081df8f",
   "metadata": {},
   "outputs": [
    {
     "name": "stdout",
     "output_type": "stream",
     "text": [
      "[10000, 999, 100, 99, 10, 9, 1]\n"
     ]
    }
   ],
   "source": [
    "lst=[100, 10, 10000, 1, 9, 999, 99]\n",
    "lst.sort(key=lambda x: 100/x)\n",
    "print(lst)"
   ]
  },
  {
   "cell_type": "markdown",
   "id": "10c3d61b",
   "metadata": {},
   "source": [
    "8.\tEscriba una función que reciba una lista de strings y regrese la lista ordenada de a-z, usando la segunda letra. "
   ]
  },
  {
   "cell_type": "code",
   "execution_count": 45,
   "id": "41a2d39c",
   "metadata": {},
   "outputs": [
    {
     "name": "stdout",
     "output_type": "stream",
     "text": [
      "['rabbit', 'marten', 'whale', 'chipmunk', 'sheep', 'goose', 'fox', 'otter']\n"
     ]
    }
   ],
   "source": [
    "lst=[\"otter\", \"whale\", \"goose\", \"chipmunk\", \"fox\", \"sheep\", \"rabbit\", \"marten\"]\n",
    "lst = sorted(lst, key=lambda x: x[1])\n",
    "\n",
    "print(lst)"
   ]
  },
  {
   "cell_type": "markdown",
   "id": "fd77bb6a",
   "metadata": {},
   "source": [
    "9.\tEscriba una función que reciba una lista de tuplas y regrese la lista ordenada, usando el segundo elemento de la tupla. Usa lambda"
   ]
  },
  {
   "cell_type": "code",
   "execution_count": 46,
   "id": "21c7e97c",
   "metadata": {},
   "outputs": [
    {
     "name": "stdout",
     "output_type": "stream",
     "text": [
      "[(4887871, 'Alabama'), (39865590, 'California'), (1420491, 'Hawaii'), (19542209, 'New York'), (626299, 'Vermont'), (1805832, 'West Virginia')]\n"
     ]
    }
   ],
   "source": [
    "lst=[(19542209, \"New York\") ,(4887871, \"Alabama\"), (1420491, \"Hawaii\"), (626299, \"Vermont\"), (1805832, \"West Virginia\"), (39865590, \"California\")]\n",
    "lst = sorted(lst, key=lambda x: x[1])\n",
    "\n",
    "print(lst)\n"
   ]
  },
  {
   "cell_type": "markdown",
   "id": "6d618208",
   "metadata": {},
   "source": [
    "1.\tEscriba una función que reciba una lista de enteros y regrese la lista sumándoles uno a cada elemento. Usa comprensión de listas."
   ]
  },
  {
   "cell_type": "code",
   "execution_count": 49,
   "id": "282b97c3",
   "metadata": {},
   "outputs": [
    {
     "data": {
      "text/plain": [
       "[3, 4, 5, 6, 7, 8, 9, 10, 11, 12, 14, 18, 20, 24, 257, -7, -3, -1, 6, -8]"
      ]
     },
     "execution_count": 49,
     "metadata": {},
     "output_type": "execute_result"
    }
   ],
   "source": [
    "numbers = [2, 3, 4, 5, 6, 7, 8, 9, 10, 11, 13, 17, 19, 23, 256, -8, -4, -2, 5, -9]\n",
    "numbers_plus_one = [number + 1 for number in numbers]\n",
    "numbers_plus_one"
   ]
  },
  {
   "cell_type": "markdown",
   "id": "88922708",
   "metadata": {},
   "source": [
    "2.\tEscriba una función que reciba una lista de strings y regrese la lista con la primera letra de cada elemento en mayúscula. "
   ]
  },
  {
   "cell_type": "code",
   "execution_count": 53,
   "id": "3458bdd7",
   "metadata": {},
   "outputs": [
    {
     "data": {
      "text/plain": [
       "['Mango', 'Kiwi', 'Strawberry', 'Guava', 'Pineapple', 'Mandarin Orange']"
      ]
     },
     "execution_count": 53,
     "metadata": {},
     "output_type": "execute_result"
    }
   ],
   "source": [
    "fruits = ['mango', 'kiwi', 'strawberry', 'guava', 'pineapple', 'mandarin orange']\n",
    "uppercased_fruits = [fruit.title() for fruit in fruits]\n",
    "uppercased_fruits"
   ]
  },
  {
   "cell_type": "markdown",
   "id": "8342d661",
   "metadata": {},
   "source": [
    "3.\tEscriba una función que reciba una lista de strings y regrese una lista con las palabras que tienen mas de 5 letras. "
   ]
  },
  {
   "cell_type": "code",
   "execution_count": 54,
   "id": "f399cf3d",
   "metadata": {},
   "outputs": [
    {
     "data": {
      "text/plain": [
       "['mango', 'strawberry', 'guava', 'pineapple', 'mandarin orange']"
      ]
     },
     "execution_count": 54,
     "metadata": {},
     "output_type": "execute_result"
    }
   ],
   "source": [
    "more_five =  [fruit for fruit in fruits if len(fruit)>= 5]\n",
    "more_five"
   ]
  },
  {
   "cell_type": "markdown",
   "id": "9ee42cfb",
   "metadata": {},
   "source": [
    "4.\tEscriba una función que reciba una lista de strings y regrese una lista que contenga el numero de letras de cada elemento. "
   ]
  },
  {
   "cell_type": "code",
   "execution_count": 55,
   "id": "68083a0c",
   "metadata": {},
   "outputs": [
    {
     "data": {
      "text/plain": [
       "[5, 4, 10, 5, 9, 15]"
      ]
     },
     "execution_count": 55,
     "metadata": {},
     "output_type": "execute_result"
    }
   ],
   "source": [
    "count =  [len(fruit) for fruit in fruits]\n",
    "count"
   ]
  },
  {
   "cell_type": "markdown",
   "id": "9c27b006",
   "metadata": {},
   "source": [
    "5.\tEscriba una función que reciba una lista y regrese  una lista solo de los números primos "
   ]
  },
  {
   "cell_type": "code",
   "execution_count": null,
   "id": "dc85eac7",
   "metadata": {},
   "outputs": [],
   "source": [
    "def isprime(num):\n",
    "    if num> 1:  \n",
    "        for n in range(2,num):  \n",
    "            if (num % n) == 0:  \n",
    "                return False\n",
    "        return True\n",
    "    else:\n",
    "        return False\n",
    "print(isprime(64))\n",
    "print(isprime(5))"
   ]
  },
  {
   "cell_type": "markdown",
   "id": "7875800e",
   "metadata": {},
   "source": [
    "6.\tEscriba una función que reciba una lista del 1 al 1000 y regrese una lista con los números divisibles entre el 2 al 9"
   ]
  },
  {
   "cell_type": "code",
   "execution_count": 58,
   "id": "26c82d39",
   "metadata": {},
   "outputs": [
    {
     "data": {
      "text/plain": [
       "[2,\n",
       " 3,\n",
       " 4,\n",
       " 5,\n",
       " 6,\n",
       " 7,\n",
       " 8,\n",
       " 9,\n",
       " 10,\n",
       " 12,\n",
       " 14,\n",
       " 15,\n",
       " 16,\n",
       " 18,\n",
       " 20,\n",
       " 21,\n",
       " 22,\n",
       " 24,\n",
       " 25,\n",
       " 26,\n",
       " 27,\n",
       " 28,\n",
       " 30,\n",
       " 32,\n",
       " 33,\n",
       " 34,\n",
       " 35,\n",
       " 36,\n",
       " 38,\n",
       " 39,\n",
       " 40,\n",
       " 42,\n",
       " 44,\n",
       " 45,\n",
       " 46,\n",
       " 48,\n",
       " 49,\n",
       " 50,\n",
       " 51,\n",
       " 52,\n",
       " 54,\n",
       " 55,\n",
       " 56,\n",
       " 57,\n",
       " 58,\n",
       " 60,\n",
       " 62,\n",
       " 63,\n",
       " 64,\n",
       " 65,\n",
       " 66,\n",
       " 68,\n",
       " 69,\n",
       " 70,\n",
       " 72,\n",
       " 74,\n",
       " 75,\n",
       " 76,\n",
       " 77,\n",
       " 78,\n",
       " 80,\n",
       " 81,\n",
       " 82,\n",
       " 84,\n",
       " 85,\n",
       " 86,\n",
       " 87,\n",
       " 88,\n",
       " 90,\n",
       " 91,\n",
       " 92,\n",
       " 93,\n",
       " 94,\n",
       " 95,\n",
       " 96,\n",
       " 98,\n",
       " 99,\n",
       " 100,\n",
       " 102,\n",
       " 104,\n",
       " 105,\n",
       " 106,\n",
       " 108,\n",
       " 110,\n",
       " 111,\n",
       " 112,\n",
       " 114,\n",
       " 115,\n",
       " 116,\n",
       " 117,\n",
       " 118,\n",
       " 119,\n",
       " 120,\n",
       " 122,\n",
       " 123,\n",
       " 124,\n",
       " 125,\n",
       " 126,\n",
       " 128,\n",
       " 129,\n",
       " 130,\n",
       " 132,\n",
       " 133,\n",
       " 134,\n",
       " 135,\n",
       " 136,\n",
       " 138,\n",
       " 140,\n",
       " 141,\n",
       " 142,\n",
       " 144,\n",
       " 145,\n",
       " 146,\n",
       " 147,\n",
       " 148,\n",
       " 150,\n",
       " 152,\n",
       " 153,\n",
       " 154,\n",
       " 155,\n",
       " 156,\n",
       " 158,\n",
       " 159,\n",
       " 160,\n",
       " 161,\n",
       " 162,\n",
       " 164,\n",
       " 165,\n",
       " 166,\n",
       " 168,\n",
       " 170,\n",
       " 171,\n",
       " 172,\n",
       " 174,\n",
       " 175,\n",
       " 176,\n",
       " 177,\n",
       " 178,\n",
       " 180,\n",
       " 182,\n",
       " 183,\n",
       " 184,\n",
       " 185,\n",
       " 186,\n",
       " 188,\n",
       " 189,\n",
       " 190,\n",
       " 192,\n",
       " 194,\n",
       " 195,\n",
       " 196,\n",
       " 198,\n",
       " 200,\n",
       " 201,\n",
       " 202,\n",
       " 203,\n",
       " 204,\n",
       " 205,\n",
       " 206,\n",
       " 207,\n",
       " 208,\n",
       " 210,\n",
       " 212,\n",
       " 213,\n",
       " 214,\n",
       " 215,\n",
       " 216,\n",
       " 217,\n",
       " 218,\n",
       " 219,\n",
       " 220,\n",
       " 222,\n",
       " 224,\n",
       " 225,\n",
       " 226,\n",
       " 228,\n",
       " 230,\n",
       " 231,\n",
       " 232,\n",
       " 234,\n",
       " 235,\n",
       " 236,\n",
       " 237,\n",
       " 238,\n",
       " 240,\n",
       " 242,\n",
       " 243,\n",
       " 244,\n",
       " 245,\n",
       " 246,\n",
       " 248,\n",
       " 249,\n",
       " 250,\n",
       " 252,\n",
       " 254,\n",
       " 255,\n",
       " 256,\n",
       " 258,\n",
       " 259,\n",
       " 260,\n",
       " 261,\n",
       " 262,\n",
       " 264,\n",
       " 265,\n",
       " 266,\n",
       " 267,\n",
       " 268,\n",
       " 270,\n",
       " 272,\n",
       " 273,\n",
       " 274,\n",
       " 275,\n",
       " 276,\n",
       " 278,\n",
       " 279,\n",
       " 280,\n",
       " 282,\n",
       " 284,\n",
       " 285,\n",
       " 286,\n",
       " 287,\n",
       " 288,\n",
       " 290,\n",
       " 291,\n",
       " 292,\n",
       " 294,\n",
       " 295,\n",
       " 296,\n",
       " 297,\n",
       " 298,\n",
       " 300,\n",
       " 301,\n",
       " 302,\n",
       " 303,\n",
       " 304,\n",
       " 305,\n",
       " 306,\n",
       " 308,\n",
       " 309,\n",
       " 310,\n",
       " 312,\n",
       " 314,\n",
       " 315,\n",
       " 316,\n",
       " 318,\n",
       " 320,\n",
       " 321,\n",
       " 322,\n",
       " 324,\n",
       " 325,\n",
       " 326,\n",
       " 327,\n",
       " 328,\n",
       " 329,\n",
       " 330,\n",
       " 332,\n",
       " 333,\n",
       " 334,\n",
       " 335,\n",
       " 336,\n",
       " 338,\n",
       " 339,\n",
       " 340,\n",
       " 342,\n",
       " 343,\n",
       " 344,\n",
       " 345,\n",
       " 346,\n",
       " 348,\n",
       " 350,\n",
       " 351,\n",
       " 352,\n",
       " 354,\n",
       " 355,\n",
       " 356,\n",
       " 357,\n",
       " 358,\n",
       " 360,\n",
       " 362,\n",
       " 363,\n",
       " 364,\n",
       " 365,\n",
       " 366,\n",
       " 368,\n",
       " 369,\n",
       " 370,\n",
       " 371,\n",
       " 372,\n",
       " 374,\n",
       " 375,\n",
       " 376,\n",
       " 378,\n",
       " 380,\n",
       " 381,\n",
       " 382,\n",
       " 384,\n",
       " 385,\n",
       " 386,\n",
       " 387,\n",
       " 388,\n",
       " 390,\n",
       " 392,\n",
       " 393,\n",
       " 394,\n",
       " 395,\n",
       " 396,\n",
       " 398,\n",
       " 399,\n",
       " 400,\n",
       " 402,\n",
       " 404,\n",
       " 405,\n",
       " 406,\n",
       " 408,\n",
       " 410,\n",
       " 411,\n",
       " 412,\n",
       " 413,\n",
       " 414,\n",
       " 415,\n",
       " 416,\n",
       " 417,\n",
       " 418,\n",
       " 420,\n",
       " 422,\n",
       " 423,\n",
       " 424,\n",
       " 425,\n",
       " 426,\n",
       " 427,\n",
       " 428,\n",
       " 429,\n",
       " 430,\n",
       " 432,\n",
       " 434,\n",
       " 435,\n",
       " 436,\n",
       " 438,\n",
       " 440,\n",
       " 441,\n",
       " 442,\n",
       " 444,\n",
       " 445,\n",
       " 446,\n",
       " 447,\n",
       " 448,\n",
       " 450,\n",
       " 452,\n",
       " 453,\n",
       " 454,\n",
       " 455,\n",
       " 456,\n",
       " 458,\n",
       " 459,\n",
       " 460,\n",
       " 462,\n",
       " 464,\n",
       " 465,\n",
       " 466,\n",
       " 468,\n",
       " 469,\n",
       " 470,\n",
       " 471,\n",
       " 472,\n",
       " 474,\n",
       " 475,\n",
       " 476,\n",
       " 477,\n",
       " 478,\n",
       " 480,\n",
       " 482,\n",
       " 483,\n",
       " 484,\n",
       " 485,\n",
       " 486,\n",
       " 488,\n",
       " 489,\n",
       " 490,\n",
       " 492,\n",
       " 494,\n",
       " 495,\n",
       " 496,\n",
       " 497,\n",
       " 498,\n",
       " 500,\n",
       " 501,\n",
       " 502,\n",
       " 504,\n",
       " 505,\n",
       " 506,\n",
       " 507,\n",
       " 508,\n",
       " 510,\n",
       " 511,\n",
       " 512,\n",
       " 513,\n",
       " 514,\n",
       " 515,\n",
       " 516,\n",
       " 518,\n",
       " 519,\n",
       " 520,\n",
       " 522,\n",
       " 524,\n",
       " 525,\n",
       " 526,\n",
       " 528,\n",
       " 530,\n",
       " 531,\n",
       " 532,\n",
       " 534,\n",
       " 535,\n",
       " 536,\n",
       " 537,\n",
       " 538,\n",
       " 539,\n",
       " 540,\n",
       " 542,\n",
       " 543,\n",
       " 544,\n",
       " 545,\n",
       " 546,\n",
       " 548,\n",
       " 549,\n",
       " 550,\n",
       " 552,\n",
       " 553,\n",
       " 554,\n",
       " 555,\n",
       " 556,\n",
       " 558,\n",
       " 560,\n",
       " 561,\n",
       " 562,\n",
       " 564,\n",
       " 565,\n",
       " 566,\n",
       " 567,\n",
       " 568,\n",
       " 570,\n",
       " 572,\n",
       " 573,\n",
       " 574,\n",
       " 575,\n",
       " 576,\n",
       " 578,\n",
       " 579,\n",
       " 580,\n",
       " 581,\n",
       " 582,\n",
       " 584,\n",
       " 585,\n",
       " 586,\n",
       " 588,\n",
       " 590,\n",
       " 591,\n",
       " 592,\n",
       " 594,\n",
       " 595,\n",
       " 596,\n",
       " 597,\n",
       " 598,\n",
       " 600,\n",
       " 602,\n",
       " 603,\n",
       " 604,\n",
       " 605,\n",
       " 606,\n",
       " 608,\n",
       " 609,\n",
       " 610,\n",
       " 612,\n",
       " 614,\n",
       " 615,\n",
       " 616,\n",
       " 618,\n",
       " 620,\n",
       " 621,\n",
       " 622,\n",
       " 623,\n",
       " 624,\n",
       " 625,\n",
       " 626,\n",
       " 627,\n",
       " 628,\n",
       " 630,\n",
       " 632,\n",
       " 633,\n",
       " 634,\n",
       " 635,\n",
       " 636,\n",
       " 637,\n",
       " 638,\n",
       " 639,\n",
       " 640,\n",
       " 642,\n",
       " 644,\n",
       " 645,\n",
       " 646,\n",
       " 648,\n",
       " 650,\n",
       " 651,\n",
       " 652,\n",
       " 654,\n",
       " 655,\n",
       " 656,\n",
       " 657,\n",
       " 658,\n",
       " 660,\n",
       " 662,\n",
       " 663,\n",
       " 664,\n",
       " 665,\n",
       " 666,\n",
       " 668,\n",
       " 669,\n",
       " 670,\n",
       " 672,\n",
       " 674,\n",
       " 675,\n",
       " 676,\n",
       " 678,\n",
       " 679,\n",
       " 680,\n",
       " 681,\n",
       " 682,\n",
       " 684,\n",
       " 685,\n",
       " 686,\n",
       " 687,\n",
       " 688,\n",
       " 690,\n",
       " 692,\n",
       " 693,\n",
       " 694,\n",
       " 695,\n",
       " 696,\n",
       " 698,\n",
       " 699,\n",
       " 700,\n",
       " 702,\n",
       " 704,\n",
       " 705,\n",
       " 706,\n",
       " 707,\n",
       " 708,\n",
       " 710,\n",
       " 711,\n",
       " 712,\n",
       " 714,\n",
       " 715,\n",
       " 716,\n",
       " 717,\n",
       " 718,\n",
       " 720,\n",
       " 721,\n",
       " 722,\n",
       " 723,\n",
       " 724,\n",
       " 725,\n",
       " 726,\n",
       " 728,\n",
       " 729,\n",
       " 730,\n",
       " 732,\n",
       " 734,\n",
       " 735,\n",
       " 736,\n",
       " 738,\n",
       " 740,\n",
       " 741,\n",
       " 742,\n",
       " 744,\n",
       " 745,\n",
       " 746,\n",
       " 747,\n",
       " 748,\n",
       " 749,\n",
       " 750,\n",
       " 752,\n",
       " 753,\n",
       " 754,\n",
       " 755,\n",
       " 756,\n",
       " 758,\n",
       " 759,\n",
       " 760,\n",
       " 762,\n",
       " 763,\n",
       " 764,\n",
       " 765,\n",
       " 766,\n",
       " 768,\n",
       " 770,\n",
       " 771,\n",
       " 772,\n",
       " 774,\n",
       " 775,\n",
       " 776,\n",
       " 777,\n",
       " 778,\n",
       " 780,\n",
       " 782,\n",
       " 783,\n",
       " 784,\n",
       " 785,\n",
       " 786,\n",
       " 788,\n",
       " 789,\n",
       " 790,\n",
       " 791,\n",
       " 792,\n",
       " 794,\n",
       " 795,\n",
       " 796,\n",
       " 798,\n",
       " 800,\n",
       " 801,\n",
       " 802,\n",
       " 804,\n",
       " 805,\n",
       " 806,\n",
       " 807,\n",
       " 808,\n",
       " 810,\n",
       " 812,\n",
       " 813,\n",
       " 814,\n",
       " 815,\n",
       " 816,\n",
       " 818,\n",
       " 819,\n",
       " 820,\n",
       " 822,\n",
       " 824,\n",
       " 825,\n",
       " 826,\n",
       " 828,\n",
       " 830,\n",
       " 831,\n",
       " 832,\n",
       " 833,\n",
       " 834,\n",
       " 835,\n",
       " 836,\n",
       " 837,\n",
       " 838,\n",
       " 840,\n",
       " 842,\n",
       " 843,\n",
       " 844,\n",
       " 845,\n",
       " 846,\n",
       " 847,\n",
       " 848,\n",
       " 849,\n",
       " 850,\n",
       " 852,\n",
       " 854,\n",
       " 855,\n",
       " 856,\n",
       " 858,\n",
       " 860,\n",
       " 861,\n",
       " 862,\n",
       " 864,\n",
       " 865,\n",
       " 866,\n",
       " 867,\n",
       " 868,\n",
       " 870,\n",
       " 872,\n",
       " 873,\n",
       " 874,\n",
       " 875,\n",
       " 876,\n",
       " 878,\n",
       " 879,\n",
       " 880,\n",
       " 882,\n",
       " 884,\n",
       " 885,\n",
       " 886,\n",
       " 888,\n",
       " 889,\n",
       " 890,\n",
       " 891,\n",
       " 892,\n",
       " 894,\n",
       " 895,\n",
       " 896,\n",
       " 897,\n",
       " 898,\n",
       " 900,\n",
       " 902,\n",
       " 903,\n",
       " 904,\n",
       " 905,\n",
       " 906,\n",
       " 908,\n",
       " 909,\n",
       " 910,\n",
       " 912,\n",
       " 914,\n",
       " 915,\n",
       " 916,\n",
       " 917,\n",
       " 918,\n",
       " 920,\n",
       " 921,\n",
       " 922,\n",
       " 924,\n",
       " 925,\n",
       " 926,\n",
       " 927,\n",
       " 928,\n",
       " 930,\n",
       " 931,\n",
       " 932,\n",
       " 933,\n",
       " 934,\n",
       " 935,\n",
       " 936,\n",
       " 938,\n",
       " 939,\n",
       " 940,\n",
       " 942,\n",
       " 944,\n",
       " 945,\n",
       " 946,\n",
       " 948,\n",
       " 950,\n",
       " 951,\n",
       " 952,\n",
       " 954,\n",
       " 955,\n",
       " 956,\n",
       " 957,\n",
       " 958,\n",
       " 959,\n",
       " 960,\n",
       " 962,\n",
       " 963,\n",
       " 964,\n",
       " 965,\n",
       " 966,\n",
       " 968,\n",
       " 969,\n",
       " 970,\n",
       " 972,\n",
       " 973,\n",
       " 974,\n",
       " 975,\n",
       " 976,\n",
       " 978,\n",
       " 980,\n",
       " 981,\n",
       " 982,\n",
       " 984,\n",
       " 985,\n",
       " 986,\n",
       " 987,\n",
       " 988,\n",
       " 990,\n",
       " 992,\n",
       " 993,\n",
       " 994,\n",
       " 995,\n",
       " 996,\n",
       " 998,\n",
       " 999,\n",
       " 1000]"
      ]
     },
     "execution_count": 58,
     "metadata": {},
     "output_type": "execute_result"
    }
   ],
   "source": [
    "nums = [i for i in range(1,1001)]\n",
    "q7_answer = [num for num in nums if True in [True for divisor in range(2,10) if num % divisor == 0]]\n",
    "q7_answer"
   ]
  },
  {
   "cell_type": "markdown",
   "id": "46692671",
   "metadata": {},
   "source": [
    "7.\tEscribe una función que reciba una lista del 1 al 1000 y regrese una lista con los números que tienen un digito 7."
   ]
  },
  {
   "cell_type": "code",
   "execution_count": 60,
   "id": "dd39c13c",
   "metadata": {},
   "outputs": [
    {
     "data": {
      "text/plain": [
       "[7,\n",
       " 17,\n",
       " 27,\n",
       " 37,\n",
       " 47,\n",
       " 57,\n",
       " 67,\n",
       " 70,\n",
       " 71,\n",
       " 72,\n",
       " 73,\n",
       " 74,\n",
       " 75,\n",
       " 76,\n",
       " 77,\n",
       " 78,\n",
       " 79,\n",
       " 87,\n",
       " 97,\n",
       " 107,\n",
       " 117,\n",
       " 127,\n",
       " 137,\n",
       " 147,\n",
       " 157,\n",
       " 167,\n",
       " 170,\n",
       " 171,\n",
       " 172,\n",
       " 173,\n",
       " 174,\n",
       " 175,\n",
       " 176,\n",
       " 177,\n",
       " 178,\n",
       " 179,\n",
       " 187,\n",
       " 197,\n",
       " 207,\n",
       " 217,\n",
       " 227,\n",
       " 237,\n",
       " 247,\n",
       " 257,\n",
       " 267,\n",
       " 270,\n",
       " 271,\n",
       " 272,\n",
       " 273,\n",
       " 274,\n",
       " 275,\n",
       " 276,\n",
       " 277,\n",
       " 278,\n",
       " 279,\n",
       " 287,\n",
       " 297,\n",
       " 307,\n",
       " 317,\n",
       " 327,\n",
       " 337,\n",
       " 347,\n",
       " 357,\n",
       " 367,\n",
       " 370,\n",
       " 371,\n",
       " 372,\n",
       " 373,\n",
       " 374,\n",
       " 375,\n",
       " 376,\n",
       " 377,\n",
       " 378,\n",
       " 379,\n",
       " 387,\n",
       " 397,\n",
       " 407,\n",
       " 417,\n",
       " 427,\n",
       " 437,\n",
       " 447,\n",
       " 457,\n",
       " 467,\n",
       " 470,\n",
       " 471,\n",
       " 472,\n",
       " 473,\n",
       " 474,\n",
       " 475,\n",
       " 476,\n",
       " 477,\n",
       " 478,\n",
       " 479,\n",
       " 487,\n",
       " 497,\n",
       " 507,\n",
       " 517,\n",
       " 527,\n",
       " 537,\n",
       " 547,\n",
       " 557,\n",
       " 567,\n",
       " 570,\n",
       " 571,\n",
       " 572,\n",
       " 573,\n",
       " 574,\n",
       " 575,\n",
       " 576,\n",
       " 577,\n",
       " 578,\n",
       " 579,\n",
       " 587,\n",
       " 597,\n",
       " 607,\n",
       " 617,\n",
       " 627,\n",
       " 637,\n",
       " 647,\n",
       " 657,\n",
       " 667,\n",
       " 670,\n",
       " 671,\n",
       " 672,\n",
       " 673,\n",
       " 674,\n",
       " 675,\n",
       " 676,\n",
       " 677,\n",
       " 678,\n",
       " 679,\n",
       " 687,\n",
       " 697,\n",
       " 700,\n",
       " 701,\n",
       " 702,\n",
       " 703,\n",
       " 704,\n",
       " 705,\n",
       " 706,\n",
       " 707,\n",
       " 708,\n",
       " 709,\n",
       " 710,\n",
       " 711,\n",
       " 712,\n",
       " 713,\n",
       " 714,\n",
       " 715,\n",
       " 716,\n",
       " 717,\n",
       " 718,\n",
       " 719,\n",
       " 720,\n",
       " 721,\n",
       " 722,\n",
       " 723,\n",
       " 724,\n",
       " 725,\n",
       " 726,\n",
       " 727,\n",
       " 728,\n",
       " 729,\n",
       " 730,\n",
       " 731,\n",
       " 732,\n",
       " 733,\n",
       " 734,\n",
       " 735,\n",
       " 736,\n",
       " 737,\n",
       " 738,\n",
       " 739,\n",
       " 740,\n",
       " 741,\n",
       " 742,\n",
       " 743,\n",
       " 744,\n",
       " 745,\n",
       " 746,\n",
       " 747,\n",
       " 748,\n",
       " 749,\n",
       " 750,\n",
       " 751,\n",
       " 752,\n",
       " 753,\n",
       " 754,\n",
       " 755,\n",
       " 756,\n",
       " 757,\n",
       " 758,\n",
       " 759,\n",
       " 760,\n",
       " 761,\n",
       " 762,\n",
       " 763,\n",
       " 764,\n",
       " 765,\n",
       " 766,\n",
       " 767,\n",
       " 768,\n",
       " 769,\n",
       " 770,\n",
       " 771,\n",
       " 772,\n",
       " 773,\n",
       " 774,\n",
       " 775,\n",
       " 776,\n",
       " 777,\n",
       " 778,\n",
       " 779,\n",
       " 780,\n",
       " 781,\n",
       " 782,\n",
       " 783,\n",
       " 784,\n",
       " 785,\n",
       " 786,\n",
       " 787,\n",
       " 788,\n",
       " 789,\n",
       " 790,\n",
       " 791,\n",
       " 792,\n",
       " 793,\n",
       " 794,\n",
       " 795,\n",
       " 796,\n",
       " 797,\n",
       " 798,\n",
       " 799,\n",
       " 807,\n",
       " 817,\n",
       " 827,\n",
       " 837,\n",
       " 847,\n",
       " 857,\n",
       " 867,\n",
       " 870,\n",
       " 871,\n",
       " 872,\n",
       " 873,\n",
       " 874,\n",
       " 875,\n",
       " 876,\n",
       " 877,\n",
       " 878,\n",
       " 879,\n",
       " 887,\n",
       " 897,\n",
       " 907,\n",
       " 917,\n",
       " 927,\n",
       " 937,\n",
       " 947,\n",
       " 957,\n",
       " 967,\n",
       " 970,\n",
       " 971,\n",
       " 972,\n",
       " 973,\n",
       " 974,\n",
       " 975,\n",
       " 976,\n",
       " 977,\n",
       " 978,\n",
       " 979,\n",
       " 987,\n",
       " 997]"
      ]
     },
     "execution_count": 60,
     "metadata": {},
     "output_type": "execute_result"
    }
   ],
   "source": [
    "q2_answer = [num for num in nums if \"7\" in str(num)]\n",
    "q2_answer"
   ]
  },
  {
   "cell_type": "markdown",
   "id": "295eb542",
   "metadata": {},
   "source": [
    "8.\tEscribe una función que reciba una string y regrese la string sin las vocales"
   ]
  },
  {
   "cell_type": "code",
   "execution_count": 88,
   "id": "e817bf46",
   "metadata": {},
   "outputs": [
    {
     "data": {
      "text/plain": [
       "'hl mnd'"
      ]
     },
     "execution_count": 88,
     "metadata": {},
     "output_type": "execute_result"
    }
   ],
   "source": [
    "string = \"hola mundo\"\n",
    "sin_vocales = \"\".join([char for char in string if char not in [\"a\",\"e\",\"i\",\"o\",\"u\"]])\n",
    "sin_vocales"
   ]
  },
  {
   "cell_type": "markdown",
   "id": "3bc61ed3",
   "metadata": {},
   "source": [
    "9.\tEscribe una función que reciba una oración y regrese la cuenta de las letras en cada palabra. "
   ]
  },
  {
   "cell_type": "code",
   "execution_count": 63,
   "id": "6aaada42",
   "metadata": {},
   "outputs": [
    {
     "data": {
      "text/plain": [
       "{'Practice': 8,\n",
       " 'Problems': 8,\n",
       " 'to': 2,\n",
       " 'Drill': 5,\n",
       " 'List': 4,\n",
       " 'Comprehension': 13,\n",
       " 'in': 2,\n",
       " 'Your': 4,\n",
       " 'Head.': 5}"
      ]
     },
     "execution_count": 63,
     "metadata": {},
     "output_type": "execute_result"
    }
   ],
   "source": [
    "words = string.split(\" \")\n",
    "q6_answer = {word:len(word) for word in words}\n",
    "q6_answer"
   ]
  },
  {
   "cell_type": "code",
   "execution_count": null,
   "id": "5d98deab",
   "metadata": {},
   "outputs": [],
   "source": []
  }
 ],
 "metadata": {
  "kernelspec": {
   "display_name": "Python 3 (ipykernel)",
   "language": "python",
   "name": "python3"
  },
  "language_info": {
   "codemirror_mode": {
    "name": "ipython",
    "version": 3
   },
   "file_extension": ".py",
   "mimetype": "text/x-python",
   "name": "python",
   "nbconvert_exporter": "python",
   "pygments_lexer": "ipython3",
   "version": "3.9.7"
  }
 },
 "nbformat": 4,
 "nbformat_minor": 5
}
