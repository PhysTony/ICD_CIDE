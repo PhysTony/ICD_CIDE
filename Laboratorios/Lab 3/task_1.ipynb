{
 "cells": [
  {
   "cell_type": "code",
   "execution_count": 1,
   "id": "5bbc4e1e-caa8-4094-ac3d-cb47e0099b6f",
   "metadata": {},
   "outputs": [],
   "source": [
    "mascotas = {\"Pepa\":\"Cerda\", \"Lisa\":\"Mona\", \"Asdasd\":\"Tortuga\"}"
   ]
  },
  {
   "cell_type": "code",
   "execution_count": 3,
   "id": "8b512b30-b15f-48d0-9de1-a2bdaebe1ae7",
   "metadata": {},
   "outputs": [
    {
     "name": "stdout",
     "output_type": "stream",
     "text": [
      "{'Pepa': 'Cerda', 'Lisa': 'Mona', 'Asdasd': 'Tortuga'}\n"
     ]
    }
   ],
   "source": [
    "print(mascotas)"
   ]
  },
  {
   "cell_type": "code",
   "execution_count": 5,
   "id": "1822b264-80f7-4a0d-b5fc-704c52972119",
   "metadata": {},
   "outputs": [
    {
     "name": "stdout",
     "output_type": "stream",
     "text": [
      "Pepa es un/a Cerda\n",
      "Lisa es un/a Mona\n",
      "Asdasd es un/a Tortuga\n"
     ]
    }
   ],
   "source": [
    "for nombre, especie in mascotas.items():\n",
    "        print(str(nombre) + \" es un/a \" + str(especie))"
   ]
  },
  {
   "cell_type": "code",
   "execution_count": 7,
   "id": "6a91741f-7223-4233-82ba-16e13eadea13",
   "metadata": {},
   "outputs": [],
   "source": [
    "numbers = []\n",
    "for i in range(1,11):\n",
    "    numbers.append(i)"
   ]
  },
  {
   "cell_type": "code",
   "execution_count": 8,
   "id": "6f422ed8-1e81-4b16-864d-7ca5fa4f668f",
   "metadata": {},
   "outputs": [
    {
     "data": {
      "text/plain": [
       "[1, 2, 3, 4, 5, 6, 7, 8, 9, 10]"
      ]
     },
     "execution_count": 8,
     "metadata": {},
     "output_type": "execute_result"
    }
   ],
   "source": [
    "numbers"
   ]
  },
  {
   "cell_type": "code",
   "execution_count": 11,
   "id": "4f12633c-91ce-469b-9e0e-fc105fdcc973",
   "metadata": {},
   "outputs": [],
   "source": [
    "numbers = [i for i in range(1,11)]"
   ]
  },
  {
   "cell_type": "code",
   "execution_count": 12,
   "id": "d4a4c41c-5f01-4fac-8beb-cf741d742faf",
   "metadata": {},
   "outputs": [
    {
     "data": {
      "text/plain": [
       "[1, 2, 3, 4, 5, 6, 7, 8, 9, 10]"
      ]
     },
     "execution_count": 12,
     "metadata": {},
     "output_type": "execute_result"
    }
   ],
   "source": [
    "numbers"
   ]
  }
 ],
 "metadata": {
  "kernelspec": {
   "display_name": "Python 3",
   "language": "python",
   "name": "python3"
  },
  "language_info": {
   "codemirror_mode": {
    "name": "ipython",
    "version": 3
   },
   "file_extension": ".py",
   "mimetype": "text/x-python",
   "name": "python",
   "nbconvert_exporter": "python",
   "pygments_lexer": "ipython3",
   "version": "3.8.8"
  }
 },
 "nbformat": 4,
 "nbformat_minor": 5
}
