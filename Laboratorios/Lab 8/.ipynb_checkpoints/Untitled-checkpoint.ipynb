{
 "cells": [
  {
   "cell_type": "markdown",
   "id": "0f05eeca-1d1e-4f6f-ac47-0a57e803bb1e",
   "metadata": {},
   "source": [
    "dividir el conjunto de datos del iris en un 70 % de datos de entrenamiento y un 30 % de datos de prueba. Del total de 150 registros, el conjunto de entrenamiento contendrá 105 registros y el conjunto de prueba contiene 45 de esos registros. Prediga la respuesta para el conjunto de datos de prueba (SepalLengthCm, SepalWidthCm, PetalLengthCm, PetalWidthCm) utilizando el algoritmo K vecino más cercano. Utilice 5 como número de vecinos. "
   ]
  },
  {
   "cell_type": "code",
   "execution_count": 4,
   "id": "792eb17c-6413-49cb-8c3c-c379c59c52b5",
   "metadata": {},
   "outputs": [],
   "source": [
    "from sklearn.datasets import load_iris\n",
    "from sklearn.model_selection import train_test_split  \n",
    "from sklearn.neighbors import KNeighborsClassifier"
   ]
  },
  {
   "cell_type": "code",
   "execution_count": 2,
   "id": "bf886646-4f3a-4e2d-afe7-9a850932d5f5",
   "metadata": {},
   "outputs": [],
   "source": [
    "iris = load_iris()\n",
    "data, labels = iris.data, iris.target"
   ]
  },
  {
   "cell_type": "code",
   "execution_count": 3,
   "id": "65754fb4-143a-4195-9434-006862b08fa0",
   "metadata": {},
   "outputs": [],
   "source": [
    "res = train_test_split(data, labels,       \n",
    "                       train_size=0.7,     \n",
    "                       test_size=0.3,      \n",
    "                       random_state=0)    \n",
    "train_data, test_data, train_labels, test_labels = res"
   ]
  },
  {
   "cell_type": "code",
   "execution_count": 6,
   "id": "9116912d-594d-42fb-9bcb-391e5b33363c",
   "metadata": {},
   "outputs": [
    {
     "name": "stdout",
     "output_type": "stream",
     "text": [
      "Predictions from the classifier:\n",
      "[2 1 0 2 0 2 0 1 1 1 2 1 1 1 1 0 1 1 0 0 2 1 0 0 2 0 0 1 1 0 2 1 0 2 2 1 0\n",
      " 2 1 1 2 0 2 0 0]\n",
      "Target values:\n",
      "[2 1 0 2 0 2 0 1 1 1 2 1 1 1 1 0 1 1 0 0 2 1 0 0 2 0 0 1 1 0 2 1 0 2 2 1 0\n",
      " 1 1 1 2 0 2 0 0]\n"
     ]
    }
   ],
   "source": [
    "knn = KNeighborsClassifier(n_neighbors = 5)\n",
    "knn.fit(train_data, train_labels)   \n",
    "print(\"Predictions from the classifier:\")\n",
    "test_data_predicted = knn.predict(test_data)  \n",
    "print(test_data_predicted)\n",
    "print(\"Target values:\")\n",
    "print(test_labels)"
   ]
  }
 ],
 "metadata": {
  "kernelspec": {
   "display_name": "Python 3",
   "language": "python",
   "name": "python3"
  },
  "language_info": {
   "codemirror_mode": {
    "name": "ipython",
    "version": 3
   },
   "file_extension": ".py",
   "mimetype": "text/x-python",
   "name": "python",
   "nbconvert_exporter": "python",
   "pygments_lexer": "ipython3",
   "version": "3.8.8"
  }
 },
 "nbformat": 4,
 "nbformat_minor": 5
}
