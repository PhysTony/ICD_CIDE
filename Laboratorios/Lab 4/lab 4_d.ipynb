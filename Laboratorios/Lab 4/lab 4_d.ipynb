{
 "cells": [
  {
   "cell_type": "markdown",
   "id": "5331b42e",
   "metadata": {},
   "source": [
    "# Laboratorio 4"
   ]
  },
  {
   "cell_type": "markdown",
   "id": "d73806dd",
   "metadata": {},
   "source": [
    "## Tarea 3"
   ]
  },
  {
   "cell_type": "markdown",
   "id": "b2dca61b",
   "metadata": {},
   "source": [
    "1. Explicar por qué los ABM combinan procesos inductivos y deductivo en la búsqueda de formular y validar teorías\n",
    "\n",
    "\n",
    "``` Los ABM son deductivos en la medida en que a partir de condiciones iniciales generan consecuencias a \n",
    "partir de funciones recursivas (y no mediante derivaciones lógicas). A la vez son inductivos ya que con los \n",
    "datos artificiales que producen pueden ayudar a detactar patrones --replicar datos observado--\n",
    "y de esta manera es posible validar hipótesis ```"
   ]
  },
  {
   "cell_type": "markdown",
   "id": "1848f291",
   "metadata": {},
   "source": [
    "2. ¿En qué sentido los ABM producen teoremas de suficiencia?\n",
    "\n",
    "``` \n",
    "En la medida en que pueden explicar la realidad observada (i.e., regularidades estadísticas) a partir\n",
    "de los mecanismos sociales incluidos en el modelo. Sin embargo, ello no quiere decir que no existan\n",
    "otros mecanismos que puedan generar el mismo fenómeno, de ahí que solo se hable de condiciones de\n",
    "suficiencia, pero no necesarias ```"
   ]
  },
  {
   "cell_type": "markdown",
   "id": "c0ae9680",
   "metadata": {},
   "source": [
    "3. Define una función que genere números aleatorios ya sea con una distribución normal estándar con el método de numpy np.random.randn() --recordar que primero hay que importar numpy as np-- o bien con una distribución uniforme en (0, 1) con el método: np.random.uniform(0, 1). La elección de la distribución a usar y la dimensión del vector se establece cuando se llama la función en el script. En la función debes ir generando los números aleatorios uno a uno e insertarlos en una lista, la cual deberás imprimir al término del programa. "
   ]
  },
  {
   "cell_type": "code",
   "execution_count": 1,
   "id": "307c1225",
   "metadata": {},
   "outputs": [
    {
     "name": "stdout",
     "output_type": "stream",
     "text": [
      "[0.47791339986435094, 0.5707312600540225, -0.6979891518023907, 0.4831455416098297, 0.09396235122481564, -1.2731813304631472, -0.5890069471692336, -0.22141217472683353, 0.3665165353469376, 1.622771716021245, -1.1569767587733621, -1.035298086682987, -2.1267861828525074, 1.4281318381383692, -0.7031831641806648, -1.72148739667287, 0.22555431164096676, -0.23619509328798288, 0.4727297880056727, -0.05332570794580334]\n"
     ]
    }
   ],
   "source": [
    "import numpy as np\n",
    "def generador_datos(n, generador_tipo):\n",
    "   lista_valores = []\n",
    "   for i in range(n):\n",
    "      if generador_tipo == 'U':\n",
    "         e = np.random.uniform(0, 1)\n",
    "      else:\n",
    "         e = np.random.randn()\n",
    "      lista_valores.append(e)\n",
    "   return lista_valores\n",
    "data = generador_datos(20, 'N')\n",
    "print(data)"
   ]
  },
  {
   "cell_type": "markdown",
   "id": "5ce5243c",
   "metadata": {},
   "source": [
    "4. A partir del archivo 'segismundo.txt' insertado en un folder de tu computadora, elabora un loop para contar el número de líneas del archivo"
   ]
  },
  {
   "cell_type": "code",
   "execution_count": 1,
   "id": "03e41243",
   "metadata": {},
   "outputs": [
    {
     "name": "stdout",
     "output_type": "stream",
     "text": [
      "Line Count: 14\n"
     ]
    }
   ],
   "source": [
    "fhand = open('segismundo.txt', encoding='utf-8')\n",
    "count = 0\n",
    "for line in fhand:\n",
    "   count += 1\n",
    "print('Line Count:', count)"
   ]
  },
  {
   "cell_type": "markdown",
   "id": "ba2b8b7b",
   "metadata": {},
   "source": [
    "5. Uno de los métodos de la lectura de archivos (startswith) permite leer las líneas que empiezan con cierta palabra. Con el archivo 'segismundo.txt' elabora un programa que lea todas las lineas que empiezan con 'sueña' e indica el número de lineas con este atributo. Asegúrate de escribirlas a renglón seguido usando un método de lectura de líneas en un archivo. \n"
   ]
  },
  {
   "cell_type": "code",
   "execution_count": 2,
   "id": "a20e4a74",
   "metadata": {},
   "outputs": [
    {
     "name": "stdout",
     "output_type": "stream",
     "text": [
      "sueña el pobre que padece\n",
      "sueña el que a medrar empieza,\n",
      "sueña el que afana y pretende,\n",
      "sueña el que agravia y ofende,\n",
      "Núnero de líneas que empiezan con sueña: 4\n"
     ]
    }
   ],
   "source": [
    "fhand = open('segismundo.txt', encoding='utf-8')\n",
    "count = 0\n",
    "for line in fhand:\n",
    "    line = line.rstrip()                    #quita los espacios en blanco a la derecha de la cadena\n",
    "    if line.startswith('sueña'):\n",
    "        count += 1\n",
    "        print(line)\n",
    "print ('Núnero de líneas que empiezan con sueña:', count)"
   ]
  },
  {
   "cell_type": "markdown",
   "id": "05a53de0",
   "metadata": {},
   "source": [
    "6. A partir del comando input('Introduce el nombre del archivo:' ) Python puede asignar  el nombre del archivo a leer a una variable, la que luego puedes usar para abrir el archivo con el método (open) en el mismo script. Por lo tanto, puedes escribir en la consola de Spyder el nombre del archivo cuando se ejecuta el programa. Considera la posibilidad que te puedas equivocar al poner el nombre del archivo: segismundo.txt,  por lo que usa el manejo de excepciones (try/except) para que el programa indique que te equivocaste (usar un print) y para que aborte la corrida con el comando (exit()) en vez de que python sólo marque el error. En caso de que el nombre del archivo esté bien escrito debes contar el número de líneas que empiezan con la cadena 'sueña'."
   ]
  },
  {
   "cell_type": "code",
   "execution_count": 3,
   "id": "c5c93a41",
   "metadata": {},
   "outputs": [
    {
     "name": "stdout",
     "output_type": "stream",
     "text": [
      "Introduce el nombre del archivo: segismundo\n",
      "El archivo segismundo no puede abrirse\n",
      "Hay un total de 0 líneas con la palabra sueña en el archivo segismundo\n"
     ]
    }
   ],
   "source": [
    "fname = input('Introduce el nombre del archivo: ')\n",
    "try:\n",
    "   fhand = open(fname, encoding='utf-8')\n",
    "   print(fhand)\n",
    "except:\n",
    "   print('El archivo', fname, 'no puede abrirse')\n",
    "   exit()\n",
    "count = 0\n",
    "for line in fhand:\n",
    "   if line.startswith('sueña'):\n",
    "       count +=  1      \n",
    "print('Hay un total de', count, 'líneas con la palabra sueña en el archivo', fname)\n",
    "fhand.close()"
   ]
  },
  {
   "cell_type": "markdown",
   "id": "94c79b56",
   "metadata": {},
   "source": [
    "7. Abre un archivo de texto nuevo con el modo de escribir (write), y checa con print que lo creaste. Luego cono el método de escritura de líneas (write) escribe las dos primeras líneas del himno nacional. Asegurate de cambiar de renglón poniendo el carácter de nueva línea \\n al final cada renglón entrecomillado. Asegurate de cerrar el archivo, y luego lo vuelves a abrir para leerlo, imprimiendo línea por línea a renglón seguido."
   ]
  },
  {
   "cell_type": "code",
   "execution_count": 1,
   "id": "b4d9890f",
   "metadata": {},
   "outputs": [
    {
     "name": "stdout",
     "output_type": "stream",
     "text": [
      "<_io.TextIOWrapper name='nuevo.txt' mode='w' encoding='utf-8'>\n",
      "Mexicanos al grito de guerra,\n",
      "al sonoro rugir del cañon,\n"
     ]
    }
   ],
   "source": [
    "file = open('nuevo.txt', 'w', encoding='utf-8')\n",
    "print(file)\n",
    "linea1 = \"Mexicanos al grito de guerra, \\n\"\n",
    "linea2 = \"al sonoro rugir del cañon, \\n\"\n",
    "file.write(linea1)\n",
    "file.write(linea2)\n",
    "file.close()\n",
    "f = open('nuevo.txt ', encoding='utf-8' )\n",
    "for line in f:\n",
    "    line = line.rstrip()\n",
    "    print(line)\n",
    "f.close()"
   ]
  },
  {
   "cell_type": "markdown",
   "id": "374cae8e",
   "metadata": {},
   "source": [
    "## Elementos básicos de Numpy"
   ]
  },
  {
   "cell_type": "markdown",
   "id": "ea8c64dc",
   "metadata": {},
   "source": [
    "## Características\n",
    "Dentro de las principales características de `numpy` se encuentran:\n",
    "- Ofrece un poderoso objeto para manipular arreglos multidimensionales: `ndarray`.\n",
    "- Posee herramientas para realizar operaciones matemáticas y lógicas sobre arreglos, operaciones relacionadas con algebra lineal, transformadas de Fourier, entre otras.\n",
    "\n",
    "Para importar los módulos de la librería `numpy`, por convención se utiliza:"
   ]
  },
  {
   "cell_type": "code",
   "execution_count": 2,
   "id": "57e20f0d",
   "metadata": {},
   "outputs": [],
   "source": [
    "import numpy as np   # 'np' alias de numpy"
   ]
  },
  {
   "cell_type": "markdown",
   "id": "73dd0f20",
   "metadata": {},
   "source": [
    "### Arrays\n",
    "\n",
    "\n",
    "Las funcionalidades de `numpy` se basan en en el objeto `ndarray`.\n",
    "\n",
    "Un `ndarray`, también conocido por el alias de `array`, es un arreglo N-dimensional con elementos del mismo tipo e indexado por una tupla de enteros positivos.\n",
    "\n",
    "\n",
    "```python\n",
    "a = numpy.array(data, dtype = None, ndmin = 0, ...)\n",
    "```\n",
    "- data: datos de mismo tipo en forma de matriz o una secuencia anidada.\n",
    "- dtype (opcional): tipos de datos deseados en el arreglo. \n",
    "- ndmin: especifica el número mínimo de dimensiones del arreglo resultante."
   ]
  },
  {
   "cell_type": "markdown",
   "id": "3dabcb99",
   "metadata": {},
   "source": [
    "#### Creación de Arrays\n",
    "\n",
    "La forma mas facil de crear un arreglo es utilizando el objeto `ndarray`."
   ]
  },
  {
   "cell_type": "code",
   "execution_count": 20,
   "id": "d8456c56",
   "metadata": {},
   "outputs": [
    {
     "data": {
      "text/plain": [
       "array([[0, 1, 2, 3],\n",
       "       [3, 2, 1, 0],\n",
       "       [1, 1, 1, 1]])"
      ]
     },
     "execution_count": 20,
     "metadata": {},
     "output_type": "execute_result"
    }
   ],
   "source": [
    "a = np.array([[0,1,2,3],[3,2,1,0],[1,1,1,1]])  \n",
    "a"
   ]
  },
  {
   "cell_type": "markdown",
   "id": "67229d3e",
   "metadata": {},
   "source": [
    "Dentro de los principales atributos del objeto `ndarray`, se encuentran:\n",
    "- `ndarray.shape`: tupla con las dimensiones del arreglo. \n",
    "- `ndarray.ndim`: numero de dimensiones del arreglo.\n",
    "- `ndarray.size`: número de elementos del arreglo.\n",
    "- `ndarray.dtype`: tipo de dato de los elementos del arreglo. "
   ]
  },
  {
   "cell_type": "code",
   "execution_count": 21,
   "id": "26b0fb59",
   "metadata": {},
   "outputs": [
    {
     "data": {
      "text/plain": [
       "(3, 4)"
      ]
     },
     "execution_count": 21,
     "metadata": {},
     "output_type": "execute_result"
    }
   ],
   "source": [
    "a.shape"
   ]
  },
  {
   "cell_type": "code",
   "execution_count": 22,
   "id": "58c8721a",
   "metadata": {},
   "outputs": [
    {
     "data": {
      "text/plain": [
       "2"
      ]
     },
     "execution_count": 22,
     "metadata": {},
     "output_type": "execute_result"
    }
   ],
   "source": [
    "a.ndim"
   ]
  },
  {
   "cell_type": "code",
   "execution_count": 23,
   "id": "9f5f32ec",
   "metadata": {},
   "outputs": [
    {
     "data": {
      "text/plain": [
       "12"
      ]
     },
     "execution_count": 23,
     "metadata": {},
     "output_type": "execute_result"
    }
   ],
   "source": [
    "a.size"
   ]
  },
  {
   "cell_type": "code",
   "execution_count": 24,
   "id": "a7a0928d",
   "metadata": {},
   "outputs": [
    {
     "data": {
      "text/plain": [
       "dtype('int32')"
      ]
     },
     "execution_count": 24,
     "metadata": {},
     "output_type": "execute_result"
    }
   ],
   "source": [
    "a.dtype"
   ]
  },
  {
   "cell_type": "markdown",
   "id": "6894538d",
   "metadata": {},
   "source": [
    "Numpy cuenta con funciones especiales para crear arreglos con valores definidos por defecto, por ejemplo:\n",
    "- **zeros**: crea arreglo solamente con 0's.\n",
    "- **ones**: crea arreglo solamente con 1's.\n",
    "- **eye**: crea una matriz identidad de tamaño n.\n",
    "- **empty**: crea un arreglo sin inicializar de forma y dtype especificados.\n",
    "- **full**: crea un arreglo con un valor constante especificado."
   ]
  },
  {
   "cell_type": "code",
   "execution_count": 25,
   "id": "0ba4351b",
   "metadata": {},
   "outputs": [
    {
     "data": {
      "text/plain": [
       "array([[0., 0., 0.],\n",
       "       [0., 0., 0.],\n",
       "       [0., 0., 0.]])"
      ]
     },
     "execution_count": 25,
     "metadata": {},
     "output_type": "execute_result"
    }
   ],
   "source": [
    "np.zeros((3,3))"
   ]
  },
  {
   "cell_type": "code",
   "execution_count": 26,
   "id": "28d9a81d",
   "metadata": {},
   "outputs": [
    {
     "data": {
      "text/plain": [
       "array([[1.],\n",
       "       [1.],\n",
       "       [1.],\n",
       "       [1.],\n",
       "       [1.]])"
      ]
     },
     "execution_count": 26,
     "metadata": {},
     "output_type": "execute_result"
    }
   ],
   "source": [
    "np.ones([5,1])"
   ]
  },
  {
   "cell_type": "code",
   "execution_count": 27,
   "id": "1c1e5268",
   "metadata": {},
   "outputs": [
    {
     "data": {
      "text/plain": [
       "array([[1., 0., 0., 0.],\n",
       "       [0., 1., 0., 0.],\n",
       "       [0., 0., 1., 0.],\n",
       "       [0., 0., 0., 1.]])"
      ]
     },
     "execution_count": 27,
     "metadata": {},
     "output_type": "execute_result"
    }
   ],
   "source": [
    "np.eye(4)"
   ]
  },
  {
   "cell_type": "code",
   "execution_count": 28,
   "id": "bab2e9f8",
   "metadata": {},
   "outputs": [
    {
     "data": {
      "text/plain": [
       "array([[-875076048,        481,          0],\n",
       "       [         0,          1,    4522052]])"
      ]
     },
     "execution_count": 28,
     "metadata": {},
     "output_type": "execute_result"
    }
   ],
   "source": [
    "np.empty((2,3), dtype=int)"
   ]
  },
  {
   "cell_type": "markdown",
   "id": "963aeee6",
   "metadata": {},
   "source": [
    "#### Aritmética con Arrays\n",
    "\n",
    "El objeto `ndarray` es importante porque permite realizar cualquier operación entre arreglos sin escribir ningún bucle *for*.\n",
    "\n",
    "Cualquier operación aritmética con arreglos del mismo tamaño aplica una operación elemento a elemento:"
   ]
  },
  {
   "cell_type": "code",
   "execution_count": 29,
   "id": "c649f8ad",
   "metadata": {},
   "outputs": [
    {
     "data": {
      "text/plain": [
       "array([[0, 1, 4, 9],\n",
       "       [9, 4, 1, 0],\n",
       "       [1, 1, 1, 1]])"
      ]
     },
     "execution_count": 29,
     "metadata": {},
     "output_type": "execute_result"
    }
   ],
   "source": [
    "a*a"
   ]
  },
  {
   "cell_type": "code",
   "execution_count": 30,
   "id": "1002efe5",
   "metadata": {},
   "outputs": [
    {
     "data": {
      "text/plain": [
       "array([[0, 2, 4, 6],\n",
       "       [6, 4, 2, 0],\n",
       "       [2, 2, 2, 2]])"
      ]
     },
     "execution_count": 30,
     "metadata": {},
     "output_type": "execute_result"
    }
   ],
   "source": [
    "2*a"
   ]
  },
  {
   "cell_type": "code",
   "execution_count": 31,
   "id": "516f50fb",
   "metadata": {},
   "outputs": [
    {
     "data": {
      "text/plain": [
       "array([[1, 2, 3, 4],\n",
       "       [4, 3, 2, 1],\n",
       "       [2, 2, 2, 2]])"
      ]
     },
     "execution_count": 31,
     "metadata": {},
     "output_type": "execute_result"
    }
   ],
   "source": [
    "1+a"
   ]
  },
  {
   "cell_type": "code",
   "execution_count": 32,
   "id": "a441c1aa",
   "metadata": {},
   "outputs": [
    {
     "data": {
      "text/plain": [
       "array([[False, False,  True,  True],\n",
       "       [ True,  True, False, False],\n",
       "       [False, False, False, False]])"
      ]
     },
     "execution_count": 32,
     "metadata": {},
     "output_type": "execute_result"
    }
   ],
   "source": [
    "b = np.ones([3,4])  \n",
    "a>b"
   ]
  },
  {
   "cell_type": "markdown",
   "id": "c872e16b",
   "metadata": {},
   "source": [
    "####  Indexing y slicing en Arrays\n",
    "\n",
    "Tecnicas muy similares de *indexing* y *slicing* para acceder a las *listas de Python* son también utilizadas en los *Arrays de Numpy*. Sin embargo, una de las principales diferencias es que los subconjuntos son vistas, es decir, cualquier cambio modifica directamente al array original.\n"
   ]
  },
  {
   "cell_type": "markdown",
   "id": "1c916810",
   "metadata": {},
   "source": [
    "Si se quiere copiar una parte de un arreglo en lugar de una vista, es necesario copiar explícitamente el arreglo."
   ]
  },
  {
   "cell_type": "code",
   "execution_count": 36,
   "id": "fb77f5a0",
   "metadata": {},
   "outputs": [],
   "source": [
    "a = np.arange(10)\n",
    "a\n",
    "b = a[3:6].copy()"
   ]
  },
  {
   "cell_type": "code",
   "execution_count": 37,
   "id": "99578bf8",
   "metadata": {},
   "outputs": [
    {
     "data": {
      "text/plain": [
       "array([3, 4, 5])"
      ]
     },
     "execution_count": 37,
     "metadata": {},
     "output_type": "execute_result"
    }
   ],
   "source": [
    "b"
   ]
  },
  {
   "cell_type": "markdown",
   "id": "42018eb7",
   "metadata": {},
   "source": [
    "El principo es el mismo para arreglos multidimensionales."
   ]
  },
  {
   "cell_type": "code",
   "execution_count": 38,
   "id": "245b9e31",
   "metadata": {},
   "outputs": [
    {
     "data": {
      "text/plain": [
       "array([[[ 0,  1,  2,  3],\n",
       "        [ 4,  5,  6,  7],\n",
       "        [ 8,  9, 10, 11],\n",
       "        [12, 13, 14, 15]],\n",
       "\n",
       "       [[16, 17, 18, 19],\n",
       "        [20, 21, 22, 23],\n",
       "        [24, 25, 26, 27],\n",
       "        [28, 29, 30, 31]],\n",
       "\n",
       "       [[32, 33, 34, 35],\n",
       "        [36, 37, 38, 39],\n",
       "        [40, 41, 42, 43],\n",
       "        [44, 45, 46, 47]],\n",
       "\n",
       "       [[48, 49, 50, 51],\n",
       "        [52, 53, 54, 55],\n",
       "        [56, 57, 58, 59],\n",
       "        [60, 61, 62, 63]]])"
      ]
     },
     "execution_count": 38,
     "metadata": {},
     "output_type": "execute_result"
    }
   ],
   "source": [
    "a = np.arange(64).reshape(4,4,4)\n",
    "a"
   ]
  },
  {
   "cell_type": "markdown",
   "id": "cb3001c9",
   "metadata": {},
   "source": [
    "## Funciones universales\n",
    "\n",
    "Las funciones universales son funciones que ejecutan operaciones element-wise sobre los datos en los arreglos.\n",
    "\n",
    "Generalmente, este tipo de funciones se aplican a cada elemento de un arreglo, por ejemplo:"
   ]
  },
  {
   "cell_type": "code",
   "execution_count": 39,
   "id": "f4a8351f",
   "metadata": {},
   "outputs": [
    {
     "data": {
      "text/plain": [
       "array([0, 1, 2, 3, 4])"
      ]
     },
     "execution_count": 39,
     "metadata": {},
     "output_type": "execute_result"
    }
   ],
   "source": [
    "a = np.arange(5)\n",
    "a"
   ]
  },
  {
   "cell_type": "code",
   "execution_count": 40,
   "id": "70807d07",
   "metadata": {},
   "outputs": [
    {
     "data": {
      "text/plain": [
       "array([0.        , 1.        , 1.41421356, 1.73205081, 2.        ])"
      ]
     },
     "execution_count": 40,
     "metadata": {},
     "output_type": "execute_result"
    }
   ],
   "source": [
    "b = np.sqrt(a)\n",
    "b"
   ]
  },
  {
   "cell_type": "markdown",
   "id": "fb72064a",
   "metadata": {},
   "source": [
    "\n",
    "Por otro lado, hay funciones universales que realizan operaciones con 2 arrays y regresan un array como salida."
   ]
  },
  {
   "cell_type": "code",
   "execution_count": 41,
   "id": "741bae3e",
   "metadata": {},
   "outputs": [
    {
     "data": {
      "text/plain": [
       "array([0, 2, 4, 6, 8])"
      ]
     },
     "execution_count": 41,
     "metadata": {},
     "output_type": "execute_result"
    }
   ],
   "source": [
    "np.add(a,a)"
   ]
  },
  {
   "cell_type": "markdown",
   "id": "a0b57e90",
   "metadata": {},
   "source": [
    "#### Filtros en Arrays\n",
    "\n",
    "Suponga que desea tomar el valor de una matriz `X` cuando el valor correspondiente en una condición es True, y de lo contrario tome el valor de la matriz `Y`. Dentro de *Numpy* hay una función llamada **np.where** que resuelve la situación anterior.\n",
    "\n",
    "```python\n",
    "result = np.where(cond, xarr, yarr)\n",
    "```"
   ]
  },
  {
   "cell_type": "code",
   "execution_count": 43,
   "id": "69d8a27a",
   "metadata": {},
   "outputs": [
    {
     "data": {
      "text/plain": [
       "array([1.1, 2.2, 1.3, 1.4, 2.5])"
      ]
     },
     "execution_count": 43,
     "metadata": {},
     "output_type": "execute_result"
    }
   ],
   "source": [
    "xarr = np.array([1.1, 1.2, 1.3, 1.4, 1.5])\n",
    "yarr = np.array([2.1, 2.2, 2.3, 2.4, 2.5])\n",
    "cond = np.array([True, False, True, True, False])\n",
    "np.where(cond,xarr,yarr)"
   ]
  },
  {
   "cell_type": "code",
   "execution_count": 44,
   "id": "7bdda8d8",
   "metadata": {},
   "outputs": [
    {
     "data": {
      "text/plain": [
       "array([1, 1, 1, 0, 0])"
      ]
     },
     "execution_count": 44,
     "metadata": {},
     "output_type": "execute_result"
    }
   ],
   "source": [
    "np.where(xarr>1.3,0,1)"
   ]
  },
  {
   "cell_type": "markdown",
   "id": "d4dd8791",
   "metadata": {},
   "source": [
    "#### Métodos matemáticos y estadísticos\n",
    "\n",
    "Un conjunto de funciones matemáticas que computan estadísticas sobre una matriz completa o sobre los datos a lo largo de un eje son accesibles como métodos de la clase `ndarray`. Las funciones como suma, media y desviación estándar se pueden usar llamando al método de instancia de matriz o usando la función * numpy * de nivel superior."
   ]
  },
  {
   "cell_type": "code",
   "execution_count": 45,
   "id": "e2424591",
   "metadata": {},
   "outputs": [
    {
     "data": {
      "text/plain": [
       "array([[0, 1, 2],\n",
       "       [3, 4, 5],\n",
       "       [6, 7, 8]])"
      ]
     },
     "execution_count": 45,
     "metadata": {},
     "output_type": "execute_result"
    }
   ],
   "source": [
    "a = np.arange(9).reshape(3,3)\n",
    "a"
   ]
  },
  {
   "cell_type": "code",
   "execution_count": 46,
   "id": "635e2367",
   "metadata": {},
   "outputs": [
    {
     "data": {
      "text/plain": [
       "4.0"
      ]
     },
     "execution_count": 46,
     "metadata": {},
     "output_type": "execute_result"
    }
   ],
   "source": [
    "a.mean()"
   ]
  },
  {
   "cell_type": "markdown",
   "id": "a2eb555f",
   "metadata": {},
   "source": [
    "La operación anterior se ha realizado en toda la matriz, pero es posible especificar el eje, como se muestra a continuación:"
   ]
  },
  {
   "cell_type": "code",
   "execution_count": 47,
   "id": "79495326",
   "metadata": {},
   "outputs": [
    {
     "data": {
      "text/plain": [
       "array([ 3, 12, 21])"
      ]
     },
     "execution_count": 47,
     "metadata": {},
     "output_type": "execute_result"
    }
   ],
   "source": [
    "a.sum(axis=1)"
   ]
  },
  {
   "cell_type": "code",
   "execution_count": 48,
   "id": "692e6680",
   "metadata": {},
   "outputs": [
    {
     "data": {
      "text/plain": [
       "array([ 9, 12, 15])"
      ]
     },
     "execution_count": 48,
     "metadata": {},
     "output_type": "execute_result"
    }
   ],
   "source": [
    "np.sum(a,axis=0)"
   ]
  },
  {
   "cell_type": "code",
   "execution_count": 49,
   "id": "dc6d62e6",
   "metadata": {},
   "outputs": [
    {
     "data": {
      "text/plain": [
       "array([2, 5, 8])"
      ]
     },
     "execution_count": 49,
     "metadata": {},
     "output_type": "execute_result"
    }
   ],
   "source": [
    "a.max(axis=1)"
   ]
  },
  {
   "cell_type": "code",
   "execution_count": 50,
   "id": "590b6e69",
   "metadata": {},
   "outputs": [
    {
     "data": {
      "text/plain": [
       "array([2.44948974, 2.44948974, 2.44948974])"
      ]
     },
     "execution_count": 50,
     "metadata": {},
     "output_type": "execute_result"
    }
   ],
   "source": [
    "a.std(0)"
   ]
  },
  {
   "cell_type": "markdown",
   "id": "b00ea6be",
   "metadata": {},
   "source": [
    "### Ejercicios"
   ]
  },
  {
   "cell_type": "markdown",
   "id": "f2895bc4",
   "metadata": {},
   "source": [
    "1. Checa si algun elemento del array es cero"
   ]
  },
  {
   "cell_type": "code",
   "execution_count": 52,
   "id": "9fe7f1e5",
   "metadata": {},
   "outputs": [
    {
     "name": "stdout",
     "output_type": "stream",
     "text": [
      "Array original:\n",
      "[1 2 3 4]\n",
      "Ningun elemento es cero\n",
      "True\n",
      "Array original\n",
      "[0 1 2 3]\n",
      "Ningun elemento es cero\n",
      "False\n"
     ]
    }
   ],
   "source": [
    "import numpy as np\n",
    "x = np.array([1, 2, 3, 4])\n",
    "print(\"Array original:\")\n",
    "print(x)\n",
    "print(\"Ningun elemento es cero\")\n",
    "print(np.all(x)) #Prueba si todos los elementos de la matriz a lo largo de un eje dado se evalúan como verdaderos.\n",
    "x = np.array([0, 1, 2, 3])\n",
    "print(\"Array original\")\n",
    "print(x)\n",
    "print(\"Ningun elemento es cero\")\n",
    "print(np.all(x))"
   ]
  },
  {
   "cell_type": "markdown",
   "id": "6db17d69",
   "metadata": {},
   "source": [
    "2. Pruebe la finitud de un elemento"
   ]
  },
  {
   "cell_type": "code",
   "execution_count": 53,
   "id": "189faaaf",
   "metadata": {},
   "outputs": [
    {
     "name": "stdout",
     "output_type": "stream",
     "text": [
      "Original array\n",
      "[ 1.  0. nan inf]\n",
      "Test a given array element-wise for finiteness :\n",
      "[ True  True False False]\n"
     ]
    }
   ],
   "source": [
    "a = np.array([1, 0, np.nan, np.inf]) #np.nan representa el valor nulo, np.inf representa infinito\n",
    "print(\"Original array\")\n",
    "print(a)\n",
    "print(\"Test a given array element-wise for finiteness :\")\n",
    "print(np.isfinite(a))"
   ]
  },
  {
   "cell_type": "markdown",
   "id": "749635d8",
   "metadata": {},
   "source": [
    "3. calcular las coordenadas x e y de los puntos en una curva sinusoidal y trazar los puntos usando matplotlib."
   ]
  },
  {
   "cell_type": "code",
   "execution_count": 72,
   "id": "374e900e",
   "metadata": {},
   "outputs": [
    {
     "name": "stdout",
     "output_type": "stream",
     "text": [
      "Plot the points using matplotlib:\n"
     ]
    },
    {
     "data": {
      "image/png": "[encoded data removed]",
      "text/plain": [
       "<Figure size 432x288 with 1 Axes>"
      ]
     },
     "metadata": {
      "needs_background": "light"
     },
     "output_type": "display_data"
    }
   ],
   "source": [
    "import matplotlib.pyplot as plt\n",
    "# Compute the x and y coordinates for points on a sine curve\n",
    "x = np.arange(1, 3 * np.pi, 0.2 )\n",
    "y = np.sin(x)\n",
    "print(\"Plot the points using matplotlib:\")\n",
    "plt.plot(x, y)  # plot x and y using default line style and color\n",
    "plt.show()"
   ]
  },
  {
   "cell_type": "markdown",
   "id": "f663533f",
   "metadata": {},
   "source": [
    "4. convierte una lista en array"
   ]
  },
  {
   "cell_type": "code",
   "execution_count": 56,
   "id": "f4b9b2e5",
   "metadata": {},
   "outputs": [
    {
     "name": "stdout",
     "output_type": "stream",
     "text": [
      "Lista original: [12.23, 13.32, 100, 36.32]\n",
      "Array:  [ 12.23  13.32 100.    36.32]\n"
     ]
    }
   ],
   "source": [
    "l = [12.23, 13.32, 100, 36.32]\n",
    "print(\"Lista original:\",l)\n",
    "a = np.array(l)\n",
    "print(\"Array: \",a)"
   ]
  },
  {
   "cell_type": "markdown",
   "id": "00faeb29",
   "metadata": {},
   "source": [
    "5. mover ejes de una matriz a nuevas posiciones"
   ]
  },
  {
   "cell_type": "code",
   "execution_count": 75,
   "id": "d1d22a72",
   "metadata": {},
   "outputs": [
    {
     "name": "stdout",
     "output_type": "stream",
     "text": [
      "[[[0. 0. 0. 0.]\n",
      "  [0. 0. 0. 0.]\n",
      "  [0. 0. 0. 0.]]\n",
      "\n",
      " [[0. 0. 0. 0.]\n",
      "  [0. 0. 0. 0.]\n",
      "  [0. 0. 0. 0.]]]\n",
      "(3, 4, 2)\n",
      "(4, 2, 3)\n"
     ]
    }
   ],
   "source": [
    "x = np.zeros((2, 3, 4))\n",
    "print(x)\n",
    "print(np.moveaxis(x, 0, -1).shape) # numpy.moveaxis(a, source, destination)\n",
    "print(np.moveaxis(x, -1, 0).shape) # numpy.shape(a) Return the shape of an array.\n"
   ]
  },
  {
   "cell_type": "markdown",
   "id": "cb2db4fb",
   "metadata": {},
   "source": [
    "6. Eliminar elementos de un array"
   ]
  },
  {
   "cell_type": "code",
   "execution_count": 58,
   "id": "3fb23e82",
   "metadata": {},
   "outputs": [
    {
     "name": "stdout",
     "output_type": "stream",
     "text": [
      "Original array:\n",
      "[ 10  20  30  40  50  60  70  80  90 100]\n",
      "Delete first, fourth and fifth elements:\n",
      "[ 20  30  60  70  80  90 100]\n"
     ]
    }
   ],
   "source": [
    "x = np.array([10, 20, 30, 40, 50, 60, 70, 80, 90, 100])\n",
    "index = [0, 3, 4]\n",
    "print(\"Array:\")\n",
    "print(x)\n",
    "print(\"Eliminar el primero, cuarto y quinto elemento\")\n",
    "new_x = np.delete(x, index) # numpy.delete(arr, obj, axis=None)\n",
    "print(new_x)"
   ]
  },
  {
   "cell_type": "markdown",
   "id": "53476015",
   "metadata": {},
   "source": [
    "7. Multiplicacion de dos matrices"
   ]
  },
  {
   "cell_type": "code",
   "execution_count": 60,
   "id": "93e6820b",
   "metadata": {},
   "outputs": [
    {
     "name": "stdout",
     "output_type": "stream",
     "text": [
      "Matrices:\n",
      "[[1, 0], [0, 1]]\n",
      "[[1, 2], [3, 4]]\n",
      "Multiplicaciones:\n",
      "[[1 2]\n",
      " [3 4]]\n",
      "[[1 2]\n",
      " [3 4]]\n"
     ]
    }
   ],
   "source": [
    "p = [[1, 0], [0, 1]]\n",
    "q = [[1, 2], [3, 4]]\n",
    "print(\"Matrices:\")\n",
    "print(p)\n",
    "print(q)\n",
    "result1 = np.dot(p, q)\n",
    "result2 = np.dot(q, p)\n",
    "print(\"Multiplicaciones:\")\n",
    "print(result1)\n",
    "print(result2)"
   ]
  },
  {
   "cell_type": "markdown",
   "id": "73bda44b",
   "metadata": {},
   "source": [
    "8. Descomposicion qr"
   ]
  },
  {
   "cell_type": "code",
   "execution_count": 61,
   "id": "d145e9b6",
   "metadata": {},
   "outputs": [
    {
     "name": "stdout",
     "output_type": "stream",
     "text": [
      "Matriz:\n",
      "[[1 2]\n",
      " [3 4]]\n",
      "Descomposicion de matriz:\n",
      "(array([[-0.31622777, -0.9486833 ],\n",
      "       [-0.9486833 ,  0.31622777]]), array([[-3.16227766, -4.42718872],\n",
      "       [ 0.        , -0.63245553]]))\n"
     ]
    }
   ],
   "source": [
    "m = np.array([[1,2],[3,4]])\n",
    "print(\"Matriz:\")\n",
    "print(m)\n",
    "result =  np.linalg.qr(m) # linalg.qr(a, mode='reduced') Compute the qr factorization of a matrix.\n",
    "print(\"Descomposicion de matriz:\")\n",
    "print(result)"
   ]
  },
  {
   "cell_type": "markdown",
   "id": "acd3743d",
   "metadata": {},
   "source": [
    "9. Saque los factores de la descomposicion singular"
   ]
  },
  {
   "cell_type": "code",
   "execution_count": 76,
   "id": "39a45438",
   "metadata": {},
   "outputs": [
    {
     "name": "stdout",
     "output_type": "stream",
     "text": [
      "Original array:\n",
      "[[1. 0. 0. 0. 2.]\n",
      " [0. 0. 3. 0. 0.]\n",
      " [0. 0. 0. 0. 0.]\n",
      " [0. 2. 0. 0. 0.]]\n",
      "Factor of a given array  by Singular Value Decomposition:\n",
      "U=\n",
      " [[ 0.  1.  0.  0.]\n",
      " [ 1.  0.  0.  0.]\n",
      " [ 0.  0.  0. -1.]\n",
      " [ 0.  0.  1.  0.]] \n",
      "s=\n",
      " [3.       2.236068 2.       0.      ] \n",
      "V=\n",
      " [[-0.         0.         1.        -0.         0.       ]\n",
      " [ 0.4472136 -0.        -0.        -0.         0.8944272]\n",
      " [-0.         1.         0.        -0.         0.       ]\n",
      " [ 0.         0.         0.         1.         0.       ]]\n"
     ]
    }
   ],
   "source": [
    "a = np.array([[1, 0, 0, 0, 2], [0, 0, 3, 0, 0], [0, 0, 0, 0, 0], [0, 2, 0, 0, 0]], dtype=np.float32)\n",
    "print(\"Original array:\")\n",
    "print(a)\n",
    "U, s, V = np.linalg.svd(a, full_matrices=False) #linalg.svd(a, full_matrices=True, compute_uv=True, hermitian=False)\n",
    "#Singular Value Decomposition\n",
    "print(\"Factor of a given array  by Singular Value Decomposition:\")\n",
    "print(\"U=\\n\", U, \"\\ns=\\n\", s, \"\\nV=\\n\", V)"
   ]
  },
  {
   "cell_type": "markdown",
   "id": "3aea1519",
   "metadata": {},
   "source": [
    "10. Escriba un programa NumPy para ordenar una matriz dada de forma 2 a lo largo del primer eje, el último eje y en una matriz aplanada."
   ]
  },
  {
   "cell_type": "code",
   "execution_count": 63,
   "id": "c728faf0",
   "metadata": {},
   "outputs": [
    {
     "name": "stdout",
     "output_type": "stream",
     "text": [
      "Original array:\n",
      "[[10 40]\n",
      " [30 20]]\n",
      "Sort the array along the first axis:\n",
      "[[10 20]\n",
      " [30 40]]\n",
      "Sort the array along the last axis:\n",
      "[[10 40]\n",
      " [20 30]]\n",
      "Sort the flattened array:\n",
      "[10 20 30 40]\n"
     ]
    }
   ],
   "source": [
    "a = np.array([[10,40],[30,20]])\n",
    "print(\"Original array:\")\n",
    "print(a)\n",
    "print(\"Sort the array along the first axis:\")\n",
    "print(np.sort(a, axis=0))\n",
    "print(\"Sort the array along the last axis:\")\n",
    "print(np.sort(a))\n",
    "print(\"Sort the flattened array:\")\n",
    "print(np.sort(a, axis=None))"
   ]
  },
  {
   "cell_type": "markdown",
   "id": "d88bf05b",
   "metadata": {},
   "source": [
    "11. Crear un arreglo estructurada a partir del nombre del estudiante dado, la altura, la clase y sus tipos de datos. Ordenar la matriz en altura."
   ]
  },
  {
   "cell_type": "code",
   "execution_count": 64,
   "id": "524a1d31",
   "metadata": {},
   "outputs": [
    {
     "name": "stdout",
     "output_type": "stream",
     "text": [
      "Original array:\n",
      "[(b'James', 5, 48.5 ) (b'Nail', 6, 52.5 ) (b'Paul', 5, 42.1 )\n",
      " (b'Pit', 5, 40.11)]\n",
      "Sort by height\n",
      "[(b'Pit', 5, 40.11) (b'Paul', 5, 42.1 ) (b'James', 5, 48.5 )\n",
      " (b'Nail', 6, 52.5 )]\n"
     ]
    }
   ],
   "source": [
    "data_type = [('name', 'S15'), ('class', int), ('height', float)]\n",
    "students_details = [('James', 5, 48.5), ('Nail', 6, 52.5),('Paul', 5, 42.10), ('Pit', 5, 40.11)]\n",
    "# Arreglo estructurado\n",
    "students = np.array(students_details, dtype=data_type)   \n",
    "print(\"Original array:\")\n",
    "print(students)\n",
    "print(\"Sort by height\")\n",
    "print(np.sort(students, order='height'))  "
   ]
  },
  {
   "cell_type": "markdown",
   "id": "2e8202ce",
   "metadata": {},
   "source": [
    "12. Ordenar por la fila n"
   ]
  },
  {
   "cell_type": "code",
   "execution_count": 65,
   "id": "51d6250d",
   "metadata": {},
   "outputs": [
    {
     "name": "stdout",
     "output_type": "stream",
     "text": [
      "Array originla:\n",
      "\n",
      "[[5 9 1]\n",
      " [9 9 5]\n",
      " [8 0 9]]\n",
      "\n",
      "Nuevo: \n",
      "[[8 0 9]\n",
      " [5 9 1]\n",
      " [9 9 5]]\n"
     ]
    }
   ],
   "source": [
    "print(\"Array originla:\\n\")\n",
    "nums = np.random.randint(0,10,(3,3))\n",
    "print(nums)\n",
    "print(\"\\nNuevo: \")\n",
    "print(nums[nums[:,1].argsort()])"
   ]
  },
  {
   "cell_type": "markdown",
   "id": "bfa4cebf",
   "metadata": {},
   "source": [
    "13. Minimo y maximo de un array"
   ]
  },
  {
   "cell_type": "code",
   "execution_count": 66,
   "id": "8dc8ac01",
   "metadata": {},
   "outputs": [
    {
     "name": "stdout",
     "output_type": "stream",
     "text": [
      "Original:\n",
      "[[0 1]\n",
      " [2 3]]\n",
      "Maximo:\n",
      "3\n",
      "Minimo:\n",
      "0\n"
     ]
    }
   ],
   "source": [
    "a = np.arange(4).reshape((2,2))\n",
    "print(\"Original:\")\n",
    "print(a)\n",
    "print(\"Maximo:\")\n",
    "print(np.amax(a))\n",
    "print(\"Minimo:\")\n",
    "print(np.amin(a))"
   ]
  },
  {
   "cell_type": "markdown",
   "id": "8755ca98",
   "metadata": {},
   "source": [
    "14. Para calcular la diferencia entre los valores máximo y mínimo de una matriz dada a lo largo del segundo eje."
   ]
  },
  {
   "cell_type": "code",
   "execution_count": 67,
   "id": "cfc5e1bb",
   "metadata": {},
   "outputs": [
    {
     "name": "stdout",
     "output_type": "stream",
     "text": [
      "\n",
      "Original:\n",
      "[[ 0  1  2  3  4  5]\n",
      " [ 6  7  8  9 10 11]]\n",
      "\n",
      "Differencia:\n",
      "[5 5]\n"
     ]
    }
   ],
   "source": [
    "x = np.arange(12).reshape((2, 6))\n",
    "print(\"\\nOriginal:\")\n",
    "print(x)\n",
    "r1 = np.ptp(x, 1) #numpy.ptp(a, axis=None, out=None) Range of values (maximum - minimum) along an axis.\n",
    "r2 = np.amax(x, 1) - np.amin(x, 1)\n",
    "assert np.allclose(r1, r2)\n",
    "print(\"\\nDifferencia:\")\n",
    "print(r1)"
   ]
  },
  {
   "cell_type": "markdown",
   "id": "a94c992f",
   "metadata": {},
   "source": [
    "15. Calcular el percentil 80 para todos los elementos en una matriz dada a lo largo del segundo eje."
   ]
  },
  {
   "cell_type": "code",
   "execution_count": 68,
   "id": "1cf0d912",
   "metadata": {},
   "outputs": [
    {
     "name": "stdout",
     "output_type": "stream",
     "text": [
      "\n",
      "Original:\n",
      "[[ 0  1  2  3  4  5]\n",
      " [ 6  7  8  9 10 11]]\n",
      "\n",
      "80th percentile:\n",
      "[ 4. 10.]\n"
     ]
    }
   ],
   "source": [
    "x = np.arange(12).reshape((2, 6))\n",
    "print(\"\\nOriginal:\")\n",
    "print(x)\n",
    "r1 = np.percentile(x, 80, 1)\n",
    "print(\"\\n80th percentile:\")\n",
    "print(r1)"
   ]
  },
  {
   "cell_type": "markdown",
   "id": "784b6273",
   "metadata": {},
   "source": [
    "16. Arreglo de cinco numeros de una distribucion normal"
   ]
  },
  {
   "cell_type": "markdown",
   "id": "980242ed",
   "metadata": {},
   "source": [
    "17. Escriba un programa NumPy para crear una matriz aleatoria de 10x4 y extraiga las primeras cinco filas de la matriz y guárdelas en una variable"
   ]
  },
  {
   "cell_type": "markdown",
   "id": "ffd45be1",
   "metadata": {},
   "source": [
    "18. Escriba un programa NumPy para normalizar una matriz aleatoria de 3x3"
   ]
  },
  {
   "cell_type": "markdown",
   "id": "45cbc81b",
   "metadata": {},
   "source": [
    "19. Escriba un programa NumPy para crear un vector aleatorio de tamaño 10 y ordenarlo"
   ]
  },
  {
   "cell_type": "markdown",
   "id": "4c2cb005",
   "metadata": {},
   "source": [
    "20. Escriba un programa NumPy para crear un vector aleatorio de tamaño 15 y reemplace el valor máximo por -1."
   ]
  },
  {
   "cell_type": "markdown",
   "id": "fd865e76",
   "metadata": {},
   "source": [
    "### Otros metodos\n",
    "1. numpy.ones_like(a, dtype=None, order='K', subok=True, shape=None)\n",
    "\n",
    "Regresa un array de unos con la misma forma y tipo que el array dado\n",
    "\n",
    "2. numpy.cumprod(a, axis=None, dtype=None, out=None)\n",
    "\n",
    "Regresa el producto acumulado de elementos a lo largo de un eje\n",
    "\n",
    "3. numpy.poly1d(c_or_r, r=False, variable=None) (numpy.polynomial)\n",
    "\n",
    "Una clase polinomial de una dimension \n"
   ]
  },
  {
   "cell_type": "code",
   "execution_count": 78,
   "id": "31989a2f",
   "metadata": {},
   "outputs": [
    {
     "name": "stdout",
     "output_type": "stream",
     "text": [
      "[0. 1. 2.]\n"
     ]
    },
    {
     "data": {
      "text/plain": [
       "array([1., 1., 1.])"
      ]
     },
     "execution_count": 78,
     "metadata": {},
     "output_type": "execute_result"
    }
   ],
   "source": [
    "y = np.arange(3, dtype=float)\n",
    "print(y)\n",
    "np.ones_like(y)"
   ]
  },
  {
   "cell_type": "code",
   "execution_count": 80,
   "id": "8636dc1a",
   "metadata": {},
   "outputs": [
    {
     "data": {
      "text/plain": [
       "array([ 2, 12, 36], dtype=int32)"
      ]
     },
     "execution_count": 80,
     "metadata": {},
     "output_type": "execute_result"
    }
   ],
   "source": [
    "a = np.array([2,6,3])\n",
    "np.cumprod(a)"
   ]
  },
  {
   "cell_type": "code",
   "execution_count": 82,
   "id": "e0429adb",
   "metadata": {},
   "outputs": [
    {
     "name": "stdout",
     "output_type": "stream",
     "text": [
      "   2\n",
      "1 x + 2 x + 3\n"
     ]
    },
    {
     "data": {
      "text/plain": [
       "6"
      ]
     },
     "execution_count": 82,
     "metadata": {},
     "output_type": "execute_result"
    }
   ],
   "source": [
    "p = np.poly1d([1, 2, 3])\n",
    "print(p)\n",
    "p(1)"
   ]
  },
  {
   "cell_type": "code",
   "execution_count": null,
   "id": "d6e0e50c",
   "metadata": {},
   "outputs": [],
   "source": []
  }
 ],
 "metadata": {
  "kernelspec": {
   "display_name": "Python 3 (ipykernel)",
   "language": "python",
   "name": "python3"
  },
  "language_info": {
   "codemirror_mode": {
    "name": "ipython",
    "version": 3
   },
   "file_extension": ".py",
   "mimetype": "text/x-python",
   "name": "python",
   "nbconvert_exporter": "python",
   "pygments_lexer": "ipython3",
   "version": "3.9.7"
  }
 },
 "nbformat": 4,
 "nbformat_minor": 5
}
