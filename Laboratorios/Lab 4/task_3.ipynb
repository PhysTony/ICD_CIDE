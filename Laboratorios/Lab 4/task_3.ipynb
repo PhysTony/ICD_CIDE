{
 "cells": [
  {
   "cell_type": "code",
   "execution_count": 39,
   "id": "27b83b63-f75e-4a88-aabf-bf7eb303ab3c",
   "metadata": {},
   "outputs": [],
   "source": [
    "def primo(n):\n",
    "    contador = 0\n",
    "    \n",
    "    for i in range(1,n+1):\n",
    "        res = n%i\n",
    "\n",
    "        if res == 0:\n",
    "            contador += 1\n",
    "    \n",
    "    if contador == 2:\n",
    "        return n\n",
    "    \n",
    "    elif contador == 1:\n",
    "        return False\n",
    "    \n",
    "    elif contador > 2:\n",
    "        return False\n",
    "    \n",
    "    else:\n",
    "        return -1"
   ]
  },
  {
   "cell_type": "code",
   "execution_count": 42,
   "id": "7ba06fe1-e144-4d00-a4c2-96abb43c4513",
   "metadata": {},
   "outputs": [
    {
     "name": "stdout",
     "output_type": "stream",
     "text": [
      "False\n",
      "19\n",
      "False\n",
      "-1\n"
     ]
    }
   ],
   "source": [
    "print(primo(1))\n",
    "print(primo(19))\n",
    "print(primo(20))\n",
    "print(primo(-3))"
   ]
  },
  {
   "cell_type": "code",
   "execution_count": 36,
   "id": "87396d9f-3d5f-41a6-b8b3-f410bc171dfc",
   "metadata": {},
   "outputs": [],
   "source": [
    "n = 100\n",
    "lista = list(range(1,n+1))"
   ]
  },
  {
   "cell_type": "code",
   "execution_count": 38,
   "id": "35a9e92e-b2e8-4111-9bd6-8f94dfa87f8c",
   "metadata": {},
   "outputs": [
    {
     "data": {
      "text/plain": [
       "[2,\n",
       " 3,\n",
       " 5,\n",
       " 7,\n",
       " 11,\n",
       " 13,\n",
       " 17,\n",
       " 19,\n",
       " 23,\n",
       " 29,\n",
       " 31,\n",
       " 37,\n",
       " 41,\n",
       " 43,\n",
       " 47,\n",
       " 53,\n",
       " 59,\n",
       " 61,\n",
       " 67,\n",
       " 71,\n",
       " 73,\n",
       " 79,\n",
       " 83,\n",
       " 89,\n",
       " 97]"
      ]
     },
     "execution_count": 38,
     "metadata": {},
     "output_type": "execute_result"
    }
   ],
   "source": [
    "[primo(i) for i in lista if primo(i) != False and primo(i) != -1]"
   ]
  }
 ],
 "metadata": {
  "kernelspec": {
   "display_name": "Python 3",
   "language": "python",
   "name": "python3"
  },
  "language_info": {
   "codemirror_mode": {
    "name": "ipython",
    "version": 3
   },
   "file_extension": ".py",
   "mimetype": "text/x-python",
   "name": "python",
   "nbconvert_exporter": "python",
   "pygments_lexer": "ipython3",
   "version": "3.8.8"
  }
 },
 "nbformat": 4,
 "nbformat_minor": 5
}
