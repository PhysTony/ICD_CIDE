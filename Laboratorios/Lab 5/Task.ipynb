{
 "cells": [
  {
   "cell_type": "code",
   "execution_count": 1,
   "id": "db027975-d775-4ee8-9079-645d8502f633",
   "metadata": {},
   "outputs": [],
   "source": [
    "import numpy as np"
   ]
  },
  {
   "cell_type": "markdown",
   "id": "abfeae36-dfb4-498e-b097-d713bca7faff",
   "metadata": {},
   "source": [
    "## Ejercicio 1\n",
    "\n",
    "Checar si un vector tiene un 0"
   ]
  },
  {
   "cell_type": "code",
   "execution_count": 9,
   "id": "b7dc44e9-feae-4d13-9655-a16e42a7cff9",
   "metadata": {},
   "outputs": [],
   "source": [
    "vec_1 = np.array([0,1,3,4,5,0,10])"
   ]
  },
  {
   "cell_type": "markdown",
   "id": "6e48973b-a361-4f20-8946-b909839d28ff",
   "metadata": {},
   "source": [
    "**Método 1:**"
   ]
  },
  {
   "cell_type": "code",
   "execution_count": 6,
   "id": "8f3335a3-376a-4c18-b2a7-7528bfae273b",
   "metadata": {},
   "outputs": [
    {
     "data": {
      "text/plain": [
       "array([ True, False, False, False, False,  True, False])"
      ]
     },
     "execution_count": 6,
     "metadata": {},
     "output_type": "execute_result"
    }
   ],
   "source": [
    "np.where(vec_1 == 0, True, False)"
   ]
  },
  {
   "cell_type": "markdown",
   "id": "69fb7559-5611-471a-b092-5619574ea0a2",
   "metadata": {},
   "source": [
    "**Método 2:**"
   ]
  },
  {
   "cell_type": "code",
   "execution_count": 8,
   "id": "ddd737a2-1349-486a-b200-44a0a8b83d9e",
   "metadata": {},
   "outputs": [
    {
     "name": "stdout",
     "output_type": "stream",
     "text": [
      "Hay un 0\n"
     ]
    }
   ],
   "source": [
    "if 0 in vec_1:\n",
    "    print(\"Hay un 0\")"
   ]
  },
  {
   "cell_type": "markdown",
   "id": "4c426fa1-12fb-497e-9bc8-addfd0d3e7dd",
   "metadata": {},
   "source": [
    "## Ejercicio 2\n",
    "\n",
    "Eliminar elementos de un array "
   ]
  },
  {
   "cell_type": "code",
   "execution_count": 26,
   "id": "0867f479-0355-47ea-9a08-e116b88e749e",
   "metadata": {},
   "outputs": [],
   "source": [
    "def delete(vec,ind):\n",
    "    return np.delete(vec, index)"
   ]
  },
  {
   "cell_type": "code",
   "execution_count": 30,
   "id": "e5cffb17-a343-4c81-87e7-2e566b411b1a",
   "metadata": {},
   "outputs": [
    {
     "name": "stdout",
     "output_type": "stream",
     "text": [
      "El vector original es: [ 1  2  3  4  5  6  7  8  9 10]\n",
      "\n",
      "Las entradas que borraremos son: [0, 1, 2, 3]\n",
      "\n",
      "El nuevo vector es: [ 5  6  7  8  9 10]\n"
     ]
    }
   ],
   "source": [
    "vec_1 = np.array([1,2,3,4,5,6,7,8,9,10])\n",
    "index = [0,1,2,3]\n",
    "print(\"El vector original es: \" + str(vec_1) + \"\\n\")\n",
    "print(\"Las entradas que borraremos son: \" + str(index) + \"\\n\")\n",
    "print(\"El nuevo vector es: \" + str(delete(vec_1,index)))"
   ]
  },
  {
   "cell_type": "code",
   "execution_count": 25,
   "id": "78de0885-8a2a-4c2d-8378-0966f1bb2eb6",
   "metadata": {},
   "outputs": [
    {
     "name": "stdout",
     "output_type": "stream",
     "text": [
      "[1 2 5 6 8 9]\n"
     ]
    }
   ],
   "source": [
    "a = np.array([1, 2, 3, 4, 5, 6, 7, 8, 9])\n",
    "index = [2, 3, 6]\n",
    "\n",
    "new_a = np.delete(a, index)\n",
    "print(new_a)"
   ]
  },
  {
   "cell_type": "markdown",
   "id": "f6eef6d3-420d-40a4-b5ef-959d7b170208",
   "metadata": {},
   "source": [
    "## Ejercicio 3\n",
    "\n",
    "Multiplicacion de dos matrices"
   ]
  },
  {
   "cell_type": "code",
   "execution_count": 23,
   "id": "ae9ea118-875f-420b-96c7-750d6a6b6ca5",
   "metadata": {},
   "outputs": [
    {
     "name": "stdout",
     "output_type": "stream",
     "text": [
      "[[ 3  4  1  9  5 10  8]\n",
      " [ 3  8  0  5  1  3 10]\n",
      " [ 9  2  2  6  8  9  3]\n",
      " [ 4  5  5  7 10  9 10]\n",
      " [ 2  6  9  5  1  6  4]\n",
      " [ 5  8 10  0  7  2  6]]\n",
      "\n",
      "\n",
      "[[ 7  4  8]\n",
      " [ 9  6  4]\n",
      " [ 5  2  2]\n",
      " [ 6  6  6]\n",
      " [ 7 10  9]\n",
      " [ 6  0  9]\n",
      " [ 2  7  9]]\n"
     ]
    }
   ],
   "source": [
    "np.random.seed(8)  \n",
    "A = np.random.randint(11, size=(6, 7))\n",
    "B = np.random.randint(11, size=(7, 3))\n",
    "print(A)\n",
    "print(\"\\n\")\n",
    "print(B)"
   ]
  },
  {
   "cell_type": "code",
   "execution_count": 22,
   "id": "28a7df75-3073-43b9-969d-852fa5637024",
   "metadata": {},
   "outputs": [
    {
     "name": "stdout",
     "output_type": "stream",
     "text": [
      "El producto de las matrices A y B es \n",
      "[[227 198 303]\n",
      " [168 170 212]\n",
      " [243 189 300]\n",
      " [284 268 365]\n",
      " [194 130 187]\n",
      " [230 200 227]]\n"
     ]
    }
   ],
   "source": [
    "print(\"El producto de las matrices A y B es \\n\" + str(np.dot(A, B)))"
   ]
  },
  {
   "cell_type": "markdown",
   "id": "5ba6b317-b380-495f-bfe4-f2e8fe796b59",
   "metadata": {},
   "source": [
    "## Ejercicio 4\n",
    "\n",
    "Descomposicion qr"
   ]
  },
  {
   "cell_type": "code",
   "execution_count": 31,
   "id": "656c5233-4030-408f-891d-8e2dd6c56020",
   "metadata": {},
   "outputs": [
    {
     "name": "stdout",
     "output_type": "stream",
     "text": [
      "[[ 3  4  1  9  5 10  8]\n",
      " [ 3  8  0  5  1  3 10]\n",
      " [ 9  2  2  6  8  9  3]\n",
      " [ 4  5  5  7 10  9 10]\n",
      " [ 2  6  9  5  1  6  4]\n",
      " [ 5  8 10  0  7  2  6]]\n"
     ]
    }
   ],
   "source": [
    "np.random.seed(8)  \n",
    "A = np.random.randint(11, size=(6, 7))\n",
    "print(A)"
   ]
  },
  {
   "cell_type": "code",
   "execution_count": 32,
   "id": "02e18291-0346-463c-aa8d-7ba08fed8cd8",
   "metadata": {},
   "outputs": [],
   "source": [
    "q,r = np.linalg.qr(A)"
   ]
  },
  {
   "cell_type": "code",
   "execution_count": 36,
   "id": "1d902cf9-928e-4168-8d3f-48138144ca6c",
   "metadata": {},
   "outputs": [
    {
     "name": "stdout",
     "output_type": "stream",
     "text": [
      "La matriz q es\n",
      "[[-0.25       -0.13836752 -0.25925066 -0.59221127  0.07808586 -0.70308744]\n",
      " [-0.25       -0.5408912  -0.70516854  0.22372789 -0.19333593  0.2454406 ]\n",
      " [-0.75        0.59120666 -0.06301014  0.05261494 -0.26705477  0.09958827]\n",
      " [-0.33333333 -0.15094638  0.10107022 -0.36513232  0.69086981  0.49524356]\n",
      " [-0.16666667 -0.42768141  0.50332551 -0.37444939 -0.59397064  0.20726988]\n",
      " [-0.41666667 -0.36478709  0.40988338  0.56826874  0.23474103 -0.38377358]]\n",
      "\n",
      "La matriz r es\n",
      "[[-12.         -10.5         -9.08333333 -11.16666667 -13.91666667\n",
      "  -14.83333333 -13.25      ]\n",
      " [  0.          -9.93730346  -7.20768972  -3.59755543  -0.99373035\n",
      "   -2.33966892 -10.15114416]\n",
      " [  0.           0.           8.7488436   -3.01304036   1.87770847\n",
      "   -0.52575162  -3.83141654]\n",
      " [  0.           0.           0.          -8.32374545  -2.36430027\n",
      "   -9.17374421  -4.08207464]\n",
      " [  0.           0.           0.           0.           6.01856993\n",
      "    0.92084446   3.83142508]\n",
      " [  0.           0.           0.           0.           0.\n",
      "   -0.46499398   0.60734494]]\n"
     ]
    }
   ],
   "source": [
    "print(\"La matriz q es\" + \"\\n\" + str(q) + \"\\n\")\n",
    "print(\"La matriz r es\" + \"\\n\"  + str(r))"
   ]
  },
  {
   "cell_type": "code",
   "execution_count": 38,
   "id": "5c635361-cd77-4757-99e1-ccb98f977025",
   "metadata": {},
   "outputs": [
    {
     "name": "stdout",
     "output_type": "stream",
     "text": [
      "Comprobemos que la descomposición sea correcta con el producto de las matrices q y r: \n",
      "[[3.00000000e+00 4.00000000e+00 1.00000000e+00 9.00000000e+00\n",
      "  5.00000000e+00 1.00000000e+01 8.00000000e+00]\n",
      " [3.00000000e+00 8.00000000e+00 1.77635684e-15 5.00000000e+00\n",
      "  1.00000000e+00 3.00000000e+00 1.00000000e+01]\n",
      " [9.00000000e+00 2.00000000e+00 2.00000000e+00 6.00000000e+00\n",
      "  8.00000000e+00 9.00000000e+00 3.00000000e+00]\n",
      " [4.00000000e+00 5.00000000e+00 5.00000000e+00 7.00000000e+00\n",
      "  1.00000000e+01 9.00000000e+00 1.00000000e+01]\n",
      " [2.00000000e+00 6.00000000e+00 9.00000000e+00 5.00000000e+00\n",
      "  1.00000000e+00 6.00000000e+00 4.00000000e+00]\n",
      " [5.00000000e+00 8.00000000e+00 1.00000000e+01 8.88178420e-16\n",
      "  7.00000000e+00 2.00000000e+00 6.00000000e+00]]\n"
     ]
    }
   ],
   "source": [
    "print(\"Comprobemos que la descomposición sea correcta con el producto de las matrices q y r: \\n\" + str(np.dot(q,r)))"
   ]
  }
 ],
 "metadata": {
  "kernelspec": {
   "display_name": "Python 3",
   "language": "python",
   "name": "python3"
  },
  "language_info": {
   "codemirror_mode": {
    "name": "ipython",
    "version": 3
   },
   "file_extension": ".py",
   "mimetype": "text/x-python",
   "name": "python",
   "nbconvert_exporter": "python",
   "pygments_lexer": "ipython3",
   "version": "3.8.8"
  }
 },
 "nbformat": 4,
 "nbformat_minor": 5
}
