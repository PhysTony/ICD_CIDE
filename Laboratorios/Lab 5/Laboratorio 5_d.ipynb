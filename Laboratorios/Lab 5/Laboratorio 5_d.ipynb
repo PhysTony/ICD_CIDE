{
 "cells": [
  {
   "cell_type": "markdown",
   "id": "14499f44",
   "metadata": {},
   "source": [
    "## Laboratorio "
   ]
  },
  {
   "cell_type": "markdown",
   "id": "a5b1c79e",
   "metadata": {},
   "source": [
    "### Tarea 4. Elementos básicos de Numpy"
   ]
  },
  {
   "cell_type": "markdown",
   "id": "01ed314c",
   "metadata": {},
   "source": [
    "1. Supón que los nodos son los hashtag de todos los Twitter que se emiten en México en un cierto día. El peso de un enlace entre dos nodos de una red pude medir la proximidad entre esos dos nodos. ¿Cómo establecerías los pesos del enlace entre hashtags?\n",
    "\n",
    "```Apelaría al criterio de coocurrencia, por lo que dos nodos (hashtags) tienden a ser cercanos cuando se presentan de manera muy frecuente en forma conjunta. Esto indicadiría que esas pequeñas narrativas comparten algún interés en común que sus autores quieren promover```\n"
   ]
  },
  {
   "cell_type": "markdown",
   "id": "9f19d412",
   "metadata": {},
   "source": [
    "2. Crea un arreglo con tres elementos y obtén con la función del seno() de Numpy los valores correspondientes, los cuales deben ser almacenados en otro vector para ser impresos. Realiza la misma operación, pero por un camino largo. Ejecuta un loop en el que cada uno de los elementos del arreglo inicial es transformado con el seno()"
   ]
  },
  {
   "cell_type": "code",
   "execution_count": 1,
   "id": "cdbdc9db",
   "metadata": {},
   "outputs": [
    {
     "name": "stdout",
     "output_type": "stream",
     "text": [
      "[0.84147098 0.90929743 0.14112001]\n",
      "[0.84147098 0.90929743 0.14112001]\n"
     ]
    }
   ],
   "source": [
    "import numpy as np\n",
    "z = np.array([1, 2, 3])\n",
    "sin_z = np.sin(z)\n",
    "print(sin_z)\n",
    "\n",
    "n = len(z)\n",
    "y = np.zeros(n)\n",
    "for i in range(n):\n",
    "    y[i] = np.sin(z[i])\n",
    "print(y)"
   ]
  },
  {
   "cell_type": "markdown",
   "id": "65d7d96b",
   "metadata": {},
   "source": [
    "3. Considera un polinomio de orden N. Escribe un programa con arreglos y métodos de Numpy.Implementa una función en la que se use el método cumprod(). Invoca a la función asignando un valor a la variable (x) y los coeficientes asociados del polinomio correspondiente (Ojo: si N = 2, debe haber tres coeficientes ya que hay un término constante). Estos coeficientes deben formar parte de un arreglo. Imprime el valor numérico de la función polinómica. Con el método de Numpy para la creación y evaluación de polinomios np.poly1d checa que el cálculo anterior sea el correcto. "
   ]
  },
  {
   "cell_type": "code",
   "execution_count": 2,
   "id": "bfcdd637",
   "metadata": {},
   "outputs": [
    {
     "name": "stdout",
     "output_type": "stream",
     "text": [
      "24\n",
      "24\n"
     ]
    }
   ],
   "source": [
    "def p(x, coef):\n",
    "     X = np.ones_like(coef)\n",
    "     X[1:] = x           # se le pone el valor de x a todos los elementos menos el 1 inicial\n",
    "     y = np.cumprod(X)   # y = [1, x, x**2,...],  se van acumulando multiplicaciones de x\n",
    "     poli_x =coef @ y    # se multiplican los coeficientes con el vector  y\n",
    "     return  poli_x        \n",
    "\n",
    "x = 2\n",
    "coef = np.array([2, 3, 4])\n",
    "print(p(x, coef))\n",
    "                               # Para checar que la operación es la correcta\n",
    "q = np.poly1d(np.flip(coef))   # se usa flip ya que en este método el coeficiente inicial\n",
    "                               # es el de x**N y el último el del término constante\n",
    "print(q(x))                    # se evalua el polinomio en x"
   ]
  },
  {
   "cell_type": "markdown",
   "id": "db1ab29b",
   "metadata": {},
   "source": [
    "4. Crea una matriz (4 x 3) de números enteros generados aleatoriamente entre 0 y 10. Reemplaza los dos primeros vectores renglón con escalares = 7. Crea un nuevo arreglo (4 x 1) con puros unos y anéxalo con el método append() a la matriz anterior, imprime cada uno de los resultados parciales que vas generando.\n",
    "  "
   ]
  },
  {
   "cell_type": "code",
   "execution_count": 3,
   "id": "78a9e9b3",
   "metadata": {},
   "outputs": [
    {
     "name": "stdout",
     "output_type": "stream",
     "text": [
      "[[ 0  8  8]\n",
      " [ 4  4  2]\n",
      " [ 6  6  1]\n",
      " [ 4 10  3]]\n",
      "[[ 7  7  7]\n",
      " [ 7  7  7]\n",
      " [ 6  6  1]\n",
      " [ 4 10  3]]\n",
      "[[1.]\n",
      " [1.]\n",
      " [1.]\n",
      " [1.]]\n",
      "[[ 7.  7.  7.  1.]\n",
      " [ 7.  7.  7.  1.]\n",
      " [ 6.  6.  1.  1.]\n",
      " [ 4. 10.  3.  1.]]\n"
     ]
    }
   ],
   "source": [
    "mat1  = np.random.randint(0, 11, size=(4, 3)) #creas la matriz\n",
    "print(mat1)\n",
    "mat1[0:2] = 7 # Reemplazas con el 7\n",
    "print(mat1)\n",
    "tempo = np.ones((4, 1)) #matriz de unos\n",
    "print (tempo)\n",
    "mat2 = np.append(mat1,tempo, axis = 1) # pegas las matrices \n",
    "print (mat2)"
   ]
  },
  {
   "cell_type": "markdown",
   "id": "620ccea0",
   "metadata": {},
   "source": [
    "### Tarea 5"
   ]
  },
  {
   "cell_type": "markdown",
   "id": "0bbf0b12",
   "metadata": {},
   "source": [
    "1. Explicar cómo en una red real se puede saber si se presentan las siguientes propiedades: trayectorias cortas, aglutinamiento, y jerarquía en los grados\n",
    "```Se compara la red real con una red aleatoria equivalente (número similar de nodos) y se checan las métricas de 'average path length' y 'average clustering' para saber que tan parecidas son, mientras que para saber si es jerárquicas se calcula \n",
    "la presencia de la 'power law' ```"
   ]
  },
  {
   "cell_type": "markdown",
   "id": "35ff4c6a",
   "metadata": {},
   "source": [
    "2. Explicar por qué la red jerárquica de Barabasi es resiliente ante fallas aleatorias en los nodos\n"
   ]
  },
  {
   "cell_type": "markdown",
   "id": "2d58e005",
   "metadata": {},
   "source": [
    "\n",
    "``` \n",
    "Porqué los nodos con muchos nodos son muy poco frecuentes y, por lo tanto, es raro que puedan presentar fallas. Al haber redundancia en las trayectorias es posible que un nodo fallido (con pocos vínculos y más frecuentes) no perturbe el acceso a un nodo desde otro nodo\n",
    "```"
   ]
  },
  {
   "cell_type": "markdown",
   "id": "331a7f75",
   "metadata": {},
   "source": [
    "3. Considera el siguiente diccionario:   \n",
    "``` data = {'year': [2010, 2011, 2012, 2010, 2011, 2012, 2010, 2011, 2012],\n",
    "             'team': ['FCBarcelona', 'FCBarcelona', 'FCBarcelona', 'RMadrid', 'RMadrid',      \t    \n",
    "                            'RMadrid', 'ValenciaCF', 'ValenciaCF', 'ValenciaCF'],\n",
    "               'wins':   [30, 28, 32, 29, 32, 26, 21, 17, 19],\n",
    "              'draws':  [6, 7, 4, 5, 4, 7, 8, 10, 8],\n",
    "                'losses': [2, 3, 2, 4, 2, 5, 9, 11, 11] }\n",
    "Escribe un script en el que muestres las siguientes instrucciones\n",
    "i. Crear una estructura tabular con pandas\n",
    "ii. Que se observen tan solo los tres primeros renglones de la tabla\n",
    "iii. Que se observen los últimos cuatro renglones de la tabla \n",
    "iv. Que muestre estadísticas descriptivas\n",
    "v. Que muestre los 'wins' de cada equipo\n",
    "vi. Que muestre los renglones que están entre las posiciones 3 y 6 \n",
    "vii. Que muestre una submatrix entre las posiciones 2 y 8 para 'team' y 'draws' \n",
    "viii. Que elija a todos los equipos que han obtenido más de 25 victorias\n",
    "ix. Obtener los valores máximos de cada columna \n",
    "x. Obtener el valor mínimo de 'wins'\n",
    "xi. Elevar al cuadrado el número que corresponde a 'draws' con una función anónima (lambda)\n",
    "xii. Crear una nueva columna de'penalties' sin información disponible\n",
    "xiii. Eliminar la columna de penalties para siempre.\n",
    "xiv. Cambiar los valores de 'wins', 'draws' y 'losses' para ValenciaCF por NaN\n",
    "xv. Cambiar el nombre de ValenciaCF por el de Sevilla.\n",
    "```"
   ]
  },
  {
   "cell_type": "code",
   "execution_count": 68,
   "id": "30a5b163",
   "metadata": {},
   "outputs": [
    {
     "name": "stdout",
     "output_type": "stream",
     "text": [
      "   year         team  wins  draws  losses\n",
      "0  2010  FCBarcelona    30      6       2\n",
      "1  2011  FCBarcelona    28      7       3\n",
      "2  2012  FCBarcelona    32      4       2\n",
      "3  2010      RMadrid    29      5       4\n",
      "4  2011      RMadrid    32      4       2\n",
      "5  2012      RMadrid    26      7       5\n",
      "6  2010   ValenciaCF    21      8       9\n",
      "7  2011   ValenciaCF    17     10      11\n",
      "8  2012   ValenciaCF    19      8      11\n",
      "   year         team  wins  draws  losses\n",
      "0  2010  FCBarcelona    30      6       2\n",
      "1  2011  FCBarcelona    28      7       3\n",
      "2  2012  FCBarcelona    32      4       2\n",
      "   year        team  wins  draws  losses\n",
      "5  2012     RMadrid    26      7       5\n",
      "6  2010  ValenciaCF    21      8       9\n",
      "7  2011  ValenciaCF    17     10      11\n",
      "8  2012  ValenciaCF    19      8      11\n",
      "              year       wins      draws     losses\n",
      "count     9.000000   9.000000   9.000000   9.000000\n",
      "mean   2011.000000  26.000000   6.555556   5.444444\n",
      "std       0.866025   5.656854   2.006932   3.844188\n",
      "min    2010.000000  17.000000   4.000000   2.000000\n",
      "25%    2010.000000  21.000000   5.000000   2.000000\n",
      "50%    2011.000000  28.000000   7.000000   4.000000\n",
      "75%    2012.000000  30.000000   8.000000   9.000000\n",
      "max    2012.000000  32.000000  10.000000  11.000000\n",
      "0    30\n",
      "1    28\n",
      "2    32\n",
      "3    29\n",
      "4    32\n",
      "5    26\n",
      "6    21\n",
      "7    17\n",
      "8    19\n",
      "Name: wins, dtype: int64\n"
     ]
    },
    {
     "data": {
      "text/html": [
       "<div>\n",
       "<style scoped>\n",
       "    .dataframe tbody tr th:only-of-type {\n",
       "        vertical-align: middle;\n",
       "    }\n",
       "\n",
       "    .dataframe tbody tr th {\n",
       "        vertical-align: top;\n",
       "    }\n",
       "\n",
       "    .dataframe thead th {\n",
       "        text-align: right;\n",
       "    }\n",
       "</style>\n",
       "<table border=\"1\" class=\"dataframe\">\n",
       "  <thead>\n",
       "    <tr style=\"text-align: right;\">\n",
       "      <th></th>\n",
       "      <th>year</th>\n",
       "      <th>team</th>\n",
       "      <th>wins</th>\n",
       "      <th>draws</th>\n",
       "      <th>losses</th>\n",
       "    </tr>\n",
       "  </thead>\n",
       "  <tbody>\n",
       "    <tr>\n",
       "      <th>0</th>\n",
       "      <td>2010</td>\n",
       "      <td>FCBarcelona</td>\n",
       "      <td>30</td>\n",
       "      <td>6.0</td>\n",
       "      <td>2.0</td>\n",
       "    </tr>\n",
       "    <tr>\n",
       "      <th>1</th>\n",
       "      <td>2011</td>\n",
       "      <td>FCBarcelona</td>\n",
       "      <td>28</td>\n",
       "      <td>7.0</td>\n",
       "      <td>3.0</td>\n",
       "    </tr>\n",
       "    <tr>\n",
       "      <th>2</th>\n",
       "      <td>2012</td>\n",
       "      <td>FCBarcelona</td>\n",
       "      <td>32</td>\n",
       "      <td>4.0</td>\n",
       "      <td>2.0</td>\n",
       "    </tr>\n",
       "    <tr>\n",
       "      <th>3</th>\n",
       "      <td>2010</td>\n",
       "      <td>RMadrid</td>\n",
       "      <td>29</td>\n",
       "      <td>5.0</td>\n",
       "      <td>4.0</td>\n",
       "    </tr>\n",
       "    <tr>\n",
       "      <th>4</th>\n",
       "      <td>2011</td>\n",
       "      <td>RMadrid</td>\n",
       "      <td>32</td>\n",
       "      <td>4.0</td>\n",
       "      <td>2.0</td>\n",
       "    </tr>\n",
       "    <tr>\n",
       "      <th>5</th>\n",
       "      <td>2012</td>\n",
       "      <td>RMadrid</td>\n",
       "      <td>26</td>\n",
       "      <td>7.0</td>\n",
       "      <td>5.0</td>\n",
       "    </tr>\n",
       "    <tr>\n",
       "      <th>6</th>\n",
       "      <td>2010</td>\n",
       "      <td>Sevilla</td>\n",
       "      <td>21</td>\n",
       "      <td>NaN</td>\n",
       "      <td>NaN</td>\n",
       "    </tr>\n",
       "    <tr>\n",
       "      <th>7</th>\n",
       "      <td>2011</td>\n",
       "      <td>Sevilla</td>\n",
       "      <td>17</td>\n",
       "      <td>NaN</td>\n",
       "      <td>NaN</td>\n",
       "    </tr>\n",
       "    <tr>\n",
       "      <th>8</th>\n",
       "      <td>2012</td>\n",
       "      <td>Sevilla</td>\n",
       "      <td>19</td>\n",
       "      <td>NaN</td>\n",
       "      <td>NaN</td>\n",
       "    </tr>\n",
       "  </tbody>\n",
       "</table>\n",
       "</div>"
      ],
      "text/plain": [
       "   year         team  wins  draws  losses\n",
       "0  2010  FCBarcelona    30    6.0     2.0\n",
       "1  2011  FCBarcelona    28    7.0     3.0\n",
       "2  2012  FCBarcelona    32    4.0     2.0\n",
       "3  2010      RMadrid    29    5.0     4.0\n",
       "4  2011      RMadrid    32    4.0     2.0\n",
       "5  2012      RMadrid    26    7.0     5.0\n",
       "6  2010      Sevilla    21    NaN     NaN\n",
       "7  2011      Sevilla    17    NaN     NaN\n",
       "8  2012      Sevilla    19    NaN     NaN"
      ]
     },
     "execution_count": 68,
     "metadata": {},
     "output_type": "execute_result"
    }
   ],
   "source": [
    "import pandas as pd\n",
    "import numpy as np\n",
    "data = {'year': [2010, 2011, 2012, 2010, 2011, 2012, 2010, 2011, 2012],\n",
    "        'team': ['FCBarcelona', 'FCBarcelona', 'FCBarcelona', 'RMadrid', 'RMadrid', 'RMadrid', 'ValenciaCF',\n",
    "                 'ValenciaCF', 'ValenciaCF'],\n",
    "        'wins':   [30, 28, 32, 29, 32, 26, 21, 17, 19],\n",
    "        'draws':  [6, 7, 4, 5, 4, 7, 8, 10, 8],\n",
    "        'losses': [2, 3, 2, 4, 2, 5, 9, 11, 11]\n",
    "        }\n",
    "fut = pd.DataFrame(\n",
    "    data, columns=['year', 'team', 'wins', 'draws', 'losses']) #Creamos estructura\n",
    "print(fut)\n",
    "print(fut.head(3)) #primeros tres\n",
    "print(fut.tail(4)) #ultimos cuatro\n",
    "print(fut.describe()) # estadisticas descriptivas\n",
    "print(fut['wins']) # se mustran los wins\n",
    "fut[3:7] # se muestren los renglones entre el 3 y 6\n",
    "fut.iloc[2:9, [1 , 3]] # submatriz para team y draws\n",
    "fut[fut['wins']> 25] # equipos con mas de 25 victorias\n",
    "fut.max(axis = 0) # maximos de cada columna\n",
    "fut['wins'].min() # minimo wins\n",
    "fut['draws'].apply(lambda d: d**2) # elevan al cuadrado draws\n",
    "fut['penalties'] = np.nan # creamos columna nueva\n",
    "fut.drop('penalties', inplace=True, axis = 1) # eliminanos\n",
    "fut\n",
    "fut.iloc[6:9, 2:] = np.nan # para el valencia por nan\n",
    "fut\n",
    "fut['wins'] = [30, 28, 32, 29, 32, 26, 21, 17, 19]\n",
    "fut\n",
    "fut.iloc[ :  , 2: ]\n",
    "fut.iloc[6: , 1 ] = 'Sevilla' #cambiamos nombre \n",
    "fut\n"
   ]
  },
  {
   "cell_type": "markdown",
   "id": "3db62911",
   "metadata": {},
   "source": [
    "### Ejercicios "
   ]
  },
  {
   "cell_type": "markdown",
   "id": "36168d0f",
   "metadata": {},
   "source": [
    "1.\tPara calcular la diferencia entre los valores máximo y mínimo de una matriz dada a lo largo del segundo eje."
   ]
  },
  {
   "cell_type": "code",
   "execution_count": 12,
   "id": "5cba328d",
   "metadata": {},
   "outputs": [
    {
     "name": "stdout",
     "output_type": "stream",
     "text": [
      "\n",
      "array original:\n",
      "[[ 0  1  2  3  4  5]\n",
      " [ 6  7  8  9 10 11]]\n",
      "\n",
      "diferencia:\n",
      "[5 5]\n"
     ]
    }
   ],
   "source": [
    "x = np.arange(12).reshape((2, 6)) #Hacemos matriz\n",
    "print(\"\\narray original:\")\n",
    "print(x)\n",
    "r1 = np.ptp(x, 1) #Rango de valores max y min por filas \n",
    "r2 = np.amax(x, 1) - np.amin(x, 1) # A manita\n",
    "assert np.allclose(r1, r2) # regresa verdadero si se parecen \n",
    "print(\"\\ndiferencia:\")\n",
    "print(r1)"
   ]
  },
  {
   "cell_type": "markdown",
   "id": "54a94533",
   "metadata": {},
   "source": [
    "2.\tCalcular el percentil 80 para todos los elementos en una matriz dada a lo largo del segundo eje."
   ]
  },
  {
   "cell_type": "code",
   "execution_count": 13,
   "id": "8cc5d0cc",
   "metadata": {},
   "outputs": [
    {
     "name": "stdout",
     "output_type": "stream",
     "text": [
      "\n",
      "array:\n",
      "[[ 0  1  2  3  4  5]\n",
      " [ 6  7  8  9 10 11]]\n",
      "\n",
      "80th percentil:\n",
      "[ 4. 10.]\n"
     ]
    }
   ],
   "source": [
    "x = np.arange(12).reshape((2, 6)) # Matriz\n",
    "print(\"\\narray:\") \n",
    "print(x)\n",
    "r1 = np.percentile(x, 80, 1) # Regresa el percentil 80 de cada fila\n",
    "print(\"\\n80th percentil:\")\n",
    "print(r1)"
   ]
  },
  {
   "cell_type": "markdown",
   "id": "6783638e",
   "metadata": {},
   "source": [
    "3.\tArreglo de cinco numeros de una distribucion normal"
   ]
  },
  {
   "cell_type": "code",
   "execution_count": 9,
   "id": "e895337c",
   "metadata": {},
   "outputs": [
    {
     "name": "stdout",
     "output_type": "stream",
     "text": [
      "[-1.44426985  0.42452392 -1.95096263  0.07660879  0.10817319]\n"
     ]
    }
   ],
   "source": [
    "x = np.random.normal(size=5) # Hacemos el arreglo\n",
    "print(x)"
   ]
  },
  {
   "cell_type": "markdown",
   "id": "33a66e4c",
   "metadata": {},
   "source": [
    "4.\tEscriba un programa NumPy para crear una matriz aleatoria de 10x4 y extraiga las primeras cinco filas de la matriz y guárdelas en una variable"
   ]
  },
  {
   "cell_type": "code",
   "execution_count": 69,
   "id": "f8fd11d1",
   "metadata": {},
   "outputs": [
    {
     "name": "stdout",
     "output_type": "stream",
     "text": [
      "Array original: \n",
      "[[0.58712164 0.31584842 0.49368451 0.81022738]\n",
      " [0.1040315  0.37364839 0.61330667 0.94164464]\n",
      " [0.13144945 0.68286769 0.38245483 0.43551081]\n",
      " [0.38961887 0.9872654  0.63620756 0.93301325]\n",
      " [0.85814014 0.84504513 0.13410813 0.64683506]\n",
      " [0.95510797 0.04935348 0.94883209 0.13359652]\n",
      " [0.07508103 0.8495176  0.44173577 0.63687732]\n",
      " [0.45823616 0.31320878 0.99211992 0.3695401 ]\n",
      " [0.3041919  0.8964926  0.31566894 0.58192753]\n",
      " [0.54636522 0.46209715 0.51320745 0.2720081 ]]\n",
      "Primeras cinco filas:\n",
      "[[0.58712164 0.31584842 0.49368451 0.81022738]\n",
      " [0.1040315  0.37364839 0.61330667 0.94164464]\n",
      " [0.13144945 0.68286769 0.38245483 0.43551081]\n",
      " [0.38961887 0.9872654  0.63620756 0.93301325]\n",
      " [0.85814014 0.84504513 0.13410813 0.64683506]]\n"
     ]
    }
   ],
   "source": [
    "x = np.random.rand(10, 4) #Matriz\n",
    "print(\"Array original: \")\n",
    "print(x)\n",
    "y= x[:5, :] #primeras 5 filas\n",
    "print(\"Primeras cinco filas:\")\n",
    "print(y)"
   ]
  },
  {
   "cell_type": "markdown",
   "id": "7e7c547f",
   "metadata": {},
   "source": [
    "5.\tEscriba un programa NumPy para normalizar una matriz aleatoria de 3x3"
   ]
  },
  {
   "cell_type": "code",
   "execution_count": 70,
   "id": "e5657ee5",
   "metadata": {},
   "outputs": [
    {
     "name": "stdout",
     "output_type": "stream",
     "text": [
      "Original:\n",
      "[[0.81832302 0.90839728 0.94310371]\n",
      " [0.27853204 0.53234482 0.93973026]\n",
      " [0.15618962 0.29738403 0.68154056]]\n",
      "Normalizada:\n",
      "[[0.84143035 0.95589553 1.        ]\n",
      " [0.15547113 0.47801304 0.99571305]\n",
      " [0.         0.17942799 0.66760902]]\n"
     ]
    }
   ],
   "source": [
    "x= np.random.random((3,3)) # Matriz\n",
    "print(\"Original:\")\n",
    "print(x)\n",
    "xmax = x.max()\n",
    "xmin =  x.min() #Sacamos maximo y minimo\n",
    "x = (x - xmin)/(xmax - xmin) #A cada elemento le resta el minimo y lo divide entre la diferencia\n",
    "print(\"Normalizada:\")\n",
    "print(x)"
   ]
  },
  {
   "cell_type": "markdown",
   "id": "7b7abf48",
   "metadata": {},
   "source": [
    "6.\tEscriba un programa NumPy para crear un vector aleatorio de tamaño 10 y ordenarlo"
   ]
  },
  {
   "cell_type": "code",
   "execution_count": 71,
   "id": "07c58ce4",
   "metadata": {},
   "outputs": [
    {
     "name": "stdout",
     "output_type": "stream",
     "text": [
      "Original:\n",
      "[0.04773384 0.50875528 0.29372029 0.85916763 0.22733429 0.86474715\n",
      " 0.04194697 0.91005553 0.03887742 0.09744359]\n",
      "Ordenado:\n",
      "[0.03887742 0.04194697 0.04773384 0.09744359 0.22733429 0.29372029\n",
      " 0.50875528 0.85916763 0.86474715 0.91005553]\n"
     ]
    }
   ],
   "source": [
    "x = np.random.random(10) # Creamos\n",
    "print(\"Original:\")\n",
    "print(x)\n",
    "x.sort() #Ordenamos\n",
    "print(\"Ordenado:\")\n",
    "print(x)"
   ]
  },
  {
   "cell_type": "markdown",
   "id": "c82fa853",
   "metadata": {},
   "source": [
    "7.\tEscriba un programa NumPy para crear un vector aleatorio de tamaño 15 y reemplace el valor máximo por -1.\n"
   ]
  },
  {
   "cell_type": "code",
   "execution_count": 72,
   "id": "7001342a",
   "metadata": {},
   "outputs": [
    {
     "name": "stdout",
     "output_type": "stream",
     "text": [
      "Original:\n",
      "[0.33059389 0.63478182 0.9782475  0.48734747 0.40852773 0.25091902\n",
      " 0.08964267 0.89123819 0.01134664 0.97079046 0.50814472 0.97542114\n",
      " 0.79377717 0.10029941 0.38746401]\n",
      "reemplazando:\n",
      "[ 0.33059389  0.63478182 -1.          0.48734747  0.40852773  0.25091902\n",
      "  0.08964267  0.89123819  0.01134664  0.97079046  0.50814472  0.97542114\n",
      "  0.79377717  0.10029941  0.38746401]\n"
     ]
    }
   ],
   "source": [
    "import numpy as np\n",
    "x = np.random.random(15)\n",
    "print(\"Original:\")\n",
    "print(x)\n",
    "x[x.argmax()] = -1 #Agarramos el maximo \n",
    "print(\"reemplazando:\")\n",
    "print(x)"
   ]
  },
  {
   "cell_type": "markdown",
   "id": "e8085ca4",
   "metadata": {},
   "source": [
    "### Repaso pandas"
   ]
  },
  {
   "cell_type": "markdown",
   "id": "17b83b42",
   "metadata": {},
   "source": [
    "## DataFrames y Series\n",
    "\n",
    "Las funcionalidades de `pandas` se basan en dos estructuras de datos fundamentales: *Series* y *DataFrames*.\n",
    "\n",
    "Una `Series` es un objeto que contiene un `array` unidimensional de datos y un `array` de etiquetas, conocido como *índice*. Si no se especifica un índice o etiqueta, este se genera internamente como una secuencia ordenada de números enteros.\n",
    "\n",
    "```python\n",
    "s = pd.Series(data, index=index)\n",
    "```\n",
    "\n",
    "Un `DataFrame` es una estructura de datos que almacena datos de forma tabular, es decir, ordenada en filas y columnas etiquetadas. Cada fila (`row`) contiene una observación y cada columna (`column`) una variable. Un `DataFrame` acepta datos heterogéneos, es decir, variables pueden ser de distinto tipo (numérico, string, boolean, etc.). Además de contener datos, un `DataFrame` contiene el nombre de las variables y sus tipos, y métodos que permiten acceder y modificar los datos.\n",
    "\n",
    "```python\n",
    "s = pd.DataFrame(data, ...)\n",
    "```\n",
    "\n",
    "Las `Series` y `DataFrame` permiten representar datos 1D y 2D. Para representar datos con más dimensiones `pandas` posee otras estructuras de datos más complejas (en fase experimental), llamadas `Panel`, `Panel4D`, `PanelND`. Estas estructuras están fuera del alcance de este curso."
   ]
  },
  {
   "cell_type": "markdown",
   "id": "281e76a0",
   "metadata": {},
   "source": [
    "#### Creacion de series\n",
    "Crear una Series con índices automáticos a partir de una lista"
   ]
  },
  {
   "cell_type": "code",
   "execution_count": 15,
   "id": "31d4015b",
   "metadata": {},
   "outputs": [
    {
     "data": {
      "text/plain": [
       "0    1979\n",
       "1    1980\n",
       "2    1981\n",
       "3    1982\n",
       "dtype: int64"
      ]
     },
     "execution_count": 15,
     "metadata": {},
     "output_type": "execute_result"
    }
   ],
   "source": [
    "import pandas as pd\n",
    "serie = pd.Series([1979, 1980, 1981, 1982])\n",
    "serie"
   ]
  },
  {
   "cell_type": "markdown",
   "id": "404de068",
   "metadata": {},
   "source": [
    "Las `Series` poseen dos atributos: `values`  e `index`. El primero es un `numpy array` que almacena los datos, y el segundo es un objeto que contiene los índices."
   ]
  },
  {
   "cell_type": "code",
   "execution_count": 16,
   "id": "a9f25e42",
   "metadata": {},
   "outputs": [
    {
     "data": {
      "text/plain": [
       "array([1979, 1980, 1981, 1982], dtype=int64)"
      ]
     },
     "execution_count": 16,
     "metadata": {},
     "output_type": "execute_result"
    }
   ],
   "source": [
    "serie.values"
   ]
  },
  {
   "cell_type": "code",
   "execution_count": 17,
   "id": "2e2d9768",
   "metadata": {},
   "outputs": [
    {
     "data": {
      "text/plain": [
       "RangeIndex(start=0, stop=4, step=1)"
      ]
     },
     "execution_count": 17,
     "metadata": {},
     "output_type": "execute_result"
    }
   ],
   "source": [
    "serie.index"
   ]
  },
  {
   "cell_type": "markdown",
   "id": "c4c7b7c6",
   "metadata": {},
   "source": [
    "Al crear una `Series` se puede definir explícitamente un `array` índice y pasarlo como argumento."
   ]
  },
  {
   "cell_type": "code",
   "execution_count": 18,
   "id": "10ce4a5c",
   "metadata": {},
   "outputs": [
    {
     "data": {
      "text/plain": [
       "carolina    1979\n",
       "martha      1980\n",
       "nicky       1981\n",
       "theresa     1982\n",
       "nicky       1983\n",
       "dtype: int64"
      ]
     },
     "execution_count": 18,
     "metadata": {},
     "output_type": "execute_result"
    }
   ],
   "source": [
    "serie = pd.Series(data=[1979, 1980, 1981, 1982, 1983],\n",
    "                  index=['carolina', 'martha', 'nicky', 'theresa', 'nicky'])\n",
    "serie"
   ]
  },
  {
   "cell_type": "code",
   "execution_count": 19,
   "id": "48c5b53e",
   "metadata": {},
   "outputs": [
    {
     "data": {
      "text/plain": [
       "1979"
      ]
     },
     "execution_count": 19,
     "metadata": {},
     "output_type": "execute_result"
    }
   ],
   "source": [
    "serie[\"carolina\"]"
   ]
  },
  {
   "cell_type": "markdown",
   "id": "9926b57b",
   "metadata": {},
   "source": [
    "También se pueden crear `Series` a partir de diccionarios, `numpy arrays`, desde ficheros, etc."
   ]
  },
  {
   "cell_type": "code",
   "execution_count": 20,
   "id": "c5cefdd5",
   "metadata": {},
   "outputs": [
    {
     "data": {
      "text/plain": [
       "array([ 0.07716925, -0.48063635, -0.86375154, -0.72121427,  0.20415092,\n",
       "        1.38657575, -0.34668105, -0.48647024,  1.27858884, -0.63215079])"
      ]
     },
     "execution_count": 20,
     "metadata": {},
     "output_type": "execute_result"
    }
   ],
   "source": [
    "np.random.randn(10)"
   ]
  },
  {
   "cell_type": "code",
   "execution_count": 21,
   "id": "f6ce2f20",
   "metadata": {},
   "outputs": [
    {
     "data": {
      "text/plain": [
       "0    1.126677\n",
       "1    0.546761\n",
       "2    0.568334\n",
       "3   -0.159193\n",
       "4    0.063407\n",
       "5    0.364563\n",
       "6   -1.382410\n",
       "7   -0.294524\n",
       "8   -0.379617\n",
       "9    0.623799\n",
       "dtype: float64"
      ]
     },
     "execution_count": 21,
     "metadata": {},
     "output_type": "execute_result"
    }
   ],
   "source": [
    "serie = pd.Series(np.random.randn(10))\n",
    "serie"
   ]
  },
  {
   "cell_type": "code",
   "execution_count": 22,
   "id": "82d68f1e",
   "metadata": {},
   "outputs": [
    {
     "name": "stdout",
     "output_type": "stream",
     "text": [
      "{'cuadrado de 0': 0, 'cuadrado de 1': 1, 'cuadrado de 2': 4, 'cuadrado de 3': 9, 'cuadrado de 4': 16, 'cuadrado de 5': 25, 'cuadrado de 6': 36, 'cuadrado de 7': 49, 'cuadrado de 8': 64, 'cuadrado de 9': 81, 'cuadrado de 10': 100}\n"
     ]
    }
   ],
   "source": [
    "dicc = {'cuadrado de {}'.format(i): i * i for i in range(11)}\n",
    "print(dicc)"
   ]
  },
  {
   "cell_type": "code",
   "execution_count": 23,
   "id": "af8c564d",
   "metadata": {},
   "outputs": [
    {
     "data": {
      "text/plain": [
       "cuadrado de 0       0\n",
       "cuadrado de 1       1\n",
       "cuadrado de 2       4\n",
       "cuadrado de 3       9\n",
       "cuadrado de 4      16\n",
       "cuadrado de 5      25\n",
       "cuadrado de 6      36\n",
       "cuadrado de 7      49\n",
       "cuadrado de 8      64\n",
       "cuadrado de 9      81\n",
       "cuadrado de 10    100\n",
       "dtype: int64"
      ]
     },
     "execution_count": 23,
     "metadata": {},
     "output_type": "execute_result"
    }
   ],
   "source": [
    "serie_dicc = pd.Series(dicc)\n",
    "serie_dicc"
   ]
  },
  {
   "cell_type": "code",
   "execution_count": 24,
   "id": "31dba554",
   "metadata": {},
   "outputs": [
    {
     "data": {
      "text/plain": [
       "array([  0,   1,   4,   9,  16,  25,  36,  49,  64,  81, 100], dtype=int64)"
      ]
     },
     "execution_count": 24,
     "metadata": {},
     "output_type": "execute_result"
    }
   ],
   "source": [
    "serie_dicc.values"
   ]
  },
  {
   "cell_type": "markdown",
   "id": "360e3cf1",
   "metadata": {},
   "source": [
    "#### Acceso a datos en Series\n",
    "El acceso a los datos se puede realizar mediante el índice categórico o el numérico que genera internamente Pandas"
   ]
  },
  {
   "cell_type": "code",
   "execution_count": 26,
   "id": "957cad0e",
   "metadata": {},
   "outputs": [
    {
     "data": {
      "text/plain": [
       "carolina    1979\n",
       "martha      1980\n",
       "nicky       1981\n",
       "theresa     1982\n",
       "nicky       1983\n",
       "dtype: int64"
      ]
     },
     "execution_count": 26,
     "metadata": {},
     "output_type": "execute_result"
    }
   ],
   "source": [
    "serie = pd.Series(data=[1979, 1980, 1981, 1982, 1983],\n",
    "                  index=['carolina', 'martha', 'nicky', 'theresa', 'nicky'])\n",
    "serie"
   ]
  },
  {
   "cell_type": "code",
   "execution_count": 27,
   "id": "5935bbeb",
   "metadata": {},
   "outputs": [
    {
     "name": "stdout",
     "output_type": "stream",
     "text": [
      "1980\n"
     ]
    }
   ],
   "source": [
    "print(serie['martha']) #Mediante etiqueta"
   ]
  },
  {
   "cell_type": "code",
   "execution_count": 28,
   "id": "875538bd",
   "metadata": {},
   "outputs": [
    {
     "name": "stdout",
     "output_type": "stream",
     "text": [
      "1980\n"
     ]
    }
   ],
   "source": [
    "print(serie[1]) #mediante indice interno numerico"
   ]
  },
  {
   "cell_type": "markdown",
   "id": "60302ac2",
   "metadata": {},
   "source": [
    "#### Métodos en Series"
   ]
  },
  {
   "cell_type": "markdown",
   "id": "065d99d2",
   "metadata": {},
   "source": [
    "\n",
    "Para **añadir** nuevos elementos a una Series usamos el método `append`:"
   ]
  },
  {
   "cell_type": "code",
   "execution_count": 31,
   "id": "46c04051",
   "metadata": {},
   "outputs": [
    {
     "data": {
      "text/plain": [
       "0      0\n",
       "1      1\n",
       "2      2\n",
       "3      3\n",
       "4      4\n",
       "5      5\n",
       "6      6\n",
       "7      7\n",
       "8      8\n",
       "9      9\n",
       "0     10\n",
       "1     11\n",
       "2     12\n",
       "3     13\n",
       "4     14\n",
       "5     15\n",
       "6     16\n",
       "7     17\n",
       "8     18\n",
       "9     19\n",
       "10    20\n",
       "dtype: int32"
      ]
     },
     "execution_count": 31,
     "metadata": {},
     "output_type": "execute_result"
    }
   ],
   "source": [
    "s1 = pd.Series(np.arange(10))\n",
    "s2 = pd.Series(np.arange(10, 21))\n",
    "\n",
    "s3 = s1.append(s2) #Mantiene indices\n",
    "s3"
   ]
  },
  {
   "cell_type": "code",
   "execution_count": 32,
   "id": "3f887495",
   "metadata": {},
   "outputs": [
    {
     "data": {
      "text/plain": [
       "0      0\n",
       "1      1\n",
       "2      2\n",
       "3      3\n",
       "4      4\n",
       "5      5\n",
       "6      6\n",
       "7      7\n",
       "8      8\n",
       "9      9\n",
       "10    10\n",
       "11    11\n",
       "12    12\n",
       "13    13\n",
       "14    14\n",
       "15    15\n",
       "16    16\n",
       "17    17\n",
       "18    18\n",
       "19    19\n",
       "20    20\n",
       "dtype: int32"
      ]
     },
     "execution_count": 32,
     "metadata": {},
     "output_type": "execute_result"
    }
   ],
   "source": [
    "s3 = s1.append(s2, ignore_index=True) #indices nuevos\n",
    "s3 "
   ]
  },
  {
   "cell_type": "markdown",
   "id": "2c635956",
   "metadata": {},
   "source": [
    "El método pop devuelve y elimina de la serie original el valor del índice pasado"
   ]
  },
  {
   "cell_type": "code",
   "execution_count": 33,
   "id": "66cdd15a",
   "metadata": {},
   "outputs": [
    {
     "name": "stdout",
     "output_type": "stream",
     "text": [
      "3\n",
      "0    0\n",
      "1    1\n",
      "2    2\n",
      "4    4\n",
      "5    5\n",
      "6    6\n",
      "7    7\n",
      "8    8\n",
      "9    9\n",
      "dtype: int32\n"
     ]
    }
   ],
   "source": [
    "s4 = s1.pop(3)\n",
    "print(s4)\n",
    "print(s1)"
   ]
  },
  {
   "cell_type": "markdown",
   "id": "10a54fa7",
   "metadata": {},
   "source": [
    "---\n",
    "# Dataframes en Pandas\n",
    "\n",
    "## Creación de Dataframes\n",
    "\n",
    "A diferencia de `Series`, los `DataFrame` están diseñados para almacenar datos heterogéneos multivariables. Por ejemplo:"
   ]
  },
  {
   "cell_type": "code",
   "execution_count": 34,
   "id": "5a9d1f97",
   "metadata": {},
   "outputs": [
    {
     "data": {
      "text/html": [
       "<div>\n",
       "<style scoped>\n",
       "    .dataframe tbody tr th:only-of-type {\n",
       "        vertical-align: middle;\n",
       "    }\n",
       "\n",
       "    .dataframe tbody tr th {\n",
       "        vertical-align: top;\n",
       "    }\n",
       "\n",
       "    .dataframe thead th {\n",
       "        text-align: right;\n",
       "    }\n",
       "</style>\n",
       "<table border=\"1\" class=\"dataframe\">\n",
       "  <thead>\n",
       "    <tr style=\"text-align: right;\">\n",
       "      <th></th>\n",
       "      <th>state</th>\n",
       "      <th>year</th>\n",
       "      <th>pop</th>\n",
       "    </tr>\n",
       "  </thead>\n",
       "  <tbody>\n",
       "    <tr>\n",
       "      <th>0</th>\n",
       "      <td>Ohio</td>\n",
       "      <td>2000</td>\n",
       "      <td>1.5</td>\n",
       "    </tr>\n",
       "    <tr>\n",
       "      <th>1</th>\n",
       "      <td>Ohio</td>\n",
       "      <td>2001</td>\n",
       "      <td>1.7</td>\n",
       "    </tr>\n",
       "    <tr>\n",
       "      <th>2</th>\n",
       "      <td>Ohio</td>\n",
       "      <td>2002</td>\n",
       "      <td>3.6</td>\n",
       "    </tr>\n",
       "    <tr>\n",
       "      <th>3</th>\n",
       "      <td>Nevada</td>\n",
       "      <td>2001</td>\n",
       "      <td>2.4</td>\n",
       "    </tr>\n",
       "    <tr>\n",
       "      <th>4</th>\n",
       "      <td>Nevada</td>\n",
       "      <td>2002</td>\n",
       "      <td>2.9</td>\n",
       "    </tr>\n",
       "  </tbody>\n",
       "</table>\n",
       "</div>"
      ],
      "text/plain": [
       "    state  year  pop\n",
       "0    Ohio  2000  1.5\n",
       "1    Ohio  2001  1.7\n",
       "2    Ohio  2002  3.6\n",
       "3  Nevada  2001  2.4\n",
       "4  Nevada  2002  2.9"
      ]
     },
     "execution_count": 34,
     "metadata": {},
     "output_type": "execute_result"
    }
   ],
   "source": [
    "data = {'state': ['Ohio', 'Ohio', 'Ohio', 'Nevada', 'Nevada'],\n",
    "        'year': [2000, 2001, 2002, 2001, 2002],\n",
    "        'pop': [1.5, 1.7, 3.6, 2.4, 2.9]}\n",
    "df = pd.DataFrame(data)\n",
    "df"
   ]
  },
  {
   "cell_type": "code",
   "execution_count": 35,
   "id": "85954446",
   "metadata": {},
   "outputs": [
    {
     "data": {
      "text/plain": [
       "{'state': {0: 'Ohio', 1: 'Ohio', 2: 'Ohio', 3: 'Nevada', 4: 'Nevada'},\n",
       " 'year': {0: 2000, 1: 2001, 2: 2002, 3: 2001, 4: 2002},\n",
       " 'pop': {0: 1.5, 1: 1.7, 2: 3.6, 3: 2.4, 4: 2.9}}"
      ]
     },
     "execution_count": 35,
     "metadata": {},
     "output_type": "execute_result"
    }
   ],
   "source": [
    "df.to_dict()"
   ]
  },
  {
   "cell_type": "code",
   "execution_count": 36,
   "id": "f9394240",
   "metadata": {},
   "outputs": [
    {
     "data": {
      "text/html": [
       "<div>\n",
       "<style scoped>\n",
       "    .dataframe tbody tr th:only-of-type {\n",
       "        vertical-align: middle;\n",
       "    }\n",
       "\n",
       "    .dataframe tbody tr th {\n",
       "        vertical-align: top;\n",
       "    }\n",
       "\n",
       "    .dataframe thead th {\n",
       "        text-align: right;\n",
       "    }\n",
       "</style>\n",
       "<table border=\"1\" class=\"dataframe\">\n",
       "  <thead>\n",
       "    <tr style=\"text-align: right;\">\n",
       "      <th></th>\n",
       "      <th>state</th>\n",
       "      <th>year</th>\n",
       "      <th>pop</th>\n",
       "    </tr>\n",
       "  </thead>\n",
       "  <tbody>\n",
       "    <tr>\n",
       "      <th>100</th>\n",
       "      <td>Ohio</td>\n",
       "      <td>2000</td>\n",
       "      <td>1.5</td>\n",
       "    </tr>\n",
       "    <tr>\n",
       "      <th>101</th>\n",
       "      <td>Ohio</td>\n",
       "      <td>2001</td>\n",
       "      <td>1.7</td>\n",
       "    </tr>\n",
       "    <tr>\n",
       "      <th>102</th>\n",
       "      <td>Ohio</td>\n",
       "      <td>2002</td>\n",
       "      <td>3.6</td>\n",
       "    </tr>\n",
       "    <tr>\n",
       "      <th>103</th>\n",
       "      <td>Nevada</td>\n",
       "      <td>2001</td>\n",
       "      <td>2.4</td>\n",
       "    </tr>\n",
       "    <tr>\n",
       "      <th>104</th>\n",
       "      <td>Nevada</td>\n",
       "      <td>2002</td>\n",
       "      <td>2.9</td>\n",
       "    </tr>\n",
       "  </tbody>\n",
       "</table>\n",
       "</div>"
      ],
      "text/plain": [
       "      state  year  pop\n",
       "100    Ohio  2000  1.5\n",
       "101    Ohio  2001  1.7\n",
       "102    Ohio  2002  3.6\n",
       "103  Nevada  2001  2.4\n",
       "104  Nevada  2002  2.9"
      ]
     },
     "execution_count": 36,
     "metadata": {},
     "output_type": "execute_result"
    }
   ],
   "source": [
    "data = {'state': ['Ohio', 'Ohio', 'Ohio', 'Nevada', 'Nevada'],\n",
    "        'year': [2000, 2001, 2002, 2001, 2002],\n",
    "        'pop': [1.5, 1.7, 3.6, 2.4, 2.9]}\n",
    "df = pd.DataFrame(data, index = [\"100\", \"101\", \"102\", \"103\", \"104\"] )\n",
    "df"
   ]
  },
  {
   "cell_type": "code",
   "execution_count": 37,
   "id": "251f79cb",
   "metadata": {},
   "outputs": [
    {
     "data": {
      "text/plain": [
       "Index(['100', '101', '102', '103', '104'], dtype='object')"
      ]
     },
     "execution_count": 37,
     "metadata": {},
     "output_type": "execute_result"
    }
   ],
   "source": [
    "df.index"
   ]
  },
  {
   "cell_type": "code",
   "execution_count": 38,
   "id": "d539756b",
   "metadata": {},
   "outputs": [
    {
     "data": {
      "text/plain": [
       "Index(['state', 'year', 'pop'], dtype='object')"
      ]
     },
     "execution_count": 38,
     "metadata": {},
     "output_type": "execute_result"
    }
   ],
   "source": [
    "df.columns"
   ]
  },
  {
   "cell_type": "markdown",
   "id": "e383e189",
   "metadata": {},
   "source": [
    "#### Acceso a datos en Dataframes\n",
    "Se pueden extraer columnas de un `DataFrame` con la etiqueta de la columna (sólo si es un identificador Python válido)  usando notación tipo diccionario o como atributo del objeto. En ambos casos se obtiene un objeto tipo `Series`."
   ]
  },
  {
   "cell_type": "code",
   "execution_count": 39,
   "id": "f26ff59f",
   "metadata": {},
   "outputs": [
    {
     "data": {
      "text/plain": [
       "100      Ohio\n",
       "101      Ohio\n",
       "102      Ohio\n",
       "103    Nevada\n",
       "104    Nevada\n",
       "Name: state, dtype: object"
      ]
     },
     "execution_count": 39,
     "metadata": {},
     "output_type": "execute_result"
    }
   ],
   "source": [
    "df['state']  # dict type"
   ]
  },
  {
   "cell_type": "code",
   "execution_count": 41,
   "id": "06e4b374",
   "metadata": {},
   "outputs": [
    {
     "data": {
      "text/html": [
       "<div>\n",
       "<style scoped>\n",
       "    .dataframe tbody tr th:only-of-type {\n",
       "        vertical-align: middle;\n",
       "    }\n",
       "\n",
       "    .dataframe tbody tr th {\n",
       "        vertical-align: top;\n",
       "    }\n",
       "\n",
       "    .dataframe thead th {\n",
       "        text-align: right;\n",
       "    }\n",
       "</style>\n",
       "<table border=\"1\" class=\"dataframe\">\n",
       "  <thead>\n",
       "    <tr style=\"text-align: right;\">\n",
       "      <th></th>\n",
       "      <th>state</th>\n",
       "      <th>year</th>\n",
       "    </tr>\n",
       "  </thead>\n",
       "  <tbody>\n",
       "    <tr>\n",
       "      <th>100</th>\n",
       "      <td>Ohio</td>\n",
       "      <td>2000</td>\n",
       "    </tr>\n",
       "    <tr>\n",
       "      <th>101</th>\n",
       "      <td>Ohio</td>\n",
       "      <td>2001</td>\n",
       "    </tr>\n",
       "    <tr>\n",
       "      <th>102</th>\n",
       "      <td>Ohio</td>\n",
       "      <td>2002</td>\n",
       "    </tr>\n",
       "    <tr>\n",
       "      <th>103</th>\n",
       "      <td>Nevada</td>\n",
       "      <td>2001</td>\n",
       "    </tr>\n",
       "    <tr>\n",
       "      <th>104</th>\n",
       "      <td>Nevada</td>\n",
       "      <td>2002</td>\n",
       "    </tr>\n",
       "  </tbody>\n",
       "</table>\n",
       "</div>"
      ],
      "text/plain": [
       "      state  year\n",
       "100    Ohio  2000\n",
       "101    Ohio  2001\n",
       "102    Ohio  2002\n",
       "103  Nevada  2001\n",
       "104  Nevada  2002"
      ]
     },
     "execution_count": 41,
     "metadata": {},
     "output_type": "execute_result"
    }
   ],
   "source": [
    "df[[\"state\", \"year\"]] #Varias columnas"
   ]
  },
  {
   "cell_type": "code",
   "execution_count": 42,
   "id": "12ad9e18",
   "metadata": {},
   "outputs": [
    {
     "data": {
      "text/plain": [
       "2000"
      ]
     },
     "execution_count": 42,
     "metadata": {},
     "output_type": "execute_result"
    }
   ],
   "source": [
    "df.loc[\"100\", \"year\"] #Acceder a un atributo"
   ]
  },
  {
   "cell_type": "code",
   "execution_count": 43,
   "id": "95424b86",
   "metadata": {},
   "outputs": [
    {
     "data": {
      "text/plain": [
       "year    2002\n",
       "pop      3.6\n",
       "Name: 102, dtype: object"
      ]
     },
     "execution_count": 43,
     "metadata": {},
     "output_type": "execute_result"
    }
   ],
   "source": [
    "df.loc[\"102\", [\"year\", \"pop\"]]"
   ]
  },
  {
   "cell_type": "code",
   "execution_count": 44,
   "id": "1012cf65",
   "metadata": {},
   "outputs": [
    {
     "data": {
      "text/plain": [
       "state    Ohio\n",
       "year     2001\n",
       "pop       1.7\n",
       "Name: 101, dtype: object"
      ]
     },
     "execution_count": 44,
     "metadata": {},
     "output_type": "execute_result"
    }
   ],
   "source": [
    "df.iloc[1] #por indice"
   ]
  },
  {
   "cell_type": "markdown",
   "id": "7403a7ed",
   "metadata": {},
   "source": [
    "### Datos ausentes (missing values)\n",
    "\n",
    "La mayor parte de los datasets presentan registros con uno o varios campos cuya información está ausente (**missing values**), lo que puede generar problemas al intentar representar los datos, realizar ciertas operaciones o aplicarlo a un algoritmo. Es por eso que es necesario identificar y tratar esos valores ausentes. \n",
    "\n",
    "Las dos estrategias de tratamiento son el borrado o la asignación un valor determinado.\n",
    "\n",
    "`Pandas` toma a los valores `NaN` y `None` como valores ausentes."
   ]
  },
  {
   "cell_type": "code",
   "execution_count": 45,
   "id": "f1e1db78",
   "metadata": {},
   "outputs": [
    {
     "data": {
      "text/html": [
       "<div>\n",
       "<style scoped>\n",
       "    .dataframe tbody tr th:only-of-type {\n",
       "        vertical-align: middle;\n",
       "    }\n",
       "\n",
       "    .dataframe tbody tr th {\n",
       "        vertical-align: top;\n",
       "    }\n",
       "\n",
       "    .dataframe thead th {\n",
       "        text-align: right;\n",
       "    }\n",
       "</style>\n",
       "<table border=\"1\" class=\"dataframe\">\n",
       "  <thead>\n",
       "    <tr style=\"text-align: right;\">\n",
       "      <th></th>\n",
       "      <th>VarA</th>\n",
       "      <th>VarB</th>\n",
       "      <th>VarC</th>\n",
       "      <th>VarD</th>\n",
       "    </tr>\n",
       "  </thead>\n",
       "  <tbody>\n",
       "    <tr>\n",
       "      <th>Case1</th>\n",
       "      <td>aa</td>\n",
       "      <td>20.0</td>\n",
       "      <td>1234</td>\n",
       "      <td>1234.0</td>\n",
       "    </tr>\n",
       "    <tr>\n",
       "      <th>Case2</th>\n",
       "      <td>None</td>\n",
       "      <td>30.0</td>\n",
       "      <td>3456</td>\n",
       "      <td>888.0</td>\n",
       "    </tr>\n",
       "    <tr>\n",
       "      <th>Case3</th>\n",
       "      <td>cc</td>\n",
       "      <td>NaN</td>\n",
       "      <td>6789</td>\n",
       "      <td>NaN</td>\n",
       "    </tr>\n",
       "    <tr>\n",
       "      <th>Case4</th>\n",
       "      <td>None</td>\n",
       "      <td>NaN</td>\n",
       "      <td>765</td>\n",
       "      <td>NaN</td>\n",
       "    </tr>\n",
       "  </tbody>\n",
       "</table>\n",
       "</div>"
      ],
      "text/plain": [
       "       VarA  VarB  VarC    VarD\n",
       "Case1    aa  20.0  1234  1234.0\n",
       "Case2  None  30.0  3456   888.0\n",
       "Case3    cc   NaN  6789     NaN\n",
       "Case4  None   NaN   765     NaN"
      ]
     },
     "execution_count": 45,
     "metadata": {},
     "output_type": "execute_result"
    }
   ],
   "source": [
    "df = pd.DataFrame({'VarA': ['aa', None, 'cc',None],\n",
    "                  'VarB': [20, 30, None,None],\n",
    "                  'VarC': [1234, 3456, 6789,765],\n",
    "                  'VarD': [1234, 888, None,None]\n",
    "                 },\n",
    "                 index=['Case1', 'Case2', 'Case3', 'Case4'])\n",
    "df"
   ]
  },
  {
   "cell_type": "code",
   "execution_count": 46,
   "id": "9e9f287f",
   "metadata": {},
   "outputs": [
    {
     "data": {
      "text/html": [
       "<div>\n",
       "<style scoped>\n",
       "    .dataframe tbody tr th:only-of-type {\n",
       "        vertical-align: middle;\n",
       "    }\n",
       "\n",
       "    .dataframe tbody tr th {\n",
       "        vertical-align: top;\n",
       "    }\n",
       "\n",
       "    .dataframe thead th {\n",
       "        text-align: right;\n",
       "    }\n",
       "</style>\n",
       "<table border=\"1\" class=\"dataframe\">\n",
       "  <thead>\n",
       "    <tr style=\"text-align: right;\">\n",
       "      <th></th>\n",
       "      <th>VarA</th>\n",
       "      <th>VarB</th>\n",
       "      <th>VarC</th>\n",
       "      <th>VarD</th>\n",
       "    </tr>\n",
       "  </thead>\n",
       "  <tbody>\n",
       "    <tr>\n",
       "      <th>Case1</th>\n",
       "      <td>False</td>\n",
       "      <td>False</td>\n",
       "      <td>False</td>\n",
       "      <td>False</td>\n",
       "    </tr>\n",
       "    <tr>\n",
       "      <th>Case2</th>\n",
       "      <td>True</td>\n",
       "      <td>False</td>\n",
       "      <td>False</td>\n",
       "      <td>False</td>\n",
       "    </tr>\n",
       "    <tr>\n",
       "      <th>Case3</th>\n",
       "      <td>False</td>\n",
       "      <td>True</td>\n",
       "      <td>False</td>\n",
       "      <td>True</td>\n",
       "    </tr>\n",
       "    <tr>\n",
       "      <th>Case4</th>\n",
       "      <td>True</td>\n",
       "      <td>True</td>\n",
       "      <td>False</td>\n",
       "      <td>True</td>\n",
       "    </tr>\n",
       "  </tbody>\n",
       "</table>\n",
       "</div>"
      ],
      "text/plain": [
       "        VarA   VarB   VarC   VarD\n",
       "Case1  False  False  False  False\n",
       "Case2   True  False  False  False\n",
       "Case3  False   True  False   True\n",
       "Case4   True   True  False   True"
      ]
     },
     "execution_count": 46,
     "metadata": {},
     "output_type": "execute_result"
    }
   ],
   "source": [
    "df.isnull() #comprobar si tiene nan"
   ]
  },
  {
   "cell_type": "code",
   "execution_count": 47,
   "id": "2791b628",
   "metadata": {},
   "outputs": [
    {
     "data": {
      "text/plain": [
       "True"
      ]
     },
     "execution_count": 47,
     "metadata": {},
     "output_type": "execute_result"
    }
   ],
   "source": [
    "df.isnull().values.any() # Nos indica si algun valor del dataframe es nulo"
   ]
  },
  {
   "cell_type": "code",
   "execution_count": 48,
   "id": "a3247d04",
   "metadata": {},
   "outputs": [
    {
     "data": {
      "text/html": [
       "<div>\n",
       "<style scoped>\n",
       "    .dataframe tbody tr th:only-of-type {\n",
       "        vertical-align: middle;\n",
       "    }\n",
       "\n",
       "    .dataframe tbody tr th {\n",
       "        vertical-align: top;\n",
       "    }\n",
       "\n",
       "    .dataframe thead th {\n",
       "        text-align: right;\n",
       "    }\n",
       "</style>\n",
       "<table border=\"1\" class=\"dataframe\">\n",
       "  <thead>\n",
       "    <tr style=\"text-align: right;\">\n",
       "      <th></th>\n",
       "      <th>VarA</th>\n",
       "      <th>VarB</th>\n",
       "      <th>VarC</th>\n",
       "      <th>VarD</th>\n",
       "    </tr>\n",
       "  </thead>\n",
       "  <tbody>\n",
       "    <tr>\n",
       "      <th>Case1</th>\n",
       "      <td>aa</td>\n",
       "      <td>20.0</td>\n",
       "      <td>1234</td>\n",
       "      <td>1234.0</td>\n",
       "    </tr>\n",
       "  </tbody>\n",
       "</table>\n",
       "</div>"
      ],
      "text/plain": [
       "      VarA  VarB  VarC    VarD\n",
       "Case1   aa  20.0  1234  1234.0"
      ]
     },
     "execution_count": 48,
     "metadata": {},
     "output_type": "execute_result"
    }
   ],
   "source": [
    "df.dropna() # Quita valores nan"
   ]
  },
  {
   "cell_type": "code",
   "execution_count": 49,
   "id": "bc2fe2fc",
   "metadata": {},
   "outputs": [
    {
     "data": {
      "text/html": [
       "<div>\n",
       "<style scoped>\n",
       "    .dataframe tbody tr th:only-of-type {\n",
       "        vertical-align: middle;\n",
       "    }\n",
       "\n",
       "    .dataframe tbody tr th {\n",
       "        vertical-align: top;\n",
       "    }\n",
       "\n",
       "    .dataframe thead th {\n",
       "        text-align: right;\n",
       "    }\n",
       "</style>\n",
       "<table border=\"1\" class=\"dataframe\">\n",
       "  <thead>\n",
       "    <tr style=\"text-align: right;\">\n",
       "      <th></th>\n",
       "      <th>VarA</th>\n",
       "      <th>VarB</th>\n",
       "      <th>VarC</th>\n",
       "      <th>VarD</th>\n",
       "    </tr>\n",
       "  </thead>\n",
       "  <tbody>\n",
       "    <tr>\n",
       "      <th>Case1</th>\n",
       "      <td>aa</td>\n",
       "      <td>20.0</td>\n",
       "      <td>1234</td>\n",
       "      <td>1234.0</td>\n",
       "    </tr>\n",
       "    <tr>\n",
       "      <th>Case2</th>\n",
       "      <td>None</td>\n",
       "      <td>30.0</td>\n",
       "      <td>3456</td>\n",
       "      <td>888.0</td>\n",
       "    </tr>\n",
       "  </tbody>\n",
       "</table>\n",
       "</div>"
      ],
      "text/plain": [
       "       VarA  VarB  VarC    VarD\n",
       "Case1    aa  20.0  1234  1234.0\n",
       "Case2  None  30.0  3456   888.0"
      ]
     },
     "execution_count": 49,
     "metadata": {},
     "output_type": "execute_result"
    }
   ],
   "source": [
    "df.dropna(subset=['VarB']) # Indicamos columna"
   ]
  },
  {
   "cell_type": "code",
   "execution_count": 56,
   "id": "6e4f5bfe",
   "metadata": {},
   "outputs": [
    {
     "data": {
      "text/html": [
       "<div>\n",
       "<style scoped>\n",
       "    .dataframe tbody tr th:only-of-type {\n",
       "        vertical-align: middle;\n",
       "    }\n",
       "\n",
       "    .dataframe tbody tr th {\n",
       "        vertical-align: top;\n",
       "    }\n",
       "\n",
       "    .dataframe thead th {\n",
       "        text-align: right;\n",
       "    }\n",
       "</style>\n",
       "<table border=\"1\" class=\"dataframe\">\n",
       "  <thead>\n",
       "    <tr style=\"text-align: right;\">\n",
       "      <th></th>\n",
       "      <th>VarA</th>\n",
       "      <th>VarB</th>\n",
       "      <th>VarC</th>\n",
       "      <th>VarD</th>\n",
       "    </tr>\n",
       "  </thead>\n",
       "  <tbody>\n",
       "    <tr>\n",
       "      <th>Case1</th>\n",
       "      <td>aa</td>\n",
       "      <td>20.0</td>\n",
       "      <td>1234</td>\n",
       "      <td>1234.0</td>\n",
       "    </tr>\n",
       "    <tr>\n",
       "      <th>Case2</th>\n",
       "      <td>None</td>\n",
       "      <td>30.0</td>\n",
       "      <td>3456</td>\n",
       "      <td>888.0</td>\n",
       "    </tr>\n",
       "    <tr>\n",
       "      <th>Case3</th>\n",
       "      <td>cc</td>\n",
       "      <td>NaN</td>\n",
       "      <td>6789</td>\n",
       "      <td>NaN</td>\n",
       "    </tr>\n",
       "  </tbody>\n",
       "</table>\n",
       "</div>"
      ],
      "text/plain": [
       "       VarA  VarB  VarC    VarD\n",
       "Case1    aa  20.0  1234  1234.0\n",
       "Case2  None  30.0  3456   888.0\n",
       "Case3    cc   NaN  6789     NaN"
      ]
     },
     "execution_count": 56,
     "metadata": {},
     "output_type": "execute_result"
    }
   ],
   "source": [
    "df.dropna(thresh=2) #numero minimo de nans por registro"
   ]
  },
  {
   "cell_type": "code",
   "execution_count": 57,
   "id": "ec207043",
   "metadata": {},
   "outputs": [
    {
     "data": {
      "text/html": [
       "<div>\n",
       "<style scoped>\n",
       "    .dataframe tbody tr th:only-of-type {\n",
       "        vertical-align: middle;\n",
       "    }\n",
       "\n",
       "    .dataframe tbody tr th {\n",
       "        vertical-align: top;\n",
       "    }\n",
       "\n",
       "    .dataframe thead th {\n",
       "        text-align: right;\n",
       "    }\n",
       "</style>\n",
       "<table border=\"1\" class=\"dataframe\">\n",
       "  <thead>\n",
       "    <tr style=\"text-align: right;\">\n",
       "      <th></th>\n",
       "      <th>VarA</th>\n",
       "      <th>VarB</th>\n",
       "      <th>VarC</th>\n",
       "      <th>VarD</th>\n",
       "    </tr>\n",
       "  </thead>\n",
       "  <tbody>\n",
       "    <tr>\n",
       "      <th>Case1</th>\n",
       "      <td>aa</td>\n",
       "      <td>20.0</td>\n",
       "      <td>1234</td>\n",
       "      <td>1234.0</td>\n",
       "    </tr>\n",
       "    <tr>\n",
       "      <th>Case2</th>\n",
       "      <td>new</td>\n",
       "      <td>30.0</td>\n",
       "      <td>3456</td>\n",
       "      <td>888.0</td>\n",
       "    </tr>\n",
       "    <tr>\n",
       "      <th>Case3</th>\n",
       "      <td>cc</td>\n",
       "      <td>new</td>\n",
       "      <td>6789</td>\n",
       "      <td>new</td>\n",
       "    </tr>\n",
       "    <tr>\n",
       "      <th>Case4</th>\n",
       "      <td>new</td>\n",
       "      <td>new</td>\n",
       "      <td>765</td>\n",
       "      <td>new</td>\n",
       "    </tr>\n",
       "  </tbody>\n",
       "</table>\n",
       "</div>"
      ],
      "text/plain": [
       "      VarA  VarB  VarC    VarD\n",
       "Case1   aa  20.0  1234  1234.0\n",
       "Case2  new  30.0  3456   888.0\n",
       "Case3   cc   new  6789     new\n",
       "Case4  new   new   765     new"
      ]
     },
     "execution_count": 57,
     "metadata": {},
     "output_type": "execute_result"
    }
   ],
   "source": [
    "df.fillna('new') #llenamos con otra cosa"
   ]
  },
  {
   "cell_type": "markdown",
   "id": "9c061aa8",
   "metadata": {},
   "source": [
    "### Ejercicios\n",
    "Considere el siguiente diccionario `data` y lista de `index`"
   ]
  },
  {
   "cell_type": "code",
   "execution_count": 75,
   "id": "f1d77b28",
   "metadata": {},
   "outputs": [],
   "source": [
    "data = {'animal': ['cat', 'cat', 'snake', 'dog', 'dog', 'cat', 'snake', 'cat', 'dog', 'dog'],\n",
    "        'age': [2.5, 3, 0.5, np.nan, 5, 2, 4.5, np.nan, 7, 3],\n",
    "        'visits': [1, 3, 2, 3, 2, 3, 1, 1, 2, 1],\n",
    "        'priority': ['yes', 'yes', 'no', 'yes', 'no', 'no', 'no', 'yes', 'no', 'no']}\n",
    "\n",
    "labels = ['a', 'b', 'c', 'd', 'e', 'f', 'g', 'h', 'i', 'j']"
   ]
  },
  {
   "cell_type": "markdown",
   "id": "32454a47",
   "metadata": {},
   "source": [
    "\n",
    "- a. Crea un DataFrame a partir del diccionario y los índices.\n",
    "- b. Selecciona las columnas `animal`y `age`.\n",
    "- c. Indique cuantos tipos distintos de animales hay.\n",
    "- d. Indique cuantos animales hay de cada tipo.\n",
    "- e. Muestre un resumen estadístico de todas las variables."
   ]
  },
  {
   "cell_type": "code",
   "execution_count": 82,
   "id": "2da45f91",
   "metadata": {},
   "outputs": [
    {
     "data": {
      "text/html": [
       "<div>\n",
       "<style scoped>\n",
       "    .dataframe tbody tr th:only-of-type {\n",
       "        vertical-align: middle;\n",
       "    }\n",
       "\n",
       "    .dataframe tbody tr th {\n",
       "        vertical-align: top;\n",
       "    }\n",
       "\n",
       "    .dataframe thead th {\n",
       "        text-align: right;\n",
       "    }\n",
       "</style>\n",
       "<table border=\"1\" class=\"dataframe\">\n",
       "  <thead>\n",
       "    <tr style=\"text-align: right;\">\n",
       "      <th></th>\n",
       "      <th>age</th>\n",
       "      <th>visits</th>\n",
       "    </tr>\n",
       "  </thead>\n",
       "  <tbody>\n",
       "    <tr>\n",
       "      <th>count</th>\n",
       "      <td>8.000000</td>\n",
       "      <td>10.000000</td>\n",
       "    </tr>\n",
       "    <tr>\n",
       "      <th>mean</th>\n",
       "      <td>3.437500</td>\n",
       "      <td>1.900000</td>\n",
       "    </tr>\n",
       "    <tr>\n",
       "      <th>std</th>\n",
       "      <td>2.007797</td>\n",
       "      <td>0.875595</td>\n",
       "    </tr>\n",
       "    <tr>\n",
       "      <th>min</th>\n",
       "      <td>0.500000</td>\n",
       "      <td>1.000000</td>\n",
       "    </tr>\n",
       "    <tr>\n",
       "      <th>25%</th>\n",
       "      <td>2.375000</td>\n",
       "      <td>1.000000</td>\n",
       "    </tr>\n",
       "    <tr>\n",
       "      <th>50%</th>\n",
       "      <td>3.000000</td>\n",
       "      <td>2.000000</td>\n",
       "    </tr>\n",
       "    <tr>\n",
       "      <th>75%</th>\n",
       "      <td>4.625000</td>\n",
       "      <td>2.750000</td>\n",
       "    </tr>\n",
       "    <tr>\n",
       "      <th>max</th>\n",
       "      <td>7.000000</td>\n",
       "      <td>3.000000</td>\n",
       "    </tr>\n",
       "  </tbody>\n",
       "</table>\n",
       "</div>"
      ],
      "text/plain": [
       "            age     visits\n",
       "count  8.000000  10.000000\n",
       "mean   3.437500   1.900000\n",
       "std    2.007797   0.875595\n",
       "min    0.500000   1.000000\n",
       "25%    2.375000   1.000000\n",
       "50%    3.000000   2.000000\n",
       "75%    4.625000   2.750000\n",
       "max    7.000000   3.000000"
      ]
     },
     "execution_count": 82,
     "metadata": {},
     "output_type": "execute_result"
    }
   ],
   "source": [
    "df = pd.DataFrame(data, index = ['a', 'b', 'c', 'd', 'e', 'f', 'g', 'h', 'i', 'j'])\n",
    "df\n",
    "df.describe()"
   ]
  },
  {
   "cell_type": "code",
   "execution_count": 59,
   "id": "ff8630c4",
   "metadata": {},
   "outputs": [
    {
     "data": {
      "text/html": [
       "<div>\n",
       "<style scoped>\n",
       "    .dataframe tbody tr th:only-of-type {\n",
       "        vertical-align: middle;\n",
       "    }\n",
       "\n",
       "    .dataframe tbody tr th {\n",
       "        vertical-align: top;\n",
       "    }\n",
       "\n",
       "    .dataframe thead th {\n",
       "        text-align: right;\n",
       "    }\n",
       "</style>\n",
       "<table border=\"1\" class=\"dataframe\">\n",
       "  <thead>\n",
       "    <tr style=\"text-align: right;\">\n",
       "      <th></th>\n",
       "      <th>first_name</th>\n",
       "      <th>last_name</th>\n",
       "      <th>age</th>\n",
       "      <th>sex</th>\n",
       "      <th>preTestScore</th>\n",
       "      <th>postTestScore</th>\n",
       "    </tr>\n",
       "  </thead>\n",
       "  <tbody>\n",
       "    <tr>\n",
       "      <th>0</th>\n",
       "      <td>Jason</td>\n",
       "      <td>Miller</td>\n",
       "      <td>42</td>\n",
       "      <td>m</td>\n",
       "      <td>4.0</td>\n",
       "      <td>25.0</td>\n",
       "    </tr>\n",
       "    <tr>\n",
       "      <th>1</th>\n",
       "      <td>Mary</td>\n",
       "      <td>Smith</td>\n",
       "      <td>NaN</td>\n",
       "      <td>NaN</td>\n",
       "      <td>NaN</td>\n",
       "      <td>NaN</td>\n",
       "    </tr>\n",
       "    <tr>\n",
       "      <th>2</th>\n",
       "      <td>Tina</td>\n",
       "      <td>Ali</td>\n",
       "      <td>36</td>\n",
       "      <td>f</td>\n",
       "      <td>NaN</td>\n",
       "      <td>NaN</td>\n",
       "    </tr>\n",
       "    <tr>\n",
       "      <th>3</th>\n",
       "      <td>Jake</td>\n",
       "      <td>Milner</td>\n",
       "      <td>24</td>\n",
       "      <td>m</td>\n",
       "      <td>2.0</td>\n",
       "      <td>62.0</td>\n",
       "    </tr>\n",
       "    <tr>\n",
       "      <th>4</th>\n",
       "      <td>Amy</td>\n",
       "      <td>Cooze</td>\n",
       "      <td>73</td>\n",
       "      <td>f</td>\n",
       "      <td>3.0</td>\n",
       "      <td>70.0</td>\n",
       "    </tr>\n",
       "    <tr>\n",
       "      <th>5</th>\n",
       "      <td>Anne</td>\n",
       "      <td>Lynn</td>\n",
       "      <td>23</td>\n",
       "      <td>f</td>\n",
       "      <td>NaN</td>\n",
       "      <td>NaN</td>\n",
       "    </tr>\n",
       "  </tbody>\n",
       "</table>\n",
       "</div>"
      ],
      "text/plain": [
       "  first_name last_name  age  sex  preTestScore  postTestScore\n",
       "0      Jason    Miller   42    m           4.0           25.0\n",
       "1       Mary     Smith  NaN  NaN           NaN            NaN\n",
       "2       Tina       Ali   36    f           NaN            NaN\n",
       "3       Jake    Milner   24    m           2.0           62.0\n",
       "4        Amy     Cooze   73    f           3.0           70.0\n",
       "5       Anne      Lynn   23    f           NaN            NaN"
      ]
     },
     "execution_count": 59,
     "metadata": {},
     "output_type": "execute_result"
    }
   ],
   "source": [
    "raw_data = {'first_name': ['Jason', 'Mary', 'Tina', 'Jake', 'Amy','Anne'], \n",
    "        'last_name': ['Miller', 'Smith', 'Ali', 'Milner', 'Cooze','Lynn'], \n",
    "        'age': [42, np.nan, 36, 24, 73,'23'], \n",
    "        'sex': ['m', np.nan, 'f', 'm', 'f','f'], \n",
    "        'preTestScore': [4, np.nan, np.nan, 2, 3, np.nan],\n",
    "        'postTestScore': [25, np.nan, np.nan, 62, 70, np.nan]}\n",
    "df = pd.DataFrame(raw_data, columns = ['first_name', 'last_name', 'age', 'sex', 'preTestScore', 'postTestScore'])\n",
    "df"
   ]
  },
  {
   "cell_type": "markdown",
   "id": "b6e14fc9",
   "metadata": {},
   "source": [
    "- a. Determine que columna(s) tiene(n) el mayor número de NaNs.\n",
    "- b. Elimine los registros con mayor número de nulos\n",
    "- c. Complete la variable 'preTestScore' con el valor medio"
   ]
  },
  {
   "cell_type": "markdown",
   "id": "7db9529b",
   "metadata": {},
   "source": [
    "Escriba un programa Pandas para calcular el mínimo, el percentil 25, la mediana, el 75 y el máximo de una serie dada."
   ]
  },
  {
   "cell_type": "code",
   "execution_count": 60,
   "id": "f40e565a",
   "metadata": {},
   "outputs": [
    {
     "name": "stdout",
     "output_type": "stream",
     "text": [
      "Original:\n",
      "0      3.000938\n",
      "1     11.370722\n",
      "2     14.612143\n",
      "3      8.990256\n",
      "4     13.925283\n",
      "5     12.056875\n",
      "6     10.884719\n",
      "7      5.719827\n",
      "8      9.242017\n",
      "9     11.020006\n",
      "10     8.167892\n",
      "11    11.740654\n",
      "12     7.665620\n",
      "13    13.267388\n",
      "14    12.690883\n",
      "15     9.582355\n",
      "16     7.874878\n",
      "17    14.118931\n",
      "18     8.247458\n",
      "19     5.526727\n",
      "dtype: float64\n",
      "\n",
      "Minimo, 25th percentil, mediana, 75th, and maximo :\n",
      "[ 3.00093811  8.09463867 10.23353705 12.21537733 14.61214321]\n"
     ]
    }
   ],
   "source": [
    "num_state = np.random.RandomState(100) #Creamos \n",
    "num_series = pd.Series(num_state.normal(10, 4, 20)) # normal([loc, scale, size])\tDraw random samples from a normal (Gaussian) distribution.\n",
    "print(\"Original:\")\n",
    "print(num_series)\n",
    "result = np.percentile(num_series, q=[0, 25, 50, 75, 100]) #Sacamos percentil\n",
    "print(\"\\nMinimo, 25th percentil, mediana, 75th, and maximo :\")\n",
    "print(result)"
   ]
  },
  {
   "cell_type": "markdown",
   "id": "ef4bfb8e",
   "metadata": {},
   "source": [
    "Programa para mostrar el valor más frecuente en una serie dada y reemplazar todo lo demás como 'Otro' en la serie."
   ]
  },
  {
   "cell_type": "code",
   "execution_count": 61,
   "id": "b875731f",
   "metadata": {},
   "outputs": [
    {
     "name": "stdout",
     "output_type": "stream",
     "text": [
      "OriginaL:\n",
      "0     1\n",
      "1     2\n",
      "2     4\n",
      "3     1\n",
      "4     4\n",
      "5     3\n",
      "6     2\n",
      "7     4\n",
      "8     4\n",
      "9     1\n",
      "10    4\n",
      "11    2\n",
      "12    3\n",
      "13    4\n",
      "14    1\n",
      "dtype: int32\n",
      "Top 2 Freq: 4    6\n",
      "1    4\n",
      "2    3\n",
      "3    2\n",
      "dtype: int64\n",
      "0     Other\n",
      "1     Other\n",
      "2         4\n",
      "3     Other\n",
      "4         4\n",
      "5     Other\n",
      "6     Other\n",
      "7         4\n",
      "8         4\n",
      "9     Other\n",
      "10        4\n",
      "11    Other\n",
      "12    Other\n",
      "13        4\n",
      "14    Other\n",
      "dtype: object\n"
     ]
    }
   ],
   "source": [
    "np.random.RandomState(100)\n",
    "num_series = pd.Series(np.random.randint(1, 5, [15]))\n",
    "print(\"OriginaL:\")\n",
    "print(num_series)\n",
    "print(\"Top 2 Freq:\", num_series.value_counts())\n",
    "result = num_series[~num_series.isin(num_series.value_counts().index[:1])] = 'Other'\n",
    "print(num_series)"
   ]
  },
  {
   "cell_type": "markdown",
   "id": "7a524ddf",
   "metadata": {},
   "source": [
    "Filtrar palabras de una serie dada que contienen al menos dos vocales"
   ]
  },
  {
   "cell_type": "code",
   "execution_count": 73,
   "id": "30636625",
   "metadata": {},
   "outputs": [
    {
     "name": "stdout",
     "output_type": "stream",
     "text": [
      "Original:\n",
      "0       Red\n",
      "1     Green\n",
      "2    Orange\n",
      "3      Pink\n",
      "4    Yellow\n",
      "5     White\n",
      "dtype: object\n",
      "\n",
      "Filtrado:\n",
      "1     Green\n",
      "2    Orange\n",
      "4    Yellow\n",
      "5     White\n",
      "dtype: object\n"
     ]
    }
   ],
   "source": [
    "from collections import Counter\n",
    "color_series = pd.Series(['Red', 'Green', 'Orange', 'Pink', 'Yellow', 'White'])\n",
    "print(\"Original:\")\n",
    "print(color_series)\n",
    "print(\"\\nFiltrado:\")\n",
    "result = mask = color_series.map(lambda c: sum([Counter(c.lower()).get(i, 0) for i in list('aeiou')]) >= 2)\n",
    "print(color_series[result])"
   ]
  },
  {
   "cell_type": "markdown",
   "id": "ead933da",
   "metadata": {},
   "source": [
    "Mostrar un resumen de la información básica sobre un DataFrame específico y sus datos."
   ]
  },
  {
   "cell_type": "code",
   "execution_count": 63,
   "id": "e23b0d37",
   "metadata": {},
   "outputs": [
    {
     "name": "stdout",
     "output_type": "stream",
     "text": [
      "Summary of the basic information about this DataFrame and its data:\n",
      "<class 'pandas.core.frame.DataFrame'>\n",
      "Index: 10 entries, a to j\n",
      "Data columns (total 4 columns):\n",
      " #   Column    Non-Null Count  Dtype  \n",
      "---  ------    --------------  -----  \n",
      " 0   name      10 non-null     object \n",
      " 1   score     8 non-null      float64\n",
      " 2   attempts  10 non-null     int64  \n",
      " 3   qualify   10 non-null     object \n",
      "dtypes: float64(1), int64(1), object(2)\n",
      "memory usage: 400.0+ bytes\n",
      "None\n"
     ]
    }
   ],
   "source": [
    "exam_data  = {'name': ['Anastasia', 'Dima', 'Katherine', 'James', 'Emily', 'Michael', 'Matthew', 'Laura', 'Kevin', 'Jonas'],\n",
    "        'score': [12.5, 9, 16.5, np.nan, 9, 20, 14.5, np.nan, 8, 19],\n",
    "        'attempts': [1, 3, 2, 3, 2, 3, 1, 1, 2, 1],\n",
    "        'qualify': ['yes', 'no', 'yes', 'no', 'no', 'yes', 'yes', 'no', 'no', 'yes']}\n",
    "labels = ['a', 'b', 'c', 'd', 'e', 'f', 'g', 'h', 'i', 'j']\n",
    "\n",
    "df = pd.DataFrame(exam_data , index=labels)\n",
    "print(\"Resumen:\")\n",
    "print(df.info())"
   ]
  },
  {
   "cell_type": "markdown",
   "id": "b2981efb",
   "metadata": {},
   "source": [
    "Seleccione las filas donde el número de intentos en el examen es inferior a 2 y la puntuación es superior a 15."
   ]
  },
  {
   "cell_type": "code",
   "execution_count": 64,
   "id": "c971bbbb",
   "metadata": {},
   "outputs": [
    {
     "name": "stdout",
     "output_type": "stream",
     "text": [
      "número de intentos en el examen inferior a 2 y la puntuación es superior a 15 :\n",
      "    name  score  attempts qualify\n",
      "j  Jonas   19.0         1     yes\n"
     ]
    }
   ],
   "source": [
    "exam_data  = {'name': ['Anastasia', 'Dima', 'Katherine', 'James', 'Emily', 'Michael', 'Matthew', 'Laura', 'Kevin', 'Jonas'],\n",
    "        'score': [12.5, 9, 16.5, np.nan, 9, 20, 14.5, np.nan, 8, 19],\n",
    "        'attempts': [1, 3, 2, 3, 2, 3, 1, 1, 2, 1],\n",
    "        'qualify': ['yes', 'no', 'yes', 'no', 'no', 'yes', 'yes', 'no', 'no', 'yes']}\n",
    "labels = ['a', 'b', 'c', 'd', 'e', 'f', 'g', 'h', 'i', 'j']\n",
    "df = pd.DataFrame(exam_data , index=labels)\n",
    "print(\"número de intentos en el examen inferior a 2 y la puntuación es superior a 15 :\")\n",
    "print(df[(df['attempts'] < 2) & (df['score'] > 15)]) "
   ]
  },
  {
   "cell_type": "markdown",
   "id": "87339a57",
   "metadata": {},
   "source": [
    "Reemplace todos los valores de NaN con cero en una columna de un marco de datos"
   ]
  },
  {
   "cell_type": "code",
   "execution_count": 65,
   "id": "a7a187f9",
   "metadata": {},
   "outputs": [
    {
     "name": "stdout",
     "output_type": "stream",
     "text": [
      "Original DataFrame\n",
      "        name  score  attempts qualify\n",
      "0  Anastasia   12.5         1     yes\n",
      "1       Dima    9.0         3      no\n",
      "2  Katherine   16.5         2     yes\n",
      "3      James    NaN         3      no\n",
      "4      Emily    9.0         2      no\n",
      "5    Michael   20.0         3     yes\n",
      "6    Matthew   14.5         1     yes\n",
      "7      Laura    NaN         1      no\n",
      "8      Kevin    8.0         2      no\n",
      "9      Jonas   19.0         1     yes\n",
      "\n",
      "New DataFrame replacing all NaN with 0:\n",
      "        name  score  attempts qualify\n",
      "0  Anastasia   12.5         1     yes\n",
      "1       Dima    9.0         3      no\n",
      "2  Katherine   16.5         2     yes\n",
      "3      James    0.0         3      no\n",
      "4      Emily    9.0         2      no\n",
      "5    Michael   20.0         3     yes\n",
      "6    Matthew   14.5         1     yes\n",
      "7      Laura    0.0         1      no\n",
      "8      Kevin    8.0         2      no\n",
      "9      Jonas   19.0         1     yes\n"
     ]
    }
   ],
   "source": [
    "exam_data = {'name': ['Anastasia', 'Dima', 'Katherine', 'James', 'Emily', 'Michael', 'Matthew', 'Laura', 'Kevin', 'Jonas'],\n",
    "        'score': [12.5, 9, 16.5, np.nan, 9, 20, 14.5, np.nan, 8, 19],\n",
    "        'attempts': [1, 3, 2, 3, 2, 3, 1, 1, 2, 1],\n",
    "        'qualify': ['yes', 'no', 'yes', 'no', 'no', 'yes', 'yes', 'no', 'no', 'yes']}\n",
    "df = pd.DataFrame(exam_data)\n",
    "print(\"Original DataFrame\")\n",
    "print(df)\n",
    "df =  df.fillna(0)\n",
    "print(\"\\nNew DataFrame replacing all NaN with 0:\")\n",
    "print(df)"
   ]
  },
  {
   "cell_type": "code",
   "execution_count": null,
   "id": "375d8800",
   "metadata": {},
   "outputs": [],
   "source": []
  }
 ],
 "metadata": {
  "kernelspec": {
   "display_name": "Python 3 (ipykernel)",
   "language": "python",
   "name": "python3"
  },
  "language_info": {
   "codemirror_mode": {
    "name": "ipython",
    "version": 3
   },
   "file_extension": ".py",
   "mimetype": "text/x-python",
   "name": "python",
   "nbconvert_exporter": "python",
   "pygments_lexer": "ipython3",
   "version": "3.9.7"
  }
 },
 "nbformat": 4,
 "nbformat_minor": 5
}
