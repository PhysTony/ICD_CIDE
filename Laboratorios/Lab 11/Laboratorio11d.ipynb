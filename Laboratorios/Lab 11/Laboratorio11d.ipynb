{
  "cells": [
    {
      "cell_type": "code",
      "execution_count": null,
      "metadata": {
        "id": "VBVnIb5UIRut"
      },
      "outputs": [],
      "source": [
        ""
      ]
    },
    {
      "cell_type": "markdown",
      "metadata": {
        "id": "SI1gsorAItfH"
      },
      "source": [
        "# Model Comparison\n",
        "\n",
        "La base de datos MNIST de dígitos escritos a mano, disponible en esta página, tiene un conjunto de entrenamiento de 60 000 ejemplos y un conjunto de prueba de 10 000 ejemplos. Es un subconjunto de un conjunto más grande disponible en NIST. Los dígitos se normalizaron en tamaño y se centraron en una imagen de tamaño fijo. Es una buena base de datos para las personas que desean probar técnicas de aprendizaje y métodos de reconocimiento de patrones en datos del mundo real mientras dedican un esfuerzo mínimo al preprocesamiento y formateo.\n",
        "\n",
        "La base de datos MNIST de dígitos escritos a mano está disponible en el siguiente sitio web: MNIST Dataset\n",
        "\n",
        "Hay cuatro archivos disponibles en este sitio:\n",
        "\n",
        "train-images-idx3-ubyte.gz: training set images (9912422 bytes)\n",
        "train-labels-idx1-ubyte.gz: training set labels (28881 bytes)\n",
        "t10k-images-idx3-ubyte.gz: test set images (1648877 bytes)\n",
        "t10k-labels-idx1-ubyte.gz: test set labels (4542 bytes)"
      ]
    },
    {
      "cell_type": "code",
      "execution_count": null,
      "metadata": {
        "colab": {
          "base_uri": "https://localhost:8080/"
        },
        "id": "gWAP6oUFIIJQ",
        "outputId": "30053aea-894d-4284-e4f5-7b21051b047f"
      },
      "outputs": [
        {
          "output_type": "stream",
          "name": "stdout",
          "text": [
            "Requirement already satisfied: catboost in /usr/local/lib/python3.7/dist-packages (1.0.4)\n",
            "Requirement already satisfied: numpy>=1.16.0 in /usr/local/lib/python3.7/dist-packages (from catboost) (1.21.5)\n",
            "Requirement already satisfied: scipy in /usr/local/lib/python3.7/dist-packages (from catboost) (1.4.1)\n",
            "Requirement already satisfied: pandas>=0.24.0 in /usr/local/lib/python3.7/dist-packages (from catboost) (1.3.5)\n",
            "Requirement already satisfied: plotly in /usr/local/lib/python3.7/dist-packages (from catboost) (5.5.0)\n",
            "Requirement already satisfied: matplotlib in /usr/local/lib/python3.7/dist-packages (from catboost) (3.2.2)\n",
            "Requirement already satisfied: six in /usr/local/lib/python3.7/dist-packages (from catboost) (1.15.0)\n",
            "Requirement already satisfied: graphviz in /usr/local/lib/python3.7/dist-packages (from catboost) (0.10.1)\n",
            "Requirement already satisfied: pytz>=2017.3 in /usr/local/lib/python3.7/dist-packages (from pandas>=0.24.0->catboost) (2018.9)\n",
            "Requirement already satisfied: python-dateutil>=2.7.3 in /usr/local/lib/python3.7/dist-packages (from pandas>=0.24.0->catboost) (2.8.2)\n",
            "Requirement already satisfied: kiwisolver>=1.0.1 in /usr/local/lib/python3.7/dist-packages (from matplotlib->catboost) (1.4.0)\n",
            "Requirement already satisfied: cycler>=0.10 in /usr/local/lib/python3.7/dist-packages (from matplotlib->catboost) (0.11.0)\n",
            "Requirement already satisfied: pyparsing!=2.0.4,!=2.1.2,!=2.1.6,>=2.0.1 in /usr/local/lib/python3.7/dist-packages (from matplotlib->catboost) (3.0.7)\n",
            "Requirement already satisfied: typing-extensions in /usr/local/lib/python3.7/dist-packages (from kiwisolver>=1.0.1->matplotlib->catboost) (3.10.0.2)\n",
            "Requirement already satisfied: tenacity>=6.2.0 in /usr/local/lib/python3.7/dist-packages (from plotly->catboost) (8.0.1)\n"
          ]
        }
      ],
      "source": [
        "! pip install catboost"
      ]
    },
    {
      "cell_type": "code",
      "execution_count": null,
      "metadata": {
        "id": "RKeTUYwGG6qT"
      },
      "outputs": [],
      "source": [
        "# Importing packages and data\n",
        "from time import time\n",
        "import numpy as np\n",
        "import pandas as pd\n",
        "from sklearn.model_selection import train_test_split\n",
        "from sklearn.feature_extraction.text import TfidfVectorizer\n",
        "from sklearn.svm import LinearSVC\n",
        "from sklearn.tree import DecisionTreeClassifier\n",
        "from sklearn.experimental import enable_hist_gradient_boosting\n",
        "from sklearn.ensemble import (RandomForestClassifier,\n",
        "                              AdaBoostClassifier,\n",
        "                              GradientBoostingClassifier,\n",
        "                              HistGradientBoostingClassifier)\n",
        "from xgboost import XGBClassifier\n",
        "from lightgbm import LGBMClassifier\n",
        "from catboost import CatBoostClassifier\n",
        "import matplotlib.pyplot as plt\n",
        "\n",
        "\n",
        "## To read data\n",
        "import numpy as np \n",
        "import matplotlib.pyplot as plt\n",
        "\n",
        "# Used for Confusion Matrix\n",
        "from sklearn import metrics\n",
        "import seaborn as sns\n",
        "\n",
        "# Used for Loading MNIST\n",
        "from struct import unpack\n"
      ]
    },
    {
      "cell_type": "markdown",
      "metadata": {
        "id": "hElhV4HPMVdf"
      },
      "source": [
        "## Importar datos de MNIST"
      ]
    },
    {
      "cell_type": "code",
      "execution_count": null,
      "metadata": {
        "id": "v4zLDhc-JbBf"
      },
      "outputs": [],
      "source": [
        "def loadmnist(imagefile, labelfile):\n",
        "\n",
        "    # Open the images with gzip in read binary mode\n",
        "    images = open(imagefile, 'rb')\n",
        "    labels = open(labelfile, 'rb')\n",
        "\n",
        "    # Get metadata for images\n",
        "    images.read(4)  # skip the magic_number\n",
        "    number_of_images = images.read(4)\n",
        "    number_of_images = unpack('>I', number_of_images)[0]\n",
        "    rows = images.read(4)\n",
        "    rows = unpack('>I', rows)[0]\n",
        "    cols = images.read(4)\n",
        "    cols = unpack('>I', cols)[0]\n",
        "\n",
        "    # Get metadata for labels\n",
        "    labels.read(4)\n",
        "    N = labels.read(4)\n",
        "    N = unpack('>I', N)[0]\n",
        "\n",
        "    # Get data\n",
        "    x = np.zeros((N, rows*cols), dtype=np.uint8)  # Initialize numpy array\n",
        "    y = np.zeros(N, dtype=np.uint8)  # Initialize numpy array\n",
        "    for i in range(N):\n",
        "        for j in range(rows*cols):\n",
        "            tmp_pixel = images.read(1)  # Just a single byte\n",
        "            tmp_pixel = unpack('>B', tmp_pixel)[0]\n",
        "            x[i][j] = tmp_pixel\n",
        "        tmp_label = labels.read(1)\n",
        "        y[i] = unpack('>B', tmp_label)[0]\n",
        "\n",
        "    images.close()\n",
        "    labels.close()\n",
        "    return (x, y)"
      ]
    },
    {
      "cell_type": "code",
      "execution_count": null,
      "metadata": {
        "id": "KfRKitb5Jb5O"
      },
      "outputs": [],
      "source": [
        "\n",
        "test_img, test_lbl = loadmnist('t10k-images-idx3-ubyte'\n",
        "                               , 't10k-labels-idx1-ubyte')"
      ]
    },
    {
      "cell_type": "code",
      "execution_count": null,
      "metadata": {
        "id": "SuftUM_GKJT0"
      },
      "outputs": [],
      "source": [
        "train_img, train_lbl = loadmnist('train-images-idx3-ubyte'\n",
        "                                 , 'train-labels-idx1-ubyte')"
      ]
    },
    {
      "cell_type": "code",
      "execution_count": null,
      "metadata": {
        "colab": {
          "base_uri": "https://localhost:8080/",
          "height": 283
        },
        "id": "bS7JFjWVI1OZ",
        "outputId": "1cda8962-1542-4858-f291-fed280bd88ee"
      },
      "outputs": [
        {
          "output_type": "display_data",
          "data": {
            "text/plain": [
              "<Figure size 1440x288 with 5 Axes>"
            ],
            "image/png": "[encoded data removed]"
          },
          "metadata": {
            "needs_background": "light"
          }
        }
      ],
      "source": [
        "plt.figure(figsize=(20,4))\n",
        "for index, (image, label) in enumerate(zip(train_img[0:5], train_lbl[0:5])):\n",
        "    plt.subplot(1, 5, index + 1)\n",
        "    plt.imshow(np.reshape(image, (28,28)), cmap=plt.cm.gray)\n",
        "    plt.title('Training: %i\\n' % label, fontsize = 20)\n",
        "\n"
      ]
    },
    {
      "cell_type": "code",
      "execution_count": null,
      "metadata": {
        "colab": {
          "base_uri": "https://localhost:8080/"
        },
        "id": "SFrSml42MIn7",
        "outputId": "9f70249e-d4fa-42c1-edc6-25cc305eae8a"
      },
      "outputs": [
        {
          "output_type": "stream",
          "name": "stderr",
          "text": [
            "/usr/local/lib/python3.7/dist-packages/sklearn/linear_model/_logistic.py:818: ConvergenceWarning: lbfgs failed to converge (status=1):\n",
            "STOP: TOTAL NO. of ITERATIONS REACHED LIMIT.\n",
            "\n",
            "Increase the number of iterations (max_iter) or scale the data as shown in:\n",
            "    https://scikit-learn.org/stable/modules/preprocessing.html\n",
            "Please also refer to the documentation for alternative solver options:\n",
            "    https://scikit-learn.org/stable/modules/linear_model.html#logistic-regression\n",
            "  extra_warning_msg=_LOGISTIC_SOLVER_CONVERGENCE_MSG,\n"
          ]
        },
        {
          "output_type": "execute_result",
          "data": {
            "text/plain": [
              "array([7, 2, 1, 0, 4, 1, 4, 9, 6, 9], dtype=uint8)"
            ]
          },
          "metadata": {},
          "execution_count": 41
        }
      ],
      "source": [
        "from sklearn.linear_model import LogisticRegression \n",
        "\n",
        "# all parameters not specified are set to their defaults\n",
        "# default solver is incredibly slow thats why we change it\n",
        "logisticRegr = LogisticRegression(solver = 'lbfgs')\n",
        "\n",
        "logisticRegr.fit(train_img, train_lbl)\n",
        "\n",
        "\n",
        "# Returns a NumPy Array\n",
        "# Predict for One Observation (image)\n",
        "logisticRegr.predict(test_img[0].reshape(1,-1))\n",
        "\n",
        "\n",
        "# Predict for Multiple Observations (images) at Once\n",
        "logisticRegr.predict(test_img[0:10])"
      ]
    },
    {
      "cell_type": "code",
      "execution_count": null,
      "metadata": {
        "colab": {
          "base_uri": "https://localhost:8080/"
        },
        "id": "U9D9e8j7MLXM",
        "outputId": "e1e7273f-3fba-4eb8-8bbb-458779abfe43"
      },
      "outputs": [
        {
          "output_type": "stream",
          "name": "stdout",
          "text": [
            "0.9255\n"
          ]
        }
      ],
      "source": [
        "score = logisticRegr.score(test_img, test_lbl)\n",
        "print(score)"
      ]
    },
    {
      "cell_type": "code",
      "execution_count": null,
      "metadata": {
        "id": "lB284xs9MNlV"
      },
      "outputs": [],
      "source": [
        "# Make predictions on test data\n",
        "predictions = logisticRegr.predict(test_img)"
      ]
    },
    {
      "cell_type": "code",
      "execution_count": null,
      "metadata": {
        "id": "-pFyHAGpMPCT"
      },
      "outputs": [],
      "source": [
        "cm = metrics.confusion_matrix(test_lbl, predictions)\n",
        "cm_normalized = cm.astype('float') / cm.sum(axis=1)[:, np.newaxis]"
      ]
    },
    {
      "cell_type": "code",
      "execution_count": null,
      "metadata": {
        "id": "RFTBGH2-MQaT"
      },
      "outputs": [],
      "source": [
        "plt.figure(figsize=(9,9))\n",
        "sns.heatmap(cm_normalized, annot=True, fmt=\".3f\", linewidths=.5, square = True, cmap = 'Blues_r');\n",
        "plt.ylabel('Actual label');\n",
        "plt.xlabel('Predicted label');\n",
        "all_sample_title = 'Accuracy Score: {:.3f}'.format(score) \n",
        "plt.title(all_sample_title, size = 15);"
      ]
    },
    {
      "cell_type": "markdown",
      "source": [
        "## Ahora hagamos modelos más complejos\n",
        "\n",
        "### Divisiones\n",
        "Antes de aprender, todos los algoritmos crean pares de división de funciones para todas las funciones. Ejemplos de estos pares son: (edad, <5), (edad, >10), (cantidad, >500). Estos pares de división de características se construyen en base a histogramas y se utilizan durante el aprendizaje como posibles divisiones de nodos. Este método de preprocesamiento es más rápido que el algoritmo voraz exacto, que enumera linealmente todas las divisiones posibles para las características continuas.\n",
        "\n",
        "- lightGBM ofrece muestreo unilateral basado en gradientes (GOSS) que selecciona la división utilizando todas las instancias con gradientes grandes (es decir, error grande) y una muestra aleatoria de instancias con gradientes pequeños. Para mantener la misma distribución de datos al calcular la ganancia de información, GOSS introduce un multiplicador constante para las instancias de datos con gradientes pequeños. Por lo tanto, GOSS logra un buen equilibrio entre aumentar la velocidad al reducir la cantidad de instancias de datos y mantener la precisión de los árboles de decisión aprendidos. Este método no es el método predeterminado para LightGBM, por lo que debe seleccionarse explícitamente.\n",
        "- Catboost ofrece una nueva técnica llamada Minimal Variance Sampling (MVS), que es una versión de muestreo ponderado de Stochastic Gradient Boosting. En esta técnica, el muestreo ponderado ocurre en el nivel de árbol y no en el nivel dividido. Las observaciones de cada árbol de refuerzo se muestrean de una manera que maximiza la precisión de la puntuación dividida.\n",
        "- XGboost no utiliza ninguna técnica de muestreo ponderado, lo que hace que su proceso de división sea más lento en comparación con GOSS y MVS.\n",
        "\n",
        "![fig](https://miro.medium.com/max/1400/1*E006sjlIjabDJ3jNixRSnA.png)\n",
        "\n",
        "### Crecimiento de la hoja\n",
        "- Catboost crece un árbol equilibrado. En cada nivel de dicho árbol, se selecciona el par característica-división que genera la pérdida más baja (según una función de penalización) y se utiliza para todos los nodos del nivel. Es posible cambiar su política utilizando el parámetro de política de crecimiento .\n",
        "- LightGBM utiliza el crecimiento de árboles por hojas (lo mejor primero). Elige hacer crecer la hoja que minimice la pérdida, permitiendo un crecimiento de un árbol desequilibrado. Debido a que no crece por niveles, sino por hojas, el sobreajuste puede ocurrir cuando los datos son pequeños. En estos casos, es importante controlar la profundidad del árbol.\n",
        "- XGboost se divide hasta el hiperparámetro max_ depth especificado y luego comienza a podar el árbol hacia atrás y elimina las divisiones más allá de las cuales no hay ganancia positiva. Utiliza este enfoque ya que a veces una división sin reducción de pérdidas puede ser seguida por una división con reducción de pérdidas. XGBoost también puede realizar el crecimiento de árboles por hojas (como LightGBM).\n",
        "\n",
        "\n",
        "\n",
        "\n",
        "![fig](https://miro.medium.com/max/1400/1*A0b_ahXOrrijazzJengwYw.png)\n"
      ],
      "metadata": {
        "id": "pVJEAY8sYWei"
      }
    },
    {
      "cell_type": "code",
      "source": [
        "train_img.shape, train_lbl.shape"
      ],
      "metadata": {
        "colab": {
          "base_uri": "https://localhost:8080/"
        },
        "id": "mpL69FH0Yb9G",
        "outputId": "aeaa24f5-ccae-4c68-f6d4-6800d67325f1"
      },
      "execution_count": null,
      "outputs": [
        {
          "output_type": "execute_result",
          "data": {
            "text/plain": [
              "((60000, 784), (60000,))"
            ]
          },
          "metadata": {},
          "execution_count": 45
        }
      ]
    },
    {
      "cell_type": "markdown",
      "source": [
        "Uso PCA para reducir la dimensionalidad"
      ],
      "metadata": {
        "id": "F0Ow4yBnYrBh"
      }
    },
    {
      "cell_type": "code",
      "source": [
        "from sklearn.decomposition import PCA\n",
        "pca = PCA(n_components=80)\n",
        "pca.fit(train_img)\n",
        "\n",
        "print(pca.explained_variance_ratio_)\n",
        "print(pca.singular_values_)\n"
      ],
      "metadata": {
        "colab": {
          "base_uri": "https://localhost:8080/"
        },
        "id": "a8kG7mvGYnpK",
        "outputId": "05a48da0-94ab-41d8-8250-f1dbbc4b2f64"
      },
      "execution_count": null,
      "outputs": [
        {
          "output_type": "stream",
          "name": "stdout",
          "text": [
            "[0.09704664 0.07095924 0.06169089 0.05389419 0.04868797 0.04312231\n",
            " 0.0327193  0.02883895 0.02762029 0.02357001 0.0210919  0.02022991\n",
            " 0.01715818 0.01692111 0.01578641 0.01482953 0.01324561 0.01276897\n",
            " 0.01187263 0.01152684 0.01066166 0.01006713 0.00953573 0.00912544\n",
            " 0.00883405 0.00839319 0.00812579 0.00786366 0.00744733 0.00690859\n",
            " 0.00658094 0.00648148 0.00602615 0.00586582 0.00570021 0.00543627\n",
            " 0.00505786 0.00487858 0.00481429 0.00472264 0.00456746 0.00444833\n",
            " 0.00418499 0.00398214 0.00384966 0.00375095 0.00361986 0.00351563\n",
            " 0.00340025 0.00321857 0.00319    0.00312741 0.00295937 0.00288887\n",
            " 0.00284101 0.00271247 0.00269453 0.00258218 0.00253691 0.00244543\n",
            " 0.00239686 0.00239194 0.00230056 0.00221305 0.00213294 0.00206546\n",
            " 0.00202467 0.00196042 0.00191734 0.00187793 0.00186053 0.001794\n",
            " 0.0017591  0.0017125  0.0016191  0.00160046 0.00159001 0.00151299\n",
            " 0.00144885 0.0014106 ]\n",
            "[141291.00226882 120817.18859621 112650.9232813  105291.96728785\n",
            " 100077.18497144  94183.59653123  82040.1120459   77021.8599048\n",
            "  75376.92118235  69631.23338041  65869.14984985  64509.13672616\n",
            "  59410.04495753  58998.19511452  56985.71130382  55231.63286065\n",
            "  52198.76401685  51250.9879764   49419.42655095  48694.43397201\n",
            "  46831.35263481  45506.89080652  44289.55249141  43326.24903607\n",
            "  42628.8969851   41551.60509872  40884.33966647  40219.4965054\n",
            "  39140.33742815  37698.05518967  36793.24440911  36514.15611663\n",
            "  35208.22907661  34736.70528469  34242.83613186  33440.66703931\n",
            "  32255.79346147  31678.96180425  31469.52364289  31168.55716438\n",
            "  30652.20339938  30249.80996388  29340.7707795   28620.84072668\n",
            "  28140.72892966  27777.61996883  27287.90023604  26892.1738646\n",
            "  26447.18948856  25730.9291055   25616.49933817  25363.94893867\n",
            "  24673.09848595  24377.45345032  24174.66701189  23621.46195481\n",
            "  23543.22059733  23047.18558391  22844.26036774  22428.58278881\n",
            "  22204.75156719  22181.92775972  21754.10176672  21336.35468378\n",
            "  20946.61587554  20612.59221377  20408.05316405  20081.59764126\n",
            "  19859.7586623   19654.59830643  19563.31409149  19210.36194085\n",
            "  19022.5994785   18768.93481437  18249.9273982   18144.55712047\n",
            "  18085.21522436  17641.74761394  17263.78150287  17034.38320153]\n"
          ]
        }
      ]
    },
    {
      "cell_type": "code",
      "source": [
        "train_img_pca = pca.transform(train_img)"
      ],
      "metadata": {
        "id": "C51WbTbWY17K"
      },
      "execution_count": null,
      "outputs": []
    },
    {
      "cell_type": "code",
      "source": [
        "sum(pca.explained_variance_ratio_)"
      ],
      "metadata": {
        "colab": {
          "base_uri": "https://localhost:8080/"
        },
        "id": "5xg4o2fGY6we",
        "outputId": "8f006871-30fc-4dc2-d9b1-dad80d0550c1"
      },
      "execution_count": null,
      "outputs": [
        {
          "output_type": "execute_result",
          "data": {
            "text/plain": [
              "0.8902130484772627"
            ]
          },
          "metadata": {},
          "execution_count": 48
        }
      ]
    },
    {
      "cell_type": "code",
      "source": [
        "from sklearn.model_selection import train_test_split\n",
        "X_train, X_test, y_train, y_test = train_test_split(train_img_pca, train_lbl, test_size=0.33, random_state=42)"
      ],
      "metadata": {
        "id": "WhoH5UyNY9ni"
      },
      "execution_count": null,
      "outputs": []
    },
    {
      "cell_type": "code",
      "source": [
        "X_train.shape, X_test.shape"
      ],
      "metadata": {
        "colab": {
          "base_uri": "https://localhost:8080/"
        },
        "id": "1kEpjey9ZRWg",
        "outputId": "8faaf19a-9481-4218-c264-c7539e10d2f3"
      },
      "execution_count": null,
      "outputs": [
        {
          "output_type": "execute_result",
          "data": {
            "text/plain": [
              "((40200, 80), (19800, 80))"
            ]
          },
          "metadata": {},
          "execution_count": 50
        }
      ]
    },
    {
      "cell_type": "code",
      "source": [
        "lr = LogisticRegression(solver = 'lbfgs')\n",
        "\n",
        "dt = DecisionTreeClassifier(max_depth=12, random_state=1234)\n",
        "\n",
        "rf = RandomForestClassifier(n_estimators=500,\n",
        "                            max_features=0.06,\n",
        "                            n_jobs=6,\n",
        "                            random_state=1234)\n",
        "\n",
        "base_estim = DecisionTreeClassifier(max_depth=1, max_features=0.06)                            \n",
        "ab = AdaBoostClassifier(base_estimator=base_estim,\n",
        "                        n_estimators=500,\n",
        "                        learning_rate=0.5,\n",
        "                        random_state=1234)\n",
        "\n",
        "\n",
        "gbm = GradientBoostingClassifier(n_estimators=2000,\n",
        "                                 learning_rate=0.5,\n",
        "                                 subsample=0.67,\n",
        "                                 max_features=0.06,\n",
        "                                 validation_fraction=0.1,\n",
        "                                 n_iter_no_change=15,\n",
        "                                 verbose=0,\n",
        "                                 random_state=1234)\n",
        "\n",
        "xgb = XGBClassifier(n_estimators=2000,\n",
        "                    tree_method='hist',\n",
        "                    subsample=0.67,\n",
        "                    colsample_level=0.06,\n",
        "                    verbose=0,\n",
        "                    n_jobs=6,\n",
        "                    random_state=1234)\n",
        "\n",
        "lgbm = LGBMClassifier(n_estimators=2000,\n",
        "                      feature_fraction=0.06,\n",
        "                      bagging_fraction=0.67,\n",
        "                      bagging_freq=1,\n",
        "                      verbose=0,\n",
        "                      n_jobs=6,\n",
        "                      random_state=1234)\n",
        "\n",
        "cb = CatBoostClassifier(n_estimators=2000,\n",
        "                        colsample_bylevel=0.06,\n",
        "                        max_leaves=31,\n",
        "                        subsample=0.67,\n",
        "                        verbose=0,\n",
        "                        thread_count=6,\n",
        "                        random_state=1234)\n",
        "\n"
      ],
      "metadata": {
        "id": "6MRR-RFyYcCy"
      },
      "execution_count": null,
      "outputs": []
    },
    {
      "cell_type": "code",
      "source": [
        "models = [lr, dt, rf, ab, gbm, xgb, lgbm, cb]\n",
        "model_names = [i.__class__.__name__ for i in models]"
      ],
      "metadata": {
        "id": "p5isrfl_ZZBX"
      },
      "execution_count": null,
      "outputs": []
    },
    {
      "cell_type": "code",
      "source": [
        "es_models = ['XGBClassifier',\n",
        "             'LGBMClassifier',\n",
        "             'CatBoostClassifier']"
      ],
      "metadata": {
        "id": "nZcv1eXSZcaP"
      },
      "execution_count": null,
      "outputs": []
    },
    {
      "cell_type": "code",
      "source": [
        "for m, n in zip(models, model_names):\n",
        "    print(n)\n",
        "    start_time = time()\n",
        "    if n in es_models:\n",
        "        m.fit(X_train,\n",
        "              y_train,\n",
        "              eval_set = [(X_test, y_test)],\n",
        "              early_stopping_rounds=15,\n",
        "              verbose=0)\n",
        "    else:\n",
        "        m.fit(X_train, y_train)\n",
        "    \n",
        "    run_time = time() - start_time\n",
        "    accuracy = np.mean(m.predict(X_test) == y_test)\n",
        "    print(accuracy, run_time)\n",
        "    df_results.loc[n] = [accuracy, run_time]\n",
        "    \n",
        "    del m"
      ],
      "metadata": {
        "colab": {
          "base_uri": "https://localhost:8080/"
        },
        "id": "lpyAzd3CZjq1",
        "outputId": "052405be-451a-49d4-8abf-64163f61e9aa"
      },
      "execution_count": null,
      "outputs": [
        {
          "metadata": {
            "tags": null
          },
          "name": "stdout",
          "output_type": "stream",
          "text": [
            "DecisionTreeClassifier\n",
            "0.8183333333333334 7.334710359573364\n",
            "RandomForestClassifier\n",
            "0.9531818181818181 98.67947173118591\n",
            "AdaBoostClassifier\n",
            "0.8074242424242424 37.948325872421265\n",
            "GradientBoostingClassifier\n"
          ]
        }
      ]
    }
  ],
  "metadata": {
    "colab": {
      "name": "Clase9b_ModelComparison.ipynb",
      "provenance": [],
      "collapsed_sections": []
    },
    "kernelspec": {
      "display_name": "Python 3",
      "name": "python3"
    },
    "language_info": {
      "name": "python"
    }
  },
  "nbformat": 4,
  "nbformat_minor": 0
}