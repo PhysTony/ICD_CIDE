{
 "cells": [
  {
   "cell_type": "code",
   "execution_count": 1,
   "metadata": {},
   "outputs": [],
   "source": [
    "#Librerias\n",
    "from selenium import webdriver \n",
    "from selenium.webdriver.support.ui import WebDriverWait\n",
    "from selenium.webdriver.support import expected_conditions as EC\n",
    "from selenium.webdriver.common.by import By\n",
    "import time\n",
    "import pandas as pd\n",
    "import numpy as np\n",
    "import os"
   ]
  },
  {
   "cell_type": "code",
   "execution_count": 3,
   "metadata": {},
   "outputs": [],
   "source": [
    "#Opciones de navegacion\n",
    "options = webdriver.ChromeOptions()\n",
    "options.add_argument('--start-maximized')\n",
    "options.add_argument('--disable-extensions')"
   ]
  },
  {
   "cell_type": "code",
   "execution_count": 3,
   "metadata": {},
   "outputs": [],
   "source": [
    "driver_path = 'C:\\\\Users\\\\hecto\\\\Downloads\\\\chromedriver_win32\\\\chromedriver.exe'"
   ]
  },
  {
   "cell_type": "code",
   "execution_count": 4,
   "metadata": {},
   "outputs": [],
   "source": [
    "driver_path = '/usr/bin/chromedriver'"
   ]
  },
  {
   "cell_type": "code",
   "execution_count": 5,
   "metadata": {},
   "outputs": [
    {
     "name": "stderr",
     "output_type": "stream",
     "text": [
      "<ipython-input-5-c0366c10710d>:1: DeprecationWarning: executable_path has been deprecated, please pass in a Service object\n",
      "  driver = webdriver.Chrome(driver_path, chrome_options = options)\n",
      "<ipython-input-5-c0366c10710d>:1: DeprecationWarning: use options instead of chrome_options\n",
      "  driver = webdriver.Chrome(driver_path, chrome_options = options)\n"
     ]
    },
    {
     "ename": "WebDriverException",
     "evalue": "Message: Service /usr/bin/chromedriver unexpectedly exited. Status code was: 1\n",
     "output_type": "error",
     "traceback": [
      "\u001b[0;31m---------------------------------------------------------------------------\u001b[0m",
      "\u001b[0;31mWebDriverException\u001b[0m                        Traceback (most recent call last)",
      "\u001b[0;32m<ipython-input-5-c0366c10710d>\u001b[0m in \u001b[0;36m<module>\u001b[0;34m\u001b[0m\n\u001b[0;32m----> 1\u001b[0;31m \u001b[0mdriver\u001b[0m \u001b[0;34m=\u001b[0m \u001b[0mwebdriver\u001b[0m\u001b[0;34m.\u001b[0m\u001b[0mChrome\u001b[0m\u001b[0;34m(\u001b[0m\u001b[0mdriver_path\u001b[0m\u001b[0;34m,\u001b[0m \u001b[0mchrome_options\u001b[0m \u001b[0;34m=\u001b[0m \u001b[0moptions\u001b[0m\u001b[0;34m)\u001b[0m\u001b[0;34m\u001b[0m\u001b[0;34m\u001b[0m\u001b[0m\n\u001b[0m",
      "\u001b[0;32m~/anaconda3/lib/python3.8/site-packages/selenium/webdriver/chrome/webdriver.py\u001b[0m in \u001b[0;36m__init__\u001b[0;34m(self, executable_path, port, options, service_args, desired_capabilities, service_log_path, chrome_options, service, keep_alive)\u001b[0m\n\u001b[1;32m     68\u001b[0m             \u001b[0mservice\u001b[0m \u001b[0;34m=\u001b[0m \u001b[0mService\u001b[0m\u001b[0;34m(\u001b[0m\u001b[0mexecutable_path\u001b[0m\u001b[0;34m,\u001b[0m \u001b[0mport\u001b[0m\u001b[0;34m,\u001b[0m \u001b[0mservice_args\u001b[0m\u001b[0;34m,\u001b[0m \u001b[0mservice_log_path\u001b[0m\u001b[0;34m)\u001b[0m\u001b[0;34m\u001b[0m\u001b[0;34m\u001b[0m\u001b[0m\n\u001b[1;32m     69\u001b[0m \u001b[0;34m\u001b[0m\u001b[0m\n\u001b[0;32m---> 70\u001b[0;31m         super(WebDriver, self).__init__(DesiredCapabilities.CHROME['browserName'], \"goog\",\n\u001b[0m\u001b[1;32m     71\u001b[0m                                         \u001b[0mport\u001b[0m\u001b[0;34m,\u001b[0m \u001b[0moptions\u001b[0m\u001b[0;34m,\u001b[0m\u001b[0;34m\u001b[0m\u001b[0;34m\u001b[0m\u001b[0m\n\u001b[1;32m     72\u001b[0m                                         \u001b[0mservice_args\u001b[0m\u001b[0;34m,\u001b[0m \u001b[0mdesired_capabilities\u001b[0m\u001b[0;34m,\u001b[0m\u001b[0;34m\u001b[0m\u001b[0;34m\u001b[0m\u001b[0m\n",
      "\u001b[0;32m~/anaconda3/lib/python3.8/site-packages/selenium/webdriver/chromium/webdriver.py\u001b[0m in \u001b[0;36m__init__\u001b[0;34m(self, browser_name, vendor_prefix, port, options, service_args, desired_capabilities, service_log_path, service, keep_alive)\u001b[0m\n\u001b[1;32m     88\u001b[0m \u001b[0;34m\u001b[0m\u001b[0m\n\u001b[1;32m     89\u001b[0m         \u001b[0mself\u001b[0m\u001b[0;34m.\u001b[0m\u001b[0mservice\u001b[0m \u001b[0;34m=\u001b[0m \u001b[0mservice\u001b[0m\u001b[0;34m\u001b[0m\u001b[0;34m\u001b[0m\u001b[0m\n\u001b[0;32m---> 90\u001b[0;31m         \u001b[0mself\u001b[0m\u001b[0;34m.\u001b[0m\u001b[0mservice\u001b[0m\u001b[0;34m.\u001b[0m\u001b[0mstart\u001b[0m\u001b[0;34m(\u001b[0m\u001b[0;34m)\u001b[0m\u001b[0;34m\u001b[0m\u001b[0;34m\u001b[0m\u001b[0m\n\u001b[0m\u001b[1;32m     91\u001b[0m \u001b[0;34m\u001b[0m\u001b[0m\n\u001b[1;32m     92\u001b[0m         \u001b[0;32mtry\u001b[0m\u001b[0;34m:\u001b[0m\u001b[0;34m\u001b[0m\u001b[0;34m\u001b[0m\u001b[0m\n",
      "\u001b[0;32m~/anaconda3/lib/python3.8/site-packages/selenium/webdriver/common/service.py\u001b[0m in \u001b[0;36mstart\u001b[0;34m(self)\u001b[0m\n\u001b[1;32m     96\u001b[0m         \u001b[0mcount\u001b[0m \u001b[0;34m=\u001b[0m \u001b[0;36m0\u001b[0m\u001b[0;34m\u001b[0m\u001b[0;34m\u001b[0m\u001b[0m\n\u001b[1;32m     97\u001b[0m         \u001b[0;32mwhile\u001b[0m \u001b[0;32mTrue\u001b[0m\u001b[0;34m:\u001b[0m\u001b[0;34m\u001b[0m\u001b[0;34m\u001b[0m\u001b[0m\n\u001b[0;32m---> 98\u001b[0;31m             \u001b[0mself\u001b[0m\u001b[0;34m.\u001b[0m\u001b[0massert_process_still_running\u001b[0m\u001b[0;34m(\u001b[0m\u001b[0;34m)\u001b[0m\u001b[0;34m\u001b[0m\u001b[0;34m\u001b[0m\u001b[0m\n\u001b[0m\u001b[1;32m     99\u001b[0m             \u001b[0;32mif\u001b[0m \u001b[0mself\u001b[0m\u001b[0;34m.\u001b[0m\u001b[0mis_connectable\u001b[0m\u001b[0;34m(\u001b[0m\u001b[0;34m)\u001b[0m\u001b[0;34m:\u001b[0m\u001b[0;34m\u001b[0m\u001b[0;34m\u001b[0m\u001b[0m\n\u001b[1;32m    100\u001b[0m                 \u001b[0;32mbreak\u001b[0m\u001b[0;34m\u001b[0m\u001b[0;34m\u001b[0m\u001b[0m\n",
      "\u001b[0;32m~/anaconda3/lib/python3.8/site-packages/selenium/webdriver/common/service.py\u001b[0m in \u001b[0;36massert_process_still_running\u001b[0;34m(self)\u001b[0m\n\u001b[1;32m    108\u001b[0m         \u001b[0mreturn_code\u001b[0m \u001b[0;34m=\u001b[0m \u001b[0mself\u001b[0m\u001b[0;34m.\u001b[0m\u001b[0mprocess\u001b[0m\u001b[0;34m.\u001b[0m\u001b[0mpoll\u001b[0m\u001b[0;34m(\u001b[0m\u001b[0;34m)\u001b[0m\u001b[0;34m\u001b[0m\u001b[0;34m\u001b[0m\u001b[0m\n\u001b[1;32m    109\u001b[0m         \u001b[0;32mif\u001b[0m \u001b[0mreturn_code\u001b[0m\u001b[0;34m:\u001b[0m\u001b[0;34m\u001b[0m\u001b[0;34m\u001b[0m\u001b[0m\n\u001b[0;32m--> 110\u001b[0;31m             raise WebDriverException(\n\u001b[0m\u001b[1;32m    111\u001b[0m                 \u001b[0;34m'Service %s unexpectedly exited. Status code was: %s'\u001b[0m\u001b[0;34m\u001b[0m\u001b[0;34m\u001b[0m\u001b[0m\n\u001b[1;32m    112\u001b[0m                 \u001b[0;34m%\u001b[0m \u001b[0;34m(\u001b[0m\u001b[0mself\u001b[0m\u001b[0;34m.\u001b[0m\u001b[0mpath\u001b[0m\u001b[0;34m,\u001b[0m \u001b[0mreturn_code\u001b[0m\u001b[0;34m)\u001b[0m\u001b[0;34m\u001b[0m\u001b[0;34m\u001b[0m\u001b[0m\n",
      "\u001b[0;31mWebDriverException\u001b[0m: Message: Service /usr/bin/chromedriver unexpectedly exited. Status code was: 1\n"
     ]
    }
   ],
   "source": [
    "driver = webdriver.Chrome(driver_path, chrome_options = options)"
   ]
  },
  {
   "cell_type": "code",
   "execution_count": 3,
   "metadata": {},
   "outputs": [
    {
     "ename": "NameError",
     "evalue": "name 'driver' is not defined",
     "output_type": "error",
     "traceback": [
      "\u001b[1;31m---------------------------------------------------------------------------\u001b[0m",
      "\u001b[1;31mNameError\u001b[0m                                 Traceback (most recent call last)",
      "\u001b[1;32m<ipython-input-3-5ed654bbe134>\u001b[0m in \u001b[0;36m<module>\u001b[1;34m\u001b[0m\n\u001b[1;32m----> 1\u001b[1;33m \u001b[0mdriver\u001b[0m\u001b[1;33m.\u001b[0m\u001b[0mget\u001b[0m\u001b[1;33m(\u001b[0m\u001b[1;34m'http://www.candidatotransparentecoahuila.org.mx/vp2/2021/'\u001b[0m\u001b[1;33m)\u001b[0m\u001b[1;33m\u001b[0m\u001b[1;33m\u001b[0m\u001b[0m\n\u001b[0m\u001b[0;32m      2\u001b[0m \u001b[0mmun\u001b[0m \u001b[1;33m=\u001b[0m \u001b[0mnp\u001b[0m\u001b[1;33m.\u001b[0m\u001b[0marange\u001b[0m\u001b[1;33m(\u001b[0m\u001b[1;36m1\u001b[0m\u001b[1;33m,\u001b[0m\u001b[1;36m39\u001b[0m\u001b[1;33m,\u001b[0m\u001b[1;36m1\u001b[0m\u001b[1;33m)\u001b[0m\u001b[1;33m\u001b[0m\u001b[1;33m\u001b[0m\u001b[0m\n",
      "\u001b[1;31mNameError\u001b[0m: name 'driver' is not defined"
     ]
    }
   ],
   "source": [
    "driver.get('http://www.candidatotransparentecoahuila.org.mx/vp2/2021/')\n",
    "mun = np.arange(1,39,1)"
   ]
  },
  {
   "cell_type": "code",
   "execution_count": null,
   "metadata": {},
   "outputs": [],
   "source": [
    "#listas para guardar datos\n",
    "municipio = list()\n",
    "candidato = list()\n",
    "partido = list()\n",
    "\n",
    "for i in mun:\n",
    "    try:\n",
    "        page=\"path[data-code='m\"+str(i)+\"']\"\n",
    "        \n",
    "        #Click: Municipio i\n",
    "        WebDriverWait(driver, 5)\\\n",
    "            .until(EC.element_to_be_clickable((By.CSS_SELECTOR,page)))\\\n",
    "            .click()\n",
    "        \n",
    "        time.sleep(3)\n",
    "        \n",
    "        #Extraemos información\n",
    "        cand = driver.find_element_by_xpath('/html/body/div[8]/div[4]/div[1]/table')\n",
    "        cand = cand.text\n",
    "        cand = cand.split('\\n')\n",
    "        cand0 = cand.pop(0)\n",
    "        \n",
    "        time.sleep(3)\n",
    "        \n",
    "        #Nombre del municipio i\n",
    "        muni = driver.find_element_by_xpath('/html/body/div[8]/div[2]/div/div')\n",
    "        muni = muni.text\n",
    "        \n",
    "        for i in range (0, len(cand),2):\n",
    "            candidato.append(cand[i])\n",
    "            partido.append(cand[i+1])\n",
    "            municipio.append(muni)\n",
    "        len(cand)\n",
    "    except:\n",
    "        pass\n",
    "        print(\"error\"+muni)"
   ]
  },
  {
   "cell_type": "code",
   "execution_count": null,
   "metadata": {},
   "outputs": [],
   "source": [
    "df_coahuila = pd.DataFrame({'Municipio':municipio, 'Candidatos':candidato, 'Partido':partido})\n",
    "print(df_coahuila)"
   ]
  },
  {
   "cell_type": "code",
   "execution_count": null,
   "metadata": {},
   "outputs": [],
   "source": [
    "df.to_csv('candidatos_coahuila.csv', index = False)"
   ]
  },
  {
   "cell_type": "markdown",
   "metadata": {},
   "source": [
    "# Guanajuato"
   ]
  },
  {
   "cell_type": "code",
   "execution_count": null,
   "metadata": {},
   "outputs": [],
   "source": [
    "candidato = list()\n",
    "cargo = list()\n",
    "cargo_nomre = list()\n",
    "municipio = list()\n",
    "municipio_nombre = list()\n",
    "pricipio = list()\n",
    "principio_nombre = list()\n",
    "sexo = list()\n",
    "edad = list()\n",
    "nacimiento = list()\n",
    "estudios = list()\n",
    "tel_oficina = list()\n",
    "correo = list()\n",
    "trayectoria = list()\n",
    "propuesta = list()\n",
    "espacio = list()\n",
    "informacion = list()\n",
    "partido = list()"
   ]
  },
  {
   "cell_type": "code",
   "execution_count": null,
   "metadata": {},
   "outputs": [],
   "source": [
    "#Página\n",
    "driver.get('https://ytuporquevotas.ieeg.mx/ieeg/municipal.php')\n",
    "\n",
    "mun = np.arange(2,48,1)\n",
    "cand = np.arange(1,15,1)\n",
    "\n",
    "guanajuato = list()\n",
    "\n",
    "for i in mun:\n",
    "    \n",
    "    page_mun = \"#comboCandidaturaMunicipos > option:nth-child(\"+str(i)+\")\"\n",
    "    print(page_mun)\n",
    "    \n",
    "    #Click: municipios\n",
    "    WebDriverWait(driver, 5)\\\n",
    "        .until(EC.element_to_be_clickable((By.CSS_SELECTOR,\n",
    "                                           'select#comboCandidaturaMunicipos')))\\\n",
    "        .click()\n",
    "    \n",
    "    #Click: municipio i\n",
    "    WebDriverWait(driver, 5)\\\n",
    "        .until(EC.element_to_be_clickable((By.CSS_SELECTOR,\n",
    "                                           page_mun)))\\\n",
    "        .click()\n",
    "    \n",
    "    #Click: candidatura\n",
    "    WebDriverWait(driver, 5)\\\n",
    "        .until(EC.element_to_be_clickable((By.CSS_SELECTOR,\n",
    "                                           'select#candidatura')))\\\n",
    "        .click()\n",
    "\n",
    "    try:\n",
    "        \n",
    "        WebDriverWait(driver, 5)\\\n",
    "            .until(EC.element_to_be_clickable((By.CSS_SELECTOR,\n",
    "                                               '#candidatura > option:nth-child(2)')))\\\n",
    "            .click()\n",
    "        \n",
    "        #Para llevar un orden de la información\n",
    "        pardito.append(i)\n",
    "        guanajuato.append(i)\n",
    "        print(i)\n",
    "        \n",
    "        #Nombre de la imagen del logo del partido (nombre de partido no está como texto)\n",
    "        for item in driver.find_elements_by_tag_name('img'):\n",
    "            partido.append(item.get_attribute('src'))\n",
    "        \n",
    "        #Información del candidato j\n",
    "        for j in cand:\n",
    "            page_cand = \"#resultado > div > div > div:nth-child(\"+str(j)+\") > div > div > button\"\n",
    "            time.sleep(5)\n",
    "            \n",
    "            #Click: candidato j\n",
    "            WebDriverWait(driver, 5)\\\n",
    "                .until(EC.element_to_be_clickable((By.CSS_SELECTOR, page_cand)))\\\n",
    "                .click()\n",
    "            \n",
    "            #Cerramos la venta de información\n",
    "            time.sleep(5)\n",
    "            \n",
    "            #Click: cerrar ventana\n",
    "            WebDriverWait(driver, 5)\\\n",
    "                .until(EC.element_to_be_clickable((By.CSS_SELECTOR,'#candidaturaModal > div > div > div.modal-footer > button')))\\\n",
    "                .click()\n",
    "            print(\"ventana cerrada\")\n",
    "            #Datos guardados\n",
    "            info = driver.find_element_by_xpath('//*[@id=\"resultado_candidatura\"]')\n",
    "            info = info.text\n",
    "            info = info.split('\\n')\n",
    "            guanajuato.append(info)\n",
    "            print(\"Datos completos\")\n",
    "    except:\n",
    "        pass\n",
    "        print(\"Municipio_\"+str(i)+\"_vacio\")"
   ]
  },
  {
   "cell_type": "code",
   "execution_count": null,
   "metadata": {},
   "outputs": [],
   "source": [
    "df_guajuato = pd.DataFrame({'Info Candidatos':guanajuato, 'Info Partido':partidos})\n",
    "print(df)"
   ]
  },
  {
   "cell_type": "code",
   "execution_count": null,
   "metadata": {},
   "outputs": [],
   "source": [
    "for k in range (0, len(info),17):\n",
    "                candidato.append(info[k])\n",
    "                cargo.append(info[k+1])\n",
    "                cargo_nomre.append(info[k+2])\n",
    "                municipio.append(info[k+3])\n",
    "                municipio_nombre.append(info[k+4])\n",
    "                pricipio.append(info[k+5])\n",
    "                principio_nombre.append(info[k+6])\n",
    "                sexo.append(info[k+7])\n",
    "                edad.append(info[k+8])\n",
    "                nacimiento.append(info[k+9])\n",
    "                estudios.append(info[k+10])\n",
    "                tel_oficina.append(info[k+11])\n",
    "                correo.append(info[k+12])\n",
    "                trayectoria.append(info[k+13])\n",
    "                propuesta.append(info[k+14])\n",
    "                espacio.append(info[k+15])\n",
    "                informacion.append(info[k+16])"
   ]
  },
  {
   "cell_type": "markdown",
   "metadata": {},
   "source": [
    "## Prueba un municipio Guanajuato"
   ]
  },
  {
   "cell_type": "code",
   "execution_count": null,
   "metadata": {},
   "outputs": [],
   "source": [
    "i=2\n",
    "\n",
    "page_mun = \"#comboCandidaturaMunicipos > option:nth-child(\"+str(i)+\")\"\n",
    "#Click 1: Municipio\n",
    "WebDriverWait(driver, 5)\\\n",
    "    .until(EC.element_to_be_clickable((By.CSS_SELECTOR,'select#comboCandidaturaMunicipos')))\\\n",
    "    .click()\n",
    "        \n",
    "#Municipio i\n",
    "WebDriverWait(driver, 5)\\\n",
    "    .until(EC.element_to_be_clickable((By.CSS_SELECTOR,page_mun)))\\\n",
    "    .click()\n",
    "# page da el nth-child, el n-ésimo municipio\n",
    "time.sleep(4)\n",
    "        \n",
    "#Click 2: Cargo\n",
    "WebDriverWait(driver, 5)\\\n",
    "    .until(EC.element_to_be_clickable((By.CSS_SELECTOR,'select#candidatura')))\\\n",
    "    .click()\n",
    "\n",
    "time.sleep(5)\n",
    "        \n",
    "#Cargo\n",
    "WebDriverWait(driver, 5)\\\n",
    "    .until(EC.element_to_be_clickable((By.CSS_SELECTOR,'#candidatura > option:nth-child(2)')))\\\n",
    "    .click()\n",
    "time.sleep(3)\n",
    "print(i)\n",
    "j=1\n",
    "page_cand = \"#resultado > div > div > div:nth-child(\"+str(j)+\") > div > div > button\"\n",
    "WebDriverWait(driver, 5)\\\n",
    "    .until(EC.element_to_be_clickable((By.CSS_SELECTOR, page_cand)))\\\n",
    "    .click()\n",
    "print(page_cand)\n",
    "time.sleep(3)\n",
    "info = driver.find_element_by_xpath('//*[@id=\"resultado_candidatura\"]')\n",
    "info = info.text\n",
    "info = info.split('\\n')\n",
    "\n",
    "partido = list()\n",
    "for item in driver.find_elements_by_tag_name('img'):\n",
    "    partido.append(item.get_attribute('src'))\n",
    "    \n",
    "candidato = list()\n",
    "cargo = list()\n",
    "cargo_nomre = list()\n",
    "municipio = list()\n",
    "municipio_nombre = list()\n",
    "pricipio = list()\n",
    "principio_nombre = list()\n",
    "sexo = list()\n",
    "edad = list()\n",
    "nacimiento = list()\n",
    "estudios = list()\n",
    "tel_oficina = list()\n",
    "correo = list()\n",
    "trayectoria = list()\n",
    "propuesta = list()\n",
    "espacio = list()\n",
    "informacion = list()\n",
    "\n",
    "for i in range (0, len(info),17):\n",
    "    candidato.append(info[i])\n",
    "    cargo.append(info[i+1])\n",
    "    cargo_nomre.append(info[i+2])\n",
    "    municipio.append(info[i+3])\n",
    "    municipio_nombre.append(info[i+4])\n",
    "    pricipio.append(info[i+5])\n",
    "    principio_nombre.append(info[i+6])\n",
    "    sexo.append(info[i+7])\n",
    "    edad.append(info[i+8])\n",
    "    nacimiento.append(info[i+9])\n",
    "    estudios.append(info[i+10])\n",
    "    tel_oficina.append(info[i+11])\n",
    "    correo.append(info[i+12])\n",
    "    trayectoria.append(info[i+13])\n",
    "    propuesta.append(info[i+14])\n",
    "    espacio.append(info[i+15])\n",
    "    informacion.append(info[i+16])\n",
    "    \n",
    "#Cerramos la venta de información\n",
    "WebDriverWait(driver, 5)\\\n",
    "    .until(EC.element_to_be_clickable((By.CSS_SELECTOR,'#candidaturaModal > div > div > div.modal-footer > button')))\\\n",
    "    .click()"
   ]
  }
 ],
 "metadata": {
  "kernelspec": {
   "display_name": "Python 3",
   "language": "python",
   "name": "python3"
  },
  "language_info": {
   "codemirror_mode": {
    "name": "ipython",
    "version": 3
   },
   "file_extension": ".py",
   "mimetype": "text/x-python",
   "name": "python",
   "nbconvert_exporter": "python",
   "pygments_lexer": "ipython3",
   "version": "3.8.8"
  }
 },
 "nbformat": 4,
 "nbformat_minor": 4
}
