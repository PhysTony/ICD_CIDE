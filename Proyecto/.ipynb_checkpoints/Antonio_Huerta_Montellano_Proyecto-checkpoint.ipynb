{
 "cells": [
  {
   "cell_type": "markdown",
   "id": "afd39c5c-a69f-4109-beb7-d321d9a25c99",
   "metadata": {},
   "source": [
    "<center> \n",
    "    <h1><b>Relaciones entre variables macroeconómicas del año 2021</b></h1> \n",
    "    <h3> Introducción a Ciencia de Datos</h3>\n",
    "    <h5 style=\"border:2px solid Tomato;\"><a href=\"https://github.com/PhysTony/ICD_CIDE\" target=\"_blank\" style=\"text-align:justify; color:Violet\">Antonio Huerta Montellano</a></h5>\n",
    "</center>\n",
    "\n",
    "<br>\n",
    "\n",
    "<p style=\"text-align: justify;font-size:12px\"><i> \n",
    "$\\quad$ <b>Resumen</b>: En este trabajo vamos a analizar los índices tales como el índice  de <em>calidad de vida</em> y <em>Gini</em>, así como el producto interno bruto (<em>PIB</em>), la <em>tasa de inflación</em>, <em>el consumo per cápita de cada país</em>, la <em>expectativa de vida</em> y la <em>población</em> de distintos países con el objetivo de hallar características o cualidades que nos ayuden a entender mejor de manera macroeconómica qué caulidades podrían estar relacionadas. Así mismo, se hallaron la regresiones lineales del <em>PIB</em> con el logaritmo de la <em>expectavida de vida</em>, así como <em>PIB</em> y la <em>tasa de inflación.\n",
    "</em></i></p>"
   ]
  },
  {
   "cell_type": "markdown",
   "id": "4663a4ba-2537-4d38-b662-fba067155a57",
   "metadata": {},
   "source": [
    "<h2><b>Índice:</b></h2>\n",
    "<ol style=\"border:2px solid Violet;\">\n",
    "  <li><a href=\"#intro\" style=\"text-align:justify; font-size:20px\">Introducción</a></li>\n",
    "  <li><a href=\"#marco_t\" style=\"text-align:justify; font-size:20px\">Marco teórico</a></li>\n",
    "  <li><a href=\"#ana_d\" style=\"text-align:justify; font-size:20px\">Análisis de datos</a></li>\n",
    "  <li><a href=\"#lession4\" style=\"text-align:justify; font-size:20px\">Resultados</a></li>\n",
    "</ol>"
   ]
  },
  {
   "cell_type": "markdown",
   "id": "5aa1f939-dd83-4281-84c2-b570e303473c",
   "metadata": {},
   "source": [
    "<h3><strong>Introducción</strong></h3>\n",
    "<p id='intro' style=\"text-align:justify; font-size:13px\"> \n",
    "$\\quad$ Se sabe que existen muchos parámetros e índices para evaluar distintos aspectos de un país tales como los económicos, políticos, calidad de vida, entre otros. Sin embargo, casi siempre se necesita más de un índice para poder determinar incluso solo una característica interés, es por esta razones que existen muchos índices y parámetros asociados a distintos aspectos de tan solo un ámbito, donde no es raro que cierto índices estén relacionados de manera general como la expectativa de vida y el producto interno bruto, razón por la que se llega a utilizar como medida del bienestar. Sin embargo, si bien ya se han obtenido resultados y conclusiones a partir del estudio de los datos o medelos tanto teóricos como empíricos, estos han sido bajo cierrtas condiciones y supuestos; es por esta razón que cabe preguntarse si dichos resultados continuan siendo válidos después de eventos tan drásticos a nivel mundial tales como la pandemia debida al virus de la <i>COVID-19</i> puesto que debido al impacto económico que tuvo tales como un gran desempleo a nivel mundial, la banca rota de muchas empresas y el incremento excesivo de reportes de depresión en personas a lo largo del mundo se espera que valores tales como el índice de <em>calidad de vida</em>, <em>Gini</em>, la <em>expectativa de vida</em> e incluso el <em>PIB</em>. Es por este motivo que por medio de cluster estudiaremos las relaciones entre dichas variables además de la tasa de inflación y población; por otro lado, también se obtendrá la regresión entre la <em>expectativa de vida</em> y el logaritmo del <em>PIB</em>, y entre las demás variables que observemos una correlación significativa puesto que hay evidencia de correlación entre el <em>PIB</em> y el ingreso medio per caṕita, esto servirá de base para usarse en otras investigaciones y contrastar con los resultados teóricos de otros años. Este trabajo se divide en esta introducción para después ofrecer un marco teórico de las variables y regresiones que se estudiarán; posteriormente se hará el respectivo análisis de los datos donde se dividirá en subsecciones que constan de la limpieza de datos, visualizaciones de los datos, construcción de las bases de datos, aplicación de métodos de machine learning; después, en otra sección, estará la interpretación de los datos; por último, las conclusiones.\n",
    "</p>"
   ]
  },
  {
   "cell_type": "markdown",
   "id": "ab35847a-ad18-4257-a106-e595b1ca977e",
   "metadata": {},
   "source": [
    "<h3><strong>Marco teórico</strong></h3>\n",
    "<p id='marco_t' style=\"text-align:justify; font-size:13px\"> \n",
    "$\\quad$ Si bien, hay variables que intuitivamente se espera que estén correlacionadas, hay evidencia empírica de que algunas de nuestras variables de interés están correlacionadas como es el caso del <em>PIB</em> y la expectativa de vida <sup><a href=\"#1\">[1]</a></sup> cuya relación analítica está dada por la siguiente ecuación\n",
    "</p>"
   ]
  },
  {
   "cell_type": "markdown",
   "id": "fa679db5-35a8-4c56-8373-c70ee53dc31f",
   "metadata": {},
   "source": [
    "$$\n",
    "Expectativa \\,\\, de \\,\\, vida = \\beta_0 + \\beta_1 \\log\\left( PIB \\right) + u_t,\n",
    "$$"
   ]
  },
  {
   "cell_type": "markdown",
   "id": "f2bed903-98d6-4d49-8c21-61884d97b862",
   "metadata": {},
   "source": [
    "<p style=\"text-align:justify; font-size:13px\"> \n",
    "donde los errores $u_t$ están identicamente distribuidos con una distribución normal estándar. A pesar de que esta relación se aproxime mejor para países con un <em>PIB</em> bajo, por lo general se toma para todos los países puesto que la correlación tiende a ser bastante significativa. Por otro lado, a pesar de que el <em>PIB</em> sea utilizado como una medida del bienestar, no necesariamente implica que un país con un <em>PIB</em> grande tenga un alto índice de calidad de vida. Sin embargo, cabe preutnarse si estas variables están correlacionadas significativamente para la mayoría de los países, en particular, veremos si existe alguna relación significativa entre esta y otras variables.\n",
    "<br>\n",
    "<br>\n",
    "Análogamente a la relación anterior, se propone\n",
    "</p>"
   ]
  },
  {
   "cell_type": "markdown",
   "id": "71c6773b-c131-4631-b28e-518c51e4d572",
   "metadata": {},
   "source": [
    "<h3><strong>Análisis de datos</strong></h3>\n",
    "<p id='ana_d' style=\"text-align:justify; font-size:13px\"> \n",
    "$\\quad$ A continuación, importaremos cada una de las bases de datos para observar cosas generales como el tipo de datos que guardan, el nombre de las columnas o datos faltantes y se harán la limpieza de datos necesaria en caso de requerirse y dependiendo del caso.\n",
    "</p>"
   ]
  },
  {
   "cell_type": "code",
   "execution_count": 1,
   "id": "ee88687b-d4f5-42e1-b197-02acbaefcaf1",
   "metadata": {},
   "outputs": [
    {
     "name": "stdout",
     "output_type": "stream",
     "text": [
      "Modulos importados\n"
     ]
    }
   ],
   "source": [
    "import pandas as pd\n",
    "import numpy as np\n",
    "import math\n",
    "import plotly.express as px\n",
    "import plotly.graph_objects as go\n",
    "import matplotlib as mpl\n",
    "import matplotlib.pyplot as plt\n",
    "from matplotlib import cm\n",
    "import seaborn as sns\n",
    "import plotly\n",
    "from sklearn.impute import SimpleImputer\n",
    "from sklearn.datasets import make_blobs\n",
    "from sklearn.model_selection import train_test_split\n",
    "from sklearn import metrics\n",
    "\n",
    "print('Modulos importados')"
   ]
  },
  {
   "cell_type": "markdown",
   "id": "05a1b57e-429c-482b-adbf-93649384785f",
   "metadata": {},
   "source": [
    "<p style=\"text-align:justify; font-size:13px\">A continuación, modificaremos algunos parámetros que están por defecto, esto con el propósito de presentar los resultados de una manera más estática.\n",
    "</p>"
   ]
  },
  {
   "cell_type": "code",
   "execution_count": 2,
   "id": "b499c16a-83ee-47c5-9698-1f333b5a89f5",
   "metadata": {},
   "outputs": [],
   "source": [
    "# Para modificar el tamaño de todos los gráficos.\n",
    "from matplotlib import rcParams\n",
    "rcParams['figure.figsize'] = 15,9"
   ]
  },
  {
   "cell_type": "code",
   "execution_count": 3,
   "id": "ccb185b6-d56c-4242-83b2-a4ad78e3b270",
   "metadata": {},
   "outputs": [],
   "source": [
    "# Para que no nos molesten los mensajes de advertencia.\n",
    "import warnings\n",
    "warnings.filterwarnings('ignore')"
   ]
  },
  {
   "cell_type": "code",
   "execution_count": 4,
   "id": "62689f8b-0f24-4f7f-b32c-50f53df2135b",
   "metadata": {},
   "outputs": [],
   "source": [
    "# Reduzcamos el número de línea a leer cuando se imprime el dataframe\n",
    "pd.options.display.max_rows = 10"
   ]
  },
  {
   "cell_type": "markdown",
   "id": "b9fcbc38-666a-48bc-99d0-245a6b8ed7d2",
   "metadata": {},
   "source": [
    "<h2><strong>Limpieza de datos</strong></h2>\n",
    "<p style=\"text-align:justify; font-size:13px\"> \n",
    "$\\quad$ La base de datos que necesitamos para el análisis por clustering se construirá con todas las bases de datos que tenemos, donde la columna *ID* será el nombre del país puesto que no hay dos países con el mismo nombre. Para facilitar el manejo de los dataframes, solo tomaremos las columnas de las variables que nos interesan y luego se determinará el criterio para rellenar los *NaN*. Por otro lado, se trabajará con copias de los dataframes puesto que se hará otro aparte para el análisis de la regresiones lineales propuestas. Además, con el propósito de no hacer engorroso el análisis, se preferirá tomar variables que engloben más datos o que sean únicas en el sentido de no estar correlacionadas con otras variables.\n",
    "<br>\n",
    "<br>\n",
    "Primero, guaremos en distintas variables la ruta de los dataframes por buena práctica:\n",
    "</p>"
   ]
  },
  {
   "cell_type": "code",
   "execution_count": 9,
   "id": "93bd97f7-3cb0-4e02-bab3-d720d9cbe94d",
   "metadata": {},
   "outputs": [],
   "source": [
    "# Especificamos la ruta de los datos\n",
    "pib_path = 'Data/GDP_2021.csv'\n",
    "gini_path = 'Data/Gini_2022.csv'\n",
    "inflacion_path = 'Data/Inflation_Rate_2021.csv'\n",
    "income_path = 'Data/Income_2021.csv'\n",
    "e_vida_path = 'Data/Life_Expectancy_2021.csv'\n",
    "c_vida_path = 'Data/Quality_life_2021.csv'"
   ]
  },
  {
   "cell_type": "code",
   "execution_count": 10,
   "id": "061a0a5f-822b-4660-8653-7a5fec1960b5",
   "metadata": {},
   "outputs": [],
   "source": [
    "# Importamos las bases de datos\n",
    "pib = pd.read_csv(pib_path)\n",
    "gini = pd.read_csv(gini_path)\n",
    "inflacion = pd.read_csv(inflacion_path)\n",
    "income = pd.read_csv(income_path)\n",
    "e_vida = pd.read_csv(e_vida_path)\n",
    "c_vida = pd.read_csv(c_vida_path)"
   ]
  },
  {
   "cell_type": "markdown",
   "id": "a0faacc3-6f88-4159-9423-bc76139d82ba",
   "metadata": {},
   "source": [
    "<p style=\"text-align:justify; font-size:13px\">Para hacer el proceso de limpieza de datos eficiente, se hará toda la limpieza de datos dataframe por dataframe. Primero, solo conservaremos las columnas de interés en dataframes que sean copias del original y luego aplicar la limpiezza correspondiente, esto para no modificar el dataframe original y por aplicar el conjunto de buenas prácticas. El subíndice *c* denotará que es la copia directa del dataframe.\n",
    "</p>"
   ]
  },
  {
   "cell_type": "code",
   "execution_count": 11,
   "id": "900ba3b9-d5fd-44dd-9d62-0a01a94b09ca",
   "metadata": {},
   "outputs": [],
   "source": [
    "# Creamos una copia de cada dataframe\n",
    "pib_c = pib.copy()\n",
    "gini_c = gini.copy()\n",
    "inflacion_c = inflacion.copy()\n",
    "income_c = income.copy()\n",
    "e_vida_c = e_vida.copy()\n",
    "c_vida_c = c_vida.copy()"
   ]
  },
  {
   "cell_type": "markdown",
   "id": "92dad876-d348-443e-8c01-828f2171bd5a",
   "metadata": {},
   "source": [
    "<p style=\"text-align:justify; font-size:13px\">Ahora, veremos cada uno de los dataframes para determinar con qué columnas nos quedamos para el análisis tanto para clustering como por regresión lineal.</p>"
   ]
  },
  {
   "cell_type": "markdown",
   "id": "09b36650-831f-4e48-b204-759ee8914ce0",
   "metadata": {},
   "source": [
    "### Producto interno bruto per cápita\n",
    "\n",
    "Veamos el contenido del dataframe correspondiente."
   ]
  },
  {
   "cell_type": "code",
   "execution_count": 12,
   "id": "039bcc79-1833-4582-85c3-44519f30ea86",
   "metadata": {},
   "outputs": [
    {
     "data": {
      "text/html": [
       "<div>\n",
       "<style scoped>\n",
       "    .dataframe tbody tr th:only-of-type {\n",
       "        vertical-align: middle;\n",
       "    }\n",
       "\n",
       "    .dataframe tbody tr th {\n",
       "        vertical-align: top;\n",
       "    }\n",
       "\n",
       "    .dataframe thead th {\n",
       "        text-align: right;\n",
       "    }\n",
       "</style>\n",
       "<table border=\"1\" class=\"dataframe\">\n",
       "  <thead>\n",
       "    <tr style=\"text-align: right;\">\n",
       "      <th></th>\n",
       "      <th>Rank</th>\n",
       "      <th>Name</th>\n",
       "      <th>GDP (IMF '19)</th>\n",
       "      <th>GDP (UN '16)</th>\n",
       "      <th>GDP Per Capita</th>\n",
       "      <th>Population 2021</th>\n",
       "    </tr>\n",
       "  </thead>\n",
       "  <tbody>\n",
       "    <tr>\n",
       "      <th>0</th>\n",
       "      <td>1</td>\n",
       "      <td>United States</td>\n",
       "      <td>22.20 Tn</td>\n",
       "      <td>18.62 Tn</td>\n",
       "      <td>$66,678</td>\n",
       "      <td>332,915,073</td>\n",
       "    </tr>\n",
       "    <tr>\n",
       "      <th>1</th>\n",
       "      <td>2</td>\n",
       "      <td>China</td>\n",
       "      <td>15.47 Tn</td>\n",
       "      <td>11.22 Tn</td>\n",
       "      <td>$10,710</td>\n",
       "      <td>1,444,216,107</td>\n",
       "    </tr>\n",
       "    <tr>\n",
       "      <th>2</th>\n",
       "      <td>3</td>\n",
       "      <td>Japan</td>\n",
       "      <td>5.50 Tn</td>\n",
       "      <td>4.94 Tn</td>\n",
       "      <td>$43,597</td>\n",
       "      <td>126,050,804</td>\n",
       "    </tr>\n",
       "    <tr>\n",
       "      <th>3</th>\n",
       "      <td>4</td>\n",
       "      <td>Germany</td>\n",
       "      <td>4.16 Tn</td>\n",
       "      <td>3.48 Tn</td>\n",
       "      <td>$49,548</td>\n",
       "      <td>83,900,473</td>\n",
       "    </tr>\n",
       "    <tr>\n",
       "      <th>4</th>\n",
       "      <td>5</td>\n",
       "      <td>India</td>\n",
       "      <td>3.26 Tn</td>\n",
       "      <td>2.26 Tn</td>\n",
       "      <td>$2,338</td>\n",
       "      <td>1,393,409,038</td>\n",
       "    </tr>\n",
       "  </tbody>\n",
       "</table>\n",
       "</div>"
      ],
      "text/plain": [
       "   Rank           Name GDP (IMF '19) GDP (UN '16) GDP Per Capita  \\\n",
       "0     1  United States      22.20 Tn     18.62 Tn        $66,678   \n",
       "1     2          China      15.47 Tn     11.22 Tn        $10,710   \n",
       "2     3          Japan       5.50 Tn      4.94 Tn        $43,597   \n",
       "3     4        Germany       4.16 Tn      3.48 Tn        $49,548   \n",
       "4     5          India       3.26 Tn      2.26 Tn         $2,338   \n",
       "\n",
       "  Population 2021  \n",
       "0     332,915,073  \n",
       "1   1,444,216,107  \n",
       "2     126,050,804  \n",
       "3      83,900,473  \n",
       "4   1,393,409,038  "
      ]
     },
     "execution_count": 12,
     "metadata": {},
     "output_type": "execute_result"
    }
   ],
   "source": [
    "pib_c.head()"
   ]
  },
  {
   "cell_type": "markdown",
   "id": "7693edc7-a64e-4a13-8abc-7a7a698356cf",
   "metadata": {},
   "source": [
    "Veamos cuántos páises hay en la base datos para tener el número de referencia para más adelante que se haga el *merge* de las bases de datos."
   ]
  },
  {
   "cell_type": "code",
   "execution_count": 13,
   "id": "dafe5168-35f8-45a3-8bfb-67b7cd957287",
   "metadata": {},
   "outputs": [
    {
     "data": {
      "text/plain": [
       "(211, 6)"
      ]
     },
     "execution_count": 13,
     "metadata": {},
     "output_type": "execute_result"
    }
   ],
   "source": [
    "# Dimensiones del dataframe\n",
    "pib_c.shape"
   ]
  },
  {
   "cell_type": "markdown",
   "id": "2ebe83bd-0fe8-40ea-bd12-3832f0ceb824",
   "metadata": {},
   "source": [
    "Tal como se mencionó antes, nos interesa el *PIB per cápita*, pero también conservaremos los datos de la población por país."
   ]
  },
  {
   "cell_type": "code",
   "execution_count": 14,
   "id": "15891766-14a8-48f0-8e05-09c155329512",
   "metadata": {},
   "outputs": [
    {
     "data": {
      "text/html": [
       "<div>\n",
       "<style scoped>\n",
       "    .dataframe tbody tr th:only-of-type {\n",
       "        vertical-align: middle;\n",
       "    }\n",
       "\n",
       "    .dataframe tbody tr th {\n",
       "        vertical-align: top;\n",
       "    }\n",
       "\n",
       "    .dataframe thead th {\n",
       "        text-align: right;\n",
       "    }\n",
       "</style>\n",
       "<table border=\"1\" class=\"dataframe\">\n",
       "  <thead>\n",
       "    <tr style=\"text-align: right;\">\n",
       "      <th></th>\n",
       "      <th>Name</th>\n",
       "      <th>GDP Per Capita</th>\n",
       "      <th>Population 2021</th>\n",
       "    </tr>\n",
       "  </thead>\n",
       "  <tbody>\n",
       "    <tr>\n",
       "      <th>0</th>\n",
       "      <td>United States</td>\n",
       "      <td>$66,678</td>\n",
       "      <td>332,915,073</td>\n",
       "    </tr>\n",
       "    <tr>\n",
       "      <th>1</th>\n",
       "      <td>China</td>\n",
       "      <td>$10,710</td>\n",
       "      <td>1,444,216,107</td>\n",
       "    </tr>\n",
       "    <tr>\n",
       "      <th>2</th>\n",
       "      <td>Japan</td>\n",
       "      <td>$43,597</td>\n",
       "      <td>126,050,804</td>\n",
       "    </tr>\n",
       "    <tr>\n",
       "      <th>3</th>\n",
       "      <td>Germany</td>\n",
       "      <td>$49,548</td>\n",
       "      <td>83,900,473</td>\n",
       "    </tr>\n",
       "    <tr>\n",
       "      <th>4</th>\n",
       "      <td>India</td>\n",
       "      <td>$2,338</td>\n",
       "      <td>1,393,409,038</td>\n",
       "    </tr>\n",
       "  </tbody>\n",
       "</table>\n",
       "</div>"
      ],
      "text/plain": [
       "            Name GDP Per Capita Population 2021\n",
       "0  United States        $66,678     332,915,073\n",
       "1          China        $10,710   1,444,216,107\n",
       "2          Japan        $43,597     126,050,804\n",
       "3        Germany        $49,548      83,900,473\n",
       "4          India         $2,338   1,393,409,038"
      ]
     },
     "execution_count": 14,
     "metadata": {},
     "output_type": "execute_result"
    }
   ],
   "source": [
    "# Asignamos solo las columnas que necesitamos\n",
    "pib_c = pib_c[['Name','GDP Per Capita', 'Population 2021']]\n",
    "pib_c.head()"
   ]
  },
  {
   "cell_type": "markdown",
   "id": "9510017f-a897-4107-bf93-3599a2ac4525",
   "metadata": {},
   "source": [
    "Para evitar problemas con los métodos, algoritmos y funciones se cambiarán los nombres de los dataframes por aquellos que no tengan espacios en blanco, ni caracteres especiales buscando la intuitividad."
   ]
  },
  {
   "cell_type": "code",
   "execution_count": 15,
   "id": "f5d6537b-6c6c-430a-acdb-1751975a0456",
   "metadata": {},
   "outputs": [
    {
     "data": {
      "text/html": [
       "<div>\n",
       "<style scoped>\n",
       "    .dataframe tbody tr th:only-of-type {\n",
       "        vertical-align: middle;\n",
       "    }\n",
       "\n",
       "    .dataframe tbody tr th {\n",
       "        vertical-align: top;\n",
       "    }\n",
       "\n",
       "    .dataframe thead th {\n",
       "        text-align: right;\n",
       "    }\n",
       "</style>\n",
       "<table border=\"1\" class=\"dataframe\">\n",
       "  <thead>\n",
       "    <tr style=\"text-align: right;\">\n",
       "      <th></th>\n",
       "      <th>Pais</th>\n",
       "      <th>PIB_pc</th>\n",
       "      <th>Poblacion</th>\n",
       "    </tr>\n",
       "  </thead>\n",
       "  <tbody>\n",
       "    <tr>\n",
       "      <th>0</th>\n",
       "      <td>United States</td>\n",
       "      <td>$66,678</td>\n",
       "      <td>332,915,073</td>\n",
       "    </tr>\n",
       "    <tr>\n",
       "      <th>1</th>\n",
       "      <td>China</td>\n",
       "      <td>$10,710</td>\n",
       "      <td>1,444,216,107</td>\n",
       "    </tr>\n",
       "    <tr>\n",
       "      <th>2</th>\n",
       "      <td>Japan</td>\n",
       "      <td>$43,597</td>\n",
       "      <td>126,050,804</td>\n",
       "    </tr>\n",
       "    <tr>\n",
       "      <th>3</th>\n",
       "      <td>Germany</td>\n",
       "      <td>$49,548</td>\n",
       "      <td>83,900,473</td>\n",
       "    </tr>\n",
       "    <tr>\n",
       "      <th>4</th>\n",
       "      <td>India</td>\n",
       "      <td>$2,338</td>\n",
       "      <td>1,393,409,038</td>\n",
       "    </tr>\n",
       "  </tbody>\n",
       "</table>\n",
       "</div>"
      ],
      "text/plain": [
       "            Pais   PIB_pc      Poblacion\n",
       "0  United States  $66,678    332,915,073\n",
       "1          China  $10,710  1,444,216,107\n",
       "2          Japan  $43,597    126,050,804\n",
       "3        Germany  $49,548     83,900,473\n",
       "4          India   $2,338  1,393,409,038"
      ]
     },
     "execution_count": 15,
     "metadata": {},
     "output_type": "execute_result"
    }
   ],
   "source": [
    "# Creamos una lista con los nuevos nombres que asignaremos a las columnas del dataframe\n",
    "pib_c_names = ['Pais','PIB_pc', 'Poblacion']\n",
    "# Asignamos la lista anterior al parámetro que contiene el nombre de las columnas\n",
    "pib_c.columns = pib_c_names\n",
    "pib_c.head()"
   ]
  },
  {
   "cell_type": "markdown",
   "id": "221e1969-6006-4091-a262-79e4d92b7855",
   "metadata": {},
   "source": [
    "En la columna del *PIB per cápita* contiene el caracter especial _$_, por lo que tenemos que removerlo ya que necesitamos que sea la columna del tipo flotante. Por otro lado, también tenemos que eliminar las comas en las columnas para después convertir los tipos de datos de las columnas al adecuado."
   ]
  },
  {
   "cell_type": "code",
   "execution_count": 16,
   "id": "ec42ba68-f6a2-4c02-9a03-34c5de566345",
   "metadata": {},
   "outputs": [
    {
     "data": {
      "text/html": [
       "<div>\n",
       "<style scoped>\n",
       "    .dataframe tbody tr th:only-of-type {\n",
       "        vertical-align: middle;\n",
       "    }\n",
       "\n",
       "    .dataframe tbody tr th {\n",
       "        vertical-align: top;\n",
       "    }\n",
       "\n",
       "    .dataframe thead th {\n",
       "        text-align: right;\n",
       "    }\n",
       "</style>\n",
       "<table border=\"1\" class=\"dataframe\">\n",
       "  <thead>\n",
       "    <tr style=\"text-align: right;\">\n",
       "      <th></th>\n",
       "      <th>Pais</th>\n",
       "      <th>PIB_pc</th>\n",
       "      <th>Poblacion</th>\n",
       "    </tr>\n",
       "  </thead>\n",
       "  <tbody>\n",
       "    <tr>\n",
       "      <th>0</th>\n",
       "      <td>United States</td>\n",
       "      <td>66678</td>\n",
       "      <td>332915073</td>\n",
       "    </tr>\n",
       "    <tr>\n",
       "      <th>1</th>\n",
       "      <td>China</td>\n",
       "      <td>10710</td>\n",
       "      <td>1444216107</td>\n",
       "    </tr>\n",
       "    <tr>\n",
       "      <th>2</th>\n",
       "      <td>Japan</td>\n",
       "      <td>43597</td>\n",
       "      <td>126050804</td>\n",
       "    </tr>\n",
       "    <tr>\n",
       "      <th>3</th>\n",
       "      <td>Germany</td>\n",
       "      <td>49548</td>\n",
       "      <td>83900473</td>\n",
       "    </tr>\n",
       "    <tr>\n",
       "      <th>4</th>\n",
       "      <td>India</td>\n",
       "      <td>2338</td>\n",
       "      <td>1393409038</td>\n",
       "    </tr>\n",
       "  </tbody>\n",
       "</table>\n",
       "</div>"
      ],
      "text/plain": [
       "            Pais PIB_pc   Poblacion\n",
       "0  United States  66678   332915073\n",
       "1          China  10710  1444216107\n",
       "2          Japan  43597   126050804\n",
       "3        Germany  49548    83900473\n",
       "4          India   2338  1393409038"
      ]
     },
     "execution_count": 16,
     "metadata": {},
     "output_type": "execute_result"
    }
   ],
   "source": [
    "# Quitamos el caracter $ de la serie correspondiente al PIB per cápita\n",
    "pib_aux_1 = pib_c['PIB_pc'].str.replace(\"$\",\"\")\n",
    "# Quitamos el caracter ',' de la serie correspondiente al PIB per cápita\n",
    "pib_aux_2 = pib_aux_1.str.replace(\",\",\"\")\n",
    "# Quitamos el caracter ',' de la serie correspondiente al PIB per cápita\n",
    "pib_aux_3 = pib_c['Poblacion'].str.replace(\",\",\"\")\n",
    "# Asignamos a la serie del PIB_pc el valor de la lista pib_aux_2 para replazar los valores de la serie\n",
    "pib_c['PIB_pc'] = pib_aux_2\n",
    "# Asignamos a la serie del Población el valor de la lista pib_aux_3 para replazar los valores de la serie\n",
    "pib_c['Poblacion'] = pib_aux_3\n",
    "pib_c.head()"
   ]
  },
  {
   "cell_type": "markdown",
   "id": "d5898f82-ef79-4a6b-ad7b-f9af1b0f7239",
   "metadata": {},
   "source": [
    "Veamos el tipo de datos que contienen."
   ]
  },
  {
   "cell_type": "code",
   "execution_count": 17,
   "id": "abc606c9-9376-4e07-9e2c-797b35efb2ae",
   "metadata": {},
   "outputs": [
    {
     "name": "stdout",
     "output_type": "stream",
     "text": [
      "Pais         object\n",
      "PIB_pc       object\n",
      "Poblacion    object\n",
      "dtype: object\n"
     ]
    }
   ],
   "source": [
    "# Nos muestra el tipo de datos que contiene cada columna donde 'objetc' también indica que es un 'string'\n",
    "print(pib_c.dtypes)"
   ]
  },
  {
   "cell_type": "markdown",
   "id": "0693cc0e-e8d7-4229-868a-617ea9539815",
   "metadata": {},
   "source": [
    "Para asegurarnos que no haya problemas con los datos, convirtamos el tipo de todas las columnas a tipo entero o flotante."
   ]
  },
  {
   "cell_type": "code",
   "execution_count": 18,
   "id": "ed808d2e-5408-4b65-8106-771908303223",
   "metadata": {},
   "outputs": [],
   "source": [
    "# Transformamos los strings a variables 'int' o 'float' en caso de que se pueda\n",
    "pib_c['PIB_pc'] = pd.to_numeric(pib_c['PIB_pc'])\n",
    "pib_c['Poblacion'] = pd.to_numeric(pib_c['Poblacion'])"
   ]
  },
  {
   "cell_type": "markdown",
   "id": "e8ba8184-fa32-4c34-9a4f-552e096962de",
   "metadata": {},
   "source": [
    "Veamos los tipos de datos que almacena cada columna con el propósito de encontrar irregularidades."
   ]
  },
  {
   "cell_type": "code",
   "execution_count": 19,
   "id": "46a40862-524b-449f-af7a-77a8a4f61318",
   "metadata": {},
   "outputs": [
    {
     "name": "stdout",
     "output_type": "stream",
     "text": [
      "Pais         object\n",
      "PIB_pc        int64\n",
      "Poblacion     int64\n",
      "dtype: object\n"
     ]
    }
   ],
   "source": [
    "print(pib_c.dtypes)"
   ]
  },
  {
   "cell_type": "markdown",
   "id": "2bcc5450-16d3-45d4-ba3d-0c34617f7db3",
   "metadata": {},
   "source": [
    "Por último, verefiquemos que no haya datos tipo *NaN* o nulos."
   ]
  },
  {
   "cell_type": "code",
   "execution_count": 20,
   "id": "69800602-7247-4914-b4b6-e0ac48e181d1",
   "metadata": {},
   "outputs": [
    {
     "name": "stdout",
     "output_type": "stream",
     "text": [
      "PIB_pc nan = 0\n",
      "PIB_nc nulls = 0\n",
      "Población nan = 0\n",
      "Población nulls = 0\n",
      "País nan = 0\n",
      "Pais nulls = 0\n"
     ]
    }
   ],
   "source": [
    "# isna() determinar si algún registro tiene algún valor NaN y en caso de ser cierto, muestra 'True'\n",
    "# con sum(), se hace una suma de todos los valores 'True' obtenidos con el método isna()\n",
    "# Análogamente con isnull(), donde este método nos muestra sí hay valores nulos o 'None'\n",
    "print(\"PIB_pc nan = \" + str(pib_c['PIB_pc'].isna().sum()) + \"\\n\" + \"PIB_nc nulls = \" + str(pib_c['PIB_pc'].isnull().sum()))\n",
    "print(\"Población nan = \" + str(pib_c['Poblacion'].isna().sum()) +  \"\\n\" + \"Población nulls = \" + str(pib_c['Poblacion'].isnull().sum()))\n",
    "print(\"País nan = \" + str(pib_c['Pais'].isna().sum()) +  \"\\n\" + \"Pais nulls = \" + str(pib_c['Pais'].isnull().sum()))"
   ]
  },
  {
   "cell_type": "markdown",
   "id": "f07c4e8b-dbca-4301-ad16-f30ba825e6f4",
   "metadata": {},
   "source": [
    "Como no tenemos datos faltante ya tenemos este dataframe limpio."
   ]
  },
  {
   "cell_type": "markdown",
   "id": "a0f80589-5b50-4c8b-8c05-b351795c39c3",
   "metadata": {},
   "source": [
    "### Índice Gini\n",
    "\n",
    "Se hará la limpieza de datos, análoga al dataframe anterior."
   ]
  },
  {
   "cell_type": "code",
   "execution_count": 21,
   "id": "3ad58471-269a-437b-bc78-810c1b93d287",
   "metadata": {},
   "outputs": [
    {
     "data": {
      "text/html": [
       "<div>\n",
       "<style scoped>\n",
       "    .dataframe tbody tr th:only-of-type {\n",
       "        vertical-align: middle;\n",
       "    }\n",
       "\n",
       "    .dataframe tbody tr th {\n",
       "        vertical-align: top;\n",
       "    }\n",
       "\n",
       "    .dataframe thead th {\n",
       "        text-align: right;\n",
       "    }\n",
       "</style>\n",
       "<table border=\"1\" class=\"dataframe\">\n",
       "  <thead>\n",
       "    <tr style=\"text-align: right;\">\n",
       "      <th></th>\n",
       "      <th>country</th>\n",
       "      <th>giniWB</th>\n",
       "      <th>yearWB</th>\n",
       "      <th>giniCIA</th>\n",
       "      <th>yearCIA</th>\n",
       "      <th>pop2022</th>\n",
       "    </tr>\n",
       "  </thead>\n",
       "  <tbody>\n",
       "    <tr>\n",
       "      <th>171</th>\n",
       "      <td>Hong Kong</td>\n",
       "      <td>NaN</td>\n",
       "      <td>NaN</td>\n",
       "      <td>53.9</td>\n",
       "      <td>2016.0</td>\n",
       "      <td>7604.299</td>\n",
       "    </tr>\n",
       "    <tr>\n",
       "      <th>172</th>\n",
       "      <td>Cambodia</td>\n",
       "      <td>NaN</td>\n",
       "      <td>NaN</td>\n",
       "      <td>37.9</td>\n",
       "      <td>2008.0</td>\n",
       "      <td>17168.639</td>\n",
       "    </tr>\n",
       "    <tr>\n",
       "      <th>173</th>\n",
       "      <td>Taiwan</td>\n",
       "      <td>NaN</td>\n",
       "      <td>NaN</td>\n",
       "      <td>33.6</td>\n",
       "      <td>2014.0</td>\n",
       "      <td>23888.595</td>\n",
       "    </tr>\n",
       "    <tr>\n",
       "      <th>174</th>\n",
       "      <td>Saudi Arabia</td>\n",
       "      <td>NaN</td>\n",
       "      <td>NaN</td>\n",
       "      <td>45.9</td>\n",
       "      <td>2013.0</td>\n",
       "      <td>35844.909</td>\n",
       "    </tr>\n",
       "    <tr>\n",
       "      <th>175</th>\n",
       "      <td>Afghanistan</td>\n",
       "      <td>NaN</td>\n",
       "      <td>NaN</td>\n",
       "      <td>29.4</td>\n",
       "      <td>2008.0</td>\n",
       "      <td>40754.388</td>\n",
       "    </tr>\n",
       "  </tbody>\n",
       "</table>\n",
       "</div>"
      ],
      "text/plain": [
       "          country  giniWB  yearWB  giniCIA  yearCIA    pop2022\n",
       "171     Hong Kong     NaN     NaN     53.9   2016.0   7604.299\n",
       "172      Cambodia     NaN     NaN     37.9   2008.0  17168.639\n",
       "173        Taiwan     NaN     NaN     33.6   2014.0  23888.595\n",
       "174  Saudi Arabia     NaN     NaN     45.9   2013.0  35844.909\n",
       "175   Afghanistan     NaN     NaN     29.4   2008.0  40754.388"
      ]
     },
     "execution_count": 21,
     "metadata": {},
     "output_type": "execute_result"
    }
   ],
   "source": [
    "gini_c.tail(5)"
   ]
  },
  {
   "cell_type": "code",
   "execution_count": 22,
   "id": "8e0fdb34-6a65-4b32-a7c1-d0e5d041e24b",
   "metadata": {},
   "outputs": [
    {
     "data": {
      "text/plain": [
       "(176, 6)"
      ]
     },
     "execution_count": 22,
     "metadata": {},
     "output_type": "execute_result"
    }
   ],
   "source": [
    "gini_c.shape"
   ]
  },
  {
   "cell_type": "markdown",
   "id": "bc26ada6-39d5-4adc-9f37-f7dbaedd2257",
   "metadata": {},
   "source": [
    "Debido a que solo nos interesa la población del 2021 para este análisis, borraremos la columna que contiene la población de cada país del año 2022. Por otro lado, se tomará el promedio de los índices gini *WB* y *CÍA* para acompletar los datos entre sí puesto que hay datos *NaN* que en la otra columna no están y viceversa, también para tener una variable que tome en cuenta ambas variables."
   ]
  },
  {
   "cell_type": "code",
   "execution_count": 23,
   "id": "d6d64169-bd4a-4012-bf9e-47c5ff81ec5e",
   "metadata": {},
   "outputs": [
    {
     "data": {
      "text/html": [
       "<div>\n",
       "<style scoped>\n",
       "    .dataframe tbody tr th:only-of-type {\n",
       "        vertical-align: middle;\n",
       "    }\n",
       "\n",
       "    .dataframe tbody tr th {\n",
       "        vertical-align: top;\n",
       "    }\n",
       "\n",
       "    .dataframe thead th {\n",
       "        text-align: right;\n",
       "    }\n",
       "</style>\n",
       "<table border=\"1\" class=\"dataframe\">\n",
       "  <thead>\n",
       "    <tr style=\"text-align: right;\">\n",
       "      <th></th>\n",
       "      <th>country</th>\n",
       "      <th>giniWB</th>\n",
       "      <th>yearWB</th>\n",
       "      <th>giniCIA</th>\n",
       "      <th>yearCIA</th>\n",
       "      <th>pop2022</th>\n",
       "      <th>Gini</th>\n",
       "    </tr>\n",
       "  </thead>\n",
       "  <tbody>\n",
       "    <tr>\n",
       "      <th>171</th>\n",
       "      <td>Hong Kong</td>\n",
       "      <td>NaN</td>\n",
       "      <td>NaN</td>\n",
       "      <td>53.9</td>\n",
       "      <td>2016.0</td>\n",
       "      <td>7604.299</td>\n",
       "      <td>53.9</td>\n",
       "    </tr>\n",
       "    <tr>\n",
       "      <th>172</th>\n",
       "      <td>Cambodia</td>\n",
       "      <td>NaN</td>\n",
       "      <td>NaN</td>\n",
       "      <td>37.9</td>\n",
       "      <td>2008.0</td>\n",
       "      <td>17168.639</td>\n",
       "      <td>37.9</td>\n",
       "    </tr>\n",
       "    <tr>\n",
       "      <th>173</th>\n",
       "      <td>Taiwan</td>\n",
       "      <td>NaN</td>\n",
       "      <td>NaN</td>\n",
       "      <td>33.6</td>\n",
       "      <td>2014.0</td>\n",
       "      <td>23888.595</td>\n",
       "      <td>33.6</td>\n",
       "    </tr>\n",
       "    <tr>\n",
       "      <th>174</th>\n",
       "      <td>Saudi Arabia</td>\n",
       "      <td>NaN</td>\n",
       "      <td>NaN</td>\n",
       "      <td>45.9</td>\n",
       "      <td>2013.0</td>\n",
       "      <td>35844.909</td>\n",
       "      <td>45.9</td>\n",
       "    </tr>\n",
       "    <tr>\n",
       "      <th>175</th>\n",
       "      <td>Afghanistan</td>\n",
       "      <td>NaN</td>\n",
       "      <td>NaN</td>\n",
       "      <td>29.4</td>\n",
       "      <td>2008.0</td>\n",
       "      <td>40754.388</td>\n",
       "      <td>29.4</td>\n",
       "    </tr>\n",
       "  </tbody>\n",
       "</table>\n",
       "</div>"
      ],
      "text/plain": [
       "          country  giniWB  yearWB  giniCIA  yearCIA    pop2022  Gini\n",
       "171     Hong Kong     NaN     NaN     53.9   2016.0   7604.299  53.9\n",
       "172      Cambodia     NaN     NaN     37.9   2008.0  17168.639  37.9\n",
       "173        Taiwan     NaN     NaN     33.6   2014.0  23888.595  33.6\n",
       "174  Saudi Arabia     NaN     NaN     45.9   2013.0  35844.909  45.9\n",
       "175   Afghanistan     NaN     NaN     29.4   2008.0  40754.388  29.4"
      ]
     },
     "execution_count": 23,
     "metadata": {},
     "output_type": "execute_result"
    }
   ],
   "source": [
    "gini_c['Gini'] = gini_c[['giniWB','giniCIA']].mean(axis = 1, skipna = True)\n",
    "gini_c.tail()"
   ]
  },
  {
   "cell_type": "markdown",
   "id": "3b02dfb9-8409-406d-abfb-910dffa90b4d",
   "metadata": {},
   "source": [
    "Ahora, solo nos quedaremos con las columnas de interes y cambiar los nombres."
   ]
  },
  {
   "cell_type": "code",
   "execution_count": 24,
   "id": "47c638b6-39cc-40b6-915f-8386e64e5c8a",
   "metadata": {},
   "outputs": [
    {
     "data": {
      "text/html": [
       "<div>\n",
       "<style scoped>\n",
       "    .dataframe tbody tr th:only-of-type {\n",
       "        vertical-align: middle;\n",
       "    }\n",
       "\n",
       "    .dataframe tbody tr th {\n",
       "        vertical-align: top;\n",
       "    }\n",
       "\n",
       "    .dataframe thead th {\n",
       "        text-align: right;\n",
       "    }\n",
       "</style>\n",
       "<table border=\"1\" class=\"dataframe\">\n",
       "  <thead>\n",
       "    <tr style=\"text-align: right;\">\n",
       "      <th></th>\n",
       "      <th>Pais</th>\n",
       "      <th>Gini</th>\n",
       "    </tr>\n",
       "  </thead>\n",
       "  <tbody>\n",
       "    <tr>\n",
       "      <th>171</th>\n",
       "      <td>Hong Kong</td>\n",
       "      <td>53.9</td>\n",
       "    </tr>\n",
       "    <tr>\n",
       "      <th>172</th>\n",
       "      <td>Cambodia</td>\n",
       "      <td>37.9</td>\n",
       "    </tr>\n",
       "    <tr>\n",
       "      <th>173</th>\n",
       "      <td>Taiwan</td>\n",
       "      <td>33.6</td>\n",
       "    </tr>\n",
       "    <tr>\n",
       "      <th>174</th>\n",
       "      <td>Saudi Arabia</td>\n",
       "      <td>45.9</td>\n",
       "    </tr>\n",
       "    <tr>\n",
       "      <th>175</th>\n",
       "      <td>Afghanistan</td>\n",
       "      <td>29.4</td>\n",
       "    </tr>\n",
       "  </tbody>\n",
       "</table>\n",
       "</div>"
      ],
      "text/plain": [
       "             Pais  Gini\n",
       "171     Hong Kong  53.9\n",
       "172      Cambodia  37.9\n",
       "173        Taiwan  33.6\n",
       "174  Saudi Arabia  45.9\n",
       "175   Afghanistan  29.4"
      ]
     },
     "execution_count": 24,
     "metadata": {},
     "output_type": "execute_result"
    }
   ],
   "source": [
    "gini_c = gini_c[['country','Gini']]\n",
    "gini_names = ['Pais','Gini']\n",
    "gini_c.columns = gini_names\n",
    "gini_c.tail()"
   ]
  },
  {
   "cell_type": "markdown",
   "id": "724b41df-6638-4002-bdda-195d283e3d2d",
   "metadata": {},
   "source": [
    "Ahora, nos aseguraremos que los datos sean del tipo correcto y que no haya datos faltantes tal y como se hizo en el caso anterior."
   ]
  },
  {
   "cell_type": "code",
   "execution_count": 25,
   "id": "0b56c98a-9cdd-436b-af77-7d3d89730ec1",
   "metadata": {},
   "outputs": [
    {
     "name": "stdout",
     "output_type": "stream",
     "text": [
      "Pais     object\n",
      "Gini    float64\n",
      "dtype: object\n",
      "\n",
      "Gini nan = 0\n",
      "Gini nulls = 0\n",
      "País nan = 0\n",
      "Pais nulls = 0\n"
     ]
    }
   ],
   "source": [
    "gini_c['Gini'] = pd.to_numeric(gini_c['Gini'])\n",
    "print(gini_c.dtypes)\n",
    "print(\"\\nGini nan = \" + str(gini_c['Gini'].isna().sum()) + \"\\n\" + \"Gini nulls = \" + str(gini_c['Gini'].isnull().sum()))\n",
    "print(\"País nan = \" + str(gini_c['Pais'].isna().sum()) +  \"\\n\" + \"Pais nulls = \" + str(gini_c['Pais'].isnull().sum()))"
   ]
  },
  {
   "cell_type": "markdown",
   "id": "2f756e28-60fa-41b8-a417-24988cf76114",
   "metadata": {},
   "source": [
    "Por lo tanto, ahora tenemos este dataframe limpio."
   ]
  },
  {
   "cell_type": "markdown",
   "id": "40f6a867-e469-4e9d-bf74-81e99e138da7",
   "metadata": {},
   "source": [
    "## Tasa de inflación\n",
    "\n",
    "Repitamos el proceso para la variable de la tasa de inflación."
   ]
  },
  {
   "cell_type": "code",
   "execution_count": 26,
   "id": "bddf1420-3cc4-453b-b627-9ca2b7567af8",
   "metadata": {},
   "outputs": [
    {
     "data": {
      "text/html": [
       "<div>\n",
       "<style scoped>\n",
       "    .dataframe tbody tr th:only-of-type {\n",
       "        vertical-align: middle;\n",
       "    }\n",
       "\n",
       "    .dataframe tbody tr th {\n",
       "        vertical-align: top;\n",
       "    }\n",
       "\n",
       "    .dataframe thead th {\n",
       "        text-align: right;\n",
       "    }\n",
       "</style>\n",
       "<table border=\"1\" class=\"dataframe\">\n",
       "  <thead>\n",
       "    <tr style=\"text-align: right;\">\n",
       "      <th></th>\n",
       "      <th>country</th>\n",
       "      <th>lastPerc</th>\n",
       "      <th>previousPerc</th>\n",
       "      <th>dateReference</th>\n",
       "    </tr>\n",
       "  </thead>\n",
       "  <tbody>\n",
       "    <tr>\n",
       "      <th>0</th>\n",
       "      <td>Venezuela</td>\n",
       "      <td>9586.0</td>\n",
       "      <td>14291.00</td>\n",
       "      <td>12/19</td>\n",
       "    </tr>\n",
       "    <tr>\n",
       "      <th>1</th>\n",
       "      <td>Zimbabwe</td>\n",
       "      <td>676.0</td>\n",
       "      <td>540.00</td>\n",
       "      <td>03/20</td>\n",
       "    </tr>\n",
       "    <tr>\n",
       "      <th>2</th>\n",
       "      <td>Sudan</td>\n",
       "      <td>71.4</td>\n",
       "      <td>64.28</td>\n",
       "      <td>02/20</td>\n",
       "    </tr>\n",
       "    <tr>\n",
       "      <th>3</th>\n",
       "      <td>Argentina</td>\n",
       "      <td>46.9</td>\n",
       "      <td>50.30</td>\n",
       "      <td>03/20</td>\n",
       "    </tr>\n",
       "    <tr>\n",
       "      <th>4</th>\n",
       "      <td>South Sudan</td>\n",
       "      <td>36.4</td>\n",
       "      <td>69.00</td>\n",
       "      <td>01/20</td>\n",
       "    </tr>\n",
       "  </tbody>\n",
       "</table>\n",
       "</div>"
      ],
      "text/plain": [
       "       country  lastPerc  previousPerc dateReference\n",
       "0    Venezuela    9586.0      14291.00         12/19\n",
       "1     Zimbabwe     676.0        540.00         03/20\n",
       "2        Sudan      71.4         64.28         02/20\n",
       "3    Argentina      46.9         50.30         03/20\n",
       "4  South Sudan      36.4         69.00         01/20"
      ]
     },
     "execution_count": 26,
     "metadata": {},
     "output_type": "execute_result"
    }
   ],
   "source": [
    "inflacion_c.head()"
   ]
  },
  {
   "cell_type": "code",
   "execution_count": 27,
   "id": "4fc1de2f-d9a7-46c7-9161-774a01c6a55d",
   "metadata": {},
   "outputs": [
    {
     "data": {
      "text/plain": [
       "(181, 4)"
      ]
     },
     "execution_count": 27,
     "metadata": {},
     "output_type": "execute_result"
    }
   ],
   "source": [
    "inflacion_c.shape"
   ]
  },
  {
   "cell_type": "markdown",
   "id": "1537d16d-bf80-4eab-aa4a-c24e5ce26b8e",
   "metadata": {},
   "source": [
    "En este caso, nos quedaremos con el último valor de la tasa de inflación, es decir, la columna llamada *lastPerc*."
   ]
  },
  {
   "cell_type": "code",
   "execution_count": 28,
   "id": "369dbcfc-3d21-4a26-bb58-8619d976691d",
   "metadata": {},
   "outputs": [
    {
     "data": {
      "text/html": [
       "<div>\n",
       "<style scoped>\n",
       "    .dataframe tbody tr th:only-of-type {\n",
       "        vertical-align: middle;\n",
       "    }\n",
       "\n",
       "    .dataframe tbody tr th {\n",
       "        vertical-align: top;\n",
       "    }\n",
       "\n",
       "    .dataframe thead th {\n",
       "        text-align: right;\n",
       "    }\n",
       "</style>\n",
       "<table border=\"1\" class=\"dataframe\">\n",
       "  <thead>\n",
       "    <tr style=\"text-align: right;\">\n",
       "      <th></th>\n",
       "      <th>Pais</th>\n",
       "      <th>Inflacion_pc</th>\n",
       "    </tr>\n",
       "  </thead>\n",
       "  <tbody>\n",
       "    <tr>\n",
       "      <th>0</th>\n",
       "      <td>Venezuela</td>\n",
       "      <td>9586.0</td>\n",
       "    </tr>\n",
       "    <tr>\n",
       "      <th>1</th>\n",
       "      <td>Zimbabwe</td>\n",
       "      <td>676.0</td>\n",
       "    </tr>\n",
       "    <tr>\n",
       "      <th>2</th>\n",
       "      <td>Sudan</td>\n",
       "      <td>71.4</td>\n",
       "    </tr>\n",
       "    <tr>\n",
       "      <th>3</th>\n",
       "      <td>Argentina</td>\n",
       "      <td>46.9</td>\n",
       "    </tr>\n",
       "    <tr>\n",
       "      <th>4</th>\n",
       "      <td>South Sudan</td>\n",
       "      <td>36.4</td>\n",
       "    </tr>\n",
       "  </tbody>\n",
       "</table>\n",
       "</div>"
      ],
      "text/plain": [
       "          Pais  Inflacion_pc\n",
       "0    Venezuela        9586.0\n",
       "1     Zimbabwe         676.0\n",
       "2        Sudan          71.4\n",
       "3    Argentina          46.9\n",
       "4  South Sudan          36.4"
      ]
     },
     "execution_count": 28,
     "metadata": {},
     "output_type": "execute_result"
    }
   ],
   "source": [
    "inflacion_c = inflacion[['country','lastPerc']]\n",
    "inflacion_names = ['Pais', 'Inflacion_pc']\n",
    "inflacion_c.columns = inflacion_names\n",
    "inflacion_c.head()"
   ]
  },
  {
   "cell_type": "markdown",
   "id": "50b57d23-e75f-407a-b531-47bd053eb3f8",
   "metadata": {},
   "source": [
    "Verifiquemos el tipo de dato que contendrán las columnas."
   ]
  },
  {
   "cell_type": "code",
   "execution_count": 29,
   "id": "64d4d305-d24b-4c3a-97d1-51880177c2ec",
   "metadata": {},
   "outputs": [
    {
     "name": "stdout",
     "output_type": "stream",
     "text": [
      "Pais             object\n",
      "Inflacion_pc    float64\n",
      "dtype: object\n",
      "\n",
      "Inflación nan = 0\n",
      "Inflación nulls = 0\n",
      "País nan = 0\n",
      "Pais nulls = 0\n"
     ]
    }
   ],
   "source": [
    "inflacion_c['Inflacion_pc'] = pd.to_numeric(inflacion_c['Inflacion_pc'])\n",
    "print(inflacion_c.dtypes)\n",
    "print(\"\\nInflación nan = \" + str(inflacion_c['Inflacion_pc'].isna().sum()) + \"\\n\" + \"Inflación nulls = \" + str(inflacion_c['Inflacion_pc'].isnull().sum()))\n",
    "print(\"País nan = \" + str(inflacion_c['Pais'].isna().sum()) +  \"\\n\" + \"Pais nulls = \" + str(inflacion_c['Pais'].isnull().sum()))"
   ]
  },
  {
   "cell_type": "markdown",
   "id": "282024c3-42dc-42ca-9fb7-9ea8f3b02487",
   "metadata": {},
   "source": [
    "Como todos los datos están correctos, procedamos a las visualizaciones"
   ]
  },
  {
   "cell_type": "markdown",
   "id": "1982b218-aa82-4759-b7e3-841b89b19ae3",
   "metadata": {},
   "source": [
    "## Ingreso promedio per cápita\n",
    "\n",
    "Tal y como vimos anteriormente, para crear este índice se usan distintos factores a los que se les da distintos peso. No es necesario considerar todos para el ańalisis ya que estamos evitando que ele análisis sea engorroso y buscamos usar variables que tomen en cuenta otras, que en este caso es el índice *MIP*."
   ]
  },
  {
   "cell_type": "code",
   "execution_count": 30,
   "id": "e23deb55-e8bf-47c1-8219-b3f038c111bd",
   "metadata": {},
   "outputs": [
    {
     "data": {
      "text/html": [
       "<div>\n",
       "<style scoped>\n",
       "    .dataframe tbody tr th:only-of-type {\n",
       "        vertical-align: middle;\n",
       "    }\n",
       "\n",
       "    .dataframe tbody tr th {\n",
       "        vertical-align: top;\n",
       "    }\n",
       "\n",
       "    .dataframe thead th {\n",
       "        text-align: right;\n",
       "    }\n",
       "</style>\n",
       "<table border=\"1\" class=\"dataframe\">\n",
       "  <thead>\n",
       "    <tr style=\"text-align: right;\">\n",
       "      <th></th>\n",
       "      <th>country</th>\n",
       "      <th>medianHouseholdIncome</th>\n",
       "      <th>medianPerCapitaIncome</th>\n",
       "      <th>medianAnnualIncome</th>\n",
       "      <th>pop2021</th>\n",
       "    </tr>\n",
       "  </thead>\n",
       "  <tbody>\n",
       "    <tr>\n",
       "      <th>0</th>\n",
       "      <td>Luxembourg</td>\n",
       "      <td>52493.0</td>\n",
       "      <td>18418.0</td>\n",
       "      <td>73910.0</td>\n",
       "      <td>634.814</td>\n",
       "    </tr>\n",
       "    <tr>\n",
       "      <th>1</th>\n",
       "      <td>Norway</td>\n",
       "      <td>51489.0</td>\n",
       "      <td>19308.0</td>\n",
       "      <td>82500.0</td>\n",
       "      <td>5465.630</td>\n",
       "    </tr>\n",
       "    <tr>\n",
       "      <th>2</th>\n",
       "      <td>Sweden</td>\n",
       "      <td>50514.0</td>\n",
       "      <td>18632.0</td>\n",
       "      <td>55840.0</td>\n",
       "      <td>10160.169</td>\n",
       "    </tr>\n",
       "    <tr>\n",
       "      <th>3</th>\n",
       "      <td>Australia</td>\n",
       "      <td>46555.0</td>\n",
       "      <td>15026.0</td>\n",
       "      <td>54910.0</td>\n",
       "      <td>25788.215</td>\n",
       "    </tr>\n",
       "    <tr>\n",
       "      <th>4</th>\n",
       "      <td>Denmark</td>\n",
       "      <td>44360.0</td>\n",
       "      <td>18262.0</td>\n",
       "      <td>63240.0</td>\n",
       "      <td>5813.298</td>\n",
       "    </tr>\n",
       "  </tbody>\n",
       "</table>\n",
       "</div>"
      ],
      "text/plain": [
       "      country  medianHouseholdIncome  medianPerCapitaIncome  \\\n",
       "0  Luxembourg                52493.0                18418.0   \n",
       "1      Norway                51489.0                19308.0   \n",
       "2      Sweden                50514.0                18632.0   \n",
       "3   Australia                46555.0                15026.0   \n",
       "4     Denmark                44360.0                18262.0   \n",
       "\n",
       "   medianAnnualIncome    pop2021  \n",
       "0             73910.0    634.814  \n",
       "1             82500.0   5465.630  \n",
       "2             55840.0  10160.169  \n",
       "3             54910.0  25788.215  \n",
       "4             63240.0   5813.298  "
      ]
     },
     "execution_count": 30,
     "metadata": {},
     "output_type": "execute_result"
    }
   ],
   "source": [
    "income_c.head()"
   ]
  },
  {
   "cell_type": "code",
   "execution_count": 31,
   "id": "3ad67cc3-e529-42a0-a873-b295a4711b30",
   "metadata": {},
   "outputs": [
    {
     "data": {
      "text/plain": [
       "(139, 5)"
      ]
     },
     "execution_count": 31,
     "metadata": {},
     "output_type": "execute_result"
    }
   ],
   "source": [
    "income_c.shape"
   ]
  },
  {
   "cell_type": "markdown",
   "id": "ebcdc6e0-14b5-47f2-95db-2760ed84af01",
   "metadata": {},
   "source": [
    "En este dataframe, el *MPI* es la columna llamada *OverallScore*"
   ]
  },
  {
   "cell_type": "code",
   "execution_count": 37,
   "id": "d55622b4-a582-4d4b-959e-30707f099230",
   "metadata": {},
   "outputs": [
    {
     "data": {
      "text/html": [
       "<div>\n",
       "<style scoped>\n",
       "    .dataframe tbody tr th:only-of-type {\n",
       "        vertical-align: middle;\n",
       "    }\n",
       "\n",
       "    .dataframe tbody tr th {\n",
       "        vertical-align: top;\n",
       "    }\n",
       "\n",
       "    .dataframe thead th {\n",
       "        text-align: right;\n",
       "    }\n",
       "</style>\n",
       "<table border=\"1\" class=\"dataframe\">\n",
       "  <thead>\n",
       "    <tr style=\"text-align: right;\">\n",
       "      <th></th>\n",
       "      <th>Pais</th>\n",
       "      <th>Income_avg_pc</th>\n",
       "    </tr>\n",
       "  </thead>\n",
       "  <tbody>\n",
       "    <tr>\n",
       "      <th>0</th>\n",
       "      <td>Luxembourg</td>\n",
       "      <td>18418.0</td>\n",
       "    </tr>\n",
       "    <tr>\n",
       "      <th>1</th>\n",
       "      <td>Norway</td>\n",
       "      <td>19308.0</td>\n",
       "    </tr>\n",
       "    <tr>\n",
       "      <th>2</th>\n",
       "      <td>Sweden</td>\n",
       "      <td>18632.0</td>\n",
       "    </tr>\n",
       "    <tr>\n",
       "      <th>3</th>\n",
       "      <td>Australia</td>\n",
       "      <td>15026.0</td>\n",
       "    </tr>\n",
       "    <tr>\n",
       "      <th>4</th>\n",
       "      <td>Denmark</td>\n",
       "      <td>18262.0</td>\n",
       "    </tr>\n",
       "  </tbody>\n",
       "</table>\n",
       "</div>"
      ],
      "text/plain": [
       "         Pais  Income_avg_pc\n",
       "0  Luxembourg        18418.0\n",
       "1      Norway        19308.0\n",
       "2      Sweden        18632.0\n",
       "3   Australia        15026.0\n",
       "4     Denmark        18262.0"
      ]
     },
     "execution_count": 37,
     "metadata": {},
     "output_type": "execute_result"
    }
   ],
   "source": [
    "income_c = income_c[['country','medianPerCapitaIncome']]\n",
    "income_names = ['Pais', 'Income_avg_pc']\n",
    "income_c.columns = income_names\n",
    "income_c.head()"
   ]
  },
  {
   "cell_type": "markdown",
   "id": "dc713ecc-ac23-4965-afcd-ebc0850e60b1",
   "metadata": {},
   "source": [
    "Lo que sigues es análogo al tratamiento de los dataframes anteriores."
   ]
  },
  {
   "cell_type": "code",
   "execution_count": 38,
   "id": "935221de-95cc-48aa-a6ee-de55263465ba",
   "metadata": {},
   "outputs": [
    {
     "name": "stdout",
     "output_type": "stream",
     "text": [
      "Pais              object\n",
      "Income_avg_pc    float64\n",
      "dtype: object\n",
      "\n",
      "Income_avg_pc nan = 8\n",
      "Income_avg_pc nulls = 8\n",
      "País nan = 0\n",
      "Pais nulls = 0\n"
     ]
    }
   ],
   "source": [
    "income_c['Income_avg_pc'] = pd.to_numeric(income_c['Income_avg_pc'])\n",
    "print(income_c.dtypes)\n",
    "print(\"\\nIncome_avg_pc nan = \" + str(income_c['Income_avg_pc'].isna().sum()) + \"\\n\" + \"Income_avg_pc nulls = \" + str(income_c['Income_avg_pc'].isnull().sum()))\n",
    "print(\"País nan = \" + str(income_c['Pais'].isna().sum()) +  \"\\n\" + \"Pais nulls = \" + str(income_c['Pais'].isnull().sum()))"
   ]
  },
  {
   "cell_type": "markdown",
   "id": "dc207f91-d6cd-4ba8-a60c-799af550f9fc",
   "metadata": {},
   "source": [
    "Acabamos de ver que está limpio el dataframe por lo que podemos hacer las visualizaciones."
   ]
  },
  {
   "cell_type": "markdown",
   "id": "1f9ced02-fb90-45a8-9cce-66e51364e7d5",
   "metadata": {},
   "source": [
    "## Expectativa de vida\n",
    "\n",
    "La variable que toma en cuenta las demás es la expectativa de vida de ambos sexos."
   ]
  },
  {
   "cell_type": "code",
   "execution_count": 39,
   "id": "6bbe6030-de55-405e-a03a-5d486ea29529",
   "metadata": {},
   "outputs": [
    {
     "data": {
      "text/html": [
       "<div>\n",
       "<style scoped>\n",
       "    .dataframe tbody tr th:only-of-type {\n",
       "        vertical-align: middle;\n",
       "    }\n",
       "\n",
       "    .dataframe tbody tr th {\n",
       "        vertical-align: top;\n",
       "    }\n",
       "\n",
       "    .dataframe thead th {\n",
       "        text-align: right;\n",
       "    }\n",
       "</style>\n",
       "<table border=\"1\" class=\"dataframe\">\n",
       "  <thead>\n",
       "    <tr style=\"text-align: right;\">\n",
       "      <th></th>\n",
       "      <th>Rank</th>\n",
       "      <th>Country</th>\n",
       "      <th>Life Expectancy \\n (both sexes)</th>\n",
       "      <th>Females \\n Life Expectancy</th>\n",
       "      <th>Males \\n Life Expectancy</th>\n",
       "    </tr>\n",
       "  </thead>\n",
       "  <tbody>\n",
       "    <tr>\n",
       "      <th>0</th>\n",
       "      <td>1</td>\n",
       "      <td>Hong Kong</td>\n",
       "      <td>85.29</td>\n",
       "      <td>88.17</td>\n",
       "      <td>82.38</td>\n",
       "    </tr>\n",
       "    <tr>\n",
       "      <th>1</th>\n",
       "      <td>2</td>\n",
       "      <td>Japan</td>\n",
       "      <td>85.03</td>\n",
       "      <td>88.09</td>\n",
       "      <td>81.91</td>\n",
       "    </tr>\n",
       "    <tr>\n",
       "      <th>2</th>\n",
       "      <td>3</td>\n",
       "      <td>Macao</td>\n",
       "      <td>84.68</td>\n",
       "      <td>87.62</td>\n",
       "      <td>81.73</td>\n",
       "    </tr>\n",
       "    <tr>\n",
       "      <th>3</th>\n",
       "      <td>4</td>\n",
       "      <td>Switzerland</td>\n",
       "      <td>84.25</td>\n",
       "      <td>86.02</td>\n",
       "      <td>82.42</td>\n",
       "    </tr>\n",
       "    <tr>\n",
       "      <th>4</th>\n",
       "      <td>5</td>\n",
       "      <td>Singapore</td>\n",
       "      <td>84.07</td>\n",
       "      <td>86.15</td>\n",
       "      <td>82.06</td>\n",
       "    </tr>\n",
       "  </tbody>\n",
       "</table>\n",
       "</div>"
      ],
      "text/plain": [
       "   Rank      Country  Life Expectancy \\n (both sexes)  \\\n",
       "0     1    Hong Kong                            85.29   \n",
       "1     2        Japan                            85.03   \n",
       "2     3        Macao                            84.68   \n",
       "3     4  Switzerland                            84.25   \n",
       "4     5    Singapore                            84.07   \n",
       "\n",
       "   Females \\n Life Expectancy  Males \\n Life Expectancy  \n",
       "0                       88.17                     82.38  \n",
       "1                       88.09                     81.91  \n",
       "2                       87.62                     81.73  \n",
       "3                       86.02                     82.42  \n",
       "4                       86.15                     82.06  "
      ]
     },
     "execution_count": 39,
     "metadata": {},
     "output_type": "execute_result"
    }
   ],
   "source": [
    "e_vida_c.head()"
   ]
  },
  {
   "cell_type": "code",
   "execution_count": 40,
   "id": "243a3f03-d21a-4a0a-a8a9-651c90791e69",
   "metadata": {},
   "outputs": [
    {
     "data": {
      "text/plain": [
       "(202, 5)"
      ]
     },
     "execution_count": 40,
     "metadata": {},
     "output_type": "execute_result"
    }
   ],
   "source": [
    "e_vida_c.shape"
   ]
  },
  {
   "cell_type": "code",
   "execution_count": 41,
   "id": "0c5bcc3b-a507-4318-a20b-cebdb8ac0106",
   "metadata": {},
   "outputs": [
    {
     "data": {
      "text/html": [
       "<div>\n",
       "<style scoped>\n",
       "    .dataframe tbody tr th:only-of-type {\n",
       "        vertical-align: middle;\n",
       "    }\n",
       "\n",
       "    .dataframe tbody tr th {\n",
       "        vertical-align: top;\n",
       "    }\n",
       "\n",
       "    .dataframe thead th {\n",
       "        text-align: right;\n",
       "    }\n",
       "</style>\n",
       "<table border=\"1\" class=\"dataframe\">\n",
       "  <thead>\n",
       "    <tr style=\"text-align: right;\">\n",
       "      <th></th>\n",
       "      <th>Pais</th>\n",
       "      <th>Expectativa_vida</th>\n",
       "    </tr>\n",
       "  </thead>\n",
       "  <tbody>\n",
       "    <tr>\n",
       "      <th>0</th>\n",
       "      <td>Hong Kong</td>\n",
       "      <td>85.29</td>\n",
       "    </tr>\n",
       "    <tr>\n",
       "      <th>1</th>\n",
       "      <td>Japan</td>\n",
       "      <td>85.03</td>\n",
       "    </tr>\n",
       "    <tr>\n",
       "      <th>2</th>\n",
       "      <td>Macao</td>\n",
       "      <td>84.68</td>\n",
       "    </tr>\n",
       "    <tr>\n",
       "      <th>3</th>\n",
       "      <td>Switzerland</td>\n",
       "      <td>84.25</td>\n",
       "    </tr>\n",
       "    <tr>\n",
       "      <th>4</th>\n",
       "      <td>Singapore</td>\n",
       "      <td>84.07</td>\n",
       "    </tr>\n",
       "  </tbody>\n",
       "</table>\n",
       "</div>"
      ],
      "text/plain": [
       "          Pais  Expectativa_vida\n",
       "0    Hong Kong             85.29\n",
       "1        Japan             85.03\n",
       "2        Macao             84.68\n",
       "3  Switzerland             84.25\n",
       "4    Singapore             84.07"
      ]
     },
     "execution_count": 41,
     "metadata": {},
     "output_type": "execute_result"
    }
   ],
   "source": [
    "e_vida_c = e_vida_c[['Country', 'Life Expectancy \\n (both sexes)']]\n",
    "e_life_names = ['Pais', 'Expectativa_vida']\n",
    "e_vida_c.columns = e_life_names\n",
    "e_vida_c.head()"
   ]
  },
  {
   "cell_type": "code",
   "execution_count": 42,
   "id": "56c59356-2234-48d2-a8d8-2572b6bceb60",
   "metadata": {},
   "outputs": [
    {
     "name": "stdout",
     "output_type": "stream",
     "text": [
      "Pais                 object\n",
      "Expectativa_vida    float64\n",
      "dtype: object\n",
      "\n",
      "Expectativa de vida nan = 0\n",
      "Expectativa de vida nulls = 0\n",
      "País nan = 0\n",
      "Pais nulls = 0\n"
     ]
    }
   ],
   "source": [
    "e_vida_c['Expectativa_vida'] = pd.to_numeric(e_vida_c['Expectativa_vida'])\n",
    "print(e_vida_c.dtypes)\n",
    "print(\"\\nExpectativa de vida nan = \" + str(e_vida_c['Expectativa_vida'].isna().sum()) + \"\\n\" + \"Expectativa de vida nulls = \" + str(e_vida_c['Expectativa_vida'].isnull().sum()))\n",
    "print(\"País nan = \" + str(e_vida_c['Pais'].isna().sum()) +  \"\\n\" + \"Pais nulls = \" + str(e_vida_c['Pais'].isnull().sum()))"
   ]
  },
  {
   "cell_type": "markdown",
   "id": "b8582d10-57ef-4c8a-bd44-8a79b726bfad",
   "metadata": {},
   "source": [
    "Como todo está correcto, procedamos a graficar."
   ]
  },
  {
   "cell_type": "markdown",
   "id": "cefb61b6-272b-48c9-8885-c1bcefe018c1",
   "metadata": {},
   "source": [
    "## Índice de calidad de vida\n",
    "\n",
    "Análogo al caso del índice *MPI*, el índice de calidad de vida toma en cuenta distintas variables con distintos pesos; es por esta razón que solo nos quedaremos con la variable que denote el índice de calidad de vida."
   ]
  },
  {
   "cell_type": "code",
   "execution_count": 43,
   "id": "b5826773-19a7-4d27-9bcd-0e36a3a3fc60",
   "metadata": {},
   "outputs": [
    {
     "data": {
      "text/html": [
       "<div>\n",
       "<style scoped>\n",
       "    .dataframe tbody tr th:only-of-type {\n",
       "        vertical-align: middle;\n",
       "    }\n",
       "\n",
       "    .dataframe tbody tr th {\n",
       "        vertical-align: top;\n",
       "    }\n",
       "\n",
       "    .dataframe thead th {\n",
       "        text-align: right;\n",
       "    }\n",
       "</style>\n",
       "<table border=\"1\" class=\"dataframe\">\n",
       "  <thead>\n",
       "    <tr style=\"text-align: right;\">\n",
       "      <th></th>\n",
       "      <th>Rank</th>\n",
       "      <th>Country</th>\n",
       "      <th>Quality of Life Index</th>\n",
       "      <th>Purchasing Power Index</th>\n",
       "      <th>Safety Index</th>\n",
       "      <th>Health Care Index</th>\n",
       "      <th>Cost of Living Index</th>\n",
       "      <th>Property Price to Income Ratio</th>\n",
       "      <th>Traffic Commute Time Index</th>\n",
       "      <th>Pollution Index</th>\n",
       "      <th>Climate Index</th>\n",
       "    </tr>\n",
       "  </thead>\n",
       "  <tbody>\n",
       "    <tr>\n",
       "      <th>0</th>\n",
       "      <td>1</td>\n",
       "      <td>Switzerland</td>\n",
       "      <td>190.82</td>\n",
       "      <td>110.96</td>\n",
       "      <td>78.65</td>\n",
       "      <td>74.47</td>\n",
       "      <td>131.75</td>\n",
       "      <td>8.42</td>\n",
       "      <td>28.73</td>\n",
       "      <td>20.09</td>\n",
       "      <td>80.05</td>\n",
       "    </tr>\n",
       "    <tr>\n",
       "      <th>1</th>\n",
       "      <td>2</td>\n",
       "      <td>Denmark</td>\n",
       "      <td>190.01</td>\n",
       "      <td>94.73</td>\n",
       "      <td>73.28</td>\n",
       "      <td>79.96</td>\n",
       "      <td>91.67</td>\n",
       "      <td>6.66</td>\n",
       "      <td>28.69</td>\n",
       "      <td>20.40</td>\n",
       "      <td>81.80</td>\n",
       "    </tr>\n",
       "    <tr>\n",
       "      <th>2</th>\n",
       "      <td>3</td>\n",
       "      <td>Netherlands</td>\n",
       "      <td>183.31</td>\n",
       "      <td>83.89</td>\n",
       "      <td>72.78</td>\n",
       "      <td>75.76</td>\n",
       "      <td>78.64</td>\n",
       "      <td>7.35</td>\n",
       "      <td>27.81</td>\n",
       "      <td>25.28</td>\n",
       "      <td>87.11</td>\n",
       "    </tr>\n",
       "    <tr>\n",
       "      <th>3</th>\n",
       "      <td>4</td>\n",
       "      <td>Finland</td>\n",
       "      <td>182.79</td>\n",
       "      <td>89.05</td>\n",
       "      <td>72.99</td>\n",
       "      <td>76.40</td>\n",
       "      <td>77.46</td>\n",
       "      <td>8.64</td>\n",
       "      <td>28.96</td>\n",
       "      <td>11.86</td>\n",
       "      <td>56.64</td>\n",
       "    </tr>\n",
       "    <tr>\n",
       "      <th>4</th>\n",
       "      <td>5</td>\n",
       "      <td>Austria</td>\n",
       "      <td>182.37</td>\n",
       "      <td>78.23</td>\n",
       "      <td>74.77</td>\n",
       "      <td>78.40</td>\n",
       "      <td>75.49</td>\n",
       "      <td>10.40</td>\n",
       "      <td>25.68</td>\n",
       "      <td>19.20</td>\n",
       "      <td>77.79</td>\n",
       "    </tr>\n",
       "  </tbody>\n",
       "</table>\n",
       "</div>"
      ],
      "text/plain": [
       "   Rank      Country  Quality of Life Index  Purchasing Power Index  \\\n",
       "0     1  Switzerland                 190.82                  110.96   \n",
       "1     2      Denmark                 190.01                   94.73   \n",
       "2     3  Netherlands                 183.31                   83.89   \n",
       "3     4      Finland                 182.79                   89.05   \n",
       "4     5      Austria                 182.37                   78.23   \n",
       "\n",
       "   Safety Index  Health Care Index  Cost of Living Index  \\\n",
       "0         78.65              74.47                131.75   \n",
       "1         73.28              79.96                 91.67   \n",
       "2         72.78              75.76                 78.64   \n",
       "3         72.99              76.40                 77.46   \n",
       "4         74.77              78.40                 75.49   \n",
       "\n",
       "   Property Price to Income Ratio  Traffic Commute Time Index  \\\n",
       "0                            8.42                       28.73   \n",
       "1                            6.66                       28.69   \n",
       "2                            7.35                       27.81   \n",
       "3                            8.64                       28.96   \n",
       "4                           10.40                       25.68   \n",
       "\n",
       "   Pollution Index  Climate Index  \n",
       "0            20.09          80.05  \n",
       "1            20.40          81.80  \n",
       "2            25.28          87.11  \n",
       "3            11.86          56.64  \n",
       "4            19.20          77.79  "
      ]
     },
     "execution_count": 43,
     "metadata": {},
     "output_type": "execute_result"
    }
   ],
   "source": [
    "c_vida_c.head()"
   ]
  },
  {
   "cell_type": "code",
   "execution_count": 44,
   "id": "1fd3fc7b-94a3-4267-b06c-d9278eb6b6b5",
   "metadata": {},
   "outputs": [
    {
     "data": {
      "text/plain": [
       "(83, 11)"
      ]
     },
     "execution_count": 44,
     "metadata": {},
     "output_type": "execute_result"
    }
   ],
   "source": [
    "c_vida_c.shape"
   ]
  },
  {
   "cell_type": "code",
   "execution_count": 45,
   "id": "96e700dd-ad01-4f40-83b3-b6f3b886e7b6",
   "metadata": {},
   "outputs": [
    {
     "data": {
      "text/html": [
       "<div>\n",
       "<style scoped>\n",
       "    .dataframe tbody tr th:only-of-type {\n",
       "        vertical-align: middle;\n",
       "    }\n",
       "\n",
       "    .dataframe tbody tr th {\n",
       "        vertical-align: top;\n",
       "    }\n",
       "\n",
       "    .dataframe thead th {\n",
       "        text-align: right;\n",
       "    }\n",
       "</style>\n",
       "<table border=\"1\" class=\"dataframe\">\n",
       "  <thead>\n",
       "    <tr style=\"text-align: right;\">\n",
       "      <th></th>\n",
       "      <th>Pais</th>\n",
       "      <th>Calidad_de_vida</th>\n",
       "    </tr>\n",
       "  </thead>\n",
       "  <tbody>\n",
       "    <tr>\n",
       "      <th>0</th>\n",
       "      <td>Switzerland</td>\n",
       "      <td>190.82</td>\n",
       "    </tr>\n",
       "    <tr>\n",
       "      <th>1</th>\n",
       "      <td>Denmark</td>\n",
       "      <td>190.01</td>\n",
       "    </tr>\n",
       "    <tr>\n",
       "      <th>2</th>\n",
       "      <td>Netherlands</td>\n",
       "      <td>183.31</td>\n",
       "    </tr>\n",
       "    <tr>\n",
       "      <th>3</th>\n",
       "      <td>Finland</td>\n",
       "      <td>182.79</td>\n",
       "    </tr>\n",
       "    <tr>\n",
       "      <th>4</th>\n",
       "      <td>Austria</td>\n",
       "      <td>182.37</td>\n",
       "    </tr>\n",
       "  </tbody>\n",
       "</table>\n",
       "</div>"
      ],
      "text/plain": [
       "          Pais  Calidad_de_vida\n",
       "0  Switzerland           190.82\n",
       "1      Denmark           190.01\n",
       "2  Netherlands           183.31\n",
       "3      Finland           182.79\n",
       "4      Austria           182.37"
      ]
     },
     "execution_count": 45,
     "metadata": {},
     "output_type": "execute_result"
    }
   ],
   "source": [
    "c_vida_c = c_vida_c[['Country', 'Quality of Life Index']]\n",
    "c_life_names = ['Pais', 'Calidad_de_vida']\n",
    "c_vida_c.columns = c_life_names\n",
    "c_vida_c.head()"
   ]
  },
  {
   "cell_type": "code",
   "execution_count": 46,
   "id": "325ec207-c052-4b0d-9a45-57a13c63054a",
   "metadata": {},
   "outputs": [
    {
     "name": "stdout",
     "output_type": "stream",
     "text": [
      "Pais                object\n",
      "Calidad_de_vida    float64\n",
      "dtype: object\n",
      "\n",
      "Calidad de vida nan = 0\n",
      "Calidad de vida nulls = 0\n",
      "País nan = 0\n",
      "Pais nulls = 0\n"
     ]
    }
   ],
   "source": [
    "c_vida_c['Calidad_de_vida'] = pd.to_numeric(c_vida_c['Calidad_de_vida'])\n",
    "print(c_vida_c.dtypes)\n",
    "print(\"\\nCalidad de vida nan = \" + str(c_vida_c['Calidad_de_vida'].isna().sum()) + \"\\n\" + \"Calidad de vida nulls = \" + str(c_vida_c['Calidad_de_vida'].isnull().sum()))\n",
    "print(\"País nan = \" + str(c_vida_c['Pais'].isna().sum()) +  \"\\n\" + \"Pais nulls = \" + str(c_vida_c['Pais'].isnull().sum()))"
   ]
  },
  {
   "cell_type": "markdown",
   "id": "48f598b3-1dcd-402d-8d7d-3020a6628908",
   "metadata": {},
   "source": [
    "Como todo está en orden, procedamos a hacer las visualizaciones."
   ]
  },
  {
   "cell_type": "markdown",
   "id": "43c30231-5825-4836-88de-1560549457da",
   "metadata": {},
   "source": [
    "## Transformación del dataframe\n",
    "\n",
    "Primero, procederemos con la creación de la base de datos que usaremos para la regresión lineal del PIB con la expectativa de vida, pero también veremos si hay alguna clase de relación explícita hay entre el PIB y la inflación para valores pequeños. Para esto unamos los dataframes por medio de la columna *País*. También se agregará la variable del logarítmo natiural del *PIB* como se mencionó en la refrencia explicada en la parte teórica."
   ]
  },
  {
   "cell_type": "code",
   "execution_count": 48,
   "id": "753a776f-34de-467b-a26d-ee0e4cf81aa2",
   "metadata": {},
   "outputs": [],
   "source": [
    "inflacion_pequenos = inflacion_c[(inflacion_c['Inflacion_pc'] <= 16) & (inflacion_c['Inflacion_pc'] >0)]\n",
    "inflacion_pequenos['log_Inflacion_pc'] = np.log(inflacion_pequenos['Inflacion_pc'])"
   ]
  },
  {
   "cell_type": "code",
   "execution_count": 52,
   "id": "de7f5e26-8573-4421-a6ee-c0cc2d73f431",
   "metadata": {},
   "outputs": [
    {
     "data": {
      "text/html": [
       "<div>\n",
       "<style scoped>\n",
       "    .dataframe tbody tr th:only-of-type {\n",
       "        vertical-align: middle;\n",
       "    }\n",
       "\n",
       "    .dataframe tbody tr th {\n",
       "        vertical-align: top;\n",
       "    }\n",
       "\n",
       "    .dataframe thead th {\n",
       "        text-align: right;\n",
       "    }\n",
       "</style>\n",
       "<table border=\"1\" class=\"dataframe\">\n",
       "  <thead>\n",
       "    <tr style=\"text-align: right;\">\n",
       "      <th></th>\n",
       "      <th>Pais</th>\n",
       "      <th>PIB_pc</th>\n",
       "      <th>Poblacion</th>\n",
       "      <th>Expectativa_vida</th>\n",
       "      <th>Inflacion_pc</th>\n",
       "      <th>log_Inflacion_pc</th>\n",
       "      <th>Income_avg_pc</th>\n",
       "      <th>log_PIB_pc</th>\n",
       "    </tr>\n",
       "  </thead>\n",
       "  <tbody>\n",
       "    <tr>\n",
       "      <th>0</th>\n",
       "      <td>United States</td>\n",
       "      <td>66678</td>\n",
       "      <td>332915073</td>\n",
       "      <td>79.11</td>\n",
       "      <td>1.50</td>\n",
       "      <td>0.405465</td>\n",
       "      <td>15480.0</td>\n",
       "      <td>11.107630</td>\n",
       "    </tr>\n",
       "    <tr>\n",
       "      <th>1</th>\n",
       "      <td>China</td>\n",
       "      <td>10710</td>\n",
       "      <td>1444216107</td>\n",
       "      <td>77.47</td>\n",
       "      <td>4.30</td>\n",
       "      <td>1.458615</td>\n",
       "      <td>1786.0</td>\n",
       "      <td>9.278933</td>\n",
       "    </tr>\n",
       "    <tr>\n",
       "      <th>2</th>\n",
       "      <td>Japan</td>\n",
       "      <td>43597</td>\n",
       "      <td>126050804</td>\n",
       "      <td>85.03</td>\n",
       "      <td>0.40</td>\n",
       "      <td>-0.916291</td>\n",
       "      <td>10840.0</td>\n",
       "      <td>10.682744</td>\n",
       "    </tr>\n",
       "    <tr>\n",
       "      <th>3</th>\n",
       "      <td>Germany</td>\n",
       "      <td>49548</td>\n",
       "      <td>83900473</td>\n",
       "      <td>81.88</td>\n",
       "      <td>1.40</td>\n",
       "      <td>0.336472</td>\n",
       "      <td>14098.0</td>\n",
       "      <td>10.810697</td>\n",
       "    </tr>\n",
       "    <tr>\n",
       "      <th>4</th>\n",
       "      <td>India</td>\n",
       "      <td>2338</td>\n",
       "      <td>1393409038</td>\n",
       "      <td>70.42</td>\n",
       "      <td>5.91</td>\n",
       "      <td>1.776646</td>\n",
       "      <td>616.0</td>\n",
       "      <td>7.757051</td>\n",
       "    </tr>\n",
       "  </tbody>\n",
       "</table>\n",
       "</div>"
      ],
      "text/plain": [
       "            Pais  PIB_pc   Poblacion  Expectativa_vida  Inflacion_pc  \\\n",
       "0  United States   66678   332915073             79.11          1.50   \n",
       "1          China   10710  1444216107             77.47          4.30   \n",
       "2          Japan   43597   126050804             85.03          0.40   \n",
       "3        Germany   49548    83900473             81.88          1.40   \n",
       "4          India    2338  1393409038             70.42          5.91   \n",
       "\n",
       "   log_Inflacion_pc  Income_avg_pc  log_PIB_pc  \n",
       "0          0.405465        15480.0   11.107630  \n",
       "1          1.458615         1786.0    9.278933  \n",
       "2         -0.916291        10840.0   10.682744  \n",
       "3          0.336472        14098.0   10.810697  \n",
       "4          1.776646          616.0    7.757051  "
      ]
     },
     "execution_count": 52,
     "metadata": {},
     "output_type": "execute_result"
    }
   ],
   "source": [
    "df_aux_regresion = pd.merge(pib_c, e_vida_c, on='Pais')\n",
    "df_aux_regresion = pd.merge(df_aux_regresion, inflacion_pequenos, on='Pais')\n",
    "df_aux_regresion = pd.merge(df_aux_regresion, income_c, on='Pais')\n",
    "df_aux_regresion['log_PIB_pc'] = np.log(df_aux_regresion['PIB_pc'])\n",
    "df_aux_regresion.head()"
   ]
  },
  {
   "cell_type": "markdown",
   "id": "a221714f-0d87-4243-add7-8a0595cf79ce",
   "metadata": {},
   "source": [
    "Veamos las características del dataframe"
   ]
  },
  {
   "cell_type": "code",
   "execution_count": 53,
   "id": "d84546ee-bc00-4b79-9ce0-f688c08cbe60",
   "metadata": {},
   "outputs": [
    {
     "data": {
      "text/html": [
       "<div>\n",
       "<style scoped>\n",
       "    .dataframe tbody tr th:only-of-type {\n",
       "        vertical-align: middle;\n",
       "    }\n",
       "\n",
       "    .dataframe tbody tr th {\n",
       "        vertical-align: top;\n",
       "    }\n",
       "\n",
       "    .dataframe thead th {\n",
       "        text-align: right;\n",
       "    }\n",
       "</style>\n",
       "<table border=\"1\" class=\"dataframe\">\n",
       "  <thead>\n",
       "    <tr style=\"text-align: right;\">\n",
       "      <th></th>\n",
       "      <th>PIB_pc</th>\n",
       "      <th>Poblacion</th>\n",
       "      <th>Expectativa_vida</th>\n",
       "      <th>Inflacion_pc</th>\n",
       "      <th>log_Inflacion_pc</th>\n",
       "      <th>Income_avg_pc</th>\n",
       "      <th>log_PIB_pc</th>\n",
       "    </tr>\n",
       "  </thead>\n",
       "  <tbody>\n",
       "    <tr>\n",
       "      <th>count</th>\n",
       "      <td>105.000000</td>\n",
       "      <td>1.050000e+02</td>\n",
       "      <td>105.000000</td>\n",
       "      <td>105.000000</td>\n",
       "      <td>105.000000</td>\n",
       "      <td>103.000000</td>\n",
       "      <td>105.000000</td>\n",
       "    </tr>\n",
       "    <tr>\n",
       "      <th>mean</th>\n",
       "      <td>17552.190476</td>\n",
       "      <td>6.429182e+07</td>\n",
       "      <td>74.576667</td>\n",
       "      <td>3.480381</td>\n",
       "      <td>0.832630</td>\n",
       "      <td>4172.106796</td>\n",
       "      <td>8.855669</td>\n",
       "    </tr>\n",
       "    <tr>\n",
       "      <th>std</th>\n",
       "      <td>22823.877632</td>\n",
       "      <td>1.987187e+08</td>\n",
       "      <td>6.992392</td>\n",
       "      <td>3.101562</td>\n",
       "      <td>1.009630</td>\n",
       "      <td>5166.147948</td>\n",
       "      <td>1.483479</td>\n",
       "    </tr>\n",
       "    <tr>\n",
       "      <th>min</th>\n",
       "      <td>303.000000</td>\n",
       "      <td>3.433530e+05</td>\n",
       "      <td>55.170000</td>\n",
       "      <td>0.100000</td>\n",
       "      <td>-2.302585</td>\n",
       "      <td>47.000000</td>\n",
       "      <td>5.713733</td>\n",
       "    </tr>\n",
       "    <tr>\n",
       "      <th>25%</th>\n",
       "      <td>2338.000000</td>\n",
       "      <td>5.813298e+06</td>\n",
       "      <td>70.540000</td>\n",
       "      <td>1.300000</td>\n",
       "      <td>0.262364</td>\n",
       "      <td>616.500000</td>\n",
       "      <td>7.757051</td>\n",
       "    </tr>\n",
       "    <tr>\n",
       "      <th>50%</th>\n",
       "      <td>6742.000000</td>\n",
       "      <td>1.691498e+07</td>\n",
       "      <td>75.730000</td>\n",
       "      <td>2.500000</td>\n",
       "      <td>0.916291</td>\n",
       "      <td>1646.000000</td>\n",
       "      <td>8.816112</td>\n",
       "    </tr>\n",
       "    <tr>\n",
       "      <th>75%</th>\n",
       "      <td>22356.000000</td>\n",
       "      <td>4.346682e+07</td>\n",
       "      <td>79.270000</td>\n",
       "      <td>4.900000</td>\n",
       "      <td>1.589235</td>\n",
       "      <td>5104.000000</td>\n",
       "      <td>10.014850</td>\n",
       "    </tr>\n",
       "    <tr>\n",
       "      <th>max</th>\n",
       "      <td>116086.000000</td>\n",
       "      <td>1.444216e+09</td>\n",
       "      <td>85.290000</td>\n",
       "      <td>14.000000</td>\n",
       "      <td>2.639057</td>\n",
       "      <td>19308.000000</td>\n",
       "      <td>11.662087</td>\n",
       "    </tr>\n",
       "  </tbody>\n",
       "</table>\n",
       "</div>"
      ],
      "text/plain": [
       "              PIB_pc     Poblacion  Expectativa_vida  Inflacion_pc  \\\n",
       "count     105.000000  1.050000e+02        105.000000    105.000000   \n",
       "mean    17552.190476  6.429182e+07         74.576667      3.480381   \n",
       "std     22823.877632  1.987187e+08          6.992392      3.101562   \n",
       "min       303.000000  3.433530e+05         55.170000      0.100000   \n",
       "25%      2338.000000  5.813298e+06         70.540000      1.300000   \n",
       "50%      6742.000000  1.691498e+07         75.730000      2.500000   \n",
       "75%     22356.000000  4.346682e+07         79.270000      4.900000   \n",
       "max    116086.000000  1.444216e+09         85.290000     14.000000   \n",
       "\n",
       "       log_Inflacion_pc  Income_avg_pc  log_PIB_pc  \n",
       "count        105.000000     103.000000  105.000000  \n",
       "mean           0.832630    4172.106796    8.855669  \n",
       "std            1.009630    5166.147948    1.483479  \n",
       "min           -2.302585      47.000000    5.713733  \n",
       "25%            0.262364     616.500000    7.757051  \n",
       "50%            0.916291    1646.000000    8.816112  \n",
       "75%            1.589235    5104.000000   10.014850  \n",
       "max            2.639057   19308.000000   11.662087  "
      ]
     },
     "execution_count": 53,
     "metadata": {},
     "output_type": "execute_result"
    }
   ],
   "source": [
    "df_aux_regresion.describe()"
   ]
  },
  {
   "cell_type": "code",
   "execution_count": 54,
   "id": "a0ba2e3f-2159-4dd1-a8ab-33275659c1cc",
   "metadata": {},
   "outputs": [
    {
     "name": "stdout",
     "output_type": "stream",
     "text": [
      "(105, 8)\n"
     ]
    }
   ],
   "source": [
    "print(df_aux_regresion.shape)"
   ]
  },
  {
   "cell_type": "markdown",
   "id": "c0aec452-74af-4101-8590-b3be6a03c49f",
   "metadata": {},
   "source": [
    "Vemos que a pesar de ya no contar con 211 datos, aún contamos con un buen número de datos. Sin embargo, después haremos una nueva versión de este dataframe donde se rellenarán los datos faltantes por el promedio de los valores de la columna puesto que esto no afecta al valor de los estimadores, pero para ello tenemos que obtener las visualizaciones de las relaciones entre las variables para proponer un moderlo"
   ]
  },
  {
   "cell_type": "code",
   "execution_count": 55,
   "id": "520fb494-8e72-4b46-bf9f-cf830c9b1690",
   "metadata": {},
   "outputs": [],
   "source": [
    "colors = iter(['xkcd:red purple', 'xkcd:pale teal', 'xkcd:warm purple',\n",
    "       'xkcd:light forest green', 'xkcd:blue with a hint of purple',\n",
    "       'xkcd:light peach', 'xkcd:dusky purple', 'xkcd:pale mauve',\n",
    "       'xkcd:bright sky blue', 'xkcd:baby poop green', 'xkcd:brownish',\n",
    "       'xkcd:moss green', 'xkcd:deep blue', 'xkcd:melon',\n",
    "       'xkcd:faded green', 'xkcd:cyan', 'xkcd:brown green',\n",
    "       'xkcd:purple blue', 'xkcd:pale teal', 'xkcd:warm purple',\n",
    "       'xkcd:light forest green', 'xkcd:blue with a hint of purple',\n",
    "       'xkcd:light peach', 'xkcd:dusky purple', 'xkcd:pale mauve',\n",
    "       'xkcd:bright sky blue', 'xkcd:baby poop green', 'xkcd:brownish',\n",
    "       'xkcd:moss green', 'xkcd:deep blue', 'xkcd:melon',\n",
    "       'xkcd:faded green', 'xkcd:cyan', 'xkcd:brown green',\n",
    "       'xkcd:purple blue', 'xkcd:pale teal', 'xkcd:warm purple',\n",
    "       'xkcd:light forest green', 'xkcd:blue with a hint of purple',\n",
    "       'xkcd:light peach', 'xkcd:dusky purple', 'xkcd:pale mauve',\n",
    "       'xkcd:bright sky blue', 'xkcd:baby poop green', 'xkcd:brownish',\n",
    "       'xkcd:moss green', 'xkcd:deep blue', 'xkcd:melon',\n",
    "       'xkcd:faded green', 'xkcd:cyan', 'xkcd:brown green',\n",
    "       'xkcd:purple blue', 'xkcd:pale teal', 'xkcd:warm purple',\n",
    "       'xkcd:light forest green', 'xkcd:blue with a hint of purple',\n",
    "       'xkcd:light peach', 'xkcd:dusky purple', 'xkcd:pale mauve',\n",
    "       'xkcd:bright sky blue', 'xkcd:baby poop green', 'xkcd:brownish',\n",
    "       'xkcd:moss green', 'xkcd:deep blue', 'xkcd:melon',\n",
    "       'xkcd:faded green', 'xkcd:cyan', 'xkcd:brown green',\n",
    "       'xkcd:purple blue', 'xkcd:deep blue', 'xkcd:melon',\n",
    "       'xkcd:faded green', 'xkcd:cyan', 'xkcd:brown green',\n",
    "       'xkcd:purple blue', 'xkcd:pale teal', 'xkcd:warm purple',\n",
    "       'xkcd:light forest green', 'xkcd:blue with a hint of purple',\n",
    "       'xkcd:light peach', 'xkcd:dusky purple', 'xkcd:pale mauve',\n",
    "       'xkcd:bright sky blue', 'xkcd:baby poop green', 'xkcd:brownish',\n",
    "       'xkcd:moss green', 'xkcd:deep blue', 'xkcd:melon',\n",
    "       'xkcd:faded green', 'xkcd:cyan', 'xkcd:brown green',\n",
    "       'xkcd:purple blue'])\n",
    "# Fuera de la diagonal:\n",
    "def my_scatter(x,y, **kwargs):\n",
    "    kwargs['color'] = next(colors)\n",
    "    kwargs['alpha'] = 0.2\n",
    "    plt.scatter(x,y, **kwargs)\n",
    "# En la diagonal:\n",
    "def my_hist(x, **kwargs):\n",
    "    kwargs['color'] = next(colors)\n",
    "    kwargs['alpha'] = 0.2\n",
    "    kwargs['linewidth'] = 0.2\n",
    "    plt.hist(x, **kwargs)"
   ]
  },
  {
   "cell_type": "code",
   "execution_count": 56,
   "id": "a82f609a-d1d2-42fd-add4-4003d7b5541d",
   "metadata": {},
   "outputs": [
    {
     "data": {
      "image/png": "[encoded data removed]",
      "text/plain": [
       "<Figure size 1080x1080 with 56 Axes>"
      ]
     },
     "metadata": {
      "needs_background": "light"
     },
     "output_type": "display_data"
    }
   ],
   "source": [
    "pp = sns.pairplot(df_aux_regresion)\n",
    "pp.map_diag(my_hist)\n",
    "pp.map_offdiag(my_scatter)\n",
    "pp.fig.suptitle(\"Pairplot\", fontsize = 24, color = 'magenta', fontweight = 'bold', y=1.08)\n",
    "pp.fig.set_size_inches(15,15)\n",
    "plt.xticks(fontsize=14)\n",
    "plt.yticks(fontsize=16)\n",
    "plt.show()"
   ]
  },
  {
   "cell_type": "markdown",
   "id": "26640ed0-4566-4d0e-a035-e9632f1a9672",
   "metadata": {},
   "source": [
    "Veamos ahora la matriz de covrianzas donde nuestro umbral para tomar en cuenta las variables para una regresión es que $R^2 \\ge 0.5$."
   ]
  },
  {
   "cell_type": "code",
   "execution_count": 57,
   "id": "a7f33109-e15a-4e10-ac1b-82bb1f627ab2",
   "metadata": {},
   "outputs": [
    {
     "data": {
      "text/html": [
       "<style  type=\"text/css\" >\n",
       "#T_69fcd_row0_col0,#T_69fcd_row1_col1,#T_69fcd_row2_col2,#T_69fcd_row3_col3,#T_69fcd_row4_col4,#T_69fcd_row5_col5,#T_69fcd_row6_col6{\n",
       "            background-color:  #800000;\n",
       "            color:  #f1f1f1;\n",
       "        }#T_69fcd_row0_col1,#T_69fcd_row1_col0{\n",
       "            background-color:  #2929ff;\n",
       "            color:  #f1f1f1;\n",
       "        }#T_69fcd_row0_col2,#T_69fcd_row2_col0{\n",
       "            background-color:  #f00000;\n",
       "            color:  #f1f1f1;\n",
       "        }#T_69fcd_row0_col3,#T_69fcd_row2_col3,#T_69fcd_row3_col0,#T_69fcd_row3_col2{\n",
       "            background-color:  #000071;\n",
       "            color:  #f1f1f1;\n",
       "        }#T_69fcd_row0_col4,#T_69fcd_row4_col0{\n",
       "            background-color:  #000055;\n",
       "            color:  #f1f1f1;\n",
       "        }#T_69fcd_row0_col5,#T_69fcd_row5_col0{\n",
       "            background-color:  #960000;\n",
       "            color:  #f1f1f1;\n",
       "        }#T_69fcd_row0_col6,#T_69fcd_row6_col0{\n",
       "            background-color:  #b60000;\n",
       "            color:  #f1f1f1;\n",
       "        }#T_69fcd_row1_col2,#T_69fcd_row1_col6,#T_69fcd_row2_col1,#T_69fcd_row6_col1{\n",
       "            background-color:  #4141ff;\n",
       "            color:  #f1f1f1;\n",
       "        }#T_69fcd_row1_col3,#T_69fcd_row3_col1{\n",
       "            background-color:  #a5a5ff;\n",
       "            color:  #000000;\n",
       "        }#T_69fcd_row1_col4,#T_69fcd_row4_col1{\n",
       "            background-color:  #b9b9ff;\n",
       "            color:  #000000;\n",
       "        }#T_69fcd_row1_col5,#T_69fcd_row5_col1{\n",
       "            background-color:  #2525ff;\n",
       "            color:  #f1f1f1;\n",
       "        }#T_69fcd_row2_col4,#T_69fcd_row4_col2{\n",
       "            background-color:  #000074;\n",
       "            color:  #f1f1f1;\n",
       "        }#T_69fcd_row2_col5,#T_69fcd_row5_col2{\n",
       "            background-color:  #ea0000;\n",
       "            color:  #f1f1f1;\n",
       "        }#T_69fcd_row2_col6,#T_69fcd_row6_col2{\n",
       "            background-color:  #ba0000;\n",
       "            color:  #f1f1f1;\n",
       "        }#T_69fcd_row3_col4,#T_69fcd_row4_col3{\n",
       "            background-color:  #b20000;\n",
       "            color:  #f1f1f1;\n",
       "        }#T_69fcd_row3_col5,#T_69fcd_row5_col3{\n",
       "            background-color:  #000068;\n",
       "            color:  #f1f1f1;\n",
       "        }#T_69fcd_row3_col6,#T_69fcd_row6_col3{\n",
       "            background-color:  #000058;\n",
       "            color:  #f1f1f1;\n",
       "        }#T_69fcd_row4_col5,#T_69fcd_row4_col6,#T_69fcd_row5_col4,#T_69fcd_row6_col4{\n",
       "            background-color:  #00004c;\n",
       "            color:  #f1f1f1;\n",
       "        }#T_69fcd_row5_col6,#T_69fcd_row6_col5{\n",
       "            background-color:  #bc0000;\n",
       "            color:  #f1f1f1;\n",
       "        }</style><table id=\"T_69fcd_\" ><thead>    <tr>        <th class=\"blank level0\" ></th>        <th class=\"col_heading level0 col0\" >PIB_pc</th>        <th class=\"col_heading level0 col1\" >Poblacion</th>        <th class=\"col_heading level0 col2\" >Expectativa_vida</th>        <th class=\"col_heading level0 col3\" >Inflacion_pc</th>        <th class=\"col_heading level0 col4\" >log_Inflacion_pc</th>        <th class=\"col_heading level0 col5\" >Income_avg_pc</th>        <th class=\"col_heading level0 col6\" >log_PIB_pc</th>    </tr></thead><tbody>\n",
       "                <tr>\n",
       "                        <th id=\"T_69fcd_level0_row0\" class=\"row_heading level0 row0\" >PIB_pc</th>\n",
       "                        <td id=\"T_69fcd_row0_col0\" class=\"data row0 col0\" >1.000</td>\n",
       "                        <td id=\"T_69fcd_row0_col1\" class=\"data row0 col1\" >-0.073</td>\n",
       "                        <td id=\"T_69fcd_row0_col2\" class=\"data row0 col2\" >0.668</td>\n",
       "                        <td id=\"T_69fcd_row0_col3\" class=\"data row0 col3\" >-0.432</td>\n",
       "                        <td id=\"T_69fcd_row0_col4\" class=\"data row0 col4\" >-0.488</td>\n",
       "                        <td id=\"T_69fcd_row0_col5\" class=\"data row0 col5\" >0.932</td>\n",
       "                        <td id=\"T_69fcd_row0_col6\" class=\"data row0 col6\" >0.836</td>\n",
       "            </tr>\n",
       "            <tr>\n",
       "                        <th id=\"T_69fcd_level0_row1\" class=\"row_heading level0 row1\" >Poblacion</th>\n",
       "                        <td id=\"T_69fcd_row1_col0\" class=\"data row1 col0\" >-0.073</td>\n",
       "                        <td id=\"T_69fcd_row1_col1\" class=\"data row1 col1\" >1.000</td>\n",
       "                        <td id=\"T_69fcd_row1_col2\" class=\"data row1 col2\" >-0.035</td>\n",
       "                        <td id=\"T_69fcd_row1_col3\" class=\"data row1 col3\" >0.110</td>\n",
       "                        <td id=\"T_69fcd_row1_col4\" class=\"data row1 col4\" >0.143</td>\n",
       "                        <td id=\"T_69fcd_row1_col5\" class=\"data row1 col5\" >-0.077</td>\n",
       "                        <td id=\"T_69fcd_row1_col6\" class=\"data row1 col6\" >-0.035</td>\n",
       "            </tr>\n",
       "            <tr>\n",
       "                        <th id=\"T_69fcd_level0_row2\" class=\"row_heading level0 row2\" >Expectativa_vida</th>\n",
       "                        <td id=\"T_69fcd_row2_col0\" class=\"data row2 col0\" >0.668</td>\n",
       "                        <td id=\"T_69fcd_row2_col1\" class=\"data row2 col1\" >-0.035</td>\n",
       "                        <td id=\"T_69fcd_row2_col2\" class=\"data row2 col2\" >1.000</td>\n",
       "                        <td id=\"T_69fcd_row2_col3\" class=\"data row2 col3\" >-0.431</td>\n",
       "                        <td id=\"T_69fcd_row2_col4\" class=\"data row2 col4\" >-0.427</td>\n",
       "                        <td id=\"T_69fcd_row2_col5\" class=\"data row2 col5\" >0.683</td>\n",
       "                        <td id=\"T_69fcd_row2_col6\" class=\"data row2 col6\" >0.828</td>\n",
       "            </tr>\n",
       "            <tr>\n",
       "                        <th id=\"T_69fcd_level0_row3\" class=\"row_heading level0 row3\" >Inflacion_pc</th>\n",
       "                        <td id=\"T_69fcd_row3_col0\" class=\"data row3 col0\" >-0.432</td>\n",
       "                        <td id=\"T_69fcd_row3_col1\" class=\"data row3 col1\" >0.110</td>\n",
       "                        <td id=\"T_69fcd_row3_col2\" class=\"data row3 col2\" >-0.431</td>\n",
       "                        <td id=\"T_69fcd_row3_col3\" class=\"data row3 col3\" >1.000</td>\n",
       "                        <td id=\"T_69fcd_row3_col4\" class=\"data row3 col4\" >0.849</td>\n",
       "                        <td id=\"T_69fcd_row3_col5\" class=\"data row3 col5\" >-0.449</td>\n",
       "                        <td id=\"T_69fcd_row3_col6\" class=\"data row3 col6\" >-0.485</td>\n",
       "            </tr>\n",
       "            <tr>\n",
       "                        <th id=\"T_69fcd_level0_row4\" class=\"row_heading level0 row4\" >log_Inflacion_pc</th>\n",
       "                        <td id=\"T_69fcd_row4_col0\" class=\"data row4 col0\" >-0.488</td>\n",
       "                        <td id=\"T_69fcd_row4_col1\" class=\"data row4 col1\" >0.143</td>\n",
       "                        <td id=\"T_69fcd_row4_col2\" class=\"data row4 col2\" >-0.427</td>\n",
       "                        <td id=\"T_69fcd_row4_col3\" class=\"data row4 col3\" >0.849</td>\n",
       "                        <td id=\"T_69fcd_row4_col4\" class=\"data row4 col4\" >1.000</td>\n",
       "                        <td id=\"T_69fcd_row4_col5\" class=\"data row4 col5\" >-0.511</td>\n",
       "                        <td id=\"T_69fcd_row4_col6\" class=\"data row4 col6\" >-0.507</td>\n",
       "            </tr>\n",
       "            <tr>\n",
       "                        <th id=\"T_69fcd_level0_row5\" class=\"row_heading level0 row5\" >Income_avg_pc</th>\n",
       "                        <td id=\"T_69fcd_row5_col0\" class=\"data row5 col0\" >0.932</td>\n",
       "                        <td id=\"T_69fcd_row5_col1\" class=\"data row5 col1\" >-0.077</td>\n",
       "                        <td id=\"T_69fcd_row5_col2\" class=\"data row5 col2\" >0.683</td>\n",
       "                        <td id=\"T_69fcd_row5_col3\" class=\"data row5 col3\" >-0.449</td>\n",
       "                        <td id=\"T_69fcd_row5_col4\" class=\"data row5 col4\" >-0.511</td>\n",
       "                        <td id=\"T_69fcd_row5_col5\" class=\"data row5 col5\" >1.000</td>\n",
       "                        <td id=\"T_69fcd_row5_col6\" class=\"data row5 col6\" >0.819</td>\n",
       "            </tr>\n",
       "            <tr>\n",
       "                        <th id=\"T_69fcd_level0_row6\" class=\"row_heading level0 row6\" >log_PIB_pc</th>\n",
       "                        <td id=\"T_69fcd_row6_col0\" class=\"data row6 col0\" >0.836</td>\n",
       "                        <td id=\"T_69fcd_row6_col1\" class=\"data row6 col1\" >-0.035</td>\n",
       "                        <td id=\"T_69fcd_row6_col2\" class=\"data row6 col2\" >0.828</td>\n",
       "                        <td id=\"T_69fcd_row6_col3\" class=\"data row6 col3\" >-0.485</td>\n",
       "                        <td id=\"T_69fcd_row6_col4\" class=\"data row6 col4\" >-0.507</td>\n",
       "                        <td id=\"T_69fcd_row6_col5\" class=\"data row6 col5\" >0.819</td>\n",
       "                        <td id=\"T_69fcd_row6_col6\" class=\"data row6 col6\" >1.000</td>\n",
       "            </tr>\n",
       "    </tbody></table>"
      ],
      "text/plain": [
       "<pandas.io.formats.style.Styler at 0x7f5f6da1a820>"
      ]
     },
     "execution_count": 57,
     "metadata": {},
     "output_type": "execute_result"
    }
   ],
   "source": [
    "matriz_corr = df_aux_regresion.corr()\n",
    "matriz_corr.style.background_gradient(cmap='seismic', axis = None).set_precision(3)"
   ]
  },
  {
   "cell_type": "code",
   "execution_count": 58,
   "id": "672bb012-ca66-44a7-b19b-573de09e7aa9",
   "metadata": {},
   "outputs": [
    {
     "data": {
      "image/png": "[encoded data removed]",
      "text/plain": [
       "<Figure size 1368x1080 with 2 Axes>"
      ]
     },
     "metadata": {
      "needs_background": "light"
     },
     "output_type": "display_data"
    }
   ],
   "source": [
    "# Si no damos el tamaño, nos dará el gráfico muy pequeño.\n",
    "size = plt.figure(figsize=(19, 15))\n",
    "plt.matshow(matriz_corr, fignum = size.number)\n",
    "plt.title('Matriz de correlación', fontsize = 24, \n",
    "          fontweight = 'bold', y = 1.16)\n",
    "plt.xticks(range(df_aux_regresion.select_dtypes(['number']).shape[1]), \n",
    "           df_aux_regresion.select_dtypes(['number']).columns, \n",
    "           fontsize = 16, fontweight = 'bold', \n",
    "           rotation = 30)\n",
    "plt.yticks(range(df_aux_regresion.select_dtypes(['number']).shape[1]), \n",
    "           df_aux_regresion.select_dtypes(['number']).columns, \n",
    "           fontsize = 20, fontweight = 'bold')\n",
    "color_bar = plt.colorbar()\n",
    "color_bar.ax.tick_params(labelsize = 18)\n",
    "plt.show()"
   ]
  },
  {
   "cell_type": "markdown",
   "id": "18bc904a-2353-45aa-9491-b04c43c45531",
   "metadata": {},
   "source": [
    "Tal como vemos en el gráfico y la matriz de varianzas, solo tenemos evidencia de una relación fuerte entre el PIB y la expectativa de vida. Por otro lado, también se muestra una relación, aunque no tan fuerte, entre el logarítmo del PIB y el logaritmo de la inflación para valores pequeños, y entre el logaritmo de la inflación para valores pequeños y la expectativa de vida. Sin embargo, como todas3 estas tres variables están correlacionadas entre sí, no podemos hacer una regresión múltiple entre estas puesto que hay evidencia de multicolinealidad por lo que se harán las regresiones por separado.\n",
    "\n",
    "Ahora, creemos un dataframe adecuado con más datos que contenga a estas tres varaibles. En todos los casos, no nos interesa eliminar observaciones, por lo que no se hará la unión de los dataframes con el método *merge*, sino con el método *concat* puesto que las filas que no estén en común en ambos dataframes las rellena con valores *NaN*.\n",
    "\n",
    "\n",
    "## Regresión lineal con el PIB, la tasa de inflación. el ingreso promedio per cápita y la expectativa de vida\n",
    "\n",
    "Tal y como se mencionó anteriormente, se usará el parámetro *outer* dentro del método *merge*, pero de econometría sabemos que llenar los datos faltantes con el promedio no afecta el valor de los estimadores. Sin embargo, esto solo nos funcionará si lo hacemos con los logaritmos de las observaciones puesto que la regresión lineal se hará sobre estos tal y como sugieren los artículos y bibliografía."
   ]
  },
  {
   "cell_type": "code",
   "execution_count": null,
   "id": "da683568-72aa-4a82-a049-c35e7a957f4e",
   "metadata": {},
   "outputs": [],
   "source": [
    "df_regresion_aux_1 = pd.merge(pib_c, inflacion_c, how = \"outer\", on = ['Pais'])\n",
    "df_regresion_aux_2 = pd.merge(df_regresion_aux_1, e_vida_c, how = \"outer\", on = ['Pais'])\n",
    "\n",
    "df_regresion_aux_2.head()"
   ]
  },
  {
   "cell_type": "code",
   "execution_count": null,
   "id": "d1b0029a-ac63-43bc-baf1-8eea3113e40f",
   "metadata": {},
   "outputs": [],
   "source": [
    "df_regresion_aux_2 = df_regresion_aux_2[['Pais', 'PIB_pc', 'Inflacion_pc', 'Expectativa_vida']]\n",
    "df_regresion_aux_2.head()"
   ]
  },
  {
   "cell_type": "markdown",
   "id": "316d5088-8495-4d74-ad06-8b12f07f1ba1",
   "metadata": {},
   "source": [
    "Verifiquemos que si se hayan conservado los registros."
   ]
  },
  {
   "cell_type": "code",
   "execution_count": null,
   "id": "441145ef-2adf-476e-83f8-0f21154ee56c",
   "metadata": {},
   "outputs": [],
   "source": [
    "df_regresion_aux_2.shape"
   ]
  },
  {
   "cell_type": "markdown",
   "id": "b3ae4cb7-11f5-4f07-b490-a8ca88d2cffe",
   "metadata": {},
   "source": [
    "Obtengamos los logarítmos del *PIB* y de la *tasa de inflación*."
   ]
  },
  {
   "cell_type": "code",
   "execution_count": null,
   "id": "9b59415c-ece4-48f7-95b2-f225e25eb046",
   "metadata": {},
   "outputs": [],
   "source": [
    "df_regresion_aux_2['Log_Inflacion'] = np.log(df_regresion_aux_2['Inflacion_pc'])\n",
    "df_regresion_aux_2['Log_PIB'] = np.log(df_regresion_aux_2['PIB_pc'])"
   ]
  },
  {
   "cell_type": "markdown",
   "id": "b2aea89c-d953-49cc-85ce-2ac6136829f2",
   "metadata": {},
   "source": [
    "Filtremos el dataframe que necesitamos."
   ]
  },
  {
   "cell_type": "code",
   "execution_count": null,
   "id": "f8bb3cb2-a6a4-414f-8a55-a02cfecf6060",
   "metadata": {},
   "outputs": [],
   "source": [
    "df_regresion = df_regresion_aux_2[['Pais', 'Expectativa_vida', 'Log_PIB', 'Log_Inflacion']]\n",
    "df_regresion.head()"
   ]
  },
  {
   "cell_type": "markdown",
   "id": "099f73d4-6606-4db5-b329-a4b597e363df",
   "metadata": {},
   "source": [
    "Claramente es un número mayor al número de filas obtenidas en el dataframe utilizado para la matriz de varianzas, implica que no se borraron los registros. Entonces, al tener *NaN* debemos rellenarlos con el promedio tal y como se dijo anteriormente."
   ]
  },
  {
   "cell_type": "code",
   "execution_count": null,
   "id": "56eb0487-3c11-4fce-9584-d45944ef4559",
   "metadata": {},
   "outputs": [],
   "source": [
    "promedio_pib = df_regresion['Log_PIB'].mean(skipna = True)\n",
    "promedio_inflacion = df_regresion['Log_Inflacion'].mean(skipna = True)\n",
    "promedio_vida = df_regresion['Expectativa_vida'].mean(skipna = True)\n",
    "\n",
    "df_regresion['Log_PIB'].fillna(value = promedio_pib, inplace = True)\n",
    "df_regresion['Log_Inflacion'].fillna(value = promedio_inflacion, inplace = True)\n",
    "df_regresion['Expectativa_vida'].fillna(value = promedio_vida, inplace = True)\n",
    "print(\"Valores faltantes del dataframe: \" + str(df_regresion.isna().sum().sum()))"
   ]
  },
  {
   "cell_type": "markdown",
   "id": "9f3d6c84-7aee-43bb-8068-31e5aa53e3dd",
   "metadata": {},
   "source": [
    "Otra forma de hacerlo es con la librería *sklearn* de la siguiente manera."
   ]
  },
  {
   "cell_type": "markdown",
   "id": "4b08b607-79f0-4722-87b9-145f988cde17",
   "metadata": {},
   "source": [
    "imputer = SimpleImputer(missing_values = np.nan, strategy = 'mean')\n",
    "imputer = imputer.fit(df_regresion[['Expectativa_vida', 'Log_PIB', 'Log_Inflacion']])\n",
    "df_regresion[['Expectativa_vida', 'Log_PIB', 'Log_Inflacion']] = imputer.transform(df_regresion[['Expectativa_vida', 'Log_PIB', 'Log_Inflacion']]) "
   ]
  },
  {
   "cell_type": "markdown",
   "id": "5ea11d83-793a-42c5-a0cf-c90117cb4d04",
   "metadata": {},
   "source": [
    "### Bibliografía:\n",
    "- *GDP Ranked by Country 2022*: https://worldpopulationreview.com/countries/countries-by-gdp\n",
    "- *Median Income and GPD by Country 2022*: https://worldpopulationreview.com/country-rankings/median-income-by-country\n",
    "- *GDP by country 2021-2020*: https://en.wikipedia.org/wiki/List_of_countries_by_GDP_(nominal)\n",
    "- *Standard of Living by Country | Quality of Life by Country 2022*: https://worldpopulationreview.com/country-rankings/standard-of-living-by-country\n",
    "- *Inflation Rate by Country 2021*: https://worldpopulationreview.com/country-rankings/inflation-rate-by-country\n",
    "- *Life Expectancy of the World Population*: http://web.archive.org/web/20211225063440/https://www.worldometers.info/demographics/life-expectancy/\n",
    "- *A Reassessment of the Relationship between GDP and Life Satisfaction*: https://www.ncbi.nlm.nih.gov/pmc/articles/PMC3842267/\n",
    "- *Why Does Inflation Increase With GDP Growth?*: https://www.investopedia.com/ask/answers/112814/why-does-inflation-increase-gdp-growth.asp\n",
    "\n",
    "- *Economic Growth and Inflation*: https://www.diva-portal.org/smash/get/diva2:576024/FULLTEXT01.pdf"
   ]
  },
  {
   "cell_type": "markdown",
   "id": "76710617-a861-4924-bb60-29156563c906",
   "metadata": {},
   "source": [
    "<h2><b>Bibliografía:</b></h2>\n",
    "<ol style=\"border:2px solid Blue;\">\n",
    "  <li><a id=\"1\" href=\"https://es.wikipedia.org/wiki/Renta_per_c%C3%A1pita#%C3%8Dndices_para_medir_el_bienestar\" style=\"text-align:justify;color:black\">Renta como indicador de bienestar</a></li>\n",
    "  <li><a id=\"2\" href=\"https://ourworldindata.org/grapher/life-expectancy-vs-gdp-per-capita?time=earliest..latest\" style=\"text-align:justify;color:black\">Life expectancy vs. GDP per capita, 1543 to 2018</a></li>\n",
    "  <li><a id=\"3\" href=\"https://www.thelancet.com/journals/lanpub/article/PIIS2468-2667(19)30036-2/fulltext\" style=\"text-align:justify;color:black\">Patterns in the relationship between life expectancy and gross domestic product in Russia in 2005–15: a cross-sectional analysis</a></li>\n",
    "    <li><a id=\"4\" href=\"https://data.worldbank.org/indicator/NE.CON.PRVT.PC.KD\" style=\"text-align:justify;color:black\">Households and NPISHs Final consumption expenditure per capita (constant 2015 US$ \\$ $)</a></li>\n",
    "    <li><a id=\"5\" href=\"https://www.givingwhatwecan.org/post/2021/03/measuring-global-inequality-median-income-gdp-per-capita-and-the-gini-index/\" style=\"text-align:justify;color:black\">Measuring Global Inequality: Median Income, GDP per Capita, and the Gini Index</a></li>\n",
    "    <li><a id=\"6\" href=\"https://www.sciencedirect.com/science/article/pii/S2212567115003743\" style=\"text-align:justify;color:black\">The Relationship between Income, Consumption and GDP: A Time Series, Cross-Country Analysis</a></li>\n",
    "    <li><a id=\"7\" href=\"https://towardsdatascience.com/clustering-algorithms-for-economic-policy-guidance-45f469704815\" style=\"text-align:justify;color:black\">PClustering Algorithms for Economic Policy Guidance</a></li>\n",
    "    <li><a id=\"8\" href=\"https://www.numbeo.com/quality-of-life/rankings_by_country.jsp?title=2021\" style=\"text-align:justify;color:black\">Quality of Life Index by Country 2021</a></li>\n",
    "    <li><a id=\"9\" href=\"https://worldpopulationreview.com/country-rankings/gini-coefficient-by-country\" style=\"text-align:justify;color:black\">Gini Coefficient by Country up to 2019</a></li>\n",
    "    <li><a id=\"10\" href=\"https://www.thelancet.com/journals/lanpub/article/PIIS2468-2667(19)30036-2/fulltext\" style=\"text-align:justify;color:black\">Patterns in the relationship between life expectancy and gross domestic product in Russia in 2005–15: a cross-sectional analysis</a></li>\n",
    "    <li><a id=\"11\" href=\"https://www.thelancet.com/journals/lanpub/article/PIIS2468-2667(19)30036-2/fulltext\" style=\"text-align:justify;color:black\">Patterns in the relationship between life expectancy and gross domestic product in Russia in 2005–15: a cross-sectional analysis</a></li>\n",
    "    <li><a id=\"12\" href=\"https://www.thelancet.com/journals/lanpub/article/PIIS2468-2667(19)30036-2/fulltext\" style=\"text-align:justify;color:black\">Patterns in the relationship between life expectancy and gross domestic product in Russia in 2005–15: a cross-sectional analysis</a></li>\n",
    "    <li><a id=\"13\" href=\"https://www.thelancet.com/journals/lanpub/article/PIIS2468-2667(19)30036-2/fulltext\" style=\"text-align:justify;color:black\">Patterns in the relationship between life expectancy and gross domestic product in Russia in 2005–15: a cross-sectional analysis</a></li>\n",
    "    <li><a id=\"14\" href=\"https://www.thelancet.com/journals/lanpub/article/PIIS2468-2667(19)30036-2/fulltext\" style=\"text-align:justify;color:black\">Patterns in the relationship between life expectancy and gross domestic product in Russia in 2005–15: a cross-sectional analysis</a></li>\n",
    "    <li><a id=\"15\" href=\"https://www.thelancet.com/journals/lanpub/article/PIIS2468-2667(19)30036-2/fulltext\" style=\"text-align:justify;color:black\">Patterns in the relationship between life expectancy and gross domestic product in Russia in 2005–15: a cross-sectional analysis</a></li>\n",
    "</ol>"
   ]
  },
  {
   "cell_type": "code",
   "execution_count": null,
   "id": "1fb6fc51-3f7f-4873-8cc6-dae6f9d1f9e7",
   "metadata": {},
   "outputs": [],
   "source": []
  }
 ],
 "metadata": {
  "kernelspec": {
   "display_name": "Python 3",
   "language": "python",
   "name": "python3"
  },
  "language_info": {
   "codemirror_mode": {
    "name": "ipython",
    "version": 3
   },
   "file_extension": ".py",
   "mimetype": "text/x-python",
   "name": "python",
   "nbconvert_exporter": "python",
   "pygments_lexer": "ipython3",
   "version": "3.8.8"
  }
 },
 "nbformat": 4,
 "nbformat_minor": 5
}
